{
 "metadata": {
  "language_info": {
   "codemirror_mode": {
    "name": "ipython",
    "version": 3
   },
   "file_extension": ".py",
   "mimetype": "text/x-python",
   "name": "python",
   "nbconvert_exporter": "python",
   "pygments_lexer": "ipython3",
   "version": "3.8.8-final"
  },
  "orig_nbformat": 2,
  "kernelspec": {
   "name": "python388jvsc74a57bd00bdb1145a6394107ddd55d824c4d0e411e79cd19a6286b1018600d724ae6ee81",
   "display_name": "Python 3.8.8 64-bit ('dynocog': conda)"
  },
  "metadata": {
   "interpreter": {
    "hash": "0bdb1145a6394107ddd55d824c4d0e411e79cd19a6286b1018600d724ae6ee81"
   }
  }
 },
 "nbformat": 4,
 "nbformat_minor": 2,
 "cells": [
  {
   "source": [
    "## WCST: adjusted\n",
    "### Random Sequence Generator\n",
    "\n",
    "A script that allows one to specify constraints & subsequently generate a .txt file containing the trials. \n",
    "\n",
    "Correct the double signal problem\n",
    "\n",
    "_**Amendment: Now do not allow for any duplication across incorrect or correct pairs.**_"
   ],
   "cell_type": "markdown",
   "metadata": {}
  },
  {
   "cell_type": "code",
   "execution_count": 4,
   "metadata": {},
   "outputs": [],
   "source": [
    "import numpy as np\n",
    "import os"
   ]
  },
  {
   "cell_type": "code",
   "execution_count": 5,
   "metadata": {},
   "outputs": [
    {
     "output_type": "execute_result",
     "data": {
      "text/plain": [
       "[10, 9, 8, 8, 7, 5, 6, 7, 5, 5, 7, 6, 5, 6, 6]"
      ]
     },
     "metadata": {},
     "execution_count": 5
    }
   ],
   "source": [
    "# ---- number trails per rule ---x\n",
    "rule_persistence = [10, 9, 8, 8, 7, 7, 7, 6, 6, 6, 6, 5, 5, 5, 5]\n",
    "sum(rule_persistence)\n",
    "\n",
    "# ---- allow mixing ----x\n",
    "al_mix = np.append(np.repeat(False, 4).tolist(), np.repeat(True, 11)).tolist()\n",
    "\n",
    "# ---- get true indices ---x\n",
    "tr_ind = [i for i, val in enumerate(al_mix) if val]\n",
    "fl_ind = [i for i, val in enumerate(al_mix) if val == False]\n",
    "\n",
    "# ---- randomize order (if permitted) ----x\n",
    "no_mix = [rule_persistence[i] for i in fl_ind]\n",
    "mix    = [rule_persistence[i] for i in tr_ind]\n",
    "mix    = np.random.choice(mix, len(mix), replace=False).tolist()\n",
    "\n",
    "# ---- produce final order seq ----x\n",
    "for i in mix: no_mix.append(i)\n",
    "no_mix"
   ]
  },
  {
   "source": [
    "# Hyperparameters"
   ],
   "cell_type": "markdown",
   "metadata": {}
  },
  {
   "cell_type": "code",
   "execution_count": 6,
   "metadata": {},
   "outputs": [],
   "source": [
    "# ---- hyperparmeters ----x\n",
    "rules   = ['shape', 'number', 'color']\n",
    "colors  = ['yellow', 'red', 'green', 'blue']\n",
    "shapes  = ['star', 'triangle', 'circle', 'cross']\n",
    "numbers = [1,2,3,4]\n",
    "cards   = ['card 1', 'card 2', 'card 3', 'card 4']\n",
    "matching_cards = {\n",
    "  'card 1': {'color': 'red',   'shape':'circle',    'number':1},\n",
    "  'card 2': {'color': 'green', 'shape':'triangle',  'number':2},\n",
    "  'card 3': {'color': 'blue',  'shape':'cross',     'number':3}, \n",
    "  'card 4': {'color': 'yellow','shape':'star',      'number':4}}"
   ]
  },
  {
   "source": [
    "# Rule Sequence"
   ],
   "cell_type": "markdown",
   "metadata": {}
  },
  {
   "cell_type": "code",
   "execution_count": 8,
   "metadata": {},
   "outputs": [],
   "source": [
    "# ---- sample correct rules ----x  \n",
    "r_samples = np.random.choice(rules, len(no_mix), replace=True)\n",
    "\n",
    "# --- avoid duplicates ---x\n",
    "r_samples = [np.random.choice(rules)]\n",
    "for i in range(1, len(no_mix)):\n",
    "  x = np.random.choice(rules)\n",
    "  while x == r_samples[i-1]:\n",
    "    x = np.random.choice(rules)\n",
    "  r_samples.append(x)\n",
    "# --- avoid duplicates ---x"
   ]
  },
  {
   "source": [
    "# Generate WCST Sequence"
   ],
   "cell_type": "markdown",
   "metadata": {}
  },
  {
   "cell_type": "code",
   "execution_count": 18,
   "metadata": {},
   "outputs": [
    {
     "output_type": "stream",
     "name": "stdout",
     "text": [
      " triangle1yellow  1 0  1    \"shape\"  \"triangle1yellow\" \n\n    triangle3red  3 0  2    \"shape\"     \"triangle3red\" \n\n       cross2red  2 0  3    \"shape\"        \"cross2red\" \n\n triangle1yellow  1 0  4    \"shape\"  \"triangle1yellow\" \n\n triangle1yellow  1 0  5    \"shape\"  \"triangle1yellow\" \n\n triangle3yellow  3 0  6    \"shape\"  \"triangle3yellow\" \n\n   triangle4blue  4 0  7    \"shape\"    \"triangle4blue\" \n\n    circle3green  3 0  8    \"shape\"     \"circle3green\" \n\n    cross2yellow  2 0  9    \"shape\"     \"cross2yellow\" \n\n        star3red  3 0  10   \"shape\"         \"star3red\" \n\n triangle3yellow  2 2  1   \"number\"  \"triangle3yellow\" \n\n        star3red  4 4  2   \"number\"         \"star3red\" \n\n    triangle4red  2 2  3   \"number\"     \"triangle4red\" \n\n     circle2blue  1 1  4   \"number\"      \"circle2blue\" \n\n   circle2yellow  1 1  5   \"number\"    \"circle2yellow\" \n\n    triangle4red  2 2  6   \"number\"     \"triangle4red\" \n\n triangle3yellow  2 2  7   \"number\"  \"triangle3yellow\" \n\n   circle3yellow  1 1  8   \"number\"    \"circle3yellow\" \n\n triangle1yellow  2 2  9   \"number\"  \"triangle1yellow\" \n\n    cross2yellow  2 2  1    \"color\"     \"cross2yellow\" \n\n    triangle3red  3 3  2    \"color\"     \"triangle3red\" \n\n triangle3yellow  3 3  3    \"color\"  \"triangle3yellow\" \n\n    cross1yellow  1 1  4    \"color\"     \"cross1yellow\" \n\n       cross2red  2 2  5    \"color\"        \"cross2red\" \n\n   triangle4blue  4 4  6    \"color\"    \"triangle4blue\" \n\n    triangle3red  3 3  7    \"color\"     \"triangle3red\" \n\n     circle4blue  4 4  8    \"color\"      \"circle4blue\" \n\n triangle1yellow  1 4  1    \"shape\"  \"triangle1yellow\" \n\n   circle3yellow  3 4  2    \"shape\"    \"circle3yellow\" \n\n     cross1green  1 2  3    \"shape\"      \"cross1green\" \n\n       star1blue  1 3  4    \"shape\"        \"star1blue\" \n\n   triangle4blue  4 3  5    \"shape\"    \"triangle4blue\" \n\n triangle1yellow  1 4  6    \"shape\"  \"triangle1yellow\" \n\n       star2blue  2 3  7    \"shape\"        \"star2blue\" \n\n    triangle3red  3 1  8    \"shape\"     \"triangle3red\" \n\n      star1green  4 4  1   \"number\"       \"star1green\" \n\n    cross2yellow  3 3  2   \"number\"     \"cross2yellow\" \n\n        star3red  4 4  3   \"number\"         \"star3red\" \n\n   triangle1blue  2 2  4   \"number\"    \"triangle1blue\" \n\n    triangle4red  2 2  5   \"number\"     \"triangle4red\" \n\n        star3red  4 4  6   \"number\"         \"star3red\" \n\n   circle3yellow  1 1  7   \"number\"    \"circle3yellow\" \n\n     cross1green  1 1  1    \"color\"      \"cross1green\" \n\n     cross4green  4 4  2    \"color\"      \"cross4green\" \n\n    triangle4red  4 4  3    \"color\"     \"triangle4red\" \n\n       star1blue  1 1  4    \"color\"        \"star1blue\" \n\n      star3green  3 3  5    \"color\"       \"star3green\" \n\n        star2red  4 1  1   \"number\"         \"star2red\" \n\n   circle2yellow  1 4  2   \"number\"    \"circle2yellow\" \n\n    circle4green  1 2  3   \"number\"     \"circle4green\" \n\n        star2red  4 1  4   \"number\"         \"star2red\" \n\n       star1blue  4 3  5   \"number\"        \"star1blue\" \n\n   circle2yellow  1 4  6   \"number\"    \"circle2yellow\" \n\n      star3green  3 3  1    \"shape\"       \"star3green\" \n\n triangle3yellow  3 3  2    \"shape\"  \"triangle3yellow\" \n\n   circle2yellow  2 2  3    \"shape\"    \"circle2yellow\" \n\n     cross4green  4 4  4    \"shape\"      \"cross4green\" \n\n triangle1yellow  1 1  5    \"shape\"  \"triangle1yellow\" \n\n     circle2blue  2 2  6    \"shape\"      \"circle2blue\" \n\n     cross4green  4 4  7    \"shape\"      \"cross4green\" \n\n       cross4red  4 3  1    \"color\"        \"cross4red\" \n\n     circle2blue  2 1  2    \"color\"      \"circle2blue\" \n\n       cross2red  2 3  3    \"color\"        \"cross2red\" \n\n     cross1green  1 3  4    \"color\"      \"cross1green\" \n\n    cross1yellow  1 3  5    \"color\"     \"cross1yellow\" \n\n        star3red  3 1  1    \"shape\"         \"star3red\" \n\n        star2red  2 1  2    \"shape\"         \"star2red\" \n\n    circle4green  4 2  3    \"shape\"     \"circle4green\" \n\n   triangle1blue  1 3  4    \"shape\"    \"triangle1blue\" \n\n       cross4red  4 1  5    \"shape\"        \"cross4red\" \n\n        star3red  4 4  1   \"number\"         \"star3red\" \n\n   triangle1blue  2 2  2   \"number\"    \"triangle1blue\" \n\n    triangle3red  2 2  3   \"number\"     \"triangle3red\" \n\n       cross4red  3 3  4   \"number\"        \"cross4red\" \n\n    circle4green  1 1  5   \"number\"     \"circle4green\" \n\n   circle3yellow  1 1  6   \"number\"    \"circle3yellow\" \n\n       cross4red  3 3  7   \"number\"        \"cross4red\" \n\n    cross2yellow  2 2  1    \"shape\"     \"cross2yellow\" \n\n     circle4blue  4 4  2    \"shape\"      \"circle4blue\" \n\n   triangle1blue  1 1  3    \"shape\"    \"triangle1blue\" \n\n    circle3green  3 3  4    \"shape\"     \"circle3green\" \n\n    triangle3red  3 3  5    \"shape\"     \"triangle3red\" \n\n     cross1green  1 1  6    \"shape\"      \"cross1green\" \n\n      star1green  1 4  1    \"color\"       \"star1green\" \n\n        star2red  2 4  2    \"color\"         \"star2red\" \n\n    cross2yellow  2 3  3    \"color\"     \"cross2yellow\" \n\n     circle4blue  4 1  4    \"color\"      \"circle4blue\" \n\n        star2red  2 4  5    \"color\"         \"star2red\" \n\n      star3green  3 2  1    \"shape\"       \"star3green\" \n\n    cross1yellow  1 4  2    \"shape\"     \"cross1yellow\" \n\n   circle3yellow  3 4  3    \"shape\"    \"circle3yellow\" \n\n      star1green  1 2  4    \"shape\"       \"star1green\" \n\n        star2red  2 1  5    \"shape\"         \"star2red\" \n\n     circle2blue  2 3  6    \"shape\"      \"circle2blue\" \n\n   triangle4blue  4 2  1    \"color\"    \"triangle4blue\" \n\n   triangle4blue  4 2  2    \"color\"    \"triangle4blue\" \n\n    circle4green  4 1  3    \"color\"     \"circle4green\" \n\n    circle4green  4 1  4    \"color\"     \"circle4green\" \n\n       cross2red  2 3  5    \"color\"        \"cross2red\" \n\n    cross1yellow  1 3  6    \"color\"     \"cross1yellow\" \n\n"
     ]
    }
   ],
   "source": [
    "\n",
    "# ----- generate entries -----x\n",
    "# the matching cards are fixed, \n",
    "# thus we must exclude all possible charactertics of current card that would cause the double match problem\n",
    "\n",
    "# previous correct\n",
    "pc = 0\n",
    "\n",
    "# --- create file ---x\n",
    "if os.path.exists(\"wcst.txt\"): os.remove(\"wcst.txt\")\n",
    "f = open(\"wcst.txt\", \"x\")\n",
    "\n",
    "for i,j in enumerate(zip(no_mix, r_samples)):\n",
    "\n",
    "\n",
    "  for ii in range(1,(j[0]+1)):\n",
    "\n",
    "    # ---- sample cards: only match one characteristic per card ---x\n",
    "    card_samples = numbers.copy()\n",
    "\n",
    "    # ---- Select: \n",
    "    # 1. TARGET card number \n",
    "    # 2. Sample cards to match incorrectly \n",
    "    # ----x\n",
    "    crds = []\n",
    "    for _ in [1,2,3]:\n",
    "      idx = np.random.choice(card_samples) \n",
    "      card_samples.remove(idx)\n",
    "      crds.append(cards[(idx-1)])\n",
    "    \n",
    "\n",
    "    # --- define order ---x\n",
    "    if j[1] == 'color':  o = [0,1,2]\n",
    "    if j[1] == 'shape':  o = [1,0,2]\n",
    "    if j[1] == 'number': o = [1,2,0]\n",
    "\n",
    "    c = matching_cards[crds[o[0]]]['color']\n",
    "    s = matching_cards[crds[o[1]]]['shape']\n",
    "    n = matching_cards[crds[o[2]]]['number']\n",
    "\n",
    "    # ---- find previous matching rule ----x\n",
    "    if i > 0:\n",
    "      prev_rule = r_samples[i-1]\n",
    "      for r in rules:\n",
    "        if prev_rule == 'color':  xx = c\n",
    "        if prev_rule == 'shape':  xx = s\n",
    "        if prev_rule == 'number': xx = n\n",
    "      for cc in cards:\n",
    "          if matching_cards[cc][prev_rule] == xx:\n",
    "            pc = int(cc.replace('card ', ''))\n",
    "    # ---- find previous matching rule ----x\n",
    "\n",
    "\n",
    "    \n",
    "    # line entry\n",
    "    line_entry = \\\n",
    "    ' ' *(16-len(s+str(n)+c)) + s + str(n) + c + '  ' + \\\n",
    "    str(idx) + ' '              + \\\n",
    "    str(pc) + '  '              + \\\n",
    "    str(ii) + '  '              + \\\n",
    "    ' '*(10-len(str(ii)+'\\\"'+j[1]+'\\\"')) + '\\\"' + j[1] + '\\\"' + ' '       + \\\n",
    "    ' '*(16-len(s+str(n)+c)) + '\\\"' + s + str(n) + c + '\\\" \\r\\n'\n",
    "\n",
    "    f.write(line_entry) \n",
    "  \n",
    "  \n",
    "\n",
    "f.close()\n",
    "f = open('wcst.txt', 'r')\n",
    "lines = f. readlines()\n",
    "for line in lines:\n",
    "  print(line)\n",
    "  f. close()"
   ]
  },
  {
   "cell_type": "code",
   "execution_count": null,
   "metadata": {},
   "outputs": [],
   "source": []
  },
  {
   "cell_type": "code",
   "execution_count": null,
   "metadata": {},
   "outputs": [],
   "source": []
  }
 ]
}
{
  "nbformat": 4,
  "nbformat_minor": 0,
  "metadata": {
    "colab": {
      "name": "WCST_trail_generation.ipynb",
      "provenance": [],
      "toc_visible": true
    },
    "kernelspec": {
      "name": "python385jvsc74a57bd01c72b5e003666ece4ac2cd9faeaeb339e142bf986dc946b08df99275befca659",
      "display_name": "Python 3.8.5 64-bit (conda)"
    },
    "language_info": {
      "name": "python",
      "version": "3.8.5-final"
    }
  },
  "cells": [
    {
      "cell_type": "markdown",
      "metadata": {
        "id": "UkLWOb1cj88I"
      },
      "source": [
        "## WCST \n",
        "### Random Sequence Generator\n",
        "\n",
        "A script that allows one to specify constraints & subsequently generate a .txt file containing the trials. \n",
        "\n",
        "Correct the double signal problem\n",
        "\n",
        "\n"
      ]
    },
    {
      "cell_type": "code",
      "metadata": {
        "colab": {
          "base_uri": "https://localhost:8080/"
        },
        "id": "vfMegUvYgeQp",
        "outputId": "5f6f44c1-9c81-4655-9d18-1a214f17531e"
      },
      "source": [
        "import numpy as np\n",
        "import os\n",
        "\n",
        "\n",
        "\n",
        "# ---- number trails per rule ---x\n",
        "rule_persistence = [10, 9, 8, 8, 7, 7, 7, 6, 6, 6, 6, 5, 5, 5, 5]\n",
        "sum(rule_persistence)\n",
        "\n",
        "# ---- allow mixing ----x\n",
        "al_mix = np.append(np.repeat(False, 4).tolist(), np.repeat(True, 11)).tolist()\n",
        "\n",
        "# ---- get true indices ---x\n",
        "tr_ind = [i for i, val in enumerate(al_mix) if val]\n",
        "fl_ind = [i for i, val in enumerate(al_mix) if val == False]\n",
        "\n",
        "# ---- randomize order (if permitted) ----x\n",
        "no_mix = [rule_persistence[i] for i in fl_ind]\n",
        "mix    = [rule_persistence[i] for i in tr_ind]\n",
        "mix    = np.random.choice(mix, len(mix), replace=False).tolist()\n",
        "\n",
        "# ---- produce final order seq ----x\n",
        "for i in mix: no_mix.append(i)\n",
        "no_mix"
      ],
      "execution_count": 7,
      "outputs": [
        {
          "output_type": "execute_result",
          "data": {
            "text/plain": [
              "[10, 9, 8, 8, 5, 5, 6, 6, 6, 7, 6, 7, 5, 5, 7]"
            ]
          },
          "metadata": {},
          "execution_count": 7
        }
      ]
    },
    {
      "cell_type": "code",
      "metadata": {
        "id": "DblKXwMt0pGf"
      },
      "source": [],
      "execution_count": null,
      "outputs": []
    },
    {
      "cell_type": "code",
      "metadata": {
        "colab": {
          "base_uri": "https://localhost:8080/"
        },
        "id": "saAqHvJYxUxu",
        "outputId": "4a66defe-7645-479b-8fee-6adf0b6846a1"
      },
      "source": [
        "# ---- unique rules ----x\n",
        "rules   = ['shape', 'number', 'color']\n",
        "colors  = ['yellow', 'red', 'green', 'blue']\n",
        "shapes  = ['star', 'triangle', 'circle', 'cross']\n",
        "numbers = [1,2,3,4]\n",
        "cards   = ['card 1', 'card 2', 'card 3', 'card 4']\n",
        "matching_cards = {\n",
        "  'card 1': {'color': 'red',   'shape':'circle',    'number':1},\n",
        "  'card 2': {'color': 'green', 'shape':'triangle',  'number':2},\n",
        "  'card 3': {'color': 'blue',  'shape':'cross',     'number':3}, \n",
        "  'card 4': {'color': 'yellow','shape':'star',      'number':4}}\n",
        "\n",
        "# ---- sample correct rules ----x  \n",
        "r_samples = np.random.choice(rules, len(no_mix), replace=True)\n",
        "\n",
        "# --- avoid duplicates ---x\n",
        "r_samples = [np.random.choice(rules)]\n",
        "for i in range(1, len(no_mix)):\n",
        "  x = np.random.choice(rules)\n",
        "  while x == r_samples[i-1]:\n",
        "    x = np.random.choice(rules)\n",
        "  r_samples.append(x)\n",
        "# --- avoid duplicates ---x\n",
        "\n",
        "\n",
        "# ----- generate entries -----x\n",
        "# the matching cards are fixed, \n",
        "# thus we must exclude all possible charactertics of current card that would cause the double match problem\n",
        "\n",
        "# previous correct\n",
        "pc = 0\n",
        "\n",
        "# --- create file ---x\n",
        "os.remove(\"wcst.txt\")\n",
        "f = open(\"wcst.txt\", \"x\")\n",
        "\n",
        "\n",
        "for i,j in enumerate(zip(no_mix, r_samples)):\n",
        "\n",
        "  for ii in range(1,(j[0]+1)):\n",
        "\n",
        "    # ---- select TARGET card number ----x\n",
        "    idx     = np.random.choice(numbers) \n",
        "    correct = cards[(idx-1)] # correct card \n",
        "\n",
        "\n",
        "    # what to exclude\n",
        "    cls = [c for c in colors if c != matching_cards[correct]['color']]\n",
        "    sps = [s for s in shapes if s != matching_cards[correct]['shape']]\n",
        "    nbs = [n for n in numbers if n != matching_cards[correct]['number']]\n",
        "\n",
        "    # --- using rule ---x\n",
        "    if j[1] == 'color':\n",
        "      c = matching_cards[correct]['color']\n",
        "      s = np.random.choice(sps)\n",
        "      n = np.random.choice(nbs)\n",
        "    \n",
        "    if j[1] == 'shape':\n",
        "      s = matching_cards[correct]['shape']\n",
        "      c = np.random.choice(cls)\n",
        "      n = np.random.choice(nbs)\n",
        "      \n",
        "    if j[1] == 'number':\n",
        "      n = matching_cards[correct]['number']\n",
        "      c = np.random.choice(cls)\n",
        "      s = np.random.choice(sps)\n",
        "\n",
        "    # ---- find previous matching rule ----x\n",
        "    if i > 0:\n",
        "      prev_rule = r_samples[i-1]\n",
        "      for r in rules:\n",
        "        if prev_rule == 'color':  xx = c\n",
        "        if prev_rule == 'shape':  xx = s\n",
        "        if prev_rule == 'number': xx = n\n",
        "      for cc in cards:\n",
        "          if matching_cards[cc][prev_rule] == xx:\n",
        "            pc = int(cc.replace('card ', ''))\n",
        "    # ---- find previous matching rule ----x\n",
        "\n",
        "\n",
        "\n",
        "    \n",
        "    # line entry\n",
        "    line_entry = \\\n",
        "    ' ' *(16-len(s+str(n)+c)) + s + str(n) + c + '  ' + \\\n",
        "    str(idx) + ' '              + \\\n",
        "    str(pc) + '  '              + \\\n",
        "    str(ii) + '  '              + \\\n",
        "    ' '*(10-len(str(ii)+'\\\"'+j[1]+'\\\"')) + '\\\"' + j[1] + '\\\"' + ' '       + \\\n",
        "    ' '*(16-len(s+str(n)+c)) + '\\\"' + s + str(n) + c + '\\\" \\r\\n'\n",
        "\n",
        "    f.write(line_entry) \n",
        "  \n",
        "  \n",
        "\n",
        "f.close()\n",
        "f = open('wcst.txt', 'r')\n",
        "lines = f. readlines()\n",
        "for line in lines:\n",
        "  print(line)\n",
        "  f. close()"
      ],
      "execution_count": 8,
      "outputs": [
        {
          "output_type": "stream",
          "name": "stdout",
          "text": [
            "    cross2yellow  2 0  1   \"number\"     \"cross2yellow\" \n\n    circle3green  3 0  2   \"number\"     \"circle3green\" \n\n    cross2yellow  2 0  3   \"number\"     \"cross2yellow\" \n\n     cross1green  1 0  4   \"number\"      \"cross1green\" \n\n   triangle4blue  4 0  5   \"number\"    \"triangle4blue\" \n\n    triangle3red  3 0  6   \"number\"     \"triangle3red\" \n\n     circle2blue  2 0  7   \"number\"      \"circle2blue\" \n\n        star2red  2 0  8   \"number\"         \"star2red\" \n\n     circle4blue  4 0  9   \"number\"      \"circle4blue\" \n\n      circle3red  3 0  10  \"number\"       \"circle3red\" \n\n    triangle3red  2 3  1    \"shape\"     \"triangle3red\" \n\n      star1green  4 1  2    \"shape\"       \"star1green\" \n\n   triangle4blue  2 4  3    \"shape\"    \"triangle4blue\" \n\n      star1green  4 1  4    \"shape\"       \"star1green\" \n\n       star2blue  4 2  5    \"shape\"        \"star2blue\" \n\n   triangle4blue  2 4  6    \"shape\"    \"triangle4blue\" \n\n     cross4green  3 4  7    \"shape\"      \"cross4green\" \n\n    triangle3red  2 3  8    \"shape\"     \"triangle3red\" \n\n    triangle4red  2 4  9    \"shape\"     \"triangle4red\" \n\n    cross3yellow  4 3  1    \"color\"     \"cross3yellow\" \n\n       star4blue  3 4  2    \"color\"        \"star4blue\" \n\n    circle4green  2 1  3    \"color\"     \"circle4green\" \n\n    circle3green  2 1  4    \"color\"     \"circle3green\" \n\n   circle3yellow  4 1  5    \"color\"    \"circle3yellow\" \n\n     cross4green  2 3  6    \"color\"      \"cross4green\" \n\n   circle1yellow  4 1  7    \"color\"    \"circle1yellow\" \n\n    circle4green  2 1  8    \"color\"     \"circle4green\" \n\n   triangle1blue  1 3  1   \"number\"    \"triangle1blue\" \n\n     star1yellow  1 4  2   \"number\"      \"star1yellow\" \n\n triangle3yellow  3 4  3   \"number\"  \"triangle3yellow\" \n\n      cross1blue  1 3  4   \"number\"       \"cross1blue\" \n\n     star3yellow  3 4  5   \"number\"      \"star3yellow\" \n\n     cross4green  4 2  6   \"number\"      \"cross4green\" \n\n     cross1green  1 2  7   \"number\"      \"cross1green\" \n\n        star3red  3 1  8   \"number\"         \"star3red\" \n\n    cross2yellow  3 2  1    \"shape\"     \"cross2yellow\" \n\n       star2blue  4 2  2    \"shape\"        \"star2blue\" \n\n       cross2red  3 2  3    \"shape\"        \"cross2red\" \n\n    triangle3red  2 3  4    \"shape\"     \"triangle3red\" \n\n   circle3yellow  1 3  5    \"shape\"    \"circle3yellow\" \n\n    triangle3red  1 2  1    \"color\"     \"triangle3red\" \n\n        star4red  1 4  2    \"color\"         \"star4red\" \n\n     circle1blue  3 1  3    \"color\"      \"circle1blue\" \n\n      star1green  2 4  4    \"color\"       \"star1green\" \n\n    circle4green  2 1  5    \"color\"     \"circle4green\" \n\n    circle4green  4 2  1   \"number\"     \"circle4green\" \n\n  triangle1green  1 2  2   \"number\"   \"triangle1green\" \n\n    cross1yellow  1 4  3   \"number\"     \"cross1yellow\" \n\n      cross4blue  4 3  4   \"number\"       \"cross4blue\" \n\n     circle4blue  4 3  5   \"number\"      \"circle4blue\" \n\n      cross2blue  2 3  6   \"number\"       \"cross2blue\" \n\n       star4blue  3 4  1    \"color\"        \"star4blue\" \n\n       cross4red  1 4  2    \"color\"        \"cross4red\" \n\n        star3red  1 3  3    \"color\"         \"star3red\" \n\n       star4blue  3 4  4    \"color\"        \"star4blue\" \n\n     cross3green  2 3  5    \"color\"      \"cross3green\" \n\n    cross3yellow  4 3  6    \"color\"     \"cross3yellow\" \n\n triangle4yellow  2 4  1    \"shape\"  \"triangle4yellow\" \n\n        star1red  4 1  2    \"shape\"         \"star1red\" \n\n     circle4blue  1 3  3    \"shape\"      \"circle4blue\" \n\n     cross4green  3 2  4    \"shape\"      \"cross4green\" \n\n    circle3green  1 2  5    \"shape\"     \"circle3green\" \n\n      star3green  4 2  6    \"shape\"       \"star3green\" \n\n  triangle4green  4 2  1   \"number\"   \"triangle4green\" \n\n       star1blue  1 4  2   \"number\"        \"star1blue\" \n\n      star1green  1 4  3   \"number\"       \"star1green\" \n\n     star1yellow  1 4  4   \"number\"      \"star1yellow\" \n\n triangle1yellow  1 2  5   \"number\"  \"triangle1yellow\" \n\n      cross1blue  1 3  6   \"number\"       \"cross1blue\" \n\n        star2red  2 4  7   \"number\"         \"star2red\" \n\n      star1green  2 1  1    \"color\"       \"star1green\" \n\n        star2red  1 2  2    \"color\"         \"star2red\" \n\n       star2blue  3 2  3    \"color\"        \"star2blue\" \n\n        star3red  1 3  4    \"color\"         \"star3red\" \n\n       cross4red  1 4  5    \"color\"        \"cross4red\" \n\n     cross4green  2 4  6    \"color\"      \"cross4green\" \n\n      circle4red  4 1  1   \"number\"       \"circle4red\" \n\n   circle2yellow  2 4  2   \"number\"    \"circle2yellow\" \n\n    cross2yellow  2 4  3   \"number\"     \"cross2yellow\" \n\n     circle4blue  4 3  4   \"number\"      \"circle4blue\" \n\n triangle3yellow  3 4  5   \"number\"  \"triangle3yellow\" \n\n     star2yellow  2 4  6   \"number\"      \"star2yellow\" \n\n  triangle3green  3 2  7   \"number\"   \"triangle3green\" \n\n triangle1yellow  2 1  1    \"shape\"  \"triangle1yellow\" \n\n    triangle3red  2 3  2    \"shape\"     \"triangle3red\" \n\n      star1green  4 1  3    \"shape\"       \"star1green\" \n\n triangle3yellow  2 3  4    \"shape\"  \"triangle3yellow\" \n\n     circle2blue  1 2  5    \"shape\"      \"circle2blue\" \n\n      cross4blue  4 3  1   \"number\"       \"cross4blue\" \n\n    triangle4red  4 2  2   \"number\"     \"triangle4red\" \n\n   triangle1blue  1 2  3   \"number\"    \"triangle1blue\" \n\n triangle1yellow  1 2  4   \"number\"  \"triangle1yellow\" \n\n    triangle3red  3 2  5   \"number\"     \"triangle3red\" \n\n     circle2blue  3 2  1    \"color\"      \"circle2blue\" \n\n      star1green  2 1  2    \"color\"       \"star1green\" \n\n        star4red  1 4  3    \"color\"         \"star4red\" \n\n       cross3red  1 3  4    \"color\"        \"cross3red\" \n\n     circle4blue  3 4  5    \"color\"      \"circle4blue\" \n\n    cross1yellow  4 1  6    \"color\"     \"cross1yellow\" \n\n    cross1yellow  4 1  7    \"color\"     \"cross1yellow\" \n\n"
          ]
        }
      ]
    },
    {
      "cell_type": "code",
      "metadata": {
        "colab": {
          "base_uri": "https://localhost:8080/"
        },
        "id": "1FeX6rVAUF47",
        "outputId": "7f34e693-7b80-4fb9-efe2-58d30ccc2da7"
      },
      "source": [],
      "execution_count": null,
      "outputs": [
        {
          "output_type": "execute_result",
          "data": {
            "text/plain": [
              "1"
            ]
          },
          "metadata": {
            "tags": []
          },
          "execution_count": 74
        }
      ]
    },
    {
      "cell_type": "markdown",
      "metadata": {
        "id": "jQWqZ3jKxG6a"
      },
      "source": [
        "\n",
        "\n",
        "\n",
        "Notes:\n",
        "\n",
        "\n"
      ]
    },
    {
      "cell_type": "code",
      "metadata": {
        "colab": {
          "base_uri": "https://localhost:8080/"
        },
        "id": "Phvpl3UvsJ4O",
        "outputId": "1d8be74e-7689-42f8-f0fd-5c053d4c7040"
      },
      "source": [
        "The structure of the file is described here:\n",
        "Column 1. current card\n",
        "Column 2. correct answer card no.\n",
        "Column 3. correct answer if using the previous rule (0 until rule changes)\n",
        "Column 4. no. under current rule\n",
        "Column 5. Rule\n",
        "Column 6. Description of current card\n",
        "     \n",
        "-----------------------------------\n",
        "EXPLORE NOTES \n",
        "Daffy\n",
        "Scarpy\n",
        "domain > products\n",
        "-----------------------------------\n",
        "\n",
        "\n",
        "     \n",
        "Default file (incorrect)\n",
        "     \n",
        "     star2yellow  4 0  1  \"shape\"     \"star 2 yellow\"\n",
        "        star1red  4 0  2  \"shape\"        \"star 1 red\"\n",
        " triangle1yellow  2 0  3  \"shape\" \"triangle 1 yellow\"\n",
        "      star1green  4 0  4  \"shape\"      \"star 1 green\"\n",
        "       star1blue  4 0  5  \"shape\"       \"star 1 blue\"\n",
        "     circle1blue  1 0  6  \"shape\"     \"circle 1 blue\"\n",
        "        star2red  4 0  7  \"shape\"        \"star 2 red\"\n",
        "      circle2red  1 0  8  \"shape\"      \"circle 2 red\"\n",
        " triangle2yellow  2 0  9  \"shape\" \"triangle 2 yellow\"\n",
        "    circle4green  1 0 10  \"shape\"    \"circle 4 green\"\n",
        "  triangle4green  4 2  1 \"number\"  \"triangle 4 green\"\n",
        "  triangle3green  3 2  2 \"number\"  \"triangle 3 green\"\n",
        "     cross3green  3 3  3 \"number\"     \"cross 3 green\"\n",
        "     cross4green  4 3  4 \"number\"     \"cross 4 green\"\n",
        "  triangle1green  1 2  5 \"number\"  \"triangle 1 green\"\n",
        "      cross1blue  1 3  6 \"number\"      \"cross 1 blue\"\n",
        "      circle3red  3 1  7 \"number\"      \"circle 3 red\"\n",
        "   triangle2blue  2 2  8 \"number\"   \"triangle 2 blue\"\n",
        "   circle4yellow  4 1  9 \"number\"   \"circle 4 yellow\"\n",
        "       star2blue  2 4 10 \"number\"       \"star 2 blue\"\n",
        "      star4green  2 4  1  \"color\"      \"star 4 green\"\n",
        "       star4blue  3 4  2  \"color\"       \"star 4 blue\"\n",
        "       cross3red  1 3  3  \"color\"       \"cross 3 red\"\n",
        "      circle4red  1 4  4  \"color\"      \"circle 4 red\"\n",
        "       cross1red  1 1  5  \"color\"       \"cross 1 red\"\n",
        "   triangle3blue  3 3  6  \"color\"   \"triangle 3 blue\"\n",
        "     cross2green  2 2  7  \"color\"     \"cross 2 green\"\n",
        "   triangle1blue  3 1  8  \"color\"   \"triangle 1 blue\"\n",
        "    triangle1red  1 1  9  \"color\"    \"triangle 1 red\"\n",
        "     circle4blue  3 4 10  \"color\"     \"circle 4 blue\"\n",
        "    cross4yellow  3 4  1  \"shape\"    \"cross 4 yellow\"\n",
        "    cross3yellow  3 4  2  \"shape\"    \"cross 3 yellow\"\n",
        "       cross2red  3 1  3  \"shape\"       \"cross 2 red\"\n",
        "     circle3blue  1 3  4  \"shape\"     \"circle 3 blue\"\n",
        " triangle4yellow  2 4  5  \"shape\" \"triangle 4 yellow\"\n",
        "     star1yellow  4 4  6  \"shape\"     \"star 1 yellow\"\n",
        "    triangle4red  2 1  7  \"shape\"    \"triangle 4 red\"\n",
        "    triangle3red  2 1  8  \"shape\"    \"triangle 3 red\"\n",
        "    cross1yellow  3 4  9  \"shape\"    \"cross 1 yellow\"\n",
        "    circle1green  1 2 10  \"shape\"    \"circle 1 green\"\n",
        "    cross2yellow  2 3  1 \"number\"    \"cross 2 yellow\"\n",
        "     circle2blue  2 1  2 \"number\"     \"circle 2 blue\"\n",
        "      star3green  3 4  3 \"number\"      \"star 3 green\"\n",
        "    circle3green  3 1  4 \"number\"    \"circle 3 green\"\n",
        "      cross4blue  4 3  5 \"number\"      \"cross 4 blue\"\n",
        "        star4red  4 4  6 \"number\"        \"star 4 red\"\n",
        "       cross4red  4 3  7 \"number\"       \"cross 4 red\"\n",
        "      star2green  2 4  8 \"number\"      \"star 2 green\"\n",
        "      cross2blue  2 3  9 \"number\"      \"cross 2 blue\"\n",
        "    circle2green  2 1 10 \"number\"    \"circle 2 green\"\n",
        "   circle3yellow  4 3  1  \"color\"   \"circle 3 yellow\"\n",
        "   triangle4blue  3 4  2  \"color\"   \"triangle 4 blue\"\n",
        "    triangle2red  1 2  3  \"color\"    \"triangle 2 red\"\n",
        "       star3blue  3 3  4  \"color\"       \"star 3 blue\"\n",
        "     star3yellow  4 3  5  \"color\"     \"star 3 yellow\"\n",
        "   circle1yellow  4 1  6  \"color\"   \"circle 1 yellow\"\n",
        " triangle3yellow  4 3  7  \"color\" \"triangle 3 yellow\"\n",
        "        star3red  1 3  8  \"color\"        \"star 3 red\"\n",
        "   circle2yellow  4 2  9  \"color\"   \"circle 2 yellow\"\n",
        "     cross1green  2 1 10  \"color\"     \"cross 1 green\"\n"
      ],
      "execution_count": null,
      "outputs": [
        {
          "output_type": "execute_result",
          "data": {
            "text/plain": [
              "[10, 9, 8, 8, 7, 7, 5, 5, 5, 5, 6, 6, 7, 6, 6]"
            ]
          },
          "metadata": {
            "tags": []
          },
          "execution_count": 89
        }
      ]
    }
  ]
}
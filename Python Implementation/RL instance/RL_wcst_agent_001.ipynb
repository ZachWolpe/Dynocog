{
 "metadata": {
  "language_info": {
   "codemirror_mode": {
    "name": "ipython",
    "version": 3
   },
   "file_extension": ".py",
   "mimetype": "text/x-python",
   "name": "python",
   "nbconvert_exporter": "python",
   "pygments_lexer": "ipython3",
   "version": "3.8.5-final"
  },
  "orig_nbformat": 2,
  "kernelspec": {
   "name": "python385jvsc74a57bd01c72b5e003666ece4ac2cd9faeaeb339e142bf986dc946b08df99275befca659",
   "display_name": "Python 3.8.5 64-bit (conda)"
  }
 },
 "nbformat": 4,
 "nbformat_minor": 2,
 "cells": [
  {
   "source": [
    "# RL wcst Agent 001\n",
    "\n",
    "The first, simplest, RL agent. Showcasing the basic structure.\n",
    "\n",
    "## Optimality\n",
    "\n",
    "The optimal learning behaviour would be too simply choose the last correct action. This would equate to an update equation that totally saturates previous information & essentially only considers the most recent but of information."
   ],
   "cell_type": "markdown",
   "metadata": {}
  },
  {
   "cell_type": "code",
   "execution_count": 4,
   "metadata": {},
   "outputs": [
    {
     "output_type": "stream",
     "name": "stdout",
     "text": [
      "/Users/zachwolpe/.conda/envs/Reinforcement Learning/Gym-openAI/bin/python\n"
     ]
    }
   ],
   "source": [
    "# !conda activate dynocog\n",
    "# !conda init\n",
    "import numpy as np\n",
    "import pandas as pd\n",
    "import matplotlib.pyplot as plt\n",
    "import re\n",
    "# import pytorch\n",
    "import sys\n",
    "print(sys.executable)\n"
   ]
  },
  {
   "cell_type": "code",
   "execution_count": 7,
   "metadata": {},
   "outputs": [],
   "source": [
    "# ---- Hyperparameters ----x\n",
    "rules   = ['shape', 'number', 'color']\n",
    "colors  = ['yellow', 'red', 'green', 'blue']\n",
    "shapes  = ['star', 'triangle', 'circle', 'cross']\n",
    "numbers = [1,2,3,4]\n",
    "cards   = ['card 1', 'card 2', 'card 3', 'card 4']\n",
    "matching_cards = {\n",
    "  'card 1': {'color': 'red', 'shape':'circle', 'number':1},\n",
    "  'card 2': {'color': 'green', 'shape':'triangle', 'number':2},\n",
    "  'card 3': {'color': 'blue', 'shape':'cross', 'number':3}, \n",
    "  'card 4': {'color': 'yellow', 'shape':'star', 'number':4}}"
   ]
  },
  {
   "cell_type": "code",
   "execution_count": 14,
   "metadata": {},
   "outputs": [
    {
     "output_type": "stream",
     "name": "stdout",
     "text": [
      "ind:  card 2\ncurr_card:  ['cross', '2', 'yellow']\ntarget_card:  {'color': 'green', 'shape': 'triangle', 'number': 2}\n"
     ]
    }
   ],
   "source": [
    "\n",
    "f = open(\"../data/wcst.txt\", \"r\")\n",
    "\n",
    "\n",
    "\n",
    "for l in f.readlines():\n",
    "    \n",
    "    # ---- target card ----x\n",
    "    ind = 'card ' + l[18]\n",
    "    \n",
    "\n",
    "    # ---- current card ----x\n",
    "    curr_card = l[0:16].strip()\n",
    "    curr_card = re.split('([0-9]+)', curr_card)\n",
    "\n",
    "    # ---- matching rule ----x\n",
    "    rule = (l[27:27+8]).strip().replace('\\\"','')    \n",
    "    target_card = matching_cards[ind]\n",
    "\n",
    "    print('ind: ', ind)\n",
    "    print('curr_card: ',  curr_card)\n",
    "    print('target_card: ', target_card)\n",
    "    break\n",
    "\n",
    ">>> torch.zeros([2, 4], dtype=torch.int32)\n",
    "\n"
   ]
  },
  {
   "cell_type": "code",
   "execution_count": null,
   "metadata": {},
   "outputs": [],
   "source": []
  },
  {
   "cell_type": "code",
   "execution_count": null,
   "metadata": {},
   "outputs": [],
   "source": []
  }
 ]
}
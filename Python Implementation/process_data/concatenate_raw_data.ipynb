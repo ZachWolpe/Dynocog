{
 "metadata": {
  "language_info": {
   "codemirror_mode": {
    "name": "ipython",
    "version": 3
   },
   "file_extension": ".py",
   "mimetype": "text/x-python",
   "name": "python",
   "nbconvert_exporter": "python",
   "pygments_lexer": "ipython3",
   "version": "3.8.8"
  },
  "orig_nbformat": 2,
  "kernelspec": {
   "name": "python388jvsc74a57bd00bdb1145a6394107ddd55d824c4d0e411e79cd19a6286b1018600d724ae6ee81",
   "display_name": "Python 3.8.8 64-bit ('dynocog': conda)"
  }
 },
 "nbformat": 4,
 "nbformat_minor": 2,
 "cells": [
  {
   "source": [
    "# Concatenate Raw Data\n",
    "\n",
    "Psytoolkit's data management appears unreliable, as such all downloaded data should be stored both locally & on Git (without assuming the Psytoolkit portal will maintain these files).\n",
    "\n",
    "This notebook processes many data files:\n",
    "\n",
    "- Read all subfiles\n",
    "- Identify unique participant codes (experiments)\n",
    "- Return a table to map to all unique experiments\n",
    "\n",
    "\n",
    "This notebook is also used to consider the distribution of times for estimating cost on Amazon Mechanical Turk.\n",
    "\n",
    "\n",
    "```\n",
    "author: Zach Wolpe\n",
    "email:  zachcolinwolpe@gmail.com\n",
    "```"
   ],
   "cell_type": "markdown",
   "metadata": {}
  },
  {
   "cell_type": "code",
   "execution_count": 70,
   "metadata": {},
   "outputs": [],
   "source": [
    "import pandas as pd\n",
    "import numpy as np\n",
    "import seaborn as sns\n",
    "import os"
   ]
  },
  {
   "source": [
    "# Identify Unique Paths\n",
    "\n",
    "Here we indentify all unique experiments & produce a dataframe to "
   ],
   "cell_type": "markdown",
   "metadata": {}
  },
  {
   "cell_type": "code",
   "execution_count": 15,
   "metadata": {},
   "outputs": [
    {
     "output_type": "stream",
     "name": "stdout",
     "text": [
      "final_data.shape:  (26, 14)\n"
     ]
    },
    {
     "output_type": "execute_result",
     "data": {
      "text/plain": [
       "                                  participant  participant_code:1  \\\n",
       "0  s.32ff642a-efe0-436f-8075-fa703d677fed.txt              851366   \n",
       "1  s.88be81bb-b23f-4c34-b7ad-18cce2be5cb9.txt              904653   \n",
       "\n",
       "                                    Welcome_Screen:1  \\\n",
       "0  welcome_screen.2021-05-01-1551.data.32ff642a-e...   \n",
       "1  welcome_screen.2021-05-13-1543.data.88be81bb-b...   \n",
       "\n",
       "                                         wcst_task:1  \\\n",
       "0  WCST_Task.2021-05-01-1558.data.32ff642a-efe0-4...   \n",
       "1                                                NaN   \n",
       "\n",
       "                                       n_back_task:1  \\\n",
       "0  N_Back_Task.2021-05-01-1604.data.32ff642a-efe0...   \n",
       "1                                                NaN   \n",
       "\n",
       "                             corsi_block_span_task:1  \\\n",
       "0  Corsi_Block_Span_Task.2021-05-01-1605.data.32f...   \n",
       "1                                                NaN   \n",
       "\n",
       "                                         fitts_law:1  \\\n",
       "0  Fitts_Law.2021-05-01-1606.data.32ff642a-efe0-4...   \n",
       "1                                                NaN   \n",
       "\n",
       "                                        navon_task:1        TIME_start  \\\n",
       "0  Navon_Task.2021-05-01-1609.data.32ff642a-efe0-...  2021-05-01-15-50   \n",
       "1                                                NaN  2021-05-13-15-43   \n",
       "\n",
       "           TIME_end  TIME_total                                path   beta  \\\n",
       "0  2021-05-01-16-09        19.0  ../data/all data files/data 17 May  False   \n",
       "1               NaN         NaN  ../data/all data files/data 17 May  False   \n",
       "\n",
       "  backward_corsi:1  \n",
       "0              NaN  \n",
       "1              NaN  "
      ],
      "text/html": "<div>\n<style scoped>\n    .dataframe tbody tr th:only-of-type {\n        vertical-align: middle;\n    }\n\n    .dataframe tbody tr th {\n        vertical-align: top;\n    }\n\n    .dataframe thead th {\n        text-align: right;\n    }\n</style>\n<table border=\"1\" class=\"dataframe\">\n  <thead>\n    <tr style=\"text-align: right;\">\n      <th></th>\n      <th>participant</th>\n      <th>participant_code:1</th>\n      <th>Welcome_Screen:1</th>\n      <th>wcst_task:1</th>\n      <th>n_back_task:1</th>\n      <th>corsi_block_span_task:1</th>\n      <th>fitts_law:1</th>\n      <th>navon_task:1</th>\n      <th>TIME_start</th>\n      <th>TIME_end</th>\n      <th>TIME_total</th>\n      <th>path</th>\n      <th>beta</th>\n      <th>backward_corsi:1</th>\n    </tr>\n  </thead>\n  <tbody>\n    <tr>\n      <th>0</th>\n      <td>s.32ff642a-efe0-436f-8075-fa703d677fed.txt</td>\n      <td>851366</td>\n      <td>welcome_screen.2021-05-01-1551.data.32ff642a-e...</td>\n      <td>WCST_Task.2021-05-01-1558.data.32ff642a-efe0-4...</td>\n      <td>N_Back_Task.2021-05-01-1604.data.32ff642a-efe0...</td>\n      <td>Corsi_Block_Span_Task.2021-05-01-1605.data.32f...</td>\n      <td>Fitts_Law.2021-05-01-1606.data.32ff642a-efe0-4...</td>\n      <td>Navon_Task.2021-05-01-1609.data.32ff642a-efe0-...</td>\n      <td>2021-05-01-15-50</td>\n      <td>2021-05-01-16-09</td>\n      <td>19.0</td>\n      <td>../data/all data files/data 17 May</td>\n      <td>False</td>\n      <td>NaN</td>\n    </tr>\n    <tr>\n      <th>1</th>\n      <td>s.88be81bb-b23f-4c34-b7ad-18cce2be5cb9.txt</td>\n      <td>904653</td>\n      <td>welcome_screen.2021-05-13-1543.data.88be81bb-b...</td>\n      <td>NaN</td>\n      <td>NaN</td>\n      <td>NaN</td>\n      <td>NaN</td>\n      <td>NaN</td>\n      <td>2021-05-13-15-43</td>\n      <td>NaN</td>\n      <td>NaN</td>\n      <td>../data/all data files/data 17 May</td>\n      <td>False</td>\n      <td>NaN</td>\n    </tr>\n  </tbody>\n</table>\n</div>"
     },
     "metadata": {},
     "execution_count": 15
    }
   ],
   "source": [
    "path     = '../data/all data files'\n",
    "inc_beta = True\n",
    "\n",
    "final_data = None; final_data_times = None\n",
    "for d in os.listdir(path):\n",
    "    if '.DS_Store' not in d:\n",
    "        if ('beta' not in d) or ('beta' in d) == inc_beta:\n",
    "            data       = pd.read_csv(path + '/' + d + '/data.csv',       index_col=False)\n",
    "            data_times = pd.read_csv(path + '/' + d + '/data_times.csv', index_col=False)\n",
    "            # --- add columns ---x\n",
    "            data[['path']]       = path + '/' + d\n",
    "            data_times[['path']] = path + '/' + d\n",
    "            data[['beta']]       = ('beta' in d)\n",
    "            data_times[['beta']] = ('beta' in d)\n",
    "            if final_data is None:\n",
    "                final_data       = data\n",
    "                final_data_times = data_times\n",
    "            else:\n",
    "                final_data = final_data.append(data, ignore_index=True)\n",
    "                final_data_times = final_data_times.append(data_times, ignore_index=True)\n",
    "    \n",
    "\n",
    "print('final_data.shape: ', final_data.shape)\n",
    "final_data.head(2)"
   ]
  },
  {
   "source": [
    "# Identify Duplicates"
   ],
   "cell_type": "markdown",
   "metadata": {}
  },
  {
   "cell_type": "code",
   "execution_count": 16,
   "metadata": {},
   "outputs": [
    {
     "output_type": "stream",
     "name": "stdout",
     "text": [
      "final_data.shape:  (17, 14)\n"
     ]
    },
    {
     "output_type": "execute_result",
     "data": {
      "text/plain": [
       "                                  participant  participant_code:1  \\\n",
       "0  s.32ff642a-efe0-436f-8075-fa703d677fed.txt              851366   \n",
       "3  s.d3b74af9-3b24-4820-83a0-67986b3ec0bf.txt              490901   \n",
       "\n",
       "                                    Welcome_Screen:1  \\\n",
       "0  welcome_screen.2021-05-01-1551.data.32ff642a-e...   \n",
       "3  welcome_screen.2021-05-10-0639.data.d3b74af9-3...   \n",
       "\n",
       "                                         wcst_task:1  \\\n",
       "0  WCST_Task.2021-05-01-1558.data.32ff642a-efe0-4...   \n",
       "3  WCST_Task.2021-05-10-0647.data.d3b74af9-3b24-4...   \n",
       "\n",
       "                                       n_back_task:1  \\\n",
       "0  N_Back_Task.2021-05-01-1604.data.32ff642a-efe0...   \n",
       "3  N_Back_Task.2021-05-10-0652.data.d3b74af9-3b24...   \n",
       "\n",
       "                             corsi_block_span_task:1  \\\n",
       "0  Corsi_Block_Span_Task.2021-05-01-1605.data.32f...   \n",
       "3  Corsi_Block_Span_Task.2021-05-10-0654.data.d3b...   \n",
       "\n",
       "                                         fitts_law:1  \\\n",
       "0  Fitts_Law.2021-05-01-1606.data.32ff642a-efe0-4...   \n",
       "3  Fitts_Law.2021-05-10-0655.data.d3b74af9-3b24-4...   \n",
       "\n",
       "                                        navon_task:1        TIME_start  \\\n",
       "0  Navon_Task.2021-05-01-1609.data.32ff642a-efe0-...  2021-05-01-15-50   \n",
       "3  Navon_Task.2021-05-10-0657.data.d3b74af9-3b24-...  2021-05-10-06-39   \n",
       "\n",
       "           TIME_end  TIME_total                                path   beta  \\\n",
       "0  2021-05-01-16-09        19.0  ../data/all data files/data 17 May  False   \n",
       "3  2021-05-10-06-57        18.0  ../data/all data files/data 17 May  False   \n",
       "\n",
       "  backward_corsi:1  \n",
       "0              NaN  \n",
       "3              NaN  "
      ],
      "text/html": "<div>\n<style scoped>\n    .dataframe tbody tr th:only-of-type {\n        vertical-align: middle;\n    }\n\n    .dataframe tbody tr th {\n        vertical-align: top;\n    }\n\n    .dataframe thead th {\n        text-align: right;\n    }\n</style>\n<table border=\"1\" class=\"dataframe\">\n  <thead>\n    <tr style=\"text-align: right;\">\n      <th></th>\n      <th>participant</th>\n      <th>participant_code:1</th>\n      <th>Welcome_Screen:1</th>\n      <th>wcst_task:1</th>\n      <th>n_back_task:1</th>\n      <th>corsi_block_span_task:1</th>\n      <th>fitts_law:1</th>\n      <th>navon_task:1</th>\n      <th>TIME_start</th>\n      <th>TIME_end</th>\n      <th>TIME_total</th>\n      <th>path</th>\n      <th>beta</th>\n      <th>backward_corsi:1</th>\n    </tr>\n  </thead>\n  <tbody>\n    <tr>\n      <th>0</th>\n      <td>s.32ff642a-efe0-436f-8075-fa703d677fed.txt</td>\n      <td>851366</td>\n      <td>welcome_screen.2021-05-01-1551.data.32ff642a-e...</td>\n      <td>WCST_Task.2021-05-01-1558.data.32ff642a-efe0-4...</td>\n      <td>N_Back_Task.2021-05-01-1604.data.32ff642a-efe0...</td>\n      <td>Corsi_Block_Span_Task.2021-05-01-1605.data.32f...</td>\n      <td>Fitts_Law.2021-05-01-1606.data.32ff642a-efe0-4...</td>\n      <td>Navon_Task.2021-05-01-1609.data.32ff642a-efe0-...</td>\n      <td>2021-05-01-15-50</td>\n      <td>2021-05-01-16-09</td>\n      <td>19.0</td>\n      <td>../data/all data files/data 17 May</td>\n      <td>False</td>\n      <td>NaN</td>\n    </tr>\n    <tr>\n      <th>3</th>\n      <td>s.d3b74af9-3b24-4820-83a0-67986b3ec0bf.txt</td>\n      <td>490901</td>\n      <td>welcome_screen.2021-05-10-0639.data.d3b74af9-3...</td>\n      <td>WCST_Task.2021-05-10-0647.data.d3b74af9-3b24-4...</td>\n      <td>N_Back_Task.2021-05-10-0652.data.d3b74af9-3b24...</td>\n      <td>Corsi_Block_Span_Task.2021-05-10-0654.data.d3b...</td>\n      <td>Fitts_Law.2021-05-10-0655.data.d3b74af9-3b24-4...</td>\n      <td>Navon_Task.2021-05-10-0657.data.d3b74af9-3b24-...</td>\n      <td>2021-05-10-06-39</td>\n      <td>2021-05-10-06-57</td>\n      <td>18.0</td>\n      <td>../data/all data files/data 17 May</td>\n      <td>False</td>\n      <td>NaN</td>\n    </tr>\n  </tbody>\n</table>\n</div>"
     },
     "metadata": {},
     "execution_count": 16
    }
   ],
   "source": [
    "# ---- remove incomplete files ----x\n",
    "final_data       = final_data.loc[final_data['TIME_total'].notnull(),]    \n",
    "print('final_data.shape: ', final_data.shape)\n",
    "final_data.head(2)"
   ]
  },
  {
   "cell_type": "code",
   "execution_count": 76,
   "metadata": {},
   "outputs": [
    {
     "output_type": "stream",
     "name": "stderr",
     "text": [
      "<ipython-input-76-ec1246302bab>:4: SettingWithCopyWarning: \nA value is trying to be set on a copy of a slice from a DataFrame\n\nSee the caveats in the documentation: https://pandas.pydata.org/pandas-docs/stable/user_guide/indexing.html#returning-a-view-versus-a-copy\n  final_data.beta_plot[final_data.beta==True]  = xticks[0]\n<ipython-input-76-ec1246302bab>:5: SettingWithCopyWarning: \nA value is trying to be set on a copy of a slice from a DataFrame\n\nSee the caveats in the documentation: https://pandas.pydata.org/pandas-docs/stable/user_guide/indexing.html#returning-a-view-versus-a-copy\n  final_data.beta_plot[final_data.beta==False] = xticks[1]\n"
     ]
    }
   ],
   "source": [
    "# plot lablels\n",
    "xticks = ['Testing','Actual']\n",
    "final_data['beta_plot'] = None\n",
    "final_data.beta_plot[final_data.beta==True]  = xticks[0]\n",
    "final_data.beta_plot[final_data.beta==False] = xticks[1]"
   ]
  },
  {
   "source": [
    "print('');print('')\n",
    "print('Battery Task Times:')\n",
    "print('');print('')\n",
    "print('Testing Samplings: ', sum(final_data.beta==True))\n",
    "print('Actual Samplings:  ', sum(final_data.beta==False))\n",
    "print('');print('')\n",
    "\n",
    "print('Testing Mean: ', np.mean(final_data.TIME_total[final_data.beta==True]))\n",
    "print('Actual Mean:  ', np.mean(final_data.TIME_total[final_data.beta==False]))\n",
    "print('');print('')\n",
    "\n",
    "sns.boxplot(x='beta_plot', y='TIME_total', data=final_data, dodge=False)\n",
    "sns.swarmplot(x='beta_plot', y='TIME_total', data=final_data, dodge=False, color='.2');"
   ],
   "cell_type": "code",
   "metadata": {},
   "execution_count": 81,
   "outputs": [
    {
     "output_type": "stream",
     "name": "stdout",
     "text": [
      "\n\nBattery Task Times:\n\n\nTesting Samplings:  13\nActual Samplings:   4\n\n\nTesting Mean:  20.384615384615383\nActual Mean:   18.5\n\n\n"
     ]
    },
    {
     "output_type": "display_data",
     "data": {
      "text/plain": "<Figure size 432x288 with 1 Axes>",
      "image/svg+xml": "<?xml version=\"1.0\" encoding=\"utf-8\" standalone=\"no\"?>\n<!DOCTYPE svg PUBLIC \"-//W3C//DTD SVG 1.1//EN\"\n  \"http://www.w3.org/Graphics/SVG/1.1/DTD/svg11.dtd\">\n<!-- Created with matplotlib (https://matplotlib.org/) -->\n<svg height=\"262.474375pt\" version=\"1.1\" viewBox=\"0 0 382.88125 262.474375\" width=\"382.88125pt\" xmlns=\"http://www.w3.org/2000/svg\" xmlns:xlink=\"http://www.w3.org/1999/xlink\">\n <metadata>\n  <rdf:RDF xmlns:cc=\"http://creativecommons.org/ns#\" xmlns:dc=\"http://purl.org/dc/elements/1.1/\" xmlns:rdf=\"http://www.w3.org/1999/02/22-rdf-syntax-ns#\">\n   <cc:Work>\n    <dc:type rdf:resource=\"http://purl.org/dc/dcmitype/StillImage\"/>\n    <dc:date>2021-05-17T20:37:15.012689</dc:date>\n    <dc:format>image/svg+xml</dc:format>\n    <dc:creator>\n     <cc:Agent>\n      <dc:title>Matplotlib v3.3.4, https://matplotlib.org/</dc:title>\n     </cc:Agent>\n    </dc:creator>\n   </cc:Work>\n  </rdf:RDF>\n </metadata>\n <defs>\n  <style type=\"text/css\">*{stroke-linecap:butt;stroke-linejoin:round;}</style>\n </defs>\n <g id=\"figure_1\">\n  <g id=\"patch_1\">\n   <path d=\"M 0 262.474375 \nL 382.88125 262.474375 \nL 382.88125 0 \nL 0 0 \nz\n\" style=\"fill:none;\"/>\n  </g>\n  <g id=\"axes_1\">\n   <g id=\"patch_2\">\n    <path d=\"M 40.88125 224.64 \nL 375.68125 224.64 \nL 375.68125 7.2 \nL 40.88125 7.2 \nz\n\" style=\"fill:#ffffff;\"/>\n   </g>\n   <g id=\"patch_3\">\n    <path clip-path=\"url(#p14c9f6aeb4)\" d=\"M 57.62125 196.786116 \nL 191.54125 196.786116 \nL 191.54125 178.815868 \nL 57.62125 178.815868 \nL 57.62125 196.786116 \nz\n\" style=\"fill:#3274a1;stroke:#3f3f3f;stroke-linejoin:miter;stroke-width:1.5;\"/>\n   </g>\n   <g id=\"patch_4\">\n    <path clip-path=\"url(#p14c9f6aeb4)\" d=\"M 225.02125 196.786116 \nL 358.94125 196.786116 \nL 358.94125 124.905124 \nL 225.02125 124.905124 \nL 225.02125 196.786116 \nz\n\" style=\"fill:#e1812c;stroke:#3f3f3f;stroke-linejoin:miter;stroke-width:1.5;\"/>\n   </g>\n   <g id=\"matplotlib.axis_1\">\n    <g id=\"xtick_1\">\n     <g id=\"line2d_1\">\n      <defs>\n       <path d=\"M 0 0 \nL 0 3.5 \n\" id=\"mc810be74d5\" style=\"stroke:#000000;stroke-width:0.8;\"/>\n      </defs>\n      <g>\n       <use style=\"stroke:#000000;stroke-width:0.8;\" x=\"124.58125\" xlink:href=\"#mc810be74d5\" y=\"224.64\"/>\n      </g>\n     </g>\n     <g id=\"text_1\">\n      <!-- Actual -->\n      <g transform=\"translate(108.917188 239.238438)scale(0.1 -0.1)\">\n       <defs>\n        <path d=\"M 34.1875 63.1875 \nL 20.796875 26.90625 \nL 47.609375 26.90625 \nz\nM 28.609375 72.90625 \nL 39.796875 72.90625 \nL 67.578125 0 \nL 57.328125 0 \nL 50.6875 18.703125 \nL 17.828125 18.703125 \nL 11.1875 0 \nL 0.78125 0 \nz\n\" id=\"DejaVuSans-65\"/>\n        <path d=\"M 48.78125 52.59375 \nL 48.78125 44.1875 \nQ 44.96875 46.296875 41.140625 47.34375 \nQ 37.3125 48.390625 33.40625 48.390625 \nQ 24.65625 48.390625 19.8125 42.84375 \nQ 14.984375 37.3125 14.984375 27.296875 \nQ 14.984375 17.28125 19.8125 11.734375 \nQ 24.65625 6.203125 33.40625 6.203125 \nQ 37.3125 6.203125 41.140625 7.25 \nQ 44.96875 8.296875 48.78125 10.40625 \nL 48.78125 2.09375 \nQ 45.015625 0.34375 40.984375 -0.53125 \nQ 36.96875 -1.421875 32.421875 -1.421875 \nQ 20.0625 -1.421875 12.78125 6.34375 \nQ 5.515625 14.109375 5.515625 27.296875 \nQ 5.515625 40.671875 12.859375 48.328125 \nQ 20.21875 56 33.015625 56 \nQ 37.15625 56 41.109375 55.140625 \nQ 45.0625 54.296875 48.78125 52.59375 \nz\n\" id=\"DejaVuSans-99\"/>\n        <path d=\"M 18.3125 70.21875 \nL 18.3125 54.6875 \nL 36.8125 54.6875 \nL 36.8125 47.703125 \nL 18.3125 47.703125 \nL 18.3125 18.015625 \nQ 18.3125 11.328125 20.140625 9.421875 \nQ 21.96875 7.515625 27.59375 7.515625 \nL 36.8125 7.515625 \nL 36.8125 0 \nL 27.59375 0 \nQ 17.1875 0 13.234375 3.875 \nQ 9.28125 7.765625 9.28125 18.015625 \nL 9.28125 47.703125 \nL 2.6875 47.703125 \nL 2.6875 54.6875 \nL 9.28125 54.6875 \nL 9.28125 70.21875 \nz\n\" id=\"DejaVuSans-116\"/>\n        <path d=\"M 8.5 21.578125 \nL 8.5 54.6875 \nL 17.484375 54.6875 \nL 17.484375 21.921875 \nQ 17.484375 14.15625 20.5 10.265625 \nQ 23.53125 6.390625 29.59375 6.390625 \nQ 36.859375 6.390625 41.078125 11.03125 \nQ 45.3125 15.671875 45.3125 23.6875 \nL 45.3125 54.6875 \nL 54.296875 54.6875 \nL 54.296875 0 \nL 45.3125 0 \nL 45.3125 8.40625 \nQ 42.046875 3.421875 37.71875 1 \nQ 33.40625 -1.421875 27.6875 -1.421875 \nQ 18.265625 -1.421875 13.375 4.4375 \nQ 8.5 10.296875 8.5 21.578125 \nz\nM 31.109375 56 \nz\n\" id=\"DejaVuSans-117\"/>\n        <path d=\"M 34.28125 27.484375 \nQ 23.390625 27.484375 19.1875 25 \nQ 14.984375 22.515625 14.984375 16.5 \nQ 14.984375 11.71875 18.140625 8.90625 \nQ 21.296875 6.109375 26.703125 6.109375 \nQ 34.1875 6.109375 38.703125 11.40625 \nQ 43.21875 16.703125 43.21875 25.484375 \nL 43.21875 27.484375 \nz\nM 52.203125 31.203125 \nL 52.203125 0 \nL 43.21875 0 \nL 43.21875 8.296875 \nQ 40.140625 3.328125 35.546875 0.953125 \nQ 30.953125 -1.421875 24.3125 -1.421875 \nQ 15.921875 -1.421875 10.953125 3.296875 \nQ 6 8.015625 6 15.921875 \nQ 6 25.140625 12.171875 29.828125 \nQ 18.359375 34.515625 30.609375 34.515625 \nL 43.21875 34.515625 \nL 43.21875 35.40625 \nQ 43.21875 41.609375 39.140625 45 \nQ 35.0625 48.390625 27.6875 48.390625 \nQ 23 48.390625 18.546875 47.265625 \nQ 14.109375 46.140625 10.015625 43.890625 \nL 10.015625 52.203125 \nQ 14.9375 54.109375 19.578125 55.046875 \nQ 24.21875 56 28.609375 56 \nQ 40.484375 56 46.34375 49.84375 \nQ 52.203125 43.703125 52.203125 31.203125 \nz\n\" id=\"DejaVuSans-97\"/>\n        <path d=\"M 9.421875 75.984375 \nL 18.40625 75.984375 \nL 18.40625 0 \nL 9.421875 0 \nz\n\" id=\"DejaVuSans-108\"/>\n       </defs>\n       <use xlink:href=\"#DejaVuSans-65\"/>\n       <use x=\"66.658203\" xlink:href=\"#DejaVuSans-99\"/>\n       <use x=\"121.638672\" xlink:href=\"#DejaVuSans-116\"/>\n       <use x=\"160.847656\" xlink:href=\"#DejaVuSans-117\"/>\n       <use x=\"224.226562\" xlink:href=\"#DejaVuSans-97\"/>\n       <use x=\"285.505859\" xlink:href=\"#DejaVuSans-108\"/>\n      </g>\n     </g>\n    </g>\n    <g id=\"xtick_2\">\n     <g id=\"line2d_2\">\n      <g>\n       <use style=\"stroke:#000000;stroke-width:0.8;\" x=\"291.98125\" xlink:href=\"#mc810be74d5\" y=\"224.64\"/>\n      </g>\n     </g>\n     <g id=\"text_2\">\n      <!-- Testing -->\n      <g transform=\"translate(274.403906 239.238438)scale(0.1 -0.1)\">\n       <defs>\n        <path d=\"M -0.296875 72.90625 \nL 61.375 72.90625 \nL 61.375 64.59375 \nL 35.5 64.59375 \nL 35.5 0 \nL 25.59375 0 \nL 25.59375 64.59375 \nL -0.296875 64.59375 \nz\n\" id=\"DejaVuSans-84\"/>\n        <path d=\"M 56.203125 29.59375 \nL 56.203125 25.203125 \nL 14.890625 25.203125 \nQ 15.484375 15.921875 20.484375 11.0625 \nQ 25.484375 6.203125 34.421875 6.203125 \nQ 39.59375 6.203125 44.453125 7.46875 \nQ 49.3125 8.734375 54.109375 11.28125 \nL 54.109375 2.78125 \nQ 49.265625 0.734375 44.1875 -0.34375 \nQ 39.109375 -1.421875 33.890625 -1.421875 \nQ 20.796875 -1.421875 13.15625 6.1875 \nQ 5.515625 13.8125 5.515625 26.8125 \nQ 5.515625 40.234375 12.765625 48.109375 \nQ 20.015625 56 32.328125 56 \nQ 43.359375 56 49.78125 48.890625 \nQ 56.203125 41.796875 56.203125 29.59375 \nz\nM 47.21875 32.234375 \nQ 47.125 39.59375 43.09375 43.984375 \nQ 39.0625 48.390625 32.421875 48.390625 \nQ 24.90625 48.390625 20.390625 44.140625 \nQ 15.875 39.890625 15.1875 32.171875 \nz\n\" id=\"DejaVuSans-101\"/>\n        <path d=\"M 44.28125 53.078125 \nL 44.28125 44.578125 \nQ 40.484375 46.53125 36.375 47.5 \nQ 32.28125 48.484375 27.875 48.484375 \nQ 21.1875 48.484375 17.84375 46.4375 \nQ 14.5 44.390625 14.5 40.28125 \nQ 14.5 37.15625 16.890625 35.375 \nQ 19.28125 33.59375 26.515625 31.984375 \nL 29.59375 31.296875 \nQ 39.15625 29.25 43.1875 25.515625 \nQ 47.21875 21.78125 47.21875 15.09375 \nQ 47.21875 7.46875 41.1875 3.015625 \nQ 35.15625 -1.421875 24.609375 -1.421875 \nQ 20.21875 -1.421875 15.453125 -0.5625 \nQ 10.6875 0.296875 5.421875 2 \nL 5.421875 11.28125 \nQ 10.40625 8.6875 15.234375 7.390625 \nQ 20.0625 6.109375 24.8125 6.109375 \nQ 31.15625 6.109375 34.5625 8.28125 \nQ 37.984375 10.453125 37.984375 14.40625 \nQ 37.984375 18.0625 35.515625 20.015625 \nQ 33.0625 21.96875 24.703125 23.78125 \nL 21.578125 24.515625 \nQ 13.234375 26.265625 9.515625 29.90625 \nQ 5.8125 33.546875 5.8125 39.890625 \nQ 5.8125 47.609375 11.28125 51.796875 \nQ 16.75 56 26.8125 56 \nQ 31.78125 56 36.171875 55.265625 \nQ 40.578125 54.546875 44.28125 53.078125 \nz\n\" id=\"DejaVuSans-115\"/>\n        <path d=\"M 9.421875 54.6875 \nL 18.40625 54.6875 \nL 18.40625 0 \nL 9.421875 0 \nz\nM 9.421875 75.984375 \nL 18.40625 75.984375 \nL 18.40625 64.59375 \nL 9.421875 64.59375 \nz\n\" id=\"DejaVuSans-105\"/>\n        <path d=\"M 54.890625 33.015625 \nL 54.890625 0 \nL 45.90625 0 \nL 45.90625 32.71875 \nQ 45.90625 40.484375 42.875 44.328125 \nQ 39.84375 48.1875 33.796875 48.1875 \nQ 26.515625 48.1875 22.3125 43.546875 \nQ 18.109375 38.921875 18.109375 30.90625 \nL 18.109375 0 \nL 9.078125 0 \nL 9.078125 54.6875 \nL 18.109375 54.6875 \nL 18.109375 46.1875 \nQ 21.34375 51.125 25.703125 53.5625 \nQ 30.078125 56 35.796875 56 \nQ 45.21875 56 50.046875 50.171875 \nQ 54.890625 44.34375 54.890625 33.015625 \nz\n\" id=\"DejaVuSans-110\"/>\n        <path d=\"M 45.40625 27.984375 \nQ 45.40625 37.75 41.375 43.109375 \nQ 37.359375 48.484375 30.078125 48.484375 \nQ 22.859375 48.484375 18.828125 43.109375 \nQ 14.796875 37.75 14.796875 27.984375 \nQ 14.796875 18.265625 18.828125 12.890625 \nQ 22.859375 7.515625 30.078125 7.515625 \nQ 37.359375 7.515625 41.375 12.890625 \nQ 45.40625 18.265625 45.40625 27.984375 \nz\nM 54.390625 6.78125 \nQ 54.390625 -7.171875 48.1875 -13.984375 \nQ 42 -20.796875 29.203125 -20.796875 \nQ 24.46875 -20.796875 20.265625 -20.09375 \nQ 16.0625 -19.390625 12.109375 -17.921875 \nL 12.109375 -9.1875 \nQ 16.0625 -11.328125 19.921875 -12.34375 \nQ 23.78125 -13.375 27.78125 -13.375 \nQ 36.625 -13.375 41.015625 -8.765625 \nQ 45.40625 -4.15625 45.40625 5.171875 \nL 45.40625 9.625 \nQ 42.625 4.78125 38.28125 2.390625 \nQ 33.9375 0 27.875 0 \nQ 17.828125 0 11.671875 7.65625 \nQ 5.515625 15.328125 5.515625 27.984375 \nQ 5.515625 40.671875 11.671875 48.328125 \nQ 17.828125 56 27.875 56 \nQ 33.9375 56 38.28125 53.609375 \nQ 42.625 51.21875 45.40625 46.390625 \nL 45.40625 54.6875 \nL 54.390625 54.6875 \nz\n\" id=\"DejaVuSans-103\"/>\n       </defs>\n       <use xlink:href=\"#DejaVuSans-84\"/>\n       <use x=\"44.083984\" xlink:href=\"#DejaVuSans-101\"/>\n       <use x=\"105.607422\" xlink:href=\"#DejaVuSans-115\"/>\n       <use x=\"157.707031\" xlink:href=\"#DejaVuSans-116\"/>\n       <use x=\"196.916016\" xlink:href=\"#DejaVuSans-105\"/>\n       <use x=\"224.699219\" xlink:href=\"#DejaVuSans-110\"/>\n       <use x=\"288.078125\" xlink:href=\"#DejaVuSans-103\"/>\n      </g>\n     </g>\n    </g>\n    <g id=\"text_3\">\n     <!-- beta_plot -->\n     <g transform=\"translate(184.923438 252.916562)scale(0.1 -0.1)\">\n      <defs>\n       <path d=\"M 48.6875 27.296875 \nQ 48.6875 37.203125 44.609375 42.84375 \nQ 40.53125 48.484375 33.40625 48.484375 \nQ 26.265625 48.484375 22.1875 42.84375 \nQ 18.109375 37.203125 18.109375 27.296875 \nQ 18.109375 17.390625 22.1875 11.75 \nQ 26.265625 6.109375 33.40625 6.109375 \nQ 40.53125 6.109375 44.609375 11.75 \nQ 48.6875 17.390625 48.6875 27.296875 \nz\nM 18.109375 46.390625 \nQ 20.953125 51.265625 25.265625 53.625 \nQ 29.59375 56 35.59375 56 \nQ 45.5625 56 51.78125 48.09375 \nQ 58.015625 40.1875 58.015625 27.296875 \nQ 58.015625 14.40625 51.78125 6.484375 \nQ 45.5625 -1.421875 35.59375 -1.421875 \nQ 29.59375 -1.421875 25.265625 0.953125 \nQ 20.953125 3.328125 18.109375 8.203125 \nL 18.109375 0 \nL 9.078125 0 \nL 9.078125 75.984375 \nL 18.109375 75.984375 \nz\n\" id=\"DejaVuSans-98\"/>\n       <path d=\"M 50.984375 -16.609375 \nL 50.984375 -23.578125 \nL -0.984375 -23.578125 \nL -0.984375 -16.609375 \nz\n\" id=\"DejaVuSans-95\"/>\n       <path d=\"M 18.109375 8.203125 \nL 18.109375 -20.796875 \nL 9.078125 -20.796875 \nL 9.078125 54.6875 \nL 18.109375 54.6875 \nL 18.109375 46.390625 \nQ 20.953125 51.265625 25.265625 53.625 \nQ 29.59375 56 35.59375 56 \nQ 45.5625 56 51.78125 48.09375 \nQ 58.015625 40.1875 58.015625 27.296875 \nQ 58.015625 14.40625 51.78125 6.484375 \nQ 45.5625 -1.421875 35.59375 -1.421875 \nQ 29.59375 -1.421875 25.265625 0.953125 \nQ 20.953125 3.328125 18.109375 8.203125 \nz\nM 48.6875 27.296875 \nQ 48.6875 37.203125 44.609375 42.84375 \nQ 40.53125 48.484375 33.40625 48.484375 \nQ 26.265625 48.484375 22.1875 42.84375 \nQ 18.109375 37.203125 18.109375 27.296875 \nQ 18.109375 17.390625 22.1875 11.75 \nQ 26.265625 6.109375 33.40625 6.109375 \nQ 40.53125 6.109375 44.609375 11.75 \nQ 48.6875 17.390625 48.6875 27.296875 \nz\n\" id=\"DejaVuSans-112\"/>\n       <path d=\"M 30.609375 48.390625 \nQ 23.390625 48.390625 19.1875 42.75 \nQ 14.984375 37.109375 14.984375 27.296875 \nQ 14.984375 17.484375 19.15625 11.84375 \nQ 23.34375 6.203125 30.609375 6.203125 \nQ 37.796875 6.203125 41.984375 11.859375 \nQ 46.1875 17.53125 46.1875 27.296875 \nQ 46.1875 37.015625 41.984375 42.703125 \nQ 37.796875 48.390625 30.609375 48.390625 \nz\nM 30.609375 56 \nQ 42.328125 56 49.015625 48.375 \nQ 55.71875 40.765625 55.71875 27.296875 \nQ 55.71875 13.875 49.015625 6.21875 \nQ 42.328125 -1.421875 30.609375 -1.421875 \nQ 18.84375 -1.421875 12.171875 6.21875 \nQ 5.515625 13.875 5.515625 27.296875 \nQ 5.515625 40.765625 12.171875 48.375 \nQ 18.84375 56 30.609375 56 \nz\n\" id=\"DejaVuSans-111\"/>\n      </defs>\n      <use xlink:href=\"#DejaVuSans-98\"/>\n      <use x=\"63.476562\" xlink:href=\"#DejaVuSans-101\"/>\n      <use x=\"125\" xlink:href=\"#DejaVuSans-116\"/>\n      <use x=\"164.208984\" xlink:href=\"#DejaVuSans-97\"/>\n      <use x=\"225.488281\" xlink:href=\"#DejaVuSans-95\"/>\n      <use x=\"275.488281\" xlink:href=\"#DejaVuSans-112\"/>\n      <use x=\"338.964844\" xlink:href=\"#DejaVuSans-108\"/>\n      <use x=\"366.748047\" xlink:href=\"#DejaVuSans-111\"/>\n      <use x=\"427.929688\" xlink:href=\"#DejaVuSans-116\"/>\n     </g>\n    </g>\n   </g>\n   <g id=\"matplotlib.axis_2\">\n    <g id=\"ytick_1\">\n     <g id=\"line2d_3\">\n      <defs>\n       <path d=\"M 0 0 \nL -3.5 0 \n\" id=\"m2a48ccd530\" style=\"stroke:#000000;stroke-width:0.8;\"/>\n      </defs>\n      <g>\n       <use style=\"stroke:#000000;stroke-width:0.8;\" x=\"40.88125\" xlink:href=\"#m2a48ccd530\" y=\"196.786116\"/>\n      </g>\n     </g>\n     <g id=\"text_4\">\n      <!-- 18 -->\n      <g transform=\"translate(21.15625 200.585334)scale(0.1 -0.1)\">\n       <defs>\n        <path d=\"M 12.40625 8.296875 \nL 28.515625 8.296875 \nL 28.515625 63.921875 \nL 10.984375 60.40625 \nL 10.984375 69.390625 \nL 28.421875 72.90625 \nL 38.28125 72.90625 \nL 38.28125 8.296875 \nL 54.390625 8.296875 \nL 54.390625 0 \nL 12.40625 0 \nz\n\" id=\"DejaVuSans-49\"/>\n        <path d=\"M 31.78125 34.625 \nQ 24.75 34.625 20.71875 30.859375 \nQ 16.703125 27.09375 16.703125 20.515625 \nQ 16.703125 13.921875 20.71875 10.15625 \nQ 24.75 6.390625 31.78125 6.390625 \nQ 38.8125 6.390625 42.859375 10.171875 \nQ 46.921875 13.96875 46.921875 20.515625 \nQ 46.921875 27.09375 42.890625 30.859375 \nQ 38.875 34.625 31.78125 34.625 \nz\nM 21.921875 38.8125 \nQ 15.578125 40.375 12.03125 44.71875 \nQ 8.5 49.078125 8.5 55.328125 \nQ 8.5 64.0625 14.71875 69.140625 \nQ 20.953125 74.21875 31.78125 74.21875 \nQ 42.671875 74.21875 48.875 69.140625 \nQ 55.078125 64.0625 55.078125 55.328125 \nQ 55.078125 49.078125 51.53125 44.71875 \nQ 48 40.375 41.703125 38.8125 \nQ 48.828125 37.15625 52.796875 32.3125 \nQ 56.78125 27.484375 56.78125 20.515625 \nQ 56.78125 9.90625 50.3125 4.234375 \nQ 43.84375 -1.421875 31.78125 -1.421875 \nQ 19.734375 -1.421875 13.25 4.234375 \nQ 6.78125 9.90625 6.78125 20.515625 \nQ 6.78125 27.484375 10.78125 32.3125 \nQ 14.796875 37.15625 21.921875 38.8125 \nz\nM 18.3125 54.390625 \nQ 18.3125 48.734375 21.84375 45.5625 \nQ 25.390625 42.390625 31.78125 42.390625 \nQ 38.140625 42.390625 41.71875 45.5625 \nQ 45.3125 48.734375 45.3125 54.390625 \nQ 45.3125 60.0625 41.71875 63.234375 \nQ 38.140625 66.40625 31.78125 66.40625 \nQ 25.390625 66.40625 21.84375 63.234375 \nQ 18.3125 60.0625 18.3125 54.390625 \nz\n\" id=\"DejaVuSans-56\"/>\n       </defs>\n       <use xlink:href=\"#DejaVuSans-49\"/>\n       <use x=\"63.623047\" xlink:href=\"#DejaVuSans-56\"/>\n      </g>\n     </g>\n    </g>\n    <g id=\"ytick_2\">\n     <g id=\"line2d_4\">\n      <g>\n       <use style=\"stroke:#000000;stroke-width:0.8;\" x=\"40.88125\" xlink:href=\"#m2a48ccd530\" y=\"160.84562\"/>\n      </g>\n     </g>\n     <g id=\"text_5\">\n      <!-- 20 -->\n      <g transform=\"translate(21.15625 164.644839)scale(0.1 -0.1)\">\n       <defs>\n        <path d=\"M 19.1875 8.296875 \nL 53.609375 8.296875 \nL 53.609375 0 \nL 7.328125 0 \nL 7.328125 8.296875 \nQ 12.9375 14.109375 22.625 23.890625 \nQ 32.328125 33.6875 34.8125 36.53125 \nQ 39.546875 41.84375 41.421875 45.53125 \nQ 43.3125 49.21875 43.3125 52.78125 \nQ 43.3125 58.59375 39.234375 62.25 \nQ 35.15625 65.921875 28.609375 65.921875 \nQ 23.96875 65.921875 18.8125 64.3125 \nQ 13.671875 62.703125 7.8125 59.421875 \nL 7.8125 69.390625 \nQ 13.765625 71.78125 18.9375 73 \nQ 24.125 74.21875 28.421875 74.21875 \nQ 39.75 74.21875 46.484375 68.546875 \nQ 53.21875 62.890625 53.21875 53.421875 \nQ 53.21875 48.921875 51.53125 44.890625 \nQ 49.859375 40.875 45.40625 35.40625 \nQ 44.1875 33.984375 37.640625 27.21875 \nQ 31.109375 20.453125 19.1875 8.296875 \nz\n\" id=\"DejaVuSans-50\"/>\n        <path d=\"M 31.78125 66.40625 \nQ 24.171875 66.40625 20.328125 58.90625 \nQ 16.5 51.421875 16.5 36.375 \nQ 16.5 21.390625 20.328125 13.890625 \nQ 24.171875 6.390625 31.78125 6.390625 \nQ 39.453125 6.390625 43.28125 13.890625 \nQ 47.125 21.390625 47.125 36.375 \nQ 47.125 51.421875 43.28125 58.90625 \nQ 39.453125 66.40625 31.78125 66.40625 \nz\nM 31.78125 74.21875 \nQ 44.046875 74.21875 50.515625 64.515625 \nQ 56.984375 54.828125 56.984375 36.375 \nQ 56.984375 17.96875 50.515625 8.265625 \nQ 44.046875 -1.421875 31.78125 -1.421875 \nQ 19.53125 -1.421875 13.0625 8.265625 \nQ 6.59375 17.96875 6.59375 36.375 \nQ 6.59375 54.828125 13.0625 64.515625 \nQ 19.53125 74.21875 31.78125 74.21875 \nz\n\" id=\"DejaVuSans-48\"/>\n       </defs>\n       <use xlink:href=\"#DejaVuSans-50\"/>\n       <use x=\"63.623047\" xlink:href=\"#DejaVuSans-48\"/>\n      </g>\n     </g>\n    </g>\n    <g id=\"ytick_3\">\n     <g id=\"line2d_5\">\n      <g>\n       <use style=\"stroke:#000000;stroke-width:0.8;\" x=\"40.88125\" xlink:href=\"#m2a48ccd530\" y=\"124.905124\"/>\n      </g>\n     </g>\n     <g id=\"text_6\">\n      <!-- 22 -->\n      <g transform=\"translate(21.15625 128.704343)scale(0.1 -0.1)\">\n       <use xlink:href=\"#DejaVuSans-50\"/>\n       <use x=\"63.623047\" xlink:href=\"#DejaVuSans-50\"/>\n      </g>\n     </g>\n    </g>\n    <g id=\"ytick_4\">\n     <g id=\"line2d_6\">\n      <g>\n       <use style=\"stroke:#000000;stroke-width:0.8;\" x=\"40.88125\" xlink:href=\"#m2a48ccd530\" y=\"88.964628\"/>\n      </g>\n     </g>\n     <g id=\"text_7\">\n      <!-- 24 -->\n      <g transform=\"translate(21.15625 92.763847)scale(0.1 -0.1)\">\n       <defs>\n        <path d=\"M 37.796875 64.3125 \nL 12.890625 25.390625 \nL 37.796875 25.390625 \nz\nM 35.203125 72.90625 \nL 47.609375 72.90625 \nL 47.609375 25.390625 \nL 58.015625 25.390625 \nL 58.015625 17.1875 \nL 47.609375 17.1875 \nL 47.609375 0 \nL 37.796875 0 \nL 37.796875 17.1875 \nL 4.890625 17.1875 \nL 4.890625 26.703125 \nz\n\" id=\"DejaVuSans-52\"/>\n       </defs>\n       <use xlink:href=\"#DejaVuSans-50\"/>\n       <use x=\"63.623047\" xlink:href=\"#DejaVuSans-52\"/>\n      </g>\n     </g>\n    </g>\n    <g id=\"ytick_5\">\n     <g id=\"line2d_7\">\n      <g>\n       <use style=\"stroke:#000000;stroke-width:0.8;\" x=\"40.88125\" xlink:href=\"#m2a48ccd530\" y=\"53.024132\"/>\n      </g>\n     </g>\n     <g id=\"text_8\">\n      <!-- 26 -->\n      <g transform=\"translate(21.15625 56.823351)scale(0.1 -0.1)\">\n       <defs>\n        <path d=\"M 33.015625 40.375 \nQ 26.375 40.375 22.484375 35.828125 \nQ 18.609375 31.296875 18.609375 23.390625 \nQ 18.609375 15.53125 22.484375 10.953125 \nQ 26.375 6.390625 33.015625 6.390625 \nQ 39.65625 6.390625 43.53125 10.953125 \nQ 47.40625 15.53125 47.40625 23.390625 \nQ 47.40625 31.296875 43.53125 35.828125 \nQ 39.65625 40.375 33.015625 40.375 \nz\nM 52.59375 71.296875 \nL 52.59375 62.3125 \nQ 48.875 64.0625 45.09375 64.984375 \nQ 41.3125 65.921875 37.59375 65.921875 \nQ 27.828125 65.921875 22.671875 59.328125 \nQ 17.53125 52.734375 16.796875 39.40625 \nQ 19.671875 43.65625 24.015625 45.921875 \nQ 28.375 48.1875 33.59375 48.1875 \nQ 44.578125 48.1875 50.953125 41.515625 \nQ 57.328125 34.859375 57.328125 23.390625 \nQ 57.328125 12.15625 50.6875 5.359375 \nQ 44.046875 -1.421875 33.015625 -1.421875 \nQ 20.359375 -1.421875 13.671875 8.265625 \nQ 6.984375 17.96875 6.984375 36.375 \nQ 6.984375 53.65625 15.1875 63.9375 \nQ 23.390625 74.21875 37.203125 74.21875 \nQ 40.921875 74.21875 44.703125 73.484375 \nQ 48.484375 72.75 52.59375 71.296875 \nz\n\" id=\"DejaVuSans-54\"/>\n       </defs>\n       <use xlink:href=\"#DejaVuSans-50\"/>\n       <use x=\"63.623047\" xlink:href=\"#DejaVuSans-54\"/>\n      </g>\n     </g>\n    </g>\n    <g id=\"ytick_6\">\n     <g id=\"line2d_8\">\n      <g>\n       <use style=\"stroke:#000000;stroke-width:0.8;\" x=\"40.88125\" xlink:href=\"#m2a48ccd530\" y=\"17.083636\"/>\n      </g>\n     </g>\n     <g id=\"text_9\">\n      <!-- 28 -->\n      <g transform=\"translate(21.15625 20.882855)scale(0.1 -0.1)\">\n       <use xlink:href=\"#DejaVuSans-50\"/>\n       <use x=\"63.623047\" xlink:href=\"#DejaVuSans-56\"/>\n      </g>\n     </g>\n    </g>\n    <g id=\"text_10\">\n     <!-- TIME_total -->\n     <g transform=\"translate(14.798438 141.855156)rotate(-90)scale(0.1 -0.1)\">\n      <defs>\n       <path d=\"M 9.8125 72.90625 \nL 19.671875 72.90625 \nL 19.671875 0 \nL 9.8125 0 \nz\n\" id=\"DejaVuSans-73\"/>\n       <path d=\"M 9.8125 72.90625 \nL 24.515625 72.90625 \nL 43.109375 23.296875 \nL 61.8125 72.90625 \nL 76.515625 72.90625 \nL 76.515625 0 \nL 66.890625 0 \nL 66.890625 64.015625 \nL 48.09375 14.015625 \nL 38.1875 14.015625 \nL 19.390625 64.015625 \nL 19.390625 0 \nL 9.8125 0 \nz\n\" id=\"DejaVuSans-77\"/>\n       <path d=\"M 9.8125 72.90625 \nL 55.90625 72.90625 \nL 55.90625 64.59375 \nL 19.671875 64.59375 \nL 19.671875 43.015625 \nL 54.390625 43.015625 \nL 54.390625 34.71875 \nL 19.671875 34.71875 \nL 19.671875 8.296875 \nL 56.78125 8.296875 \nL 56.78125 0 \nL 9.8125 0 \nz\n\" id=\"DejaVuSans-69\"/>\n      </defs>\n      <use xlink:href=\"#DejaVuSans-84\"/>\n      <use x=\"61.083984\" xlink:href=\"#DejaVuSans-73\"/>\n      <use x=\"90.576172\" xlink:href=\"#DejaVuSans-77\"/>\n      <use x=\"176.855469\" xlink:href=\"#DejaVuSans-69\"/>\n      <use x=\"240.039062\" xlink:href=\"#DejaVuSans-95\"/>\n      <use x=\"290.039062\" xlink:href=\"#DejaVuSans-116\"/>\n      <use x=\"329.248047\" xlink:href=\"#DejaVuSans-111\"/>\n      <use x=\"390.429688\" xlink:href=\"#DejaVuSans-116\"/>\n      <use x=\"429.638672\" xlink:href=\"#DejaVuSans-97\"/>\n      <use x=\"490.917969\" xlink:href=\"#DejaVuSans-108\"/>\n     </g>\n    </g>\n   </g>\n   <g id=\"line2d_9\">\n    <path clip-path=\"url(#p14c9f6aeb4)\" d=\"M 124.58125 196.786116 \nL 124.58125 196.786116 \n\" style=\"fill:none;stroke:#3f3f3f;stroke-linecap:square;stroke-width:1.5;\"/>\n   </g>\n   <g id=\"line2d_10\">\n    <path clip-path=\"url(#p14c9f6aeb4)\" d=\"M 124.58125 178.815868 \nL 124.58125 178.815868 \n\" style=\"fill:none;stroke:#3f3f3f;stroke-linecap:square;stroke-width:1.5;\"/>\n   </g>\n   <g id=\"line2d_11\">\n    <path clip-path=\"url(#p14c9f6aeb4)\" d=\"M 91.10125 196.786116 \nL 158.06125 196.786116 \n\" style=\"fill:none;stroke:#3f3f3f;stroke-linecap:square;stroke-width:1.5;\"/>\n   </g>\n   <g id=\"line2d_12\">\n    <path clip-path=\"url(#p14c9f6aeb4)\" d=\"M 91.10125 178.815868 \nL 158.06125 178.815868 \n\" style=\"fill:none;stroke:#3f3f3f;stroke-linecap:square;stroke-width:1.5;\"/>\n   </g>\n   <g id=\"line2d_13\"/>\n   <g id=\"line2d_14\">\n    <path clip-path=\"url(#p14c9f6aeb4)\" d=\"M 291.98125 196.786116 \nL 291.98125 214.756364 \n\" style=\"fill:none;stroke:#3f3f3f;stroke-linecap:square;stroke-width:1.5;\"/>\n   </g>\n   <g id=\"line2d_15\">\n    <path clip-path=\"url(#p14c9f6aeb4)\" d=\"M 291.98125 124.905124 \nL 291.98125 17.083636 \n\" style=\"fill:none;stroke:#3f3f3f;stroke-linecap:square;stroke-width:1.5;\"/>\n   </g>\n   <g id=\"line2d_16\">\n    <path clip-path=\"url(#p14c9f6aeb4)\" d=\"M 258.50125 214.756364 \nL 325.46125 214.756364 \n\" style=\"fill:none;stroke:#3f3f3f;stroke-linecap:square;stroke-width:1.5;\"/>\n   </g>\n   <g id=\"line2d_17\">\n    <path clip-path=\"url(#p14c9f6aeb4)\" d=\"M 258.50125 17.083636 \nL 325.46125 17.083636 \n\" style=\"fill:none;stroke:#3f3f3f;stroke-linecap:square;stroke-width:1.5;\"/>\n   </g>\n   <g id=\"line2d_18\"/>\n   <g id=\"line2d_19\">\n    <path clip-path=\"url(#p14c9f6aeb4)\" d=\"M 57.62125 187.800992 \nL 191.54125 187.800992 \n\" style=\"fill:none;stroke:#3f3f3f;stroke-linecap:square;stroke-width:1.5;\"/>\n   </g>\n   <g id=\"line2d_20\">\n    <path clip-path=\"url(#p14c9f6aeb4)\" d=\"M 225.02125 178.815868 \nL 358.94125 178.815868 \n\" style=\"fill:none;stroke:#3f3f3f;stroke-linecap:square;stroke-width:1.5;\"/>\n   </g>\n   <g id=\"patch_5\">\n    <path d=\"M 40.88125 224.64 \nL 40.88125 7.2 \n\" style=\"fill:none;stroke:#000000;stroke-linecap:square;stroke-linejoin:miter;stroke-width:0.8;\"/>\n   </g>\n   <g id=\"patch_6\">\n    <path d=\"M 375.68125 224.64 \nL 375.68125 7.2 \n\" style=\"fill:none;stroke:#000000;stroke-linecap:square;stroke-linejoin:miter;stroke-width:0.8;\"/>\n   </g>\n   <g id=\"patch_7\">\n    <path d=\"M 40.88125 224.64 \nL 375.68125 224.64 \n\" style=\"fill:none;stroke:#000000;stroke-linecap:square;stroke-linejoin:miter;stroke-width:0.8;\"/>\n   </g>\n   <g id=\"patch_8\">\n    <path d=\"M 40.88125 7.2 \nL 375.68125 7.2 \n\" style=\"fill:none;stroke:#000000;stroke-linecap:square;stroke-linejoin:miter;stroke-width:0.8;\"/>\n   </g>\n   <g id=\"PathCollection_1\">\n    <defs>\n     <path d=\"M 0 2.5 \nC 0.663008 2.5 1.29895 2.236584 1.767767 1.767767 \nC 2.236584 1.29895 2.5 0.663008 2.5 -0 \nC 2.5 -0.663008 2.236584 -1.29895 1.767767 -1.767767 \nC 1.29895 -2.236584 0.663008 -2.5 0 -2.5 \nC -0.663008 -2.5 -1.29895 -2.236584 -1.767767 -1.767767 \nC -2.236584 -1.29895 -2.5 -0.663008 -2.5 0 \nC -2.5 0.663008 -2.236584 1.29895 -1.767767 1.767767 \nC -1.29895 2.236584 -0.663008 2.5 0 2.5 \nz\n\" id=\"C0_0_77d1ff9e9f\"/>\n    </defs>\n    <g clip-path=\"url(#p14c9f6aeb4)\">\n     <use style=\"fill:#333333;\" x=\"124.58125\" xlink:href=\"#C0_0_77d1ff9e9f\" y=\"196.786116\"/>\n    </g>\n    <g clip-path=\"url(#p14c9f6aeb4)\">\n     <use style=\"fill:#333333;\" x=\"119.33125\" xlink:href=\"#C0_0_77d1ff9e9f\" y=\"196.786116\"/>\n    </g>\n    <g clip-path=\"url(#p14c9f6aeb4)\">\n     <use style=\"fill:#333333;\" x=\"124.58125\" xlink:href=\"#C0_0_77d1ff9e9f\" y=\"178.815868\"/>\n    </g>\n    <g clip-path=\"url(#p14c9f6aeb4)\">\n     <use style=\"fill:#333333;\" x=\"119.33125\" xlink:href=\"#C0_0_77d1ff9e9f\" y=\"178.815868\"/>\n    </g>\n   </g>\n   <g id=\"PathCollection_2\">\n    <defs>\n     <path d=\"M 0 2.5 \nC 0.663008 2.5 1.29895 2.236584 1.767767 1.767767 \nC 2.236584 1.29895 2.5 0.663008 2.5 -0 \nC 2.5 -0.663008 2.236584 -1.29895 1.767767 -1.767767 \nC 1.29895 -2.236584 0.663008 -2.5 0 -2.5 \nC -0.663008 -2.5 -1.29895 -2.236584 -1.767767 -1.767767 \nC -2.236584 -1.29895 -2.5 -0.663008 -2.5 0 \nC -2.5 0.663008 -2.236584 1.29895 -1.767767 1.767767 \nC -1.29895 2.236584 -0.663008 2.5 0 2.5 \nz\n\" id=\"C1_0_3145ac4570\"/>\n    </defs>\n    <g clip-path=\"url(#p14c9f6aeb4)\">\n     <use style=\"fill:#333333;\" x=\"291.98125\" xlink:href=\"#C1_0_3145ac4570\" y=\"214.756364\"/>\n    </g>\n    <g clip-path=\"url(#p14c9f6aeb4)\">\n     <use style=\"fill:#333333;\" x=\"286.73125\" xlink:href=\"#C1_0_3145ac4570\" y=\"214.756364\"/>\n    </g>\n    <g clip-path=\"url(#p14c9f6aeb4)\">\n     <use style=\"fill:#333333;\" x=\"291.98125\" xlink:href=\"#C1_0_3145ac4570\" y=\"196.786116\"/>\n    </g>\n    <g clip-path=\"url(#p14c9f6aeb4)\">\n     <use style=\"fill:#333333;\" x=\"286.73125\" xlink:href=\"#C1_0_3145ac4570\" y=\"196.786116\"/>\n    </g>\n    <g clip-path=\"url(#p14c9f6aeb4)\">\n     <use style=\"fill:#333333;\" x=\"297.23125\" xlink:href=\"#C1_0_3145ac4570\" y=\"196.786116\"/>\n    </g>\n    <g clip-path=\"url(#p14c9f6aeb4)\">\n     <use style=\"fill:#333333;\" x=\"291.98125\" xlink:href=\"#C1_0_3145ac4570\" y=\"178.815868\"/>\n    </g>\n    <g clip-path=\"url(#p14c9f6aeb4)\">\n     <use style=\"fill:#333333;\" x=\"286.73125\" xlink:href=\"#C1_0_3145ac4570\" y=\"178.815868\"/>\n    </g>\n    <g clip-path=\"url(#p14c9f6aeb4)\">\n     <use style=\"fill:#333333;\" x=\"297.23125\" xlink:href=\"#C1_0_3145ac4570\" y=\"178.815868\"/>\n    </g>\n    <g clip-path=\"url(#p14c9f6aeb4)\">\n     <use style=\"fill:#333333;\" x=\"291.98125\" xlink:href=\"#C1_0_3145ac4570\" y=\"142.875372\"/>\n    </g>\n    <g clip-path=\"url(#p14c9f6aeb4)\">\n     <use style=\"fill:#333333;\" x=\"291.98125\" xlink:href=\"#C1_0_3145ac4570\" y=\"124.905124\"/>\n    </g>\n    <g clip-path=\"url(#p14c9f6aeb4)\">\n     <use style=\"fill:#333333;\" x=\"291.98125\" xlink:href=\"#C1_0_3145ac4570\" y=\"88.964628\"/>\n    </g>\n    <g clip-path=\"url(#p14c9f6aeb4)\">\n     <use style=\"fill:#333333;\" x=\"291.98125\" xlink:href=\"#C1_0_3145ac4570\" y=\"70.99438\"/>\n    </g>\n    <g clip-path=\"url(#p14c9f6aeb4)\">\n     <use style=\"fill:#333333;\" x=\"291.98125\" xlink:href=\"#C1_0_3145ac4570\" y=\"17.083636\"/>\n    </g>\n   </g>\n  </g>\n </g>\n <defs>\n  <clipPath id=\"p14c9f6aeb4\">\n   <rect height=\"217.44\" width=\"334.8\" x=\"40.88125\" y=\"7.2\"/>\n  </clipPath>\n </defs>\n</svg>\n",
      "image/png": "[encoded data removed]"
     },
     "metadata": {
      "needs_background": "light"
     }
    }
   ]
  }
 ]
}
{
 "metadata": {
  "language_info": {
   "codemirror_mode": {
    "name": "ipython",
    "version": 3
   },
   "file_extension": ".py",
   "mimetype": "text/x-python",
   "name": "python",
   "nbconvert_exporter": "python",
   "pygments_lexer": "ipython3",
   "version": "3.8.8"
  },
  "orig_nbformat": 2,
  "kernelspec": {
   "name": "python388jvsc74a57bd00bdb1145a6394107ddd55d824c4d0e411e79cd19a6286b1018600d724ae6ee81",
   "display_name": "Python 3.8.8 64-bit ('dynocog': conda)"
  }
 },
 "nbformat": 4,
 "nbformat_minor": 2,
 "cells": [
  {
   "source": [
    "# Concatenate Raw Data\n",
    "\n",
    "Psytoolkit's data management appears unreliable, as such all downloaded data should be stored both locally & on Git (without assuming the Psytoolkit portal will maintain these files).\n",
    "\n",
    "This notebook processes many data files:\n",
    "\n",
    "- Read all subfiles\n",
    "- Identify unique participant codes (experiments)\n",
    "- Return a table to map to all unique experiments\n",
    "\n",
    "\n",
    "This notebook is also used to consider the distribution of times for estimating cost on Amazon Mechanical Turk.\n",
    "\n",
    "\n",
    "```\n",
    "author: Zach Wolpe\n",
    "email:  zachcolinwolpe@gmail.com\n",
    "```"
   ],
   "cell_type": "markdown",
   "metadata": {}
  },
  {
   "cell_type": "code",
   "execution_count": 1,
   "metadata": {},
   "outputs": [],
   "source": [
    "import pandas as pd\n",
    "import os"
   ]
  },
  {
   "source": [
    "# Identify Unique Paths\n",
    "\n",
    "Here we indentify all unique experiments & produce a dataframe to "
   ],
   "cell_type": "markdown",
   "metadata": {}
  },
  {
   "cell_type": "code",
   "execution_count": 134,
   "metadata": {},
   "outputs": [
    {
     "output_type": "execute_result",
     "data": {
      "text/plain": [
       "                                  participant  participant_code  \\\n",
       "0  s.32ff642a-efe0-436f-8075-fa703d677fed.txt               NaN   \n",
       "1  s.88be81bb-b23f-4c34-b7ad-18cce2be5cb9.txt               NaN   \n",
       "2  s.c6ad6698-4f59-4753-9ae9-6f8d562c5fe1.txt               NaN   \n",
       "3  s.d3b74af9-3b24-4820-83a0-67986b3ec0bf.txt               NaN   \n",
       "4  s.32ff642a-efe0-436f-8075-fa703d677fed.txt               NaN   \n",
       "\n",
       "   Welcome_Screen  wcst_task  n_back_task  corsi_block_span_task  fitts_law  \\\n",
       "0             NaN        NaN          NaN                    NaN        NaN   \n",
       "1             NaN        NaN          NaN                    NaN        NaN   \n",
       "2             NaN        NaN          NaN                    NaN        NaN   \n",
       "3             NaN        NaN          NaN                    NaN        NaN   \n",
       "4             NaN        NaN          NaN                    NaN        NaN   \n",
       "\n",
       "   navon_task  INFOSCREEN        TIME_start          TIME_end  TIME_total  \\\n",
       "0         NaN           0  2021-05-01-15-50  2021-05-01-16-09        19.0   \n",
       "1         NaN           0  2021-05-13-15-43               NaN         NaN   \n",
       "2         NaN           0  2021-05-12-15-03               NaN         NaN   \n",
       "3         NaN           0  2021-05-10-06-39  2021-05-10-06-57        18.0   \n",
       "4         NaN           0  2021-05-01-15-50  2021-05-01-16-09        19.0   \n",
       "\n",
       "                                 path   beta  \n",
       "0  ../data/all data files/data 17 May  False  \n",
       "1  ../data/all data files/data 17 May  False  \n",
       "2  ../data/all data files/data 17 May  False  \n",
       "3  ../data/all data files/data 17 May  False  \n",
       "4  ../data/all data files/data 16 May  False  "
      ],
      "text/html": "<div>\n<style scoped>\n    .dataframe tbody tr th:only-of-type {\n        vertical-align: middle;\n    }\n\n    .dataframe tbody tr th {\n        vertical-align: top;\n    }\n\n    .dataframe thead th {\n        text-align: right;\n    }\n</style>\n<table border=\"1\" class=\"dataframe\">\n  <thead>\n    <tr style=\"text-align: right;\">\n      <th></th>\n      <th>participant</th>\n      <th>participant_code</th>\n      <th>Welcome_Screen</th>\n      <th>wcst_task</th>\n      <th>n_back_task</th>\n      <th>corsi_block_span_task</th>\n      <th>fitts_law</th>\n      <th>navon_task</th>\n      <th>INFOSCREEN</th>\n      <th>TIME_start</th>\n      <th>TIME_end</th>\n      <th>TIME_total</th>\n      <th>path</th>\n      <th>beta</th>\n    </tr>\n  </thead>\n  <tbody>\n    <tr>\n      <th>0</th>\n      <td>s.32ff642a-efe0-436f-8075-fa703d677fed.txt</td>\n      <td>NaN</td>\n      <td>NaN</td>\n      <td>NaN</td>\n      <td>NaN</td>\n      <td>NaN</td>\n      <td>NaN</td>\n      <td>NaN</td>\n      <td>0</td>\n      <td>2021-05-01-15-50</td>\n      <td>2021-05-01-16-09</td>\n      <td>19.0</td>\n      <td>../data/all data files/data 17 May</td>\n      <td>False</td>\n    </tr>\n    <tr>\n      <th>1</th>\n      <td>s.88be81bb-b23f-4c34-b7ad-18cce2be5cb9.txt</td>\n      <td>NaN</td>\n      <td>NaN</td>\n      <td>NaN</td>\n      <td>NaN</td>\n      <td>NaN</td>\n      <td>NaN</td>\n      <td>NaN</td>\n      <td>0</td>\n      <td>2021-05-13-15-43</td>\n      <td>NaN</td>\n      <td>NaN</td>\n      <td>../data/all data files/data 17 May</td>\n      <td>False</td>\n    </tr>\n    <tr>\n      <th>2</th>\n      <td>s.c6ad6698-4f59-4753-9ae9-6f8d562c5fe1.txt</td>\n      <td>NaN</td>\n      <td>NaN</td>\n      <td>NaN</td>\n      <td>NaN</td>\n      <td>NaN</td>\n      <td>NaN</td>\n      <td>NaN</td>\n      <td>0</td>\n      <td>2021-05-12-15-03</td>\n      <td>NaN</td>\n      <td>NaN</td>\n      <td>../data/all data files/data 17 May</td>\n      <td>False</td>\n    </tr>\n    <tr>\n      <th>3</th>\n      <td>s.d3b74af9-3b24-4820-83a0-67986b3ec0bf.txt</td>\n      <td>NaN</td>\n      <td>NaN</td>\n      <td>NaN</td>\n      <td>NaN</td>\n      <td>NaN</td>\n      <td>NaN</td>\n      <td>NaN</td>\n      <td>0</td>\n      <td>2021-05-10-06-39</td>\n      <td>2021-05-10-06-57</td>\n      <td>18.0</td>\n      <td>../data/all data files/data 17 May</td>\n      <td>False</td>\n    </tr>\n    <tr>\n      <th>4</th>\n      <td>s.32ff642a-efe0-436f-8075-fa703d677fed.txt</td>\n      <td>NaN</td>\n      <td>NaN</td>\n      <td>NaN</td>\n      <td>NaN</td>\n      <td>NaN</td>\n      <td>NaN</td>\n      <td>NaN</td>\n      <td>0</td>\n      <td>2021-05-01-15-50</td>\n      <td>2021-05-01-16-09</td>\n      <td>19.0</td>\n      <td>../data/all data files/data 16 May</td>\n      <td>False</td>\n    </tr>\n  </tbody>\n</table>\n</div>"
     },
     "metadata": {},
     "execution_count": 134
    }
   ],
   "source": [
    "path     = '../data/all data files'\n",
    "inc_beta = False\n",
    "\n",
    "final_data = None; final_data_times = None\n",
    "for d in os.listdir(path):\n",
    "    if '.DS_Store' not in d:\n",
    "        if ('beta' not in d) or ('beta' in d) == inc_beta:\n",
    "            data       = pd.read_csv(path + '/' + d + '/data.csv',       index_col=False)\n",
    "            data_times = pd.read_csv(path + '/' + d + '/data_times.csv', index_col=False)\n",
    "            # --- add columns ---x\n",
    "            data[['path']]       = path + '/' + d\n",
    "            data_times[['path']] = path + '/' + d\n",
    "            data[['beta']]       = ('beta' in d)\n",
    "            data_times[['beta']] = ('beta' in d)\n",
    "            if final_data is None:\n",
    "                final_data       = data\n",
    "                final_data_times = data_times\n",
    "            else:\n",
    "                final_data = final_data.append(data, ignore_index=True)\n",
    "                final_data_times = final_data_times.append(data_times, ignore_index=True)\n",
    "    \n",
    "final_data.head()\n",
    "final_data_times.head()"
   ]
  },
  {
   "source": [
    "# Identify Duplicates"
   ],
   "cell_type": "markdown",
   "metadata": {}
  },
  {
   "cell_type": "code",
   "execution_count": 129,
   "metadata": {},
   "outputs": [
    {
     "output_type": "error",
     "ename": "IndexingError",
     "evalue": "Unalignable boolean Series provided as indexer (index of the boolean Series and of the indexed object do not match).",
     "traceback": [
      "\u001b[0;31m---------------------------------------------------------------------------\u001b[0m",
      "\u001b[0;31mIndexingError\u001b[0m                             Traceback (most recent call last)",
      "\u001b[0;32m<ipython-input-129-012fe4f52cc8>\u001b[0m in \u001b[0;36m<module>\u001b[0;34m\u001b[0m\n\u001b[1;32m      1\u001b[0m \u001b[0;31m# ---- remove incomplete files ----x\u001b[0m\u001b[0;34m\u001b[0m\u001b[0;34m\u001b[0m\u001b[0;34m\u001b[0m\u001b[0m\n\u001b[1;32m      2\u001b[0m \u001b[0mfinal_data\u001b[0m       \u001b[0;34m=\u001b[0m \u001b[0mfinal_data\u001b[0m\u001b[0;34m.\u001b[0m\u001b[0mloc\u001b[0m\u001b[0;34m[\u001b[0m\u001b[0mfinal_data\u001b[0m\u001b[0;34m[\u001b[0m\u001b[0;34m'TIME_total'\u001b[0m\u001b[0;34m]\u001b[0m\u001b[0;34m.\u001b[0m\u001b[0mnotnull\u001b[0m\u001b[0;34m(\u001b[0m\u001b[0;34m)\u001b[0m\u001b[0;34m,\u001b[0m\u001b[0;34m]\u001b[0m\u001b[0;34m\u001b[0m\u001b[0;34m\u001b[0m\u001b[0m\n\u001b[0;32m----> 3\u001b[0;31m \u001b[0mfinal_data_times\u001b[0m \u001b[0;34m=\u001b[0m \u001b[0mfinal_data_times\u001b[0m\u001b[0;34m.\u001b[0m\u001b[0mloc\u001b[0m\u001b[0;34m[\u001b[0m\u001b[0mfinal_data\u001b[0m\u001b[0;34m[\u001b[0m\u001b[0;34m'TIME_total'\u001b[0m\u001b[0;34m]\u001b[0m\u001b[0;34m.\u001b[0m\u001b[0mnotnull\u001b[0m\u001b[0;34m(\u001b[0m\u001b[0;34m)\u001b[0m\u001b[0;34m,\u001b[0m\u001b[0;34m]\u001b[0m\u001b[0;34m\u001b[0m\u001b[0;34m\u001b[0m\u001b[0m\n\u001b[0m\u001b[1;32m      4\u001b[0m \u001b[0;34m\u001b[0m\u001b[0m\n",
      "\u001b[0;32m~/opt/anaconda3/envs/dynocog/lib/python3.8/site-packages/pandas/core/indexing.py\u001b[0m in \u001b[0;36m__getitem__\u001b[0;34m(self, key)\u001b[0m\n\u001b[1;32m    887\u001b[0m                     \u001b[0;31m# AttributeError for IntervalTree get_value\u001b[0m\u001b[0;34m\u001b[0m\u001b[0;34m\u001b[0m\u001b[0;34m\u001b[0m\u001b[0m\n\u001b[1;32m    888\u001b[0m                     \u001b[0;32mreturn\u001b[0m \u001b[0mself\u001b[0m\u001b[0;34m.\u001b[0m\u001b[0mobj\u001b[0m\u001b[0;34m.\u001b[0m\u001b[0m_get_value\u001b[0m\u001b[0;34m(\u001b[0m\u001b[0;34m*\u001b[0m\u001b[0mkey\u001b[0m\u001b[0;34m,\u001b[0m \u001b[0mtakeable\u001b[0m\u001b[0;34m=\u001b[0m\u001b[0mself\u001b[0m\u001b[0;34m.\u001b[0m\u001b[0m_takeable\u001b[0m\u001b[0;34m)\u001b[0m\u001b[0;34m\u001b[0m\u001b[0;34m\u001b[0m\u001b[0m\n\u001b[0;32m--> 889\u001b[0;31m             \u001b[0;32mreturn\u001b[0m \u001b[0mself\u001b[0m\u001b[0;34m.\u001b[0m\u001b[0m_getitem_tuple\u001b[0m\u001b[0;34m(\u001b[0m\u001b[0mkey\u001b[0m\u001b[0;34m)\u001b[0m\u001b[0;34m\u001b[0m\u001b[0;34m\u001b[0m\u001b[0m\n\u001b[0m\u001b[1;32m    890\u001b[0m         \u001b[0;32melse\u001b[0m\u001b[0;34m:\u001b[0m\u001b[0;34m\u001b[0m\u001b[0;34m\u001b[0m\u001b[0m\n\u001b[1;32m    891\u001b[0m             \u001b[0;31m# we by definition only have the 0th axis\u001b[0m\u001b[0;34m\u001b[0m\u001b[0;34m\u001b[0m\u001b[0;34m\u001b[0m\u001b[0m\n",
      "\u001b[0;32m~/opt/anaconda3/envs/dynocog/lib/python3.8/site-packages/pandas/core/indexing.py\u001b[0m in \u001b[0;36m_getitem_tuple\u001b[0;34m(self, tup)\u001b[0m\n\u001b[1;32m   1067\u001b[0m             \u001b[0;32mreturn\u001b[0m \u001b[0mself\u001b[0m\u001b[0;34m.\u001b[0m\u001b[0m_multi_take\u001b[0m\u001b[0;34m(\u001b[0m\u001b[0mtup\u001b[0m\u001b[0;34m)\u001b[0m\u001b[0;34m\u001b[0m\u001b[0;34m\u001b[0m\u001b[0m\n\u001b[1;32m   1068\u001b[0m \u001b[0;34m\u001b[0m\u001b[0m\n\u001b[0;32m-> 1069\u001b[0;31m         \u001b[0;32mreturn\u001b[0m \u001b[0mself\u001b[0m\u001b[0;34m.\u001b[0m\u001b[0m_getitem_tuple_same_dim\u001b[0m\u001b[0;34m(\u001b[0m\u001b[0mtup\u001b[0m\u001b[0;34m)\u001b[0m\u001b[0;34m\u001b[0m\u001b[0;34m\u001b[0m\u001b[0m\n\u001b[0m\u001b[1;32m   1070\u001b[0m \u001b[0;34m\u001b[0m\u001b[0m\n\u001b[1;32m   1071\u001b[0m     \u001b[0;32mdef\u001b[0m \u001b[0m_get_label\u001b[0m\u001b[0;34m(\u001b[0m\u001b[0mself\u001b[0m\u001b[0;34m,\u001b[0m \u001b[0mlabel\u001b[0m\u001b[0;34m,\u001b[0m \u001b[0maxis\u001b[0m\u001b[0;34m:\u001b[0m \u001b[0mint\u001b[0m\u001b[0;34m)\u001b[0m\u001b[0;34m:\u001b[0m\u001b[0;34m\u001b[0m\u001b[0;34m\u001b[0m\u001b[0m\n",
      "\u001b[0;32m~/opt/anaconda3/envs/dynocog/lib/python3.8/site-packages/pandas/core/indexing.py\u001b[0m in \u001b[0;36m_getitem_tuple_same_dim\u001b[0;34m(self, tup)\u001b[0m\n\u001b[1;32m    773\u001b[0m                 \u001b[0;32mcontinue\u001b[0m\u001b[0;34m\u001b[0m\u001b[0;34m\u001b[0m\u001b[0m\n\u001b[1;32m    774\u001b[0m \u001b[0;34m\u001b[0m\u001b[0m\n\u001b[0;32m--> 775\u001b[0;31m             \u001b[0mretval\u001b[0m \u001b[0;34m=\u001b[0m \u001b[0mgetattr\u001b[0m\u001b[0;34m(\u001b[0m\u001b[0mretval\u001b[0m\u001b[0;34m,\u001b[0m \u001b[0mself\u001b[0m\u001b[0;34m.\u001b[0m\u001b[0mname\u001b[0m\u001b[0;34m)\u001b[0m\u001b[0;34m.\u001b[0m\u001b[0m_getitem_axis\u001b[0m\u001b[0;34m(\u001b[0m\u001b[0mkey\u001b[0m\u001b[0;34m,\u001b[0m \u001b[0maxis\u001b[0m\u001b[0;34m=\u001b[0m\u001b[0mi\u001b[0m\u001b[0;34m)\u001b[0m\u001b[0;34m\u001b[0m\u001b[0;34m\u001b[0m\u001b[0m\n\u001b[0m\u001b[1;32m    776\u001b[0m             \u001b[0;31m# We should never have retval.ndim < self.ndim, as that should\u001b[0m\u001b[0;34m\u001b[0m\u001b[0;34m\u001b[0m\u001b[0;34m\u001b[0m\u001b[0m\n\u001b[1;32m    777\u001b[0m             \u001b[0;31m#  be handled by the _getitem_lowerdim call above.\u001b[0m\u001b[0;34m\u001b[0m\u001b[0;34m\u001b[0m\u001b[0;34m\u001b[0m\u001b[0m\n",
      "\u001b[0;32m~/opt/anaconda3/envs/dynocog/lib/python3.8/site-packages/pandas/core/indexing.py\u001b[0m in \u001b[0;36m_getitem_axis\u001b[0;34m(self, key, axis)\u001b[0m\n\u001b[1;32m   1102\u001b[0m             \u001b[0;32mreturn\u001b[0m \u001b[0mself\u001b[0m\u001b[0;34m.\u001b[0m\u001b[0m_get_slice_axis\u001b[0m\u001b[0;34m(\u001b[0m\u001b[0mkey\u001b[0m\u001b[0;34m,\u001b[0m \u001b[0maxis\u001b[0m\u001b[0;34m=\u001b[0m\u001b[0maxis\u001b[0m\u001b[0;34m)\u001b[0m\u001b[0;34m\u001b[0m\u001b[0;34m\u001b[0m\u001b[0m\n\u001b[1;32m   1103\u001b[0m         \u001b[0;32melif\u001b[0m \u001b[0mcom\u001b[0m\u001b[0;34m.\u001b[0m\u001b[0mis_bool_indexer\u001b[0m\u001b[0;34m(\u001b[0m\u001b[0mkey\u001b[0m\u001b[0;34m)\u001b[0m\u001b[0;34m:\u001b[0m\u001b[0;34m\u001b[0m\u001b[0;34m\u001b[0m\u001b[0m\n\u001b[0;32m-> 1104\u001b[0;31m             \u001b[0;32mreturn\u001b[0m \u001b[0mself\u001b[0m\u001b[0;34m.\u001b[0m\u001b[0m_getbool_axis\u001b[0m\u001b[0;34m(\u001b[0m\u001b[0mkey\u001b[0m\u001b[0;34m,\u001b[0m \u001b[0maxis\u001b[0m\u001b[0;34m=\u001b[0m\u001b[0maxis\u001b[0m\u001b[0;34m)\u001b[0m\u001b[0;34m\u001b[0m\u001b[0;34m\u001b[0m\u001b[0m\n\u001b[0m\u001b[1;32m   1105\u001b[0m         \u001b[0;32melif\u001b[0m \u001b[0mis_list_like_indexer\u001b[0m\u001b[0;34m(\u001b[0m\u001b[0mkey\u001b[0m\u001b[0;34m)\u001b[0m\u001b[0;34m:\u001b[0m\u001b[0;34m\u001b[0m\u001b[0;34m\u001b[0m\u001b[0m\n\u001b[1;32m   1106\u001b[0m \u001b[0;34m\u001b[0m\u001b[0m\n",
      "\u001b[0;32m~/opt/anaconda3/envs/dynocog/lib/python3.8/site-packages/pandas/core/indexing.py\u001b[0m in \u001b[0;36m_getbool_axis\u001b[0;34m(self, key, axis)\u001b[0m\n\u001b[1;32m    910\u001b[0m         \u001b[0;31m# caller is responsible for ensuring non-None axis\u001b[0m\u001b[0;34m\u001b[0m\u001b[0;34m\u001b[0m\u001b[0;34m\u001b[0m\u001b[0m\n\u001b[1;32m    911\u001b[0m         \u001b[0mlabels\u001b[0m \u001b[0;34m=\u001b[0m \u001b[0mself\u001b[0m\u001b[0;34m.\u001b[0m\u001b[0mobj\u001b[0m\u001b[0;34m.\u001b[0m\u001b[0m_get_axis\u001b[0m\u001b[0;34m(\u001b[0m\u001b[0maxis\u001b[0m\u001b[0;34m)\u001b[0m\u001b[0;34m\u001b[0m\u001b[0;34m\u001b[0m\u001b[0m\n\u001b[0;32m--> 912\u001b[0;31m         \u001b[0mkey\u001b[0m \u001b[0;34m=\u001b[0m \u001b[0mcheck_bool_indexer\u001b[0m\u001b[0;34m(\u001b[0m\u001b[0mlabels\u001b[0m\u001b[0;34m,\u001b[0m \u001b[0mkey\u001b[0m\u001b[0;34m)\u001b[0m\u001b[0;34m\u001b[0m\u001b[0;34m\u001b[0m\u001b[0m\n\u001b[0m\u001b[1;32m    913\u001b[0m         \u001b[0minds\u001b[0m \u001b[0;34m=\u001b[0m \u001b[0mkey\u001b[0m\u001b[0;34m.\u001b[0m\u001b[0mnonzero\u001b[0m\u001b[0;34m(\u001b[0m\u001b[0;34m)\u001b[0m\u001b[0;34m[\u001b[0m\u001b[0;36m0\u001b[0m\u001b[0;34m]\u001b[0m\u001b[0;34m\u001b[0m\u001b[0;34m\u001b[0m\u001b[0m\n\u001b[1;32m    914\u001b[0m         \u001b[0;32mreturn\u001b[0m \u001b[0mself\u001b[0m\u001b[0;34m.\u001b[0m\u001b[0mobj\u001b[0m\u001b[0;34m.\u001b[0m\u001b[0m_take_with_is_copy\u001b[0m\u001b[0;34m(\u001b[0m\u001b[0minds\u001b[0m\u001b[0;34m,\u001b[0m \u001b[0maxis\u001b[0m\u001b[0;34m=\u001b[0m\u001b[0maxis\u001b[0m\u001b[0;34m)\u001b[0m\u001b[0;34m\u001b[0m\u001b[0;34m\u001b[0m\u001b[0m\n",
      "\u001b[0;32m~/opt/anaconda3/envs/dynocog/lib/python3.8/site-packages/pandas/core/indexing.py\u001b[0m in \u001b[0;36mcheck_bool_indexer\u001b[0;34m(index, key)\u001b[0m\n\u001b[1;32m   2267\u001b[0m         \u001b[0mmask\u001b[0m \u001b[0;34m=\u001b[0m \u001b[0misna\u001b[0m\u001b[0;34m(\u001b[0m\u001b[0mresult\u001b[0m\u001b[0;34m.\u001b[0m\u001b[0m_values\u001b[0m\u001b[0;34m)\u001b[0m\u001b[0;34m\u001b[0m\u001b[0;34m\u001b[0m\u001b[0m\n\u001b[1;32m   2268\u001b[0m         \u001b[0;32mif\u001b[0m \u001b[0mmask\u001b[0m\u001b[0;34m.\u001b[0m\u001b[0many\u001b[0m\u001b[0;34m(\u001b[0m\u001b[0;34m)\u001b[0m\u001b[0;34m:\u001b[0m\u001b[0;34m\u001b[0m\u001b[0;34m\u001b[0m\u001b[0m\n\u001b[0;32m-> 2269\u001b[0;31m             raise IndexingError(\n\u001b[0m\u001b[1;32m   2270\u001b[0m                 \u001b[0;34m\"Unalignable boolean Series provided as \"\u001b[0m\u001b[0;34m\u001b[0m\u001b[0;34m\u001b[0m\u001b[0m\n\u001b[1;32m   2271\u001b[0m                 \u001b[0;34m\"indexer (index of the boolean Series and of \"\u001b[0m\u001b[0;34m\u001b[0m\u001b[0;34m\u001b[0m\u001b[0m\n",
      "\u001b[0;31mIndexingError\u001b[0m: Unalignable boolean Series provided as indexer (index of the boolean Series and of the indexed object do not match)."
     ]
    }
   ],
   "source": [
    "# ---- remove incomplete files ----x\n",
    "final_data       = final_data.loc[final_data['TIME_total'].notnull(),]\n",
    "final_data_times = final_data_times.loc[final_data['TIME_total'].notnull(),]\n",
    "    "
   ]
  },
  {
   "cell_type": "code",
   "execution_count": null,
   "metadata": {},
   "outputs": [],
   "source": []
  },
  {
   "cell_type": "code",
   "execution_count": 104,
   "metadata": {},
   "outputs": [
    {
     "output_type": "stream",
     "name": "stdout",
     "text": [
      "participant\n4\n-----\nparticipant_code:1\n4\n-----\nWelcome_Screen:1\n4\n-----\nwcst_task:1\n5\n-----\nn_back_task:1\n5\n-----\ncorsi_block_span_task:1\n5\n-----\nfitts_law:1\n5\n-----\nnavon_task:1\n5\n-----\nTIME_start\n4\n-----\nTIME_end\n5\n-----\nTIME_total\n5\n-----\npath\n6\n-----\nbeta\n7\n-----\n"
     ]
    }
   ],
   "source": [
    "\n",
    "final_data['participant_code:1'][final_data['participant_code:1'].duplicated()]\n",
    "\n",
    "# 4     851366\n",
    "# 5     904653\n",
    "# 6     429398\n",
    "# 7     490901\n",
    "# 8     851366\n",
    "# 9     904653\n",
    "# 10    429398\n",
    "# 11    490901\n",
    "# 12    851366\n",
    "# 13    904653\n",
    "# 14    429398\n",
    "# 15    490901\n",
    "# 23    851366\n",
    "# 24    429398\n",
    "# 25    490901\n",
    "final_data.loc[final_data['participant_code:1']==851366,]\n",
    "for c in final_data.columns:\n",
    "    print(c)\n",
    "    print(\n",
    "    len(final_data[c][final_data[c].duplicated()])\n",
    "    )\n",
    "    print('-----')"
   ]
  },
  {
   "cell_type": "code",
   "execution_count": 94,
   "metadata": {},
   "outputs": [
    {
     "output_type": "execute_result",
     "data": {
      "text/plain": [
       "                                  participant  participant_code  \\\n",
       "0  s.32ff642a-efe0-436f-8075-fa703d677fed.txt               NaN   \n",
       "1  s.c6ad6698-4f59-4753-9ae9-6f8d562c5fe1.txt               NaN   \n",
       "2  s.d3b74af9-3b24-4820-83a0-67986b3ec0bf.txt               NaN   \n",
       "\n",
       "   Welcome_Screen  wcst_task  n_back_task  corsi_block_span_task  fitts_law  \\\n",
       "0             NaN        NaN          NaN                    NaN        NaN   \n",
       "1             NaN        NaN          NaN                    NaN        NaN   \n",
       "2             NaN        NaN          NaN                    NaN        NaN   \n",
       "\n",
       "   navon_task  INFOSCREEN        TIME_start          TIME_end  TIME_total  \\\n",
       "0         NaN           0  2021-05-01-15-50  2021-05-01-16-09        19.0   \n",
       "1         NaN           0  2021-05-12-15-03               NaN         NaN   \n",
       "2         NaN           0  2021-05-10-06-39  2021-05-10-06-57        18.0   \n",
       "\n",
       "                                        path  beta  \n",
       "0  ../data/all data files/data 12 May (beta)  True  \n",
       "1  ../data/all data files/data 12 May (beta)  True  \n",
       "2  ../data/all data files/data 12 May (beta)  True  "
      ],
      "text/html": "<div>\n<style scoped>\n    .dataframe tbody tr th:only-of-type {\n        vertical-align: middle;\n    }\n\n    .dataframe tbody tr th {\n        vertical-align: top;\n    }\n\n    .dataframe thead th {\n        text-align: right;\n    }\n</style>\n<table border=\"1\" class=\"dataframe\">\n  <thead>\n    <tr style=\"text-align: right;\">\n      <th></th>\n      <th>participant</th>\n      <th>participant_code</th>\n      <th>Welcome_Screen</th>\n      <th>wcst_task</th>\n      <th>n_back_task</th>\n      <th>corsi_block_span_task</th>\n      <th>fitts_law</th>\n      <th>navon_task</th>\n      <th>INFOSCREEN</th>\n      <th>TIME_start</th>\n      <th>TIME_end</th>\n      <th>TIME_total</th>\n      <th>path</th>\n      <th>beta</th>\n    </tr>\n  </thead>\n  <tbody>\n    <tr>\n      <th>0</th>\n      <td>s.32ff642a-efe0-436f-8075-fa703d677fed.txt</td>\n      <td>NaN</td>\n      <td>NaN</td>\n      <td>NaN</td>\n      <td>NaN</td>\n      <td>NaN</td>\n      <td>NaN</td>\n      <td>NaN</td>\n      <td>0</td>\n      <td>2021-05-01-15-50</td>\n      <td>2021-05-01-16-09</td>\n      <td>19.0</td>\n      <td>../data/all data files/data 12 May (beta)</td>\n      <td>True</td>\n    </tr>\n    <tr>\n      <th>1</th>\n      <td>s.c6ad6698-4f59-4753-9ae9-6f8d562c5fe1.txt</td>\n      <td>NaN</td>\n      <td>NaN</td>\n      <td>NaN</td>\n      <td>NaN</td>\n      <td>NaN</td>\n      <td>NaN</td>\n      <td>NaN</td>\n      <td>0</td>\n      <td>2021-05-12-15-03</td>\n      <td>NaN</td>\n      <td>NaN</td>\n      <td>../data/all data files/data 12 May (beta)</td>\n      <td>True</td>\n    </tr>\n    <tr>\n      <th>2</th>\n      <td>s.d3b74af9-3b24-4820-83a0-67986b3ec0bf.txt</td>\n      <td>NaN</td>\n      <td>NaN</td>\n      <td>NaN</td>\n      <td>NaN</td>\n      <td>NaN</td>\n      <td>NaN</td>\n      <td>NaN</td>\n      <td>0</td>\n      <td>2021-05-10-06-39</td>\n      <td>2021-05-10-06-57</td>\n      <td>18.0</td>\n      <td>../data/all data files/data 12 May (beta)</td>\n      <td>True</td>\n    </tr>\n  </tbody>\n</table>\n</div>"
     },
     "metadata": {},
     "execution_count": 94
    }
   ],
   "source": [
    "final_data.shape\n",
    "final_data_times\n",
    "data_times"
   ]
  },
  {
   "cell_type": "code",
   "execution_count": null,
   "metadata": {},
   "outputs": [],
   "source": []
  }
 ]
}
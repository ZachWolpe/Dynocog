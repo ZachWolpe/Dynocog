{
 "metadata": {
  "language_info": {
   "codemirror_mode": {
    "name": "ipython",
    "version": 3
   },
   "file_extension": ".py",
   "mimetype": "text/x-python",
   "name": "python",
   "nbconvert_exporter": "python",
   "pygments_lexer": "ipython3",
   "version": "3.8.8"
  },
  "orig_nbformat": 2,
  "kernelspec": {
   "name": "python388jvsc74a57bd00bdb1145a6394107ddd55d824c4d0e411e79cd19a6286b1018600d724ae6ee81",
   "display_name": "Python 3.8.8 64-bit ('dynocog': conda)"
  }
 },
 "nbformat": 4,
 "nbformat_minor": 2,
 "cells": [
  {
   "source": [
    "# RL WCST Agent 001\n",
    "\n",
    "The first, simplest, RL agent. Showcasing the basic structure.\n",
    "\n",
    "# Mødel Development\n",
    "\n",
    "1. Consider the simplest possible model:\n",
    "    - 1 agent learning the wcst overtime\n",
    "    - no Bayes\n",
    "    - no data\n",
    " \n",
    "2. Fitting to data == infering the learning rate. \n",
    "    - Optimisation techniques? \n",
    "    - Performance criterion?\n",
    "\n",
    "3. Additonal Experiments\n",
    "    - Capture variation **between** individuals\n",
    "    - Model neurocorrelates\n",
    "\n",
    "4. Heirarchical Bayes\n",
    "    - Capture varation **across** individuals\n",
    "\n",
    "## Optimality\n",
    "\n",
    "The optimal learning behaviour would be too simply choose the last correct action. This would equate to an update equation that totally saturates previous information & essentially only considers the most recent but of information."
   ],
   "cell_type": "markdown",
   "metadata": {}
  },
  {
   "cell_type": "code",
   "execution_count": null,
   "metadata": {},
   "outputs": [],
   "source": []
  },
  {
   "cell_type": "code",
   "execution_count": 1,
   "metadata": {},
   "outputs": [],
   "source": [
    "# !conda activate dynocog\n",
    "# !conda init\n",
    "# !conda install pandas -y\n",
    "# !conda install -c pytorch pytorch -y\n",
    "# !conda install -c conda-forge numpyro\n",
    "import numpy as np\n",
    "import pandas as pd\n",
    "import matplotlib.pyplot as plt\n",
    "import re\n",
    "import torch\n",
    "import sys\n",
    "from tqdm import tqdm\n",
    "import plotly.express as px\n",
    "import plotly.graph_objects as go"
   ]
  },
  {
   "cell_type": "code",
   "execution_count": 2,
   "metadata": {},
   "outputs": [],
   "source": [
    "# ---- Hyperparameters ----x\n",
    "rules   = ['shape', 'number', 'color']\n",
    "colors  = ['yellow', 'red', 'green', 'blue']\n",
    "shapes  = ['star', 'triangle', 'circle', 'cross']\n",
    "numbers = [1,2,3,4]\n",
    "cards   = ['card 1', 'card 2', 'card 3', 'card 4']\n",
    "matching_cards = {\n",
    "  'card 1': {'color': 'red', 'shape':'circle', 'number':1},\n",
    "  'card 2': {'color': 'green', 'shape':'triangle', 'number':2},\n",
    "  'card 3': {'color': 'blue', 'shape':'cross', 'number':3}, \n",
    "  'card 4': {'color': 'yellow', 'shape':'star', 'number':4}}"
   ]
  },
  {
   "source": [
    "# Build RL Environment\n",
    "\n",
    "Now we build the RL environment that can be used to train the parameters.\n",
    "\n",
    "In our model the RL environment reflects WCST.\n",
    "\n",
    "\n",
    "## Data Structure\n",
    "\n",
    "Dictionaries are far faster than lists in Python, as such we structure each sample as a dictionary. Each environmental sample has two components:\n",
    "- Current card: the card drawn\n",
    "- Target card: the correct matching option\n",
    "- Rule: the matching rule\n",
    "\n",
    "Each of these are captured in a dictionary & each observation put into a list object called 'item'. Each item is then added to a list (giving us a list of observations) which is later conververted into a enumerable object.\n",
    "\n",
    "Return: a list of observations & outputs representing the RL environment."
   ],
   "cell_type": "markdown",
   "metadata": {}
  },
  {
   "cell_type": "code",
   "execution_count": 3,
   "metadata": {
    "tags": []
   },
   "outputs": [],
   "source": [
    "f = open(\"../data/wcst.txt\", \"r\")\n",
    "\n",
    "all_items = []\n",
    "for l in f.readlines():\n",
    "    \n",
    "    # ---- target card ----x\n",
    "    ind = 'card ' + l[18]\n",
    "\n",
    "    # ---- current card ----x\n",
    "    curr_card = l[0:16].strip()\n",
    "    curr_card = re.split('([0-9]+)', curr_card)\n",
    "    curr_card = {'color': curr_card[2], 'shape':curr_card[0], 'number':curr_card[1]}\n",
    "\n",
    "    # ---- matching rule + target card ----x\n",
    "    rule = (l[27:27+8]).strip().replace('\\\"','')    \n",
    "    target_card = matching_cards[ind]\n",
    "\n",
    "    # ----- list current + target cards ----x\n",
    "    item = {'curr_card': curr_card, 'target_card':target_card, 'rule':rule}\n",
    "    all_items.append(item)"
   ]
  },
  {
   "source": [
    "# RL Environment\n",
    "\n",
    "Now we compile these observations in a class to create all the functionality we require.\n",
    "\n",
    "## Expeience Replay (Replay Memory)\n",
    "- **sample_environment**: We sample random pairings to decouple bias, this is known as experience replay in the literature.\n",
    "- **next**: Sample the next $n$ observation in order.\n"
   ],
   "cell_type": "markdown",
   "metadata": {}
  },
  {
   "cell_type": "code",
   "execution_count": 4,
   "metadata": {},
   "outputs": [],
   "source": [
    "class WCST_Environment:\n",
    "    def __init__(self, all_items):\n",
    "        self.all_items = all_items\n",
    "        self.index     = 0\n",
    "        self.n         = len(all_items)\n",
    "        self.sample_idx = []\n",
    "        self.index = 0\n",
    "    \n",
    "    def sample_environment(self, n_samples):\n",
    "        idx = np.random.choice(range(0,self.n), n_samples)\n",
    "        self.sample_idx = self.sample_idx.append(idx)\n",
    "        return([self.all_items[i] for i in idx])\n",
    "    \n",
    "    def batch(self, n):\n",
    "        \"\"\"Return: n samples\n",
    "           Note:\n",
    "                - The function is cylical & will return the same sequence of samples periodically if a large batch is required.\n",
    "                - If one wishes to 'reset' & sample from the start either:\n",
    "                    1. set self.index == 0 & sample\n",
    "                    2. sample from self.all_items directly\n",
    "        \"\"\"\n",
    "        deck = []\n",
    "        nt = self.index + n\n",
    "        if nt > 100:    \n",
    "            loops = nt // 100 - 1    # integer devision == devision drop remainder\n",
    "                                    # number of full training loops\n",
    "            res   = nt % 100         # modulo == devision return remainder only\n",
    "                                    # number of items above 0\n",
    "            # --- until end ---x\n",
    "            for i in all_items[nt:]: deck.append(i)\n",
    "            # --- add 'loops' full data loops ----x\n",
    "            for i in range(loops):\n",
    "                for a in all_items: deck.append(a)\n",
    "            # --- remaining data ---x\n",
    "            for i in all_items[:res]: deck.append(i)\n",
    "            self.index = res\n",
    "\n",
    "        else: \n",
    "            deck = all_items[self.index:nt]\n",
    "            self.index = nt\n",
    "        return(deck)"
   ]
  },
  {
   "cell_type": "code",
   "execution_count": 5,
   "metadata": {},
   "outputs": [
    {
     "output_type": "execute_result",
     "data": {
      "text/plain": [
       "50"
      ]
     },
     "metadata": {},
     "execution_count": 5
    }
   ],
   "source": [
    "wcst = WCST_Environment(all_items)\n",
    "batch = wcst.batch(7550)\n",
    "wcst.index"
   ]
  },
  {
   "source": [
    "# Defining Computation\n",
    "\n",
    "RL Class should contain:\n",
    "- Environment\n",
    "- Model (given trained parameters)\n",
    "- Training Loop\n",
    "- Trainable Parameters\n",
    "- Graphics (training processes etc)\n",
    "\n",
    "There are two types of trainable model parameters:\n",
    "- Parameter values: torch.tensor()\n",
    "- Parameter distributions: numpy object()\n",
    "\n",
    "\n",
    "# Model\n",
    "\n",
    "We are working with a bandit as we only have $1$ state. We wish to maximise return by selecting the action that yields the highest expected return, that is, our policy $\\pi(\\alpha)$ is to select the action $\\alpha$ with the highest expected reward $Q_t(\\alpha)$ at time $t$:\n",
    "\n",
    "$$\\pi(\\alpha) = \\underset{\\alpha}{argmax} \\; Q_t(\\alpha)$$\n",
    "\n",
    "where the action space is given by the decision rule:\n",
    "\n",
    "$$actions = \\alpha = \\{\"shape\", \"colour\", \"number\" \\}$$\n",
    "\n",
    "----- \n",
    "The simplist calculation of this would be to let the expected return of each action be the sample average return from trying that action. That is to say:\n",
    "\n",
    "$$Q_t(\\alpha) = \\frac{1}{t-1}\\sum_1^{t-1}r_i$$\n",
    "\n",
    "where $r_t$ is the binary reward received after taking an action:\n",
    "\n",
    "$$r_t \\in\\{0,1\\}$$\n",
    "\n",
    "Note: for faster computation & more efficient memory, this average calculation can be written recursively:\n",
    "\n",
    "$$Q_t = Q_{t-1} + \\frac{1}{n}[r_t - Q_{t-1}]$$\n",
    "\n",
    "Two problems arise:\n",
    "- This ignores non-stationarity (the rule changes) and as such more recent feedback must carry more weight.\n",
    "- This ignores the interaction effect of the game, knowledge about one action actually gives great info about the other actions as they are mutually exclusive. Should we encode this? It can be learnt through more aggressive updating.\n",
    "\n",
    "The $\\frac{1}{n}$ term effectively weights all returns $r_i$ equally. Thus this issues can be mitigated by overweighting newer returns & underweighting older returns. This can be achieved by setting this updating parameter to a constant $\\lambda$:\n",
    "\n",
    "$$Q_t = Q_{t-1} + \\lambda[r_t - Q_{t-1}]$$\n",
    "\n",
    "-----\n",
    "\n",
    "Recall that $r_t \\in\\{0,1\\}$, thus:\n",
    "\n",
    "If $r_t = 1$ (correct choice):\n",
    "\n",
    "$$\n",
    "\\begin{equation}\n",
    "\\begin{split}\n",
    "    Q_t &= Q_{t-1} + \\lambda[r_t - Q_{t-1}] \\\\\n",
    "    Q_t &= Q_{t-1} + \\lambda[1 - Q_{t-1}] \\\\\n",
    "    Q_t &= \\lambda + (1-\\lambda)Q_{t-1}\n",
    "\\end{split}\n",
    "\\end{equation}\n",
    "$$\n",
    "\n",
    "Or, if $r_t = 0$ (incorrect choice):\n",
    "\n",
    "$$\n",
    "\\begin{equation}\n",
    "\\begin{split}\n",
    "    Q_t &= Q_{t-1} + \\lambda[r_t - Q_{t-1}] \\\\\n",
    "    Q_t &= Q_{t-1} + \\lambda[0 - Q_{t-1}] \\\\\n",
    "    Q_t &= (1-\\lambda)Q_{t-1} \n",
    "\\end{split}\n",
    "\\end{equation}\n",
    "$$\n",
    "\n",
    "It's trivial to see that $\\lambda=1$ (the extreme case) would be choice the desired response:\n",
    "\n",
    "\n",
    "If $r_t = 1$ & $\\lambda=1$:\n",
    "\n",
    "$$\n",
    "\\begin{equation}\n",
    "\\begin{split}\n",
    "    Q_t &= \\lambda + (1-\\lambda)Q_{t-1} \\\\\n",
    "    Q_t &= 1 \n",
    "\\end{split}\n",
    "\\end{equation}\n",
    "$$\n",
    "\n",
    "Or, if $r_t = 0$ & $\\lambda=1$:\n",
    "\n",
    "$$\n",
    "\\begin{equation}\n",
    "\\begin{split}\n",
    "    Q_t &= (1-\\lambda)Q_{t-1} \\\\\n",
    "    Q_t &= 0\n",
    "\\end{split}\n",
    "\\end{equation}\n",
    "$$\n",
    "\n",
    "Which is correct as only one choice can be the correct choice. This is the extreme weighting, where we only take the value of the most recent return.\n",
    "\n",
    "\n",
    "-----\n",
    "\n",
    "# Resampling\n",
    "\n",
    "The agent should sample actions from a list & remove incorrect options, to ensure the agent cycles through all possible actions."
   ],
   "cell_type": "markdown",
   "metadata": {}
  },
  {
   "source": [
    "-----\n",
    "\n",
    "# RL Instance\n",
    "On the implementation design:\n",
    "- Most memory + compute constraints arise from the Bayesian model, as such we wish to store lists of the Q-values etc so that we can monitor the algorithm overtime.\n",
    "- All $Q$ values are initialized at $0$."
   ],
   "cell_type": "markdown",
   "metadata": {}
  },
  {
   "cell_type": "code",
   "execution_count": 150,
   "metadata": {},
   "outputs": [],
   "source": [
    "wcst = WCST_Environment(all_items)\n",
    "\n",
    "\n",
    "class RL_Instance:\n",
    "    \"\"\"Defining the RL model\n",
    "        # REQUIREMENTS\n",
    "        # - Model (given trained parameters)\n",
    "        # - Training Loop\n",
    "        # - Trainable Parameters\n",
    "        # - Graphics (training processes etc)\n",
    "    \"\"\"\n",
    "    def __init__(self, wcst_instance):\n",
    "        self.wcst = wcst_instance\n",
    "        self.actions  = ['colour', 'shape', 'number']\n",
    "        self.Q = {'colour': [0],\n",
    "                  'shape' : [0],\n",
    "                  'number': [0]}\n",
    "        self.data = None\n",
    "        # self.sample_actions = ['colour', 'shape', 'number']\n",
    "        # --- ground truth ---x\n",
    "        self.ground_truth = [i['rule'] for i in self.wcst.all_items]\n",
    "        self.rule_changes = [self.ground_truth[i-1]!=self.ground_truth[i] for i in range(1,len(self.ground_truth))]\n",
    "        self.rule_changes.insert(0, False)\n",
    "        self.change_idx = np.where(self.rule_changes)[0]\n",
    "        # --- track performance ---x\n",
    "        self.a_t = []\n",
    "        self.acc = []\n",
    "        self.lam = 1\n",
    "\n",
    "    def forward(self, batch):\n",
    "        # --- pass through the model != training ---x\n",
    "        Q_t = [self.Q['colour'][-1], self.Q['shape'][-1], self.Q['number'][-1]]\n",
    "        # at  = self.actions[np.argmax(Q_t)]\n",
    "        maxes = [q==max(Q_t) for q in Q_t]\n",
    "        inds  = np.arange(len(maxes))[maxes]\n",
    "        at  = self.actions[np.random.choice(inds)]\n",
    "\n",
    "\n",
    "        ch  = [at == b['rule'] for b in batch]\n",
    "        [self.acc.append(c) for c in ch]\n",
    "        [self.a_t.append(at) for c in ch]\n",
    "        return({'matches': ch, 'action': at})\n",
    "    \n",
    "    def train(self, batch, lam=None):\n",
    "        # --- train on the batch ----x\n",
    "        if lam != None: self.lam=lam             \n",
    "        for b in tqdm(batch): \n",
    "            forward = self.forward([b])\n",
    "            at = forward['action']                                                      # action taken\n",
    "            Qt = self.Q[at][-1] + self.lam*(forward['matches'][0] - self.Q[at][-1])     # update Qt of choice\n",
    "            self.Q[at].append(Qt)                                                       # append to Q value\n",
    "\n",
    "\n",
    "    def visualize_training(self):\n",
    "        self.data = pd.DataFrame({\n",
    "            'sample':range(len(self.acc)), \n",
    "            'accuracy': [int(a) for a in self.acc], \n",
    "            'action_taken': self.a_t})\n",
    "        fig = go.Figure() \n",
    "\n",
    "        fig.add_trace(go.Scatter(x=self.data['sample'], y=self.data['accuracy'], name='Low 2007',\n",
    "                                line = dict(color='steelblue', width=1, dash='solid')))\n",
    "        for c in self.change_idx:\n",
    "            fig.add_vline(x=c, line_width=1, line_dash='dash', line_color='#800000')\n",
    "        fig.update_layout(\n",
    "            template='plotly_white',\n",
    "            title='RL Agents Performance',\n",
    "            width=900, height=500,\n",
    "            legend=dict(\n",
    "                yanchor='bottom', xanchor='right',\n",
    "                y=0.99,\n",
    "                x=0.01\n",
    "            ))\n",
    "        fig.show()"
   ]
  },
  {
   "cell_type": "code",
   "execution_count": 151,
   "metadata": {},
   "outputs": [
    {
     "output_type": "stream",
     "name": "stderr",
     "text": [
      "100%|██████████| 100/100 [00:00<00:00, 34484.12it/s]\n"
     ]
    },
    {
     "output_type": "display_data",
     "data": {
      "application/vnd.plotly.v1+json": {
       "config": {
        "plotlyServerURL": "https://plot.ly"
       },
       "data": [
        {
         "line": {
          "color": "steelblue",
          "dash": "solid",
          "width": 1
         },
         "name": "Low 2007",
         "type": "scatter",
         "x": [
          0,
          1,
          2,
          3,
          4,
          5,
          6,
          7,
          8,
          9,
          10,
          11,
          12,
          13,
          14,
          15,
          16,
          17,
          18,
          19,
          20,
          21,
          22,
          23,
          24,
          25,
          26,
          27,
          28,
          29,
          30,
          31,
          32,
          33,
          34,
          35,
          36,
          37,
          38,
          39,
          40,
          41,
          42,
          43,
          44,
          45,
          46,
          47,
          48,
          49,
          50,
          51,
          52,
          53,
          54,
          55,
          56,
          57,
          58,
          59,
          60,
          61,
          62,
          63,
          64,
          65,
          66,
          67,
          68,
          69,
          70,
          71,
          72,
          73,
          74,
          75,
          76,
          77,
          78,
          79,
          80,
          81,
          82,
          83,
          84,
          85,
          86,
          87,
          88,
          89,
          90,
          91,
          92,
          93,
          94,
          95,
          96,
          97,
          98,
          99
         ],
         "y": [
          1,
          1,
          1,
          1,
          1,
          1,
          1,
          1,
          1,
          1,
          0,
          0,
          1,
          1,
          1,
          1,
          1,
          1,
          1,
          0,
          0,
          0,
          0,
          0,
          0,
          0,
          0,
          1,
          1,
          1,
          1,
          1,
          1,
          1,
          1,
          0,
          1,
          1,
          1,
          1,
          0,
          0,
          0,
          0,
          0,
          1,
          1,
          1,
          1,
          1,
          1,
          0,
          0,
          0,
          0,
          0,
          0,
          1,
          1,
          1,
          1,
          1,
          1,
          0,
          0,
          0,
          0,
          0,
          1,
          1,
          0,
          0,
          0,
          0,
          0,
          0,
          1,
          1,
          1,
          1,
          1,
          1,
          1,
          0,
          0,
          0,
          0,
          0,
          1,
          1,
          1,
          1,
          1,
          0,
          0,
          0,
          0,
          0,
          0,
          0
         ]
        }
       ],
       "layout": {
        "height": 500,
        "legend": {
         "x": 0.01,
         "xanchor": "right",
         "y": 0.99,
         "yanchor": "bottom"
        },
        "shapes": [
         {
          "line": {
           "color": "#800000",
           "dash": "dash",
           "width": 1
          },
          "type": "line",
          "x0": 10,
          "x1": 10,
          "xref": "x",
          "y0": 0,
          "y1": 1,
          "yref": "y domain"
         },
         {
          "line": {
           "color": "#800000",
           "dash": "dash",
           "width": 1
          },
          "type": "line",
          "x0": 19,
          "x1": 19,
          "xref": "x",
          "y0": 0,
          "y1": 1,
          "yref": "y domain"
         },
         {
          "line": {
           "color": "#800000",
           "dash": "dash",
           "width": 1
          },
          "type": "line",
          "x0": 27,
          "x1": 27,
          "xref": "x",
          "y0": 0,
          "y1": 1,
          "yref": "y domain"
         },
         {
          "line": {
           "color": "#800000",
           "dash": "dash",
           "width": 1
          },
          "type": "line",
          "x0": 35,
          "x1": 35,
          "xref": "x",
          "y0": 0,
          "y1": 1,
          "yref": "y domain"
         },
         {
          "line": {
           "color": "#800000",
           "dash": "dash",
           "width": 1
          },
          "type": "line",
          "x0": 40,
          "x1": 40,
          "xref": "x",
          "y0": 0,
          "y1": 1,
          "yref": "y domain"
         },
         {
          "line": {
           "color": "#800000",
           "dash": "dash",
           "width": 1
          },
          "type": "line",
          "x0": 45,
          "x1": 45,
          "xref": "x",
          "y0": 0,
          "y1": 1,
          "yref": "y domain"
         },
         {
          "line": {
           "color": "#800000",
           "dash": "dash",
           "width": 1
          },
          "type": "line",
          "x0": 51,
          "x1": 51,
          "xref": "x",
          "y0": 0,
          "y1": 1,
          "yref": "y domain"
         },
         {
          "line": {
           "color": "#800000",
           "dash": "dash",
           "width": 1
          },
          "type": "line",
          "x0": 57,
          "x1": 57,
          "xref": "x",
          "y0": 0,
          "y1": 1,
          "yref": "y domain"
         },
         {
          "line": {
           "color": "#800000",
           "dash": "dash",
           "width": 1
          },
          "type": "line",
          "x0": 63,
          "x1": 63,
          "xref": "x",
          "y0": 0,
          "y1": 1,
          "yref": "y domain"
         },
         {
          "line": {
           "color": "#800000",
           "dash": "dash",
           "width": 1
          },
          "type": "line",
          "x0": 70,
          "x1": 70,
          "xref": "x",
          "y0": 0,
          "y1": 1,
          "yref": "y domain"
         },
         {
          "line": {
           "color": "#800000",
           "dash": "dash",
           "width": 1
          },
          "type": "line",
          "x0": 76,
          "x1": 76,
          "xref": "x",
          "y0": 0,
          "y1": 1,
          "yref": "y domain"
         },
         {
          "line": {
           "color": "#800000",
           "dash": "dash",
           "width": 1
          },
          "type": "line",
          "x0": 83,
          "x1": 83,
          "xref": "x",
          "y0": 0,
          "y1": 1,
          "yref": "y domain"
         },
         {
          "line": {
           "color": "#800000",
           "dash": "dash",
           "width": 1
          },
          "type": "line",
          "x0": 88,
          "x1": 88,
          "xref": "x",
          "y0": 0,
          "y1": 1,
          "yref": "y domain"
         },
         {
          "line": {
           "color": "#800000",
           "dash": "dash",
           "width": 1
          },
          "type": "line",
          "x0": 93,
          "x1": 93,
          "xref": "x",
          "y0": 0,
          "y1": 1,
          "yref": "y domain"
         }
        ],
        "template": {
         "data": {
          "bar": [
           {
            "error_x": {
             "color": "#2a3f5f"
            },
            "error_y": {
             "color": "#2a3f5f"
            },
            "marker": {
             "line": {
              "color": "white",
              "width": 0.5
             }
            },
            "type": "bar"
           }
          ],
          "barpolar": [
           {
            "marker": {
             "line": {
              "color": "white",
              "width": 0.5
             }
            },
            "type": "barpolar"
           }
          ],
          "carpet": [
           {
            "aaxis": {
             "endlinecolor": "#2a3f5f",
             "gridcolor": "#C8D4E3",
             "linecolor": "#C8D4E3",
             "minorgridcolor": "#C8D4E3",
             "startlinecolor": "#2a3f5f"
            },
            "baxis": {
             "endlinecolor": "#2a3f5f",
             "gridcolor": "#C8D4E3",
             "linecolor": "#C8D4E3",
             "minorgridcolor": "#C8D4E3",
             "startlinecolor": "#2a3f5f"
            },
            "type": "carpet"
           }
          ],
          "choropleth": [
           {
            "colorbar": {
             "outlinewidth": 0,
             "ticks": ""
            },
            "type": "choropleth"
           }
          ],
          "contour": [
           {
            "colorbar": {
             "outlinewidth": 0,
             "ticks": ""
            },
            "colorscale": [
             [
              0,
              "#0d0887"
             ],
             [
              0.1111111111111111,
              "#46039f"
             ],
             [
              0.2222222222222222,
              "#7201a8"
             ],
             [
              0.3333333333333333,
              "#9c179e"
             ],
             [
              0.4444444444444444,
              "#bd3786"
             ],
             [
              0.5555555555555556,
              "#d8576b"
             ],
             [
              0.6666666666666666,
              "#ed7953"
             ],
             [
              0.7777777777777778,
              "#fb9f3a"
             ],
             [
              0.8888888888888888,
              "#fdca26"
             ],
             [
              1,
              "#f0f921"
             ]
            ],
            "type": "contour"
           }
          ],
          "contourcarpet": [
           {
            "colorbar": {
             "outlinewidth": 0,
             "ticks": ""
            },
            "type": "contourcarpet"
           }
          ],
          "heatmap": [
           {
            "colorbar": {
             "outlinewidth": 0,
             "ticks": ""
            },
            "colorscale": [
             [
              0,
              "#0d0887"
             ],
             [
              0.1111111111111111,
              "#46039f"
             ],
             [
              0.2222222222222222,
              "#7201a8"
             ],
             [
              0.3333333333333333,
              "#9c179e"
             ],
             [
              0.4444444444444444,
              "#bd3786"
             ],
             [
              0.5555555555555556,
              "#d8576b"
             ],
             [
              0.6666666666666666,
              "#ed7953"
             ],
             [
              0.7777777777777778,
              "#fb9f3a"
             ],
             [
              0.8888888888888888,
              "#fdca26"
             ],
             [
              1,
              "#f0f921"
             ]
            ],
            "type": "heatmap"
           }
          ],
          "heatmapgl": [
           {
            "colorbar": {
             "outlinewidth": 0,
             "ticks": ""
            },
            "colorscale": [
             [
              0,
              "#0d0887"
             ],
             [
              0.1111111111111111,
              "#46039f"
             ],
             [
              0.2222222222222222,
              "#7201a8"
             ],
             [
              0.3333333333333333,
              "#9c179e"
             ],
             [
              0.4444444444444444,
              "#bd3786"
             ],
             [
              0.5555555555555556,
              "#d8576b"
             ],
             [
              0.6666666666666666,
              "#ed7953"
             ],
             [
              0.7777777777777778,
              "#fb9f3a"
             ],
             [
              0.8888888888888888,
              "#fdca26"
             ],
             [
              1,
              "#f0f921"
             ]
            ],
            "type": "heatmapgl"
           }
          ],
          "histogram": [
           {
            "marker": {
             "colorbar": {
              "outlinewidth": 0,
              "ticks": ""
             }
            },
            "type": "histogram"
           }
          ],
          "histogram2d": [
           {
            "colorbar": {
             "outlinewidth": 0,
             "ticks": ""
            },
            "colorscale": [
             [
              0,
              "#0d0887"
             ],
             [
              0.1111111111111111,
              "#46039f"
             ],
             [
              0.2222222222222222,
              "#7201a8"
             ],
             [
              0.3333333333333333,
              "#9c179e"
             ],
             [
              0.4444444444444444,
              "#bd3786"
             ],
             [
              0.5555555555555556,
              "#d8576b"
             ],
             [
              0.6666666666666666,
              "#ed7953"
             ],
             [
              0.7777777777777778,
              "#fb9f3a"
             ],
             [
              0.8888888888888888,
              "#fdca26"
             ],
             [
              1,
              "#f0f921"
             ]
            ],
            "type": "histogram2d"
           }
          ],
          "histogram2dcontour": [
           {
            "colorbar": {
             "outlinewidth": 0,
             "ticks": ""
            },
            "colorscale": [
             [
              0,
              "#0d0887"
             ],
             [
              0.1111111111111111,
              "#46039f"
             ],
             [
              0.2222222222222222,
              "#7201a8"
             ],
             [
              0.3333333333333333,
              "#9c179e"
             ],
             [
              0.4444444444444444,
              "#bd3786"
             ],
             [
              0.5555555555555556,
              "#d8576b"
             ],
             [
              0.6666666666666666,
              "#ed7953"
             ],
             [
              0.7777777777777778,
              "#fb9f3a"
             ],
             [
              0.8888888888888888,
              "#fdca26"
             ],
             [
              1,
              "#f0f921"
             ]
            ],
            "type": "histogram2dcontour"
           }
          ],
          "mesh3d": [
           {
            "colorbar": {
             "outlinewidth": 0,
             "ticks": ""
            },
            "type": "mesh3d"
           }
          ],
          "parcoords": [
           {
            "line": {
             "colorbar": {
              "outlinewidth": 0,
              "ticks": ""
             }
            },
            "type": "parcoords"
           }
          ],
          "pie": [
           {
            "automargin": true,
            "type": "pie"
           }
          ],
          "scatter": [
           {
            "marker": {
             "colorbar": {
              "outlinewidth": 0,
              "ticks": ""
             }
            },
            "type": "scatter"
           }
          ],
          "scatter3d": [
           {
            "line": {
             "colorbar": {
              "outlinewidth": 0,
              "ticks": ""
             }
            },
            "marker": {
             "colorbar": {
              "outlinewidth": 0,
              "ticks": ""
             }
            },
            "type": "scatter3d"
           }
          ],
          "scattercarpet": [
           {
            "marker": {
             "colorbar": {
              "outlinewidth": 0,
              "ticks": ""
             }
            },
            "type": "scattercarpet"
           }
          ],
          "scattergeo": [
           {
            "marker": {
             "colorbar": {
              "outlinewidth": 0,
              "ticks": ""
             }
            },
            "type": "scattergeo"
           }
          ],
          "scattergl": [
           {
            "marker": {
             "colorbar": {
              "outlinewidth": 0,
              "ticks": ""
             }
            },
            "type": "scattergl"
           }
          ],
          "scattermapbox": [
           {
            "marker": {
             "colorbar": {
              "outlinewidth": 0,
              "ticks": ""
             }
            },
            "type": "scattermapbox"
           }
          ],
          "scatterpolar": [
           {
            "marker": {
             "colorbar": {
              "outlinewidth": 0,
              "ticks": ""
             }
            },
            "type": "scatterpolar"
           }
          ],
          "scatterpolargl": [
           {
            "marker": {
             "colorbar": {
              "outlinewidth": 0,
              "ticks": ""
             }
            },
            "type": "scatterpolargl"
           }
          ],
          "scatterternary": [
           {
            "marker": {
             "colorbar": {
              "outlinewidth": 0,
              "ticks": ""
             }
            },
            "type": "scatterternary"
           }
          ],
          "surface": [
           {
            "colorbar": {
             "outlinewidth": 0,
             "ticks": ""
            },
            "colorscale": [
             [
              0,
              "#0d0887"
             ],
             [
              0.1111111111111111,
              "#46039f"
             ],
             [
              0.2222222222222222,
              "#7201a8"
             ],
             [
              0.3333333333333333,
              "#9c179e"
             ],
             [
              0.4444444444444444,
              "#bd3786"
             ],
             [
              0.5555555555555556,
              "#d8576b"
             ],
             [
              0.6666666666666666,
              "#ed7953"
             ],
             [
              0.7777777777777778,
              "#fb9f3a"
             ],
             [
              0.8888888888888888,
              "#fdca26"
             ],
             [
              1,
              "#f0f921"
             ]
            ],
            "type": "surface"
           }
          ],
          "table": [
           {
            "cells": {
             "fill": {
              "color": "#EBF0F8"
             },
             "line": {
              "color": "white"
             }
            },
            "header": {
             "fill": {
              "color": "#C8D4E3"
             },
             "line": {
              "color": "white"
             }
            },
            "type": "table"
           }
          ]
         },
         "layout": {
          "annotationdefaults": {
           "arrowcolor": "#2a3f5f",
           "arrowhead": 0,
           "arrowwidth": 1
          },
          "autotypenumbers": "strict",
          "coloraxis": {
           "colorbar": {
            "outlinewidth": 0,
            "ticks": ""
           }
          },
          "colorscale": {
           "diverging": [
            [
             0,
             "#8e0152"
            ],
            [
             0.1,
             "#c51b7d"
            ],
            [
             0.2,
             "#de77ae"
            ],
            [
             0.3,
             "#f1b6da"
            ],
            [
             0.4,
             "#fde0ef"
            ],
            [
             0.5,
             "#f7f7f7"
            ],
            [
             0.6,
             "#e6f5d0"
            ],
            [
             0.7,
             "#b8e186"
            ],
            [
             0.8,
             "#7fbc41"
            ],
            [
             0.9,
             "#4d9221"
            ],
            [
             1,
             "#276419"
            ]
           ],
           "sequential": [
            [
             0,
             "#0d0887"
            ],
            [
             0.1111111111111111,
             "#46039f"
            ],
            [
             0.2222222222222222,
             "#7201a8"
            ],
            [
             0.3333333333333333,
             "#9c179e"
            ],
            [
             0.4444444444444444,
             "#bd3786"
            ],
            [
             0.5555555555555556,
             "#d8576b"
            ],
            [
             0.6666666666666666,
             "#ed7953"
            ],
            [
             0.7777777777777778,
             "#fb9f3a"
            ],
            [
             0.8888888888888888,
             "#fdca26"
            ],
            [
             1,
             "#f0f921"
            ]
           ],
           "sequentialminus": [
            [
             0,
             "#0d0887"
            ],
            [
             0.1111111111111111,
             "#46039f"
            ],
            [
             0.2222222222222222,
             "#7201a8"
            ],
            [
             0.3333333333333333,
             "#9c179e"
            ],
            [
             0.4444444444444444,
             "#bd3786"
            ],
            [
             0.5555555555555556,
             "#d8576b"
            ],
            [
             0.6666666666666666,
             "#ed7953"
            ],
            [
             0.7777777777777778,
             "#fb9f3a"
            ],
            [
             0.8888888888888888,
             "#fdca26"
            ],
            [
             1,
             "#f0f921"
            ]
           ]
          },
          "colorway": [
           "#636efa",
           "#EF553B",
           "#00cc96",
           "#ab63fa",
           "#FFA15A",
           "#19d3f3",
           "#FF6692",
           "#B6E880",
           "#FF97FF",
           "#FECB52"
          ],
          "font": {
           "color": "#2a3f5f"
          },
          "geo": {
           "bgcolor": "white",
           "lakecolor": "white",
           "landcolor": "white",
           "showlakes": true,
           "showland": true,
           "subunitcolor": "#C8D4E3"
          },
          "hoverlabel": {
           "align": "left"
          },
          "hovermode": "closest",
          "mapbox": {
           "style": "light"
          },
          "paper_bgcolor": "white",
          "plot_bgcolor": "white",
          "polar": {
           "angularaxis": {
            "gridcolor": "#EBF0F8",
            "linecolor": "#EBF0F8",
            "ticks": ""
           },
           "bgcolor": "white",
           "radialaxis": {
            "gridcolor": "#EBF0F8",
            "linecolor": "#EBF0F8",
            "ticks": ""
           }
          },
          "scene": {
           "xaxis": {
            "backgroundcolor": "white",
            "gridcolor": "#DFE8F3",
            "gridwidth": 2,
            "linecolor": "#EBF0F8",
            "showbackground": true,
            "ticks": "",
            "zerolinecolor": "#EBF0F8"
           },
           "yaxis": {
            "backgroundcolor": "white",
            "gridcolor": "#DFE8F3",
            "gridwidth": 2,
            "linecolor": "#EBF0F8",
            "showbackground": true,
            "ticks": "",
            "zerolinecolor": "#EBF0F8"
           },
           "zaxis": {
            "backgroundcolor": "white",
            "gridcolor": "#DFE8F3",
            "gridwidth": 2,
            "linecolor": "#EBF0F8",
            "showbackground": true,
            "ticks": "",
            "zerolinecolor": "#EBF0F8"
           }
          },
          "shapedefaults": {
           "line": {
            "color": "#2a3f5f"
           }
          },
          "ternary": {
           "aaxis": {
            "gridcolor": "#DFE8F3",
            "linecolor": "#A2B1C6",
            "ticks": ""
           },
           "baxis": {
            "gridcolor": "#DFE8F3",
            "linecolor": "#A2B1C6",
            "ticks": ""
           },
           "bgcolor": "white",
           "caxis": {
            "gridcolor": "#DFE8F3",
            "linecolor": "#A2B1C6",
            "ticks": ""
           }
          },
          "title": {
           "x": 0.05
          },
          "xaxis": {
           "automargin": true,
           "gridcolor": "#EBF0F8",
           "linecolor": "#EBF0F8",
           "ticks": "",
           "title": {
            "standoff": 15
           },
           "zerolinecolor": "#EBF0F8",
           "zerolinewidth": 2
          },
          "yaxis": {
           "automargin": true,
           "gridcolor": "#EBF0F8",
           "linecolor": "#EBF0F8",
           "ticks": "",
           "title": {
            "standoff": 15
           },
           "zerolinecolor": "#EBF0F8",
           "zerolinewidth": 2
          }
         }
        },
        "title": {
         "text": "RL Agents Performance"
        },
        "width": 900
       }
      }
     },
     "metadata": {}
    }
   ],
   "source": [
    "wcst = WCST_Environment(all_items)\n",
    "batch = wcst.batch(100)\n",
    "\n",
    "rl = RL_Instance(wcst_instance=wcst)\n",
    "# rl.forward(batch)\n",
    "# rl.a_t\n",
    "\n",
    "rl.train(batch)\n",
    "rl.visualize_training()"
   ]
  },
  {
   "cell_type": "code",
   "execution_count": 152,
   "metadata": {},
   "outputs": [
    {
     "output_type": "display_data",
     "data": {
      "application/vnd.plotly.v1+json": {
       "config": {
        "plotlyServerURL": "https://plot.ly"
       },
       "data": [
        {
         "line": {
          "color": "steelblue",
          "dash": "solid",
          "width": 1
         },
         "name": "Low 2007",
         "type": "scatter",
         "x": [
          0,
          1,
          2,
          3,
          4,
          5,
          6,
          7,
          8,
          9,
          10,
          11,
          12,
          13,
          14,
          15,
          16,
          17,
          18,
          19,
          20,
          21,
          22,
          23,
          24,
          25,
          26,
          27,
          28,
          29,
          30,
          31,
          32,
          33,
          34,
          35,
          36,
          37,
          38,
          39,
          40,
          41,
          42,
          43,
          44,
          45,
          46,
          47,
          48,
          49,
          50,
          51,
          52,
          53,
          54,
          55,
          56,
          57,
          58,
          59,
          60,
          61,
          62,
          63,
          64,
          65,
          66,
          67,
          68,
          69,
          70,
          71,
          72,
          73,
          74,
          75,
          76,
          77,
          78,
          79,
          80,
          81,
          82,
          83,
          84,
          85,
          86,
          87,
          88,
          89,
          90,
          91,
          92,
          93,
          94,
          95,
          96,
          97,
          98,
          99
         ],
         "y": [
          1,
          1,
          1,
          1,
          1,
          1,
          1,
          1,
          1,
          1,
          0,
          0,
          1,
          1,
          1,
          1,
          1,
          1,
          1,
          0,
          0,
          0,
          0,
          0,
          0,
          0,
          0,
          1,
          1,
          1,
          1,
          1,
          1,
          1,
          1,
          0,
          1,
          1,
          1,
          1,
          0,
          0,
          0,
          0,
          0,
          1,
          1,
          1,
          1,
          1,
          1,
          0,
          0,
          0,
          0,
          0,
          0,
          1,
          1,
          1,
          1,
          1,
          1,
          0,
          0,
          0,
          0,
          0,
          1,
          1,
          0,
          0,
          0,
          0,
          0,
          0,
          1,
          1,
          1,
          1,
          1,
          1,
          1,
          0,
          0,
          0,
          0,
          0,
          1,
          1,
          1,
          1,
          1,
          0,
          0,
          0,
          0,
          0,
          0,
          0
         ]
        }
       ],
       "layout": {
        "height": 500,
        "legend": {
         "x": 0.01,
         "xanchor": "right",
         "y": 0.99,
         "yanchor": "bottom"
        },
        "shapes": [
         {
          "line": {
           "color": "#800000",
           "dash": "dash",
           "width": 1
          },
          "type": "line",
          "x0": 10,
          "x1": 10,
          "xref": "x",
          "y0": 0,
          "y1": 1,
          "yref": "y domain"
         },
         {
          "line": {
           "color": "#800000",
           "dash": "dash",
           "width": 1
          },
          "type": "line",
          "x0": 19,
          "x1": 19,
          "xref": "x",
          "y0": 0,
          "y1": 1,
          "yref": "y domain"
         },
         {
          "line": {
           "color": "#800000",
           "dash": "dash",
           "width": 1
          },
          "type": "line",
          "x0": 27,
          "x1": 27,
          "xref": "x",
          "y0": 0,
          "y1": 1,
          "yref": "y domain"
         },
         {
          "line": {
           "color": "#800000",
           "dash": "dash",
           "width": 1
          },
          "type": "line",
          "x0": 35,
          "x1": 35,
          "xref": "x",
          "y0": 0,
          "y1": 1,
          "yref": "y domain"
         },
         {
          "line": {
           "color": "#800000",
           "dash": "dash",
           "width": 1
          },
          "type": "line",
          "x0": 40,
          "x1": 40,
          "xref": "x",
          "y0": 0,
          "y1": 1,
          "yref": "y domain"
         },
         {
          "line": {
           "color": "#800000",
           "dash": "dash",
           "width": 1
          },
          "type": "line",
          "x0": 45,
          "x1": 45,
          "xref": "x",
          "y0": 0,
          "y1": 1,
          "yref": "y domain"
         },
         {
          "line": {
           "color": "#800000",
           "dash": "dash",
           "width": 1
          },
          "type": "line",
          "x0": 51,
          "x1": 51,
          "xref": "x",
          "y0": 0,
          "y1": 1,
          "yref": "y domain"
         },
         {
          "line": {
           "color": "#800000",
           "dash": "dash",
           "width": 1
          },
          "type": "line",
          "x0": 57,
          "x1": 57,
          "xref": "x",
          "y0": 0,
          "y1": 1,
          "yref": "y domain"
         },
         {
          "line": {
           "color": "#800000",
           "dash": "dash",
           "width": 1
          },
          "type": "line",
          "x0": 63,
          "x1": 63,
          "xref": "x",
          "y0": 0,
          "y1": 1,
          "yref": "y domain"
         },
         {
          "line": {
           "color": "#800000",
           "dash": "dash",
           "width": 1
          },
          "type": "line",
          "x0": 70,
          "x1": 70,
          "xref": "x",
          "y0": 0,
          "y1": 1,
          "yref": "y domain"
         },
         {
          "line": {
           "color": "#800000",
           "dash": "dash",
           "width": 1
          },
          "type": "line",
          "x0": 76,
          "x1": 76,
          "xref": "x",
          "y0": 0,
          "y1": 1,
          "yref": "y domain"
         },
         {
          "line": {
           "color": "#800000",
           "dash": "dash",
           "width": 1
          },
          "type": "line",
          "x0": 83,
          "x1": 83,
          "xref": "x",
          "y0": 0,
          "y1": 1,
          "yref": "y domain"
         },
         {
          "line": {
           "color": "#800000",
           "dash": "dash",
           "width": 1
          },
          "type": "line",
          "x0": 88,
          "x1": 88,
          "xref": "x",
          "y0": 0,
          "y1": 1,
          "yref": "y domain"
         },
         {
          "line": {
           "color": "#800000",
           "dash": "dash",
           "width": 1
          },
          "type": "line",
          "x0": 93,
          "x1": 93,
          "xref": "x",
          "y0": 0,
          "y1": 1,
          "yref": "y domain"
         }
        ],
        "template": {
         "data": {
          "bar": [
           {
            "error_x": {
             "color": "#2a3f5f"
            },
            "error_y": {
             "color": "#2a3f5f"
            },
            "marker": {
             "line": {
              "color": "white",
              "width": 0.5
             }
            },
            "type": "bar"
           }
          ],
          "barpolar": [
           {
            "marker": {
             "line": {
              "color": "white",
              "width": 0.5
             }
            },
            "type": "barpolar"
           }
          ],
          "carpet": [
           {
            "aaxis": {
             "endlinecolor": "#2a3f5f",
             "gridcolor": "#C8D4E3",
             "linecolor": "#C8D4E3",
             "minorgridcolor": "#C8D4E3",
             "startlinecolor": "#2a3f5f"
            },
            "baxis": {
             "endlinecolor": "#2a3f5f",
             "gridcolor": "#C8D4E3",
             "linecolor": "#C8D4E3",
             "minorgridcolor": "#C8D4E3",
             "startlinecolor": "#2a3f5f"
            },
            "type": "carpet"
           }
          ],
          "choropleth": [
           {
            "colorbar": {
             "outlinewidth": 0,
             "ticks": ""
            },
            "type": "choropleth"
           }
          ],
          "contour": [
           {
            "colorbar": {
             "outlinewidth": 0,
             "ticks": ""
            },
            "colorscale": [
             [
              0,
              "#0d0887"
             ],
             [
              0.1111111111111111,
              "#46039f"
             ],
             [
              0.2222222222222222,
              "#7201a8"
             ],
             [
              0.3333333333333333,
              "#9c179e"
             ],
             [
              0.4444444444444444,
              "#bd3786"
             ],
             [
              0.5555555555555556,
              "#d8576b"
             ],
             [
              0.6666666666666666,
              "#ed7953"
             ],
             [
              0.7777777777777778,
              "#fb9f3a"
             ],
             [
              0.8888888888888888,
              "#fdca26"
             ],
             [
              1,
              "#f0f921"
             ]
            ],
            "type": "contour"
           }
          ],
          "contourcarpet": [
           {
            "colorbar": {
             "outlinewidth": 0,
             "ticks": ""
            },
            "type": "contourcarpet"
           }
          ],
          "heatmap": [
           {
            "colorbar": {
             "outlinewidth": 0,
             "ticks": ""
            },
            "colorscale": [
             [
              0,
              "#0d0887"
             ],
             [
              0.1111111111111111,
              "#46039f"
             ],
             [
              0.2222222222222222,
              "#7201a8"
             ],
             [
              0.3333333333333333,
              "#9c179e"
             ],
             [
              0.4444444444444444,
              "#bd3786"
             ],
             [
              0.5555555555555556,
              "#d8576b"
             ],
             [
              0.6666666666666666,
              "#ed7953"
             ],
             [
              0.7777777777777778,
              "#fb9f3a"
             ],
             [
              0.8888888888888888,
              "#fdca26"
             ],
             [
              1,
              "#f0f921"
             ]
            ],
            "type": "heatmap"
           }
          ],
          "heatmapgl": [
           {
            "colorbar": {
             "outlinewidth": 0,
             "ticks": ""
            },
            "colorscale": [
             [
              0,
              "#0d0887"
             ],
             [
              0.1111111111111111,
              "#46039f"
             ],
             [
              0.2222222222222222,
              "#7201a8"
             ],
             [
              0.3333333333333333,
              "#9c179e"
             ],
             [
              0.4444444444444444,
              "#bd3786"
             ],
             [
              0.5555555555555556,
              "#d8576b"
             ],
             [
              0.6666666666666666,
              "#ed7953"
             ],
             [
              0.7777777777777778,
              "#fb9f3a"
             ],
             [
              0.8888888888888888,
              "#fdca26"
             ],
             [
              1,
              "#f0f921"
             ]
            ],
            "type": "heatmapgl"
           }
          ],
          "histogram": [
           {
            "marker": {
             "colorbar": {
              "outlinewidth": 0,
              "ticks": ""
             }
            },
            "type": "histogram"
           }
          ],
          "histogram2d": [
           {
            "colorbar": {
             "outlinewidth": 0,
             "ticks": ""
            },
            "colorscale": [
             [
              0,
              "#0d0887"
             ],
             [
              0.1111111111111111,
              "#46039f"
             ],
             [
              0.2222222222222222,
              "#7201a8"
             ],
             [
              0.3333333333333333,
              "#9c179e"
             ],
             [
              0.4444444444444444,
              "#bd3786"
             ],
             [
              0.5555555555555556,
              "#d8576b"
             ],
             [
              0.6666666666666666,
              "#ed7953"
             ],
             [
              0.7777777777777778,
              "#fb9f3a"
             ],
             [
              0.8888888888888888,
              "#fdca26"
             ],
             [
              1,
              "#f0f921"
             ]
            ],
            "type": "histogram2d"
           }
          ],
          "histogram2dcontour": [
           {
            "colorbar": {
             "outlinewidth": 0,
             "ticks": ""
            },
            "colorscale": [
             [
              0,
              "#0d0887"
             ],
             [
              0.1111111111111111,
              "#46039f"
             ],
             [
              0.2222222222222222,
              "#7201a8"
             ],
             [
              0.3333333333333333,
              "#9c179e"
             ],
             [
              0.4444444444444444,
              "#bd3786"
             ],
             [
              0.5555555555555556,
              "#d8576b"
             ],
             [
              0.6666666666666666,
              "#ed7953"
             ],
             [
              0.7777777777777778,
              "#fb9f3a"
             ],
             [
              0.8888888888888888,
              "#fdca26"
             ],
             [
              1,
              "#f0f921"
             ]
            ],
            "type": "histogram2dcontour"
           }
          ],
          "mesh3d": [
           {
            "colorbar": {
             "outlinewidth": 0,
             "ticks": ""
            },
            "type": "mesh3d"
           }
          ],
          "parcoords": [
           {
            "line": {
             "colorbar": {
              "outlinewidth": 0,
              "ticks": ""
             }
            },
            "type": "parcoords"
           }
          ],
          "pie": [
           {
            "automargin": true,
            "type": "pie"
           }
          ],
          "scatter": [
           {
            "marker": {
             "colorbar": {
              "outlinewidth": 0,
              "ticks": ""
             }
            },
            "type": "scatter"
           }
          ],
          "scatter3d": [
           {
            "line": {
             "colorbar": {
              "outlinewidth": 0,
              "ticks": ""
             }
            },
            "marker": {
             "colorbar": {
              "outlinewidth": 0,
              "ticks": ""
             }
            },
            "type": "scatter3d"
           }
          ],
          "scattercarpet": [
           {
            "marker": {
             "colorbar": {
              "outlinewidth": 0,
              "ticks": ""
             }
            },
            "type": "scattercarpet"
           }
          ],
          "scattergeo": [
           {
            "marker": {
             "colorbar": {
              "outlinewidth": 0,
              "ticks": ""
             }
            },
            "type": "scattergeo"
           }
          ],
          "scattergl": [
           {
            "marker": {
             "colorbar": {
              "outlinewidth": 0,
              "ticks": ""
             }
            },
            "type": "scattergl"
           }
          ],
          "scattermapbox": [
           {
            "marker": {
             "colorbar": {
              "outlinewidth": 0,
              "ticks": ""
             }
            },
            "type": "scattermapbox"
           }
          ],
          "scatterpolar": [
           {
            "marker": {
             "colorbar": {
              "outlinewidth": 0,
              "ticks": ""
             }
            },
            "type": "scatterpolar"
           }
          ],
          "scatterpolargl": [
           {
            "marker": {
             "colorbar": {
              "outlinewidth": 0,
              "ticks": ""
             }
            },
            "type": "scatterpolargl"
           }
          ],
          "scatterternary": [
           {
            "marker": {
             "colorbar": {
              "outlinewidth": 0,
              "ticks": ""
             }
            },
            "type": "scatterternary"
           }
          ],
          "surface": [
           {
            "colorbar": {
             "outlinewidth": 0,
             "ticks": ""
            },
            "colorscale": [
             [
              0,
              "#0d0887"
             ],
             [
              0.1111111111111111,
              "#46039f"
             ],
             [
              0.2222222222222222,
              "#7201a8"
             ],
             [
              0.3333333333333333,
              "#9c179e"
             ],
             [
              0.4444444444444444,
              "#bd3786"
             ],
             [
              0.5555555555555556,
              "#d8576b"
             ],
             [
              0.6666666666666666,
              "#ed7953"
             ],
             [
              0.7777777777777778,
              "#fb9f3a"
             ],
             [
              0.8888888888888888,
              "#fdca26"
             ],
             [
              1,
              "#f0f921"
             ]
            ],
            "type": "surface"
           }
          ],
          "table": [
           {
            "cells": {
             "fill": {
              "color": "#EBF0F8"
             },
             "line": {
              "color": "white"
             }
            },
            "header": {
             "fill": {
              "color": "#C8D4E3"
             },
             "line": {
              "color": "white"
             }
            },
            "type": "table"
           }
          ]
         },
         "layout": {
          "annotationdefaults": {
           "arrowcolor": "#2a3f5f",
           "arrowhead": 0,
           "arrowwidth": 1
          },
          "autotypenumbers": "strict",
          "coloraxis": {
           "colorbar": {
            "outlinewidth": 0,
            "ticks": ""
           }
          },
          "colorscale": {
           "diverging": [
            [
             0,
             "#8e0152"
            ],
            [
             0.1,
             "#c51b7d"
            ],
            [
             0.2,
             "#de77ae"
            ],
            [
             0.3,
             "#f1b6da"
            ],
            [
             0.4,
             "#fde0ef"
            ],
            [
             0.5,
             "#f7f7f7"
            ],
            [
             0.6,
             "#e6f5d0"
            ],
            [
             0.7,
             "#b8e186"
            ],
            [
             0.8,
             "#7fbc41"
            ],
            [
             0.9,
             "#4d9221"
            ],
            [
             1,
             "#276419"
            ]
           ],
           "sequential": [
            [
             0,
             "#0d0887"
            ],
            [
             0.1111111111111111,
             "#46039f"
            ],
            [
             0.2222222222222222,
             "#7201a8"
            ],
            [
             0.3333333333333333,
             "#9c179e"
            ],
            [
             0.4444444444444444,
             "#bd3786"
            ],
            [
             0.5555555555555556,
             "#d8576b"
            ],
            [
             0.6666666666666666,
             "#ed7953"
            ],
            [
             0.7777777777777778,
             "#fb9f3a"
            ],
            [
             0.8888888888888888,
             "#fdca26"
            ],
            [
             1,
             "#f0f921"
            ]
           ],
           "sequentialminus": [
            [
             0,
             "#0d0887"
            ],
            [
             0.1111111111111111,
             "#46039f"
            ],
            [
             0.2222222222222222,
             "#7201a8"
            ],
            [
             0.3333333333333333,
             "#9c179e"
            ],
            [
             0.4444444444444444,
             "#bd3786"
            ],
            [
             0.5555555555555556,
             "#d8576b"
            ],
            [
             0.6666666666666666,
             "#ed7953"
            ],
            [
             0.7777777777777778,
             "#fb9f3a"
            ],
            [
             0.8888888888888888,
             "#fdca26"
            ],
            [
             1,
             "#f0f921"
            ]
           ]
          },
          "colorway": [
           "#636efa",
           "#EF553B",
           "#00cc96",
           "#ab63fa",
           "#FFA15A",
           "#19d3f3",
           "#FF6692",
           "#B6E880",
           "#FF97FF",
           "#FECB52"
          ],
          "font": {
           "color": "#2a3f5f"
          },
          "geo": {
           "bgcolor": "white",
           "lakecolor": "white",
           "landcolor": "white",
           "showlakes": true,
           "showland": true,
           "subunitcolor": "#C8D4E3"
          },
          "hoverlabel": {
           "align": "left"
          },
          "hovermode": "closest",
          "mapbox": {
           "style": "light"
          },
          "paper_bgcolor": "white",
          "plot_bgcolor": "white",
          "polar": {
           "angularaxis": {
            "gridcolor": "#EBF0F8",
            "linecolor": "#EBF0F8",
            "ticks": ""
           },
           "bgcolor": "white",
           "radialaxis": {
            "gridcolor": "#EBF0F8",
            "linecolor": "#EBF0F8",
            "ticks": ""
           }
          },
          "scene": {
           "xaxis": {
            "backgroundcolor": "white",
            "gridcolor": "#DFE8F3",
            "gridwidth": 2,
            "linecolor": "#EBF0F8",
            "showbackground": true,
            "ticks": "",
            "zerolinecolor": "#EBF0F8"
           },
           "yaxis": {
            "backgroundcolor": "white",
            "gridcolor": "#DFE8F3",
            "gridwidth": 2,
            "linecolor": "#EBF0F8",
            "showbackground": true,
            "ticks": "",
            "zerolinecolor": "#EBF0F8"
           },
           "zaxis": {
            "backgroundcolor": "white",
            "gridcolor": "#DFE8F3",
            "gridwidth": 2,
            "linecolor": "#EBF0F8",
            "showbackground": true,
            "ticks": "",
            "zerolinecolor": "#EBF0F8"
           }
          },
          "shapedefaults": {
           "line": {
            "color": "#2a3f5f"
           }
          },
          "ternary": {
           "aaxis": {
            "gridcolor": "#DFE8F3",
            "linecolor": "#A2B1C6",
            "ticks": ""
           },
           "baxis": {
            "gridcolor": "#DFE8F3",
            "linecolor": "#A2B1C6",
            "ticks": ""
           },
           "bgcolor": "white",
           "caxis": {
            "gridcolor": "#DFE8F3",
            "linecolor": "#A2B1C6",
            "ticks": ""
           }
          },
          "title": {
           "x": 0.05
          },
          "xaxis": {
           "automargin": true,
           "gridcolor": "#EBF0F8",
           "linecolor": "#EBF0F8",
           "ticks": "",
           "title": {
            "standoff": 15
           },
           "zerolinecolor": "#EBF0F8",
           "zerolinewidth": 2
          },
          "yaxis": {
           "automargin": true,
           "gridcolor": "#EBF0F8",
           "linecolor": "#EBF0F8",
           "ticks": "",
           "title": {
            "standoff": 15
           },
           "zerolinecolor": "#EBF0F8",
           "zerolinewidth": 2
          }
         }
        },
        "title": {
         "text": "RL Agents Performance"
        },
        "width": 900
       }
      }
     },
     "metadata": {}
    }
   ],
   "source": [
    "rl.visualize_training()"
   ]
  },
  {
   "source": [
    "# Next Steps\n",
    "\n",
    "How do we got from this baseline model to:\n",
    "- Incorporating experimental data \n",
    "- Capturing information from the other experiments\n",
    "- Capturing information from the other participants (Heirarchical Bayes)\n",
    "\n",
    "## Modeling Data\n",
    "\n",
    "Essentially fitting the this model to the data is equivalent to training the parameter $\\lambda$ - so that **the rate at which the action value approximations $Q_t(\\alpha)$ are updated - ie the HUMAN LEARNING RATE**\n",
    "\n",
    "$$Q_t = Q_{t-1} + \\lambda[r_t - Q_{t-1}]$$\n",
    "\n",
    "#### RPE - Reward Prediction Error: $r_t - Q_{t-1}$\n",
    "\n",
    "All subsequent steps are to the same effect, to add information about this learnign rate:\n",
    "- Additional experiments can be caputured to add information about different learning rates between individuals\n",
    "- The Heirarchical Bayes can be used to capture variation (information) across individuals\n",
    "\n",
    "\n",
    "## Problem\n",
    "\n",
    "The model is too simple! \n",
    "\n",
    "_It is completely reasonable to assume that all participants will act with a learning rate of $\\lambda=1$ as if they understand the rules they will simply default to the last correct choice, i.e. $\\lambda=1$_\n",
    "\n",
    "As such:\n",
    "\n",
    "_*No additional statistical attributees will capture additonal information variation - are the additional experiments superflous?*_\n",
    "\n",
    "## MSc Project Solution + Additional paper\n",
    "\n",
    "Abstract the model design phase to building statistical tools/machinery to handle different types of psychological data.\n",
    "\n",
    "1. How to handle RL learning problems\n",
    "2. How to capture variation across sample (Bayes)\n",
    "3. Additional Statistical Machinery\n",
    "\n",
    "\n",
    "\n",
    "# Final Remarks\n",
    " - EEG data & follow on work? Can I assist early?\n",
    "    - Format of the data?\n",
    " - Phd Application in December: Happy to help on any applications/modeling/programming design tasks for coauthorship.\n",
    " - @Jonathan & @Allan to inform modeling direction.\n",
    "\n",
    "# Thoughts?"
   ],
   "cell_type": "markdown",
   "metadata": {}
  },
  {
   "cell_type": "code",
   "execution_count": null,
   "metadata": {},
   "outputs": [],
   "source": []
  }
 ]
}
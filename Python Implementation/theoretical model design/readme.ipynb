{
 "metadata": {
  "language_info": {
   "codemirror_mode": {
    "name": "ipython",
    "version": 3
   },
   "file_extension": ".py",
   "mimetype": "text/x-python",
   "name": "python",
   "nbconvert_exporter": "python",
   "pygments_lexer": "ipython3",
   "version": 3
  },
  "orig_nbformat": 2
 },
 "nbformat": 4,
 "nbformat_minor": 2,
 "cells": [
  {
   "source": [
    "# Optimal Models\n",
    "\n",
    "Each task is, in theory, simple & as such we can readily derive optimal behaviour per task.\n",
    "\n",
    "\n",
    "This section includes:\n",
    "- Defines the optimal behaviour of each task\n",
    "- Implements this behaviour for a given dataset\n",
    "\n",
    "This will form the basis of the model architecture as the _*optimal parameters*_ will be converted into _*trainable_ parameters*.\n",
    "\n",
    "----\n",
    "\n",
    "\n",
    "## Section Structure\n",
    "\n",
    "A separate _.ipynb_ notebook file types per task, that provides both the theoretical description as well as the implementation.\n"
   ],
   "cell_type": "markdown",
   "metadata": {}
  }
 ]
}
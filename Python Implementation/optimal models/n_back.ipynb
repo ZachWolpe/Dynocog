{
 "metadata": {
  "language_info": {
   "codemirror_mode": {
    "name": "ipython",
    "version": 3
   },
   "file_extension": ".py",
   "mimetype": "text/x-python",
   "name": "python",
   "nbconvert_exporter": "python",
   "pygments_lexer": "ipython3",
   "version": 3
  },
  "orig_nbformat": 2
 },
 "nbformat": 4,
 "nbformat_minor": 2,
 "cells": [
  {
   "source": [
    "# N Back Task\n",
    "## Optimal Behaviour\n",
    "\n",
    "#### Deterministic Task\n",
    "\n",
    "The task is deterministic thus programming the best possible behaviour is trivial:\n",
    "- Store the sequence of information\n",
    "- Trigger if matches"
   ],
   "cell_type": "markdown",
   "metadata": {}
  },
  {
   "cell_type": "code",
   "execution_count": null,
   "metadata": {},
   "outputs": [],
   "source": []
  }
 ]
}
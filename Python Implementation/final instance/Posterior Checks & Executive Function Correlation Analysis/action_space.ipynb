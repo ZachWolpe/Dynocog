{
 "cells": [
  {
   "cell_type": "markdown",
   "metadata": {},
   "source": [
    "# Actions ~ BayesRL(X)\n",
    "\n",
    "Illustrate how the model drives behaviour.\n",
    "\n",
    "\n",
    "------\n",
    "\n",
    "```\n",
    "author:     Zach Wolpe\n",
    "email:      zach.wolpe@medibio.com.au\n",
    "date:       23 March 2022\n",
    "```\n",
    "\n",
    "-----\n"
   ]
  },
  {
   "cell_type": "code",
   "execution_count": 1,
   "metadata": {},
   "outputs": [],
   "source": [
    "from plotly.subplots import make_subplots\n",
    "import plotly.graph_objects as go\n",
    "import matplotlib.pyplot as plt\n",
    "import plotly.express as px\n",
    "from scipy import stats\n",
    "from tqdm import tqdm\n",
    "import pandas as pd\n",
    "import numpy as np\n",
    "import arviz as az\n",
    "import pickle \n",
    "import math\n",
    "# Load models\n",
    "loc = './final objects'"
   ]
  },
  {
   "cell_type": "code",
   "execution_count": 2,
   "metadata": {},
   "outputs": [],
   "source": [
    "loc = './final objects'\n",
    "# loc_data = '/Users/zachwolpe/Documents/Production/Dynocog/Python Implementation/final instance/data objects/final data objects'\n",
    "data_loc    = '/Users/zachwolpe/Documents/Production/Dynocog/Python Implementation/final instance/data objects/final data objects'\n",
    "model_loc   = '/Users/zachwolpe/Documents/Production/Dynocog/Python Implementation/final instance/data objects/final model objects'\n",
    "loc         = './final objects'"
   ]
  },
  {
   "cell_type": "markdown",
   "metadata": {},
   "source": [
    "# load data"
   ]
  },
  {
   "cell_type": "code",
   "execution_count": 3,
   "metadata": {},
   "outputs": [],
   "source": [
    "\n",
    "# bio models -----*\n",
    "bio_model_top = np.load(model_loc + '/null_model_top.npz', allow_pickle=True)\n",
    "bio_model_ran = np.load(model_loc + '/null_model_ran.npz', allow_pickle=True)\n",
    "\n",
    "# wcst data -----*\n",
    "wcst_top100     = pd.read_csv(data_loc + '/df_wcst_top_100.csv')\n",
    "wcst_ran100     = pd.read_csv(data_loc + '/df_wcst_ran_100.csv')\n",
    "\n",
    "# psychological covariates -----*\n",
    "psy_top100     = pd.read_csv(data_loc + '/psy_covars_top100.csv')\n",
    "psy_ran100     = pd.read_csv(data_loc + '/psy_covars_ran100.csv')\n",
    "\n",
    "# demographic covariates -----*\n",
    "dem_top100     = pd.read_csv(data_loc + '/dem_covars_top100.csv')\n",
    "dem_ran100     = pd.read_csv(data_loc + '/dem_covars_ran100.csv')\n",
    "# Bayesian Posterior Analysis\n",
    "# extract data ----------------------------------------*\n",
    "alpha   = pd.DataFrame.from_records(bio_model_top['arr_0'].tolist()['a'])\n",
    "beta    = pd.DataFrame.from_records(bio_model_top['arr_0'].tolist()['b'])\n",
    "\n",
    "a_mu  = bio_model_top['arr_0'].tolist()['a_mu']\n",
    "b_mu  = bio_model_top['arr_0'].tolist()['b_mu']\n",
    "a_sd  = bio_model_top['arr_0'].tolist()['a_sd_raw']\n",
    "b_sd  = bio_model_top['arr_0'].tolist()['b_sd_raw']\n",
    "\n",
    "\n",
    "\n",
    "def generate_data(bio_mod):\n",
    "    alpha   = pd.DataFrame.from_records(bio_mod['arr_0'].tolist()['a'])\n",
    "    beta    = pd.DataFrame.from_records(bio_mod['arr_0'].tolist()['b'])\n",
    "\n",
    "    a_mu  = bio_mod['arr_0'].tolist()['a_mu']\n",
    "    b_mu  = bio_mod['arr_0'].tolist()['b_mu']\n",
    "    a_sd  = bio_mod['arr_0'].tolist()['a_sd_raw']\n",
    "    b_sd  = bio_mod['arr_0'].tolist()['b_sd_raw']\n",
    "\n",
    "    return {'alpha': alpha, 'beta': beta, 'a_mu': a_mu, 'b_mu': b_mu, 'a_sd': a_sd, 'b_sd': b_sd}\n",
    "\n",
    "\n",
    "data = {}\n",
    "data['top'] = generate_data(bio_model_top)\n",
    "data['ran'] = generate_data(bio_model_ran)\n"
   ]
  },
  {
   "cell_type": "code",
   "execution_count": 4,
   "metadata": {},
   "outputs": [
    {
     "name": "stdout",
     "output_type": "stream",
     "text": [
      "alpha:  0.9688441185927827\n",
      "beta:   6.1801318205667135\n"
     ]
    }
   ],
   "source": [
    "# extract data ----------------------------------------*\n",
    "alpha   = pd.DataFrame.from_records(bio_model_top['arr_0'].tolist()['a'])\n",
    "beta    = pd.DataFrame.from_records(bio_model_top['arr_0'].tolist()['b'])\n",
    "\n",
    "# first subject params \n",
    "a1 = alpha.loc[:,0].mean()\n",
    "b1 = beta.loc[:,0].mean()\n",
    "\n",
    "print('alpha: ', a1)\n",
    "print('beta:  ', b1)"
   ]
  },
  {
   "cell_type": "code",
   "execution_count": 15,
   "metadata": {},
   "outputs": [
    {
     "data": {
      "text/plain": [
       "1.0    4252\n",
       "3.0    3479\n",
       "2.0    2064\n",
       "Name: action, dtype: int64"
      ]
     },
     "execution_count": 15,
     "metadata": {},
     "output_type": "execute_result"
    }
   ],
   "source": [
    "wcst_top100\n",
    "wcst_ran100.rule.count()\n",
    "\n",
    "wcst_top100.groupby('rule').count()\n",
    "wcst_top100.action.value_counts()\n",
    "wcst_ran100.action.value_counts()"
   ]
  },
  {
   "cell_type": "code",
   "execution_count": 66,
   "metadata": {},
   "outputs": [],
   "source": [
    "# account for no rule ------------------------------------*\n",
    "wcst.loc[wcst.action.isna(), 'action'] = 4.0"
   ]
  },
  {
   "cell_type": "code",
   "execution_count": 80,
   "metadata": {},
   "outputs": [
    {
     "data": {
      "text/plain": [
       "1"
      ]
     },
     "execution_count": 80,
     "metadata": {},
     "output_type": "execute_result"
    }
   ],
   "source": [
    "x.action.values[i].astype(int)"
   ]
  },
  {
   "cell_type": "code",
   "execution_count": 86,
   "metadata": {},
   "outputs": [],
   "source": [
    "\n",
    "def generate_Qs_pi(x,a,b):\n",
    "\n",
    "    # init: [shape, colour, number]\n",
    "    Qs = np.ones((100,4)) * 0.333\n",
    "\n",
    "    for i in range(1,100):\n",
    "        # take action\n",
    "        at = x.action.values[i].astype(int)\n",
    "        rt = x.reward.values[i].astype(int)\n",
    "\n",
    "        # update\n",
    "        Qs[i, at-1] = Qs[i-1, at-1] + a * (rt - Qs[i-1, at-1])\n",
    "\n",
    "    # generated predicted actions\n",
    "\n",
    "    pi = np.ones((100,4)) * 0.333\n",
    "    pred = []\n",
    "\n",
    "    for i in range(100):\n",
    "        \n",
    "        for j in [0,1,2,3]:\n",
    "            pi[i, j] = np.exp(b * Qs[i,j]) / np.exp(b * Qs[i,]).sum()\n",
    "\n",
    "        # predict\n",
    "        pred.append(np.random.choice([1,2,3,4], size=1, p=pi[i,])[0])\n",
    "\n",
    "    return {'Qs': Qs , 'pi':pi, 'pred':pred}\n",
    "\n",
    "\n",
    "\n",
    "\n",
    "\n",
    "def plot_data(actions, rewards, Qs):\n",
    "    plt.figure(figsize=(30,3))\n",
    "    x = np.arange(len(actions))\n",
    "\n",
    "    plt.plot(x, Qs[:, 0] - .5 + 0, c='C0', lw=3, alpha=.3)\n",
    "    plt.plot(x, Qs[:, 1] - .5 + 1, c='C1', lw=3, alpha=.3)\n",
    "    plt.plot(x, Qs[:, 2] - .5 + 2, c='C2', lw=3, alpha=.3)\n",
    "\n",
    "    s   = 50\n",
    "    lw  = 2\n",
    "\n",
    "    # action = 0\n",
    "    print(actions)\n",
    "    cond = (actions == 0) & (rewards == 0)\n",
    "    plt.scatter(x[cond], actions[cond], s=s, c='None', ec='C0', lw=lw)\n",
    "\n",
    "    cond = (actions == 0) & (rewards == 1)\n",
    "    plt.scatter(x[cond], actions[cond], s=s, c='C0', ec='C0', lw=lw)\n",
    "\n",
    "    # action = 1\n",
    "    cond = (actions == 1) & (rewards == 0)\n",
    "    plt.scatter(x[cond], actions[cond], s=s, c='None', ec='C1', lw=lw)\n",
    "\n",
    "    cond = (actions == 1) & (rewards == 1)\n",
    "    plt.scatter(x[cond], actions[cond], s=s, c='C1', ec='C1', lw=lw)\n",
    "\n",
    "    # action = 2\n",
    "    cond = (actions == 2) & (rewards == 0)\n",
    "    plt.scatter(x[cond], actions[cond], s=s, c='None', ec='C2', lw=lw)\n",
    "\n",
    "    cond = (actions == 2) & (rewards == 1)\n",
    "    plt.scatter(x[cond], actions[cond], s=s, c='C2', ec='C2', lw=lw)\n",
    "\n",
    "\n",
    "    # provide legend \n",
    "    plt.scatter(0, 40, c='k', s=s, lw=lw, label='Reward')\n",
    "    plt.scatter(0, 20, c='w', ec='k', s=s, lw=lw, label='No reward')\n",
    "    plt.plot([0,1], [20,20], c='k', lw=3, alpha=.3, label='Qvalue (centered)')\n",
    "\n",
    "\n",
    "    # axes\n",
    "    plt.yticks([0,1,2], ['colour', 'shape', 'number'])\n",
    "    plt.ylim(-1, 3)\n",
    "    plt.ylabel('action: matching rule')\n",
    "    plt.xlabel('trial')\n",
    "\n",
    "    # legend\n",
    "    handles, labels = plt.gca().get_legend_handles_labels()\n",
    "    order   = (1,2,0)\n",
    "    handles = [handles[idx] for idx in order]\n",
    "    labels  = [labels[idx]  for idx in order]\n",
    "\n",
    "    plt.legend(handles, labels, fontsize=20, loc=(1.01, .27))\n",
    "    plt.tight_layout()\n",
    "    return plt\n",
    "\n"
   ]
  },
  {
   "cell_type": "code",
   "execution_count": 87,
   "metadata": {},
   "outputs": [],
   "source": [
    "def fit_estimate(wcst, p, plot=False):\n",
    "    x       = wcst.loc[wcst.participant==p,]\n",
    "    p_no    = (x.index // 100)[0]\n",
    "\n",
    "    # recover parameters estimate\n",
    "    a = alpha.loc[:,p_no].mean()\n",
    "    b = beta.loc[:,p_no].mean()\n",
    "\n",
    "    # calculate\n",
    "    res = generate_Qs_pi(x,a,b)\n",
    "    pt  = None\n",
    "    if plot:\n",
    "        pt  = plot_data(x.action-1, x.reward, res['Qs'])\n",
    "        # pt  = plot_data(x.action, x.reward, res['Qs'])\n",
    "\n",
    "    # accuracy\n",
    "    acc = np.mean(x.action == res['pred'])\n",
    "\n",
    "    return {'res':res, 'pt':pt, 'acc':acc}"
   ]
  },
  {
   "cell_type": "code",
   "execution_count": 103,
   "metadata": {},
   "outputs": [],
   "source": [
    "# Select participant\n",
    "# wcst = wcst_ran100.copy() # top or ran\n",
    "\n",
    "# fetch data ---------------------------------------------------*\n",
    "wcst = wcst_top100.copy()                           # top sample \n",
    "wcst.loc[wcst.action.isna(), 'action'] = 4.0        # wcs\n",
    "\n",
    "p = 388850.0\n",
    "# p = wcst.participant.sample().values[0]"
   ]
  },
  {
   "cell_type": "code",
   "execution_count": 104,
   "metadata": {},
   "outputs": [
    {
     "data": {
      "text/plain": [
       "(array([3., 1., 2., 4.]), array([0, 1]))"
      ]
     },
     "execution_count": 104,
     "metadata": {},
     "output_type": "execute_result"
    }
   ],
   "source": [
    "wcst.action.unique(), wcst.reward.unique()"
   ]
  },
  {
   "cell_type": "code",
   "execution_count": 108,
   "metadata": {},
   "outputs": [
    {
     "data": {
      "text/plain": [
       "0.62"
      ]
     },
     "execution_count": 108,
     "metadata": {},
     "output_type": "execute_result"
    }
   ],
   "source": [
    "estimate = fit_estimate(wcst, p)\n",
    "estimate['acc']"
   ]
  },
  {
   "cell_type": "code",
   "execution_count": 109,
   "metadata": {},
   "outputs": [],
   "source": [
    "\n",
    "wcst = wcst_top100.copy()\n",
    "\n",
    "pred_acc_top = []\n",
    "for p in wcst.participant.unique():\n",
    "    estimate = fit_estimate(wcst, p)\n",
    "    pred_acc_top.append(estimate['acc'])\n",
    "\n",
    "\n",
    "wcst = wcst_ran100.copy()\n",
    "\n",
    "pred_acc_ran    = []\n",
    "reward_mean     = []\n",
    "for p in wcst.participant.unique():\n",
    "    estimate = fit_estimate(wcst, p)\n",
    "    pred_acc_ran.append(estimate['acc'])\n",
    "\n",
    "    # test: vs\n",
    "    x = wcst.loc[wcst.participant==p,]\n",
    "    reward_mean.append(x.reward.mean())"
   ]
  },
  {
   "cell_type": "code",
   "execution_count": 110,
   "metadata": {},
   "outputs": [
    {
     "data": {
      "application/vnd.plotly.v1+json": {
       "config": {
        "plotlyServerURL": "https://plot.ly"
       },
       "data": [
        {
         "line": {
          "color": "rgb(9,56,125)"
         },
         "marker": {
          "color": "rgb(9,56,125)"
         },
         "name": "random set",
         "type": "box",
         "y": [
          0.73,
          0.81,
          0.55,
          0.7,
          0.69,
          0.76,
          0.71,
          0.79,
          0.73,
          0.74,
          0.68,
          0.74,
          0.73,
          0.61,
          0.74,
          0.78,
          0.63,
          0.85,
          0.6,
          0.45,
          0.62,
          0.74,
          0.76,
          0.82,
          0.74,
          0.72,
          0.77,
          0.79,
          0.67,
          0.64,
          0.82,
          0.64,
          0.77,
          0.66,
          0.69,
          0.72,
          0.52,
          0.84,
          0.38,
          0.71,
          0.84,
          0.79,
          0.85,
          0.76,
          0.68,
          0.79,
          0.59,
          0.75,
          0.49,
          0.62,
          0.68,
          0.65,
          0.82,
          0.82,
          0.76,
          0.76,
          0.77,
          0.85,
          0.8,
          0.78,
          0.81,
          0.64,
          0.61,
          0.68,
          0.67,
          0.5,
          0.69,
          0.79,
          0.8,
          0.81,
          0.61,
          0.6,
          0.72,
          0.6,
          0.7,
          0.47,
          0.56,
          0.69,
          0.39,
          0.49,
          0.7,
          0.84,
          0.65,
          0.87,
          0.69,
          0.81,
          0.59,
          0.76,
          0.74,
          0.79,
          0.68,
          0.79,
          0.79,
          0.77,
          0.75,
          0.58,
          0.78,
          0.75,
          0.76,
          0.6
         ]
        },
        {
         "marker": {
          "color": "#863071"
         },
         "name": "top set",
         "type": "box",
         "y": [
          0.81,
          0.77,
          0.79,
          0.75,
          0.58,
          0.8,
          0.67,
          0.82,
          0.77,
          0.82,
          0.82,
          0.77,
          0.77,
          0.75,
          0.8,
          0.82,
          0.67,
          0.8,
          0.81,
          0.83,
          0.83,
          0.79,
          0.88,
          0.84,
          0.71,
          0.7,
          0.78,
          0.8,
          0.73,
          0.84,
          0.8,
          0.83,
          0.8,
          0.66,
          0.75,
          0.82,
          0.68,
          0.83,
          0.75,
          0.7,
          0.75,
          0.68,
          0.83,
          0.78,
          0.86,
          0.76,
          0.84,
          0.8,
          0.77,
          0.7,
          0.76,
          0.78,
          0.84,
          0.78,
          0.76,
          0.84,
          0.8,
          0.78,
          0.8,
          0.79,
          0.88,
          0.78,
          0.77,
          0.74,
          0.76,
          0.83,
          0.75,
          0.79,
          0.82,
          0.79,
          0.8,
          0.82,
          0.77,
          0.77,
          0.76,
          0.78,
          0.83,
          0.8,
          0.79,
          0.74,
          0.77,
          0.82,
          0.77,
          0.79,
          0.75,
          0.88,
          0.83,
          0.72,
          0.73,
          0.81,
          0.65,
          0.75,
          0.78,
          0.82,
          0.86,
          0.76,
          0.7,
          0.82,
          0.74,
          0.83
         ]
        }
       ],
       "layout": {
        "height": 400,
        "template": {
         "data": {
          "scatter": [
           {
            "type": "scatter"
           }
          ]
         }
        },
        "width": 550
       }
      }
     },
     "metadata": {},
     "output_type": "display_data"
    }
   ],
   "source": [
    "\n",
    "\n",
    "\n",
    "c1 = '#f7cac9'\n",
    "c2 = '#f7cac9'\n",
    "c3 = '#dec2cb'\n",
    "c4 = '#c5b9cd'\n",
    "c5 = '#abb1cf'\n",
    "c6 = '#92a8d1'\n",
    "import seaborn as sns\n",
    "cls = sns.color_palette(\"flare\", n_colors=3).as_hex()\n",
    "\n",
    "c = 'steelblue'\n",
    "\n",
    "fig = go.Figure()\n",
    "fig.add_trace(go.Box(y=pred_acc_ran, name='random set',\n",
    "                    marker_color='rgb(9,56,125)',\n",
    "    line_color='rgb(9,56,125)'\n",
    "                ))\n",
    "fig.add_trace(go.Box(y=pred_acc_top, name = 'top set',\n",
    "                marker_color = cls[2]\n",
    "                ))\n",
    "\n",
    "\n",
    "fig.update_layout(height=400, width=550, template='none')\n",
    "fig.show()"
   ]
  },
  {
   "cell_type": "code",
   "execution_count": 111,
   "metadata": {},
   "outputs": [
    {
     "name": "stdout",
     "output_type": "stream",
     "text": [
      "top mean:     0.7798999999999999\n",
      "top median:   0.785\n",
      "------------------------------\n",
      "ran mean:     0.7041000000000001\n",
      "ran median:   0.73\n",
      "ran max:      0.87\n",
      "ran min:      0.38\n"
     ]
    }
   ],
   "source": [
    "# view best\n",
    "print('top mean:    ', np.mean(pred_acc_top))\n",
    "print('top median:  ', np.median(pred_acc_top))\n",
    "print('---'*10)\n",
    "print('ran mean:    ', np.mean(pred_acc_ran))\n",
    "print('ran median:  ', np.median(pred_acc_ran))\n",
    "print('ran max:     ', np.max(pred_acc_ran))\n",
    "print('ran min:     ', np.min(pred_acc_ran))"
   ]
  },
  {
   "cell_type": "code",
   "execution_count": 112,
   "metadata": {},
   "outputs": [
    {
     "data": {
      "text/plain": [
       "1    64\n",
       "0    36\n",
       "Name: reward, dtype: int64"
      ]
     },
     "execution_count": 112,
     "metadata": {},
     "output_type": "execute_result"
    }
   ],
   "source": [
    "\n",
    "# np.mean(r.action==0), np.mean(r.action==1), np.mean(r.action==2), np.mean(r.action==3)\n",
    "\n",
    "x.reward.value_counts()"
   ]
  },
  {
   "cell_type": "code",
   "execution_count": 113,
   "metadata": {},
   "outputs": [
    {
     "name": "stdout",
     "output_type": "stream",
     "text": [
      "participant:  524310.0\n",
      "Ave score:    0.83\n"
     ]
    },
    {
     "data": {
      "image/png": "[encoded data removed]",
      "text/plain": [
       "<Figure size 2160x216 with 1 Axes>"
      ]
     },
     "metadata": {
      "needs_background": "light"
     },
     "output_type": "display_data"
    }
   ],
   "source": [
    "# find max\n",
    "max_idx = np.where(pred_acc_ran==np.max(pred_acc_ran))[0][0]\n",
    "p = wcst.participant.unique()[max_idx]\n",
    "p = np.random.choice(wcst.participant.unique())\n",
    "print('participant: ', p)\n",
    "print('Ave score:   ', wcst.loc[wcst.participant==p, ].reward.mean()) # 317920.0\n",
    "\n",
    "# p = np.random.choice(wcst.participant.unique())\n",
    "plt.rcParams.update({'font.size': 20})\n",
    "r = fit_estimate(wcst, p, plot=True)"
   ]
  },
  {
   "cell_type": "code",
   "execution_count": 96,
   "metadata": {},
   "outputs": [
    {
     "data": {
      "application/vnd.plotly.v1+json": {
       "config": {
        "plotlyServerURL": "https://plot.ly"
       },
       "data": [
        {
         "hovertemplate": "x=%{x}<br>index=%{y}<extra></extra>",
         "legendgroup": "",
         "marker": {
          "color": "#636efa",
          "symbol": "circle"
         },
         "mode": "markers",
         "name": "",
         "orientation": "h",
         "showlegend": false,
         "type": "scatter",
         "x": [
          0.73,
          0.85,
          0.53,
          0.73,
          0.64,
          0.76,
          0.63,
          0.75,
          0.73,
          0.76,
          0.67,
          0.76,
          0.68,
          0.53,
          0.76,
          0.77,
          0.62,
          0.83,
          0.65,
          0.54,
          0.62,
          0.65,
          0.77,
          0.79,
          0.71,
          0.71,
          0.73,
          0.82,
          0.69,
          0.63,
          0.76,
          0.63,
          0.76,
          0.71,
          0.72,
          0.72,
          0.51,
          0.84,
          0.37,
          0.72,
          0.86,
          0.7,
          0.84,
          0.79,
          0.67,
          0.81,
          0.67,
          0.75,
          0.5,
          0.69,
          0.66,
          0.6,
          0.81,
          0.8,
          0.78,
          0.75,
          0.73,
          0.78,
          0.83,
          0.82,
          0.83,
          0.58,
          0.65,
          0.79,
          0.69,
          0.51,
          0.68,
          0.76,
          0.83,
          0.79,
          0.6,
          0.62,
          0.69,
          0.62,
          0.75,
          0.43,
          0.56,
          0.72,
          0.4,
          0.51,
          0.73,
          0.83,
          0.61,
          0.8,
          0.73,
          0.78,
          0.6,
          0.76,
          0.74,
          0.76,
          0.7,
          0.81,
          0.69,
          0.8,
          0.79,
          0.48,
          0.73,
          0.78,
          0.71,
          0.55
         ],
         "xaxis": "x",
         "y": [
          0,
          1,
          2,
          3,
          4,
          5,
          6,
          7,
          8,
          9,
          10,
          11,
          12,
          13,
          14,
          15,
          16,
          17,
          18,
          19,
          20,
          21,
          22,
          23,
          24,
          25,
          26,
          27,
          28,
          29,
          30,
          31,
          32,
          33,
          34,
          35,
          36,
          37,
          38,
          39,
          40,
          41,
          42,
          43,
          44,
          45,
          46,
          47,
          48,
          49,
          50,
          51,
          52,
          53,
          54,
          55,
          56,
          57,
          58,
          59,
          60,
          61,
          62,
          63,
          64,
          65,
          66,
          67,
          68,
          69,
          70,
          71,
          72,
          73,
          74,
          75,
          76,
          77,
          78,
          79,
          80,
          81,
          82,
          83,
          84,
          85,
          86,
          87,
          88,
          89,
          90,
          91,
          92,
          93,
          94,
          95,
          96,
          97,
          98,
          99
         ],
         "yaxis": "y"
        }
       ],
       "layout": {
        "legend": {
         "tracegroupgap": 0
        },
        "margin": {
         "t": 60
        },
        "template": {
         "data": {
          "bar": [
           {
            "error_x": {
             "color": "#2a3f5f"
            },
            "error_y": {
             "color": "#2a3f5f"
            },
            "marker": {
             "line": {
              "color": "#E5ECF6",
              "width": 0.5
             },
             "pattern": {
              "fillmode": "overlay",
              "size": 10,
              "solidity": 0.2
             }
            },
            "type": "bar"
           }
          ],
          "barpolar": [
           {
            "marker": {
             "line": {
              "color": "#E5ECF6",
              "width": 0.5
             },
             "pattern": {
              "fillmode": "overlay",
              "size": 10,
              "solidity": 0.2
             }
            },
            "type": "barpolar"
           }
          ],
          "carpet": [
           {
            "aaxis": {
             "endlinecolor": "#2a3f5f",
             "gridcolor": "white",
             "linecolor": "white",
             "minorgridcolor": "white",
             "startlinecolor": "#2a3f5f"
            },
            "baxis": {
             "endlinecolor": "#2a3f5f",
             "gridcolor": "white",
             "linecolor": "white",
             "minorgridcolor": "white",
             "startlinecolor": "#2a3f5f"
            },
            "type": "carpet"
           }
          ],
          "choropleth": [
           {
            "colorbar": {
             "outlinewidth": 0,
             "ticks": ""
            },
            "type": "choropleth"
           }
          ],
          "contour": [
           {
            "colorbar": {
             "outlinewidth": 0,
             "ticks": ""
            },
            "colorscale": [
             [
              0,
              "#0d0887"
             ],
             [
              0.1111111111111111,
              "#46039f"
             ],
             [
              0.2222222222222222,
              "#7201a8"
             ],
             [
              0.3333333333333333,
              "#9c179e"
             ],
             [
              0.4444444444444444,
              "#bd3786"
             ],
             [
              0.5555555555555556,
              "#d8576b"
             ],
             [
              0.6666666666666666,
              "#ed7953"
             ],
             [
              0.7777777777777778,
              "#fb9f3a"
             ],
             [
              0.8888888888888888,
              "#fdca26"
             ],
             [
              1,
              "#f0f921"
             ]
            ],
            "type": "contour"
           }
          ],
          "contourcarpet": [
           {
            "colorbar": {
             "outlinewidth": 0,
             "ticks": ""
            },
            "type": "contourcarpet"
           }
          ],
          "heatmap": [
           {
            "colorbar": {
             "outlinewidth": 0,
             "ticks": ""
            },
            "colorscale": [
             [
              0,
              "#0d0887"
             ],
             [
              0.1111111111111111,
              "#46039f"
             ],
             [
              0.2222222222222222,
              "#7201a8"
             ],
             [
              0.3333333333333333,
              "#9c179e"
             ],
             [
              0.4444444444444444,
              "#bd3786"
             ],
             [
              0.5555555555555556,
              "#d8576b"
             ],
             [
              0.6666666666666666,
              "#ed7953"
             ],
             [
              0.7777777777777778,
              "#fb9f3a"
             ],
             [
              0.8888888888888888,
              "#fdca26"
             ],
             [
              1,
              "#f0f921"
             ]
            ],
            "type": "heatmap"
           }
          ],
          "heatmapgl": [
           {
            "colorbar": {
             "outlinewidth": 0,
             "ticks": ""
            },
            "colorscale": [
             [
              0,
              "#0d0887"
             ],
             [
              0.1111111111111111,
              "#46039f"
             ],
             [
              0.2222222222222222,
              "#7201a8"
             ],
             [
              0.3333333333333333,
              "#9c179e"
             ],
             [
              0.4444444444444444,
              "#bd3786"
             ],
             [
              0.5555555555555556,
              "#d8576b"
             ],
             [
              0.6666666666666666,
              "#ed7953"
             ],
             [
              0.7777777777777778,
              "#fb9f3a"
             ],
             [
              0.8888888888888888,
              "#fdca26"
             ],
             [
              1,
              "#f0f921"
             ]
            ],
            "type": "heatmapgl"
           }
          ],
          "histogram": [
           {
            "marker": {
             "pattern": {
              "fillmode": "overlay",
              "size": 10,
              "solidity": 0.2
             }
            },
            "type": "histogram"
           }
          ],
          "histogram2d": [
           {
            "colorbar": {
             "outlinewidth": 0,
             "ticks": ""
            },
            "colorscale": [
             [
              0,
              "#0d0887"
             ],
             [
              0.1111111111111111,
              "#46039f"
             ],
             [
              0.2222222222222222,
              "#7201a8"
             ],
             [
              0.3333333333333333,
              "#9c179e"
             ],
             [
              0.4444444444444444,
              "#bd3786"
             ],
             [
              0.5555555555555556,
              "#d8576b"
             ],
             [
              0.6666666666666666,
              "#ed7953"
             ],
             [
              0.7777777777777778,
              "#fb9f3a"
             ],
             [
              0.8888888888888888,
              "#fdca26"
             ],
             [
              1,
              "#f0f921"
             ]
            ],
            "type": "histogram2d"
           }
          ],
          "histogram2dcontour": [
           {
            "colorbar": {
             "outlinewidth": 0,
             "ticks": ""
            },
            "colorscale": [
             [
              0,
              "#0d0887"
             ],
             [
              0.1111111111111111,
              "#46039f"
             ],
             [
              0.2222222222222222,
              "#7201a8"
             ],
             [
              0.3333333333333333,
              "#9c179e"
             ],
             [
              0.4444444444444444,
              "#bd3786"
             ],
             [
              0.5555555555555556,
              "#d8576b"
             ],
             [
              0.6666666666666666,
              "#ed7953"
             ],
             [
              0.7777777777777778,
              "#fb9f3a"
             ],
             [
              0.8888888888888888,
              "#fdca26"
             ],
             [
              1,
              "#f0f921"
             ]
            ],
            "type": "histogram2dcontour"
           }
          ],
          "mesh3d": [
           {
            "colorbar": {
             "outlinewidth": 0,
             "ticks": ""
            },
            "type": "mesh3d"
           }
          ],
          "parcoords": [
           {
            "line": {
             "colorbar": {
              "outlinewidth": 0,
              "ticks": ""
             }
            },
            "type": "parcoords"
           }
          ],
          "pie": [
           {
            "automargin": true,
            "type": "pie"
           }
          ],
          "scatter": [
           {
            "marker": {
             "colorbar": {
              "outlinewidth": 0,
              "ticks": ""
             }
            },
            "type": "scatter"
           }
          ],
          "scatter3d": [
           {
            "line": {
             "colorbar": {
              "outlinewidth": 0,
              "ticks": ""
             }
            },
            "marker": {
             "colorbar": {
              "outlinewidth": 0,
              "ticks": ""
             }
            },
            "type": "scatter3d"
           }
          ],
          "scattercarpet": [
           {
            "marker": {
             "colorbar": {
              "outlinewidth": 0,
              "ticks": ""
             }
            },
            "type": "scattercarpet"
           }
          ],
          "scattergeo": [
           {
            "marker": {
             "colorbar": {
              "outlinewidth": 0,
              "ticks": ""
             }
            },
            "type": "scattergeo"
           }
          ],
          "scattergl": [
           {
            "marker": {
             "colorbar": {
              "outlinewidth": 0,
              "ticks": ""
             }
            },
            "type": "scattergl"
           }
          ],
          "scattermapbox": [
           {
            "marker": {
             "colorbar": {
              "outlinewidth": 0,
              "ticks": ""
             }
            },
            "type": "scattermapbox"
           }
          ],
          "scatterpolar": [
           {
            "marker": {
             "colorbar": {
              "outlinewidth": 0,
              "ticks": ""
             }
            },
            "type": "scatterpolar"
           }
          ],
          "scatterpolargl": [
           {
            "marker": {
             "colorbar": {
              "outlinewidth": 0,
              "ticks": ""
             }
            },
            "type": "scatterpolargl"
           }
          ],
          "scatterternary": [
           {
            "marker": {
             "colorbar": {
              "outlinewidth": 0,
              "ticks": ""
             }
            },
            "type": "scatterternary"
           }
          ],
          "surface": [
           {
            "colorbar": {
             "outlinewidth": 0,
             "ticks": ""
            },
            "colorscale": [
             [
              0,
              "#0d0887"
             ],
             [
              0.1111111111111111,
              "#46039f"
             ],
             [
              0.2222222222222222,
              "#7201a8"
             ],
             [
              0.3333333333333333,
              "#9c179e"
             ],
             [
              0.4444444444444444,
              "#bd3786"
             ],
             [
              0.5555555555555556,
              "#d8576b"
             ],
             [
              0.6666666666666666,
              "#ed7953"
             ],
             [
              0.7777777777777778,
              "#fb9f3a"
             ],
             [
              0.8888888888888888,
              "#fdca26"
             ],
             [
              1,
              "#f0f921"
             ]
            ],
            "type": "surface"
           }
          ],
          "table": [
           {
            "cells": {
             "fill": {
              "color": "#EBF0F8"
             },
             "line": {
              "color": "white"
             }
            },
            "header": {
             "fill": {
              "color": "#C8D4E3"
             },
             "line": {
              "color": "white"
             }
            },
            "type": "table"
           }
          ]
         },
         "layout": {
          "annotationdefaults": {
           "arrowcolor": "#2a3f5f",
           "arrowhead": 0,
           "arrowwidth": 1
          },
          "autotypenumbers": "strict",
          "coloraxis": {
           "colorbar": {
            "outlinewidth": 0,
            "ticks": ""
           }
          },
          "colorscale": {
           "diverging": [
            [
             0,
             "#8e0152"
            ],
            [
             0.1,
             "#c51b7d"
            ],
            [
             0.2,
             "#de77ae"
            ],
            [
             0.3,
             "#f1b6da"
            ],
            [
             0.4,
             "#fde0ef"
            ],
            [
             0.5,
             "#f7f7f7"
            ],
            [
             0.6,
             "#e6f5d0"
            ],
            [
             0.7,
             "#b8e186"
            ],
            [
             0.8,
             "#7fbc41"
            ],
            [
             0.9,
             "#4d9221"
            ],
            [
             1,
             "#276419"
            ]
           ],
           "sequential": [
            [
             0,
             "#0d0887"
            ],
            [
             0.1111111111111111,
             "#46039f"
            ],
            [
             0.2222222222222222,
             "#7201a8"
            ],
            [
             0.3333333333333333,
             "#9c179e"
            ],
            [
             0.4444444444444444,
             "#bd3786"
            ],
            [
             0.5555555555555556,
             "#d8576b"
            ],
            [
             0.6666666666666666,
             "#ed7953"
            ],
            [
             0.7777777777777778,
             "#fb9f3a"
            ],
            [
             0.8888888888888888,
             "#fdca26"
            ],
            [
             1,
             "#f0f921"
            ]
           ],
           "sequentialminus": [
            [
             0,
             "#0d0887"
            ],
            [
             0.1111111111111111,
             "#46039f"
            ],
            [
             0.2222222222222222,
             "#7201a8"
            ],
            [
             0.3333333333333333,
             "#9c179e"
            ],
            [
             0.4444444444444444,
             "#bd3786"
            ],
            [
             0.5555555555555556,
             "#d8576b"
            ],
            [
             0.6666666666666666,
             "#ed7953"
            ],
            [
             0.7777777777777778,
             "#fb9f3a"
            ],
            [
             0.8888888888888888,
             "#fdca26"
            ],
            [
             1,
             "#f0f921"
            ]
           ]
          },
          "colorway": [
           "#636efa",
           "#EF553B",
           "#00cc96",
           "#ab63fa",
           "#FFA15A",
           "#19d3f3",
           "#FF6692",
           "#B6E880",
           "#FF97FF",
           "#FECB52"
          ],
          "font": {
           "color": "#2a3f5f"
          },
          "geo": {
           "bgcolor": "white",
           "lakecolor": "white",
           "landcolor": "#E5ECF6",
           "showlakes": true,
           "showland": true,
           "subunitcolor": "white"
          },
          "hoverlabel": {
           "align": "left"
          },
          "hovermode": "closest",
          "mapbox": {
           "style": "light"
          },
          "paper_bgcolor": "white",
          "plot_bgcolor": "#E5ECF6",
          "polar": {
           "angularaxis": {
            "gridcolor": "white",
            "linecolor": "white",
            "ticks": ""
           },
           "bgcolor": "#E5ECF6",
           "radialaxis": {
            "gridcolor": "white",
            "linecolor": "white",
            "ticks": ""
           }
          },
          "scene": {
           "xaxis": {
            "backgroundcolor": "#E5ECF6",
            "gridcolor": "white",
            "gridwidth": 2,
            "linecolor": "white",
            "showbackground": true,
            "ticks": "",
            "zerolinecolor": "white"
           },
           "yaxis": {
            "backgroundcolor": "#E5ECF6",
            "gridcolor": "white",
            "gridwidth": 2,
            "linecolor": "white",
            "showbackground": true,
            "ticks": "",
            "zerolinecolor": "white"
           },
           "zaxis": {
            "backgroundcolor": "#E5ECF6",
            "gridcolor": "white",
            "gridwidth": 2,
            "linecolor": "white",
            "showbackground": true,
            "ticks": "",
            "zerolinecolor": "white"
           }
          },
          "shapedefaults": {
           "line": {
            "color": "#2a3f5f"
           }
          },
          "ternary": {
           "aaxis": {
            "gridcolor": "white",
            "linecolor": "white",
            "ticks": ""
           },
           "baxis": {
            "gridcolor": "white",
            "linecolor": "white",
            "ticks": ""
           },
           "bgcolor": "#E5ECF6",
           "caxis": {
            "gridcolor": "white",
            "linecolor": "white",
            "ticks": ""
           }
          },
          "title": {
           "x": 0.05
          },
          "xaxis": {
           "automargin": true,
           "gridcolor": "white",
           "linecolor": "white",
           "ticks": "",
           "title": {
            "standoff": 15
           },
           "zerolinecolor": "white",
           "zerolinewidth": 2
          },
          "yaxis": {
           "automargin": true,
           "gridcolor": "white",
           "linecolor": "white",
           "ticks": "",
           "title": {
            "standoff": 15
           },
           "zerolinecolor": "white",
           "zerolinewidth": 2
          }
         }
        },
        "xaxis": {
         "anchor": "y",
         "domain": [
          0,
          1
         ],
         "title": {
          "text": "x"
         }
        },
        "yaxis": {
         "anchor": "x",
         "domain": [
          0,
          1
         ],
         "title": {
          "text": "index"
         }
        }
       }
      }
     },
     "metadata": {},
     "output_type": "display_data"
    }
   ],
   "source": [
    "px.scatter(reward_mean, pred_acc_ran)"
   ]
  },
  {
   "cell_type": "code",
   "execution_count": 224,
   "metadata": {},
   "outputs": [
    {
     "data": {
      "text/plain": [
       "0.89"
      ]
     },
     "execution_count": 224,
     "metadata": {},
     "output_type": "execute_result"
    }
   ],
   "source": []
  },
  {
   "cell_type": "code",
   "execution_count": 99,
   "metadata": {},
   "outputs": [],
   "source": [
    "def plot_data(actions, rewards, Qs):\n",
    "    plt.figure(figsize=(30,3))\n",
    "    x = np.arange(len(actions))\n",
    "\n",
    "    plt.plot(x, Qs[:, 0] - .5 + 0, c='C0', lw=3, alpha=.3)\n",
    "    plt.plot(x, Qs[:, 1] - .5 + 1, c='C1', lw=3, alpha=.3)\n",
    "    plt.plot(x, Qs[:, 2] - .5 + 2, c='C2', lw=3, alpha=.3)\n",
    "\n",
    "    s   = 50\n",
    "    lw  = 2\n",
    "\n",
    "    # action = 0\n",
    "    cond = (actions == 0) & (rewards == 0)\n",
    "    plt.scatter(x[cond], actions[cond], s=s, c='None', ec='C0', lw=lw)\n",
    "\n",
    "    cond = (actions == 0) & (rewards == 1)\n",
    "    plt.scatter(x[cond], actions[cond], s=s, c='C0', ec='C0', lw=lw)\n",
    "\n",
    "    # action = 1\n",
    "    cond = (actions == 1) & (rewards == 0)\n",
    "    plt.scatter(x[cond], actions[cond], s=s, c='None', ec='C1', lw=lw)\n",
    "\n",
    "    cond = (actions == 1) & (rewards == 1)\n",
    "    plt.scatter(x[cond], actions[cond], s=s, c='C1', ec='C1', lw=lw)\n",
    "\n",
    "    # action = 2\n",
    "    cond = (actions == 2) & (rewards == 0)\n",
    "    plt.scatter(x[cond], actions[cond], s=s, c='None', ec='C2', lw=lw)\n",
    "\n",
    "    cond = (actions == 2) & (rewards == 1)\n",
    "    plt.scatter(x[cond], actions[cond], s=s, c='C2', ec='C2', lw=lw)\n",
    "\n",
    "\n",
    "    # provide legend \n",
    "    plt.scatter(0, 40, c='k', s=s, lw=lw, label='Reward')\n",
    "    plt.scatter(0, 20, c='w', ec='k', s=s, lw=lw, label='No reward')\n",
    "    plt.plot([0,1], [20,20], c='k', lw=3, alpha=.3, label='Qvalue (centered)')\n",
    "\n",
    "\n",
    "    # axes\n",
    "    plt.yticks([0,1,2], ['colour', 'shape', 'number'])\n",
    "    plt.ylim(-1, 3)\n",
    "    plt.ylabel('action: matching rule')\n",
    "    plt.xlabel('trial')\n",
    "\n",
    "    # legend\n",
    "    handles, labels = plt.gca().get_legend_handles_labels()\n",
    "    order   = (1,2,0)\n",
    "    handles = [handles[idx] for idx in order]\n",
    "    labels  = [labels[idx]  for idx in order]\n",
    "\n",
    "    plt.legend(handles, labels, fontsize=20, loc=(1.01, .27))\n",
    "    plt.tight_layout()"
   ]
  },
  {
   "cell_type": "code",
   "execution_count": 100,
   "metadata": {},
   "outputs": [
    {
     "data": {
      "text/html": [
       "<div>\n",
       "<style scoped>\n",
       "    .dataframe tbody tr th:only-of-type {\n",
       "        vertical-align: middle;\n",
       "    }\n",
       "\n",
       "    .dataframe tbody tr th {\n",
       "        vertical-align: top;\n",
       "    }\n",
       "\n",
       "    .dataframe thead th {\n",
       "        text-align: right;\n",
       "    }\n",
       "</style>\n",
       "<table border=\"1\" class=\"dataframe\">\n",
       "  <thead>\n",
       "    <tr style=\"text-align: right;\">\n",
       "      <th></th>\n",
       "      <th>Unnamed: 0</th>\n",
       "      <th>participant</th>\n",
       "      <th>reward</th>\n",
       "      <th>status</th>\n",
       "      <th>action</th>\n",
       "      <th>rule</th>\n",
       "      <th>rule_correct</th>\n",
       "      <th>rule_used</th>\n",
       "      <th>n_t</th>\n",
       "    </tr>\n",
       "  </thead>\n",
       "  <tbody>\n",
       "    <tr>\n",
       "      <th>9900</th>\n",
       "      <td>27100</td>\n",
       "      <td>541645.0</td>\n",
       "      <td>1</td>\n",
       "      <td>1</td>\n",
       "      <td>1.0</td>\n",
       "      <td>shape</td>\n",
       "      <td>shape</td>\n",
       "      <td>shape</td>\n",
       "      <td>0</td>\n",
       "    </tr>\n",
       "    <tr>\n",
       "      <th>9901</th>\n",
       "      <td>27101</td>\n",
       "      <td>541645.0</td>\n",
       "      <td>1</td>\n",
       "      <td>1</td>\n",
       "      <td>1.0</td>\n",
       "      <td>shape</td>\n",
       "      <td>shape</td>\n",
       "      <td>shape</td>\n",
       "      <td>1</td>\n",
       "    </tr>\n",
       "    <tr>\n",
       "      <th>9902</th>\n",
       "      <td>27102</td>\n",
       "      <td>541645.0</td>\n",
       "      <td>1</td>\n",
       "      <td>1</td>\n",
       "      <td>1.0</td>\n",
       "      <td>shape</td>\n",
       "      <td>shape</td>\n",
       "      <td>shape</td>\n",
       "      <td>2</td>\n",
       "    </tr>\n",
       "    <tr>\n",
       "      <th>9903</th>\n",
       "      <td>27103</td>\n",
       "      <td>541645.0</td>\n",
       "      <td>1</td>\n",
       "      <td>1</td>\n",
       "      <td>1.0</td>\n",
       "      <td>shape</td>\n",
       "      <td>shape</td>\n",
       "      <td>shape</td>\n",
       "      <td>3</td>\n",
       "    </tr>\n",
       "    <tr>\n",
       "      <th>9904</th>\n",
       "      <td>27104</td>\n",
       "      <td>541645.0</td>\n",
       "      <td>1</td>\n",
       "      <td>1</td>\n",
       "      <td>1.0</td>\n",
       "      <td>shape</td>\n",
       "      <td>shape</td>\n",
       "      <td>shape</td>\n",
       "      <td>4</td>\n",
       "    </tr>\n",
       "    <tr>\n",
       "      <th>...</th>\n",
       "      <td>...</td>\n",
       "      <td>...</td>\n",
       "      <td>...</td>\n",
       "      <td>...</td>\n",
       "      <td>...</td>\n",
       "      <td>...</td>\n",
       "      <td>...</td>\n",
       "      <td>...</td>\n",
       "      <td>...</td>\n",
       "    </tr>\n",
       "    <tr>\n",
       "      <th>9995</th>\n",
       "      <td>27195</td>\n",
       "      <td>541645.0</td>\n",
       "      <td>1</td>\n",
       "      <td>1</td>\n",
       "      <td>3.0</td>\n",
       "      <td>color</td>\n",
       "      <td>color</td>\n",
       "      <td>color</td>\n",
       "      <td>95</td>\n",
       "    </tr>\n",
       "    <tr>\n",
       "      <th>9996</th>\n",
       "      <td>27196</td>\n",
       "      <td>541645.0</td>\n",
       "      <td>1</td>\n",
       "      <td>1</td>\n",
       "      <td>3.0</td>\n",
       "      <td>color</td>\n",
       "      <td>color</td>\n",
       "      <td>color</td>\n",
       "      <td>96</td>\n",
       "    </tr>\n",
       "    <tr>\n",
       "      <th>9997</th>\n",
       "      <td>27197</td>\n",
       "      <td>541645.0</td>\n",
       "      <td>1</td>\n",
       "      <td>1</td>\n",
       "      <td>3.0</td>\n",
       "      <td>color</td>\n",
       "      <td>color</td>\n",
       "      <td>color</td>\n",
       "      <td>97</td>\n",
       "    </tr>\n",
       "    <tr>\n",
       "      <th>9998</th>\n",
       "      <td>27198</td>\n",
       "      <td>541645.0</td>\n",
       "      <td>1</td>\n",
       "      <td>1</td>\n",
       "      <td>3.0</td>\n",
       "      <td>color</td>\n",
       "      <td>color</td>\n",
       "      <td>color</td>\n",
       "      <td>98</td>\n",
       "    </tr>\n",
       "    <tr>\n",
       "      <th>9999</th>\n",
       "      <td>27199</td>\n",
       "      <td>541645.0</td>\n",
       "      <td>1</td>\n",
       "      <td>1</td>\n",
       "      <td>3.0</td>\n",
       "      <td>color</td>\n",
       "      <td>color</td>\n",
       "      <td>color</td>\n",
       "      <td>99</td>\n",
       "    </tr>\n",
       "  </tbody>\n",
       "</table>\n",
       "<p>100 rows × 9 columns</p>\n",
       "</div>"
      ],
      "text/plain": [
       "      Unnamed: 0  participant  reward  status  action   rule rule_correct  \\\n",
       "9900       27100     541645.0       1       1     1.0  shape        shape   \n",
       "9901       27101     541645.0       1       1     1.0  shape        shape   \n",
       "9902       27102     541645.0       1       1     1.0  shape        shape   \n",
       "9903       27103     541645.0       1       1     1.0  shape        shape   \n",
       "9904       27104     541645.0       1       1     1.0  shape        shape   \n",
       "...          ...          ...     ...     ...     ...    ...          ...   \n",
       "9995       27195     541645.0       1       1     3.0  color        color   \n",
       "9996       27196     541645.0       1       1     3.0  color        color   \n",
       "9997       27197     541645.0       1       1     3.0  color        color   \n",
       "9998       27198     541645.0       1       1     3.0  color        color   \n",
       "9999       27199     541645.0       1       1     3.0  color        color   \n",
       "\n",
       "     rule_used  n_t  \n",
       "9900     shape    0  \n",
       "9901     shape    1  \n",
       "9902     shape    2  \n",
       "9903     shape    3  \n",
       "9904     shape    4  \n",
       "...        ...  ...  \n",
       "9995     color   95  \n",
       "9996     color   96  \n",
       "9997     color   97  \n",
       "9998     color   98  \n",
       "9999     color   99  \n",
       "\n",
       "[100 rows x 9 columns]"
      ]
     },
     "execution_count": 100,
     "metadata": {},
     "output_type": "execute_result"
    }
   ],
   "source": [
    "x"
   ]
  },
  {
   "cell_type": "code",
   "execution_count": 101,
   "metadata": {},
   "outputs": [],
   "source": [
    "def data_generating_process(alpha, beta, n=100, p_r=[.8, .6, .7]):\n",
    "  actions = np.zeros(n, dtype=np.int)\n",
    "  rewards = np.zeros(n, dtype=np.int)\n",
    "  Qs      = np.zeros((n, 3))\n",
    "\n",
    "  # Q init\n",
    "  Q = np.array(len(p_r)*[1/len(p_r)])\n",
    "\n",
    "  for i in tqdm(range(n)):\n",
    "    # P(a|Q): Apply Boltzmann distribution\n",
    "    exp_Q = np.exp(beta*Q)\n",
    "    pi_a  = exp_Q / np.sum(exp_Q)\n",
    "\n",
    "\n",
    "    # Simulate action-reward\n",
    "    a = np.random.choice([0,1,2], p=pi_a)\n",
    "    r = np.random.rand() < p_r[a]\n",
    "\n",
    "    # Update Qt(a) = Qt-1(a) + a[RPE]\n",
    "    Q[a] = Q[a] + alpha * (r - Q[a])\n",
    "\n",
    "    # store\n",
    "    actions[i] = a\n",
    "    rewards[i] = r\n",
    "    Qs[i] = Q.copy()\n",
    "\n",
    "  return actions, rewards, Qs  "
   ]
  },
  {
   "cell_type": "code",
   "execution_count": 102,
   "metadata": {},
   "outputs": [
    {
     "data": {
      "text/html": [
       "<div>\n",
       "<style scoped>\n",
       "    .dataframe tbody tr th:only-of-type {\n",
       "        vertical-align: middle;\n",
       "    }\n",
       "\n",
       "    .dataframe tbody tr th {\n",
       "        vertical-align: top;\n",
       "    }\n",
       "\n",
       "    .dataframe thead th {\n",
       "        text-align: right;\n",
       "    }\n",
       "</style>\n",
       "<table border=\"1\" class=\"dataframe\">\n",
       "  <thead>\n",
       "    <tr style=\"text-align: right;\">\n",
       "      <th></th>\n",
       "      <th>Unnamed: 0</th>\n",
       "      <th>participant</th>\n",
       "      <th>reward</th>\n",
       "      <th>status</th>\n",
       "      <th>action</th>\n",
       "      <th>rule</th>\n",
       "      <th>rule_correct</th>\n",
       "      <th>rule_used</th>\n",
       "      <th>n_t</th>\n",
       "    </tr>\n",
       "  </thead>\n",
       "  <tbody>\n",
       "    <tr>\n",
       "      <th>9900</th>\n",
       "      <td>27100</td>\n",
       "      <td>541645.0</td>\n",
       "      <td>1</td>\n",
       "      <td>1</td>\n",
       "      <td>1.0</td>\n",
       "      <td>shape</td>\n",
       "      <td>shape</td>\n",
       "      <td>shape</td>\n",
       "      <td>0</td>\n",
       "    </tr>\n",
       "    <tr>\n",
       "      <th>9901</th>\n",
       "      <td>27101</td>\n",
       "      <td>541645.0</td>\n",
       "      <td>1</td>\n",
       "      <td>1</td>\n",
       "      <td>1.0</td>\n",
       "      <td>shape</td>\n",
       "      <td>shape</td>\n",
       "      <td>shape</td>\n",
       "      <td>1</td>\n",
       "    </tr>\n",
       "    <tr>\n",
       "      <th>9902</th>\n",
       "      <td>27102</td>\n",
       "      <td>541645.0</td>\n",
       "      <td>1</td>\n",
       "      <td>1</td>\n",
       "      <td>1.0</td>\n",
       "      <td>shape</td>\n",
       "      <td>shape</td>\n",
       "      <td>shape</td>\n",
       "      <td>2</td>\n",
       "    </tr>\n",
       "    <tr>\n",
       "      <th>9903</th>\n",
       "      <td>27103</td>\n",
       "      <td>541645.0</td>\n",
       "      <td>1</td>\n",
       "      <td>1</td>\n",
       "      <td>1.0</td>\n",
       "      <td>shape</td>\n",
       "      <td>shape</td>\n",
       "      <td>shape</td>\n",
       "      <td>3</td>\n",
       "    </tr>\n",
       "    <tr>\n",
       "      <th>9904</th>\n",
       "      <td>27104</td>\n",
       "      <td>541645.0</td>\n",
       "      <td>1</td>\n",
       "      <td>1</td>\n",
       "      <td>1.0</td>\n",
       "      <td>shape</td>\n",
       "      <td>shape</td>\n",
       "      <td>shape</td>\n",
       "      <td>4</td>\n",
       "    </tr>\n",
       "    <tr>\n",
       "      <th>...</th>\n",
       "      <td>...</td>\n",
       "      <td>...</td>\n",
       "      <td>...</td>\n",
       "      <td>...</td>\n",
       "      <td>...</td>\n",
       "      <td>...</td>\n",
       "      <td>...</td>\n",
       "      <td>...</td>\n",
       "      <td>...</td>\n",
       "    </tr>\n",
       "    <tr>\n",
       "      <th>9995</th>\n",
       "      <td>27195</td>\n",
       "      <td>541645.0</td>\n",
       "      <td>1</td>\n",
       "      <td>1</td>\n",
       "      <td>3.0</td>\n",
       "      <td>color</td>\n",
       "      <td>color</td>\n",
       "      <td>color</td>\n",
       "      <td>95</td>\n",
       "    </tr>\n",
       "    <tr>\n",
       "      <th>9996</th>\n",
       "      <td>27196</td>\n",
       "      <td>541645.0</td>\n",
       "      <td>1</td>\n",
       "      <td>1</td>\n",
       "      <td>3.0</td>\n",
       "      <td>color</td>\n",
       "      <td>color</td>\n",
       "      <td>color</td>\n",
       "      <td>96</td>\n",
       "    </tr>\n",
       "    <tr>\n",
       "      <th>9997</th>\n",
       "      <td>27197</td>\n",
       "      <td>541645.0</td>\n",
       "      <td>1</td>\n",
       "      <td>1</td>\n",
       "      <td>3.0</td>\n",
       "      <td>color</td>\n",
       "      <td>color</td>\n",
       "      <td>color</td>\n",
       "      <td>97</td>\n",
       "    </tr>\n",
       "    <tr>\n",
       "      <th>9998</th>\n",
       "      <td>27198</td>\n",
       "      <td>541645.0</td>\n",
       "      <td>1</td>\n",
       "      <td>1</td>\n",
       "      <td>3.0</td>\n",
       "      <td>color</td>\n",
       "      <td>color</td>\n",
       "      <td>color</td>\n",
       "      <td>98</td>\n",
       "    </tr>\n",
       "    <tr>\n",
       "      <th>9999</th>\n",
       "      <td>27199</td>\n",
       "      <td>541645.0</td>\n",
       "      <td>1</td>\n",
       "      <td>1</td>\n",
       "      <td>3.0</td>\n",
       "      <td>color</td>\n",
       "      <td>color</td>\n",
       "      <td>color</td>\n",
       "      <td>99</td>\n",
       "    </tr>\n",
       "  </tbody>\n",
       "</table>\n",
       "<p>100 rows × 9 columns</p>\n",
       "</div>"
      ],
      "text/plain": [
       "      Unnamed: 0  participant  reward  status  action   rule rule_correct  \\\n",
       "9900       27100     541645.0       1       1     1.0  shape        shape   \n",
       "9901       27101     541645.0       1       1     1.0  shape        shape   \n",
       "9902       27102     541645.0       1       1     1.0  shape        shape   \n",
       "9903       27103     541645.0       1       1     1.0  shape        shape   \n",
       "9904       27104     541645.0       1       1     1.0  shape        shape   \n",
       "...          ...          ...     ...     ...     ...    ...          ...   \n",
       "9995       27195     541645.0       1       1     3.0  color        color   \n",
       "9996       27196     541645.0       1       1     3.0  color        color   \n",
       "9997       27197     541645.0       1       1     3.0  color        color   \n",
       "9998       27198     541645.0       1       1     3.0  color        color   \n",
       "9999       27199     541645.0       1       1     3.0  color        color   \n",
       "\n",
       "     rule_used  n_t  \n",
       "9900     shape    0  \n",
       "9901     shape    1  \n",
       "9902     shape    2  \n",
       "9903     shape    3  \n",
       "9904     shape    4  \n",
       "...        ...  ...  \n",
       "9995     color   95  \n",
       "9996     color   96  \n",
       "9997     color   97  \n",
       "9998     color   98  \n",
       "9999     color   99  \n",
       "\n",
       "[100 rows x 9 columns]"
      ]
     },
     "execution_count": 102,
     "metadata": {},
     "output_type": "execute_result"
    }
   ],
   "source": [
    "\n",
    "x"
   ]
  },
  {
   "cell_type": "code",
   "execution_count": null,
   "metadata": {},
   "outputs": [],
   "source": []
  },
  {
   "cell_type": "code",
   "execution_count": null,
   "metadata": {},
   "outputs": [],
   "source": []
  },
  {
   "cell_type": "code",
   "execution_count": null,
   "metadata": {},
   "outputs": [],
   "source": []
  },
  {
   "cell_type": "code",
   "execution_count": null,
   "metadata": {},
   "outputs": [],
   "source": []
  }
 ],
 "metadata": {
  "interpreter": {
   "hash": "499ade56b48b11342a6d867619c791c628f90c2104c58bc97832364da1843f8a"
  },
  "kernelspec": {
   "display_name": "Python 3.9.7 64-bit ('base': conda)",
   "language": "python",
   "name": "python3"
  },
  "language_info": {
   "codemirror_mode": {
    "name": "ipython",
    "version": 3
   },
   "file_extension": ".py",
   "mimetype": "text/x-python",
   "name": "python",
   "nbconvert_exporter": "python",
   "pygments_lexer": "ipython3",
   "version": "3.9.7"
  },
  "orig_nbformat": 4
 },
 "nbformat": 4,
 "nbformat_minor": 2
}

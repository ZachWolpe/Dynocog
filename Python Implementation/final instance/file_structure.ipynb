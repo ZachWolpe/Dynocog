{
 "cells": [
  {
   "cell_type": "markdown",
   "metadata": {},
   "source": [
    "# Project File Structure\n",
    "\n",
    "### process data\n",
    "\n",
    "1. `dependencies.py`:               list dependencies.\n",
    "2. `process_raw_data.py`:           class object to process raw text.\n",
    "3. `process_raw_data.ipynb`:        call _process_raw_data.py_ and write to _batch_processing_object.pkl_.\n",
    "4. `encode_processed_data.py`:      class object to further process the dataframes.\n",
    "5. `encode_processed_data.ipynb`:   call _encode_processed_data.py_ and write to _batch_processing_object_with_encodings.pkl_.\n",
    "6. `detect_and_remove_outliers.py`: deprecated - to be including the modeling process direct\n",
    "7. `summary_plots_and_figures.py`:  class object to hold all plotting/statistical testing functions for the model free analysis."
   ]
  },
  {
   "cell_type": "markdown",
   "metadata": {},
   "source": []
  }
 ],
 "metadata": {
  "language_info": {
   "name": "python"
  },
  "orig_nbformat": 4
 },
 "nbformat": 4,
 "nbformat_minor": 2
}

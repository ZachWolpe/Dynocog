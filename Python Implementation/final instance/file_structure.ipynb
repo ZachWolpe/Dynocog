{
 "cells": [
  {
   "cell_type": "markdown",
   "metadata": {},
   "source": [
    "# Project File Structure\n",
    "\n",
    "## process data\n",
    "1. `dependencies.py`: list dependencies."
   ]
  },
  {
   "cell_type": "markdown",
   "metadata": {},
   "source": []
  }
 ],
 "metadata": {
  "language_info": {
   "name": "python"
  },
  "orig_nbformat": 4
 },
 "nbformat": 4,
 "nbformat_minor": 2
}

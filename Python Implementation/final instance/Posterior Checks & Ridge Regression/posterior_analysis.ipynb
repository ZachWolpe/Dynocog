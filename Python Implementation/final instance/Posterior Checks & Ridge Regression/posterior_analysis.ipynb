{
 "cells": [
  {
   "cell_type": "markdown",
   "metadata": {},
   "source": [
    "# Subject Subset\n",
    "\n",
    "Curate datasets\n",
    "\n",
    "----\n",
    "```\n",
    "author:     Zach Wolpe\n",
    "email:      zachcolinwolpe@gmail.com\n",
    "date:       21 January 2022\n",
    "```\n",
    "----"
   ]
  },
  {
   "cell_type": "code",
   "execution_count": null,
   "metadata": {},
   "outputs": [],
   "source": []
  }
 ],
 "metadata": {
  "language_info": {
   "name": "python"
  },
  "orig_nbformat": 4
 },
 "nbformat": 4,
 "nbformat_minor": 2
}

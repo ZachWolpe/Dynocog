{
 "metadata": {
  "language_info": {
   "codemirror_mode": {
    "name": "ipython",
    "version": 3
   },
   "file_extension": ".py",
   "mimetype": "text/x-python",
   "name": "python",
   "nbconvert_exporter": "python",
   "pygments_lexer": "ipython3",
   "version": "3.8.8"
  },
  "orig_nbformat": 2,
  "kernelspec": {
   "name": "python388jvsc74a57bd00bdb1145a6394107ddd55d824c4d0e411e79cd19a6286b1018600d724ae6ee81",
   "display_name": "Python 3.8.8 64-bit ('dynocog': conda)"
  }
 },
 "nbformat": 4,
 "nbformat_minor": 2,
 "cells": [
  {
   "source": [
    "# Exploratory Data Analysis\n",
    "\n",
    "\n",
    "This Notebook examines the data at a high (summary) level.\n",
    "\n",
    "---------\n",
    "```\n",
    "Zach Wolpe\n",
    "zachcolinwolpe@gmail.com\n",
    "29 May 2021\n",
    "```\n",
    "---------"
   ],
   "cell_type": "markdown",
   "metadata": {}
  },
  {
   "cell_type": "code",
   "execution_count": 1,
   "metadata": {},
   "outputs": [],
   "source": [
    "import numpy as np\n",
    "import matplotlib.pyplot as plt\n",
    "import pandas as pd\n",
    "import pickle\n",
    "import os\n",
    "import re\n",
    "import sys\n",
    "sys.path.append('../process data/')\n",
    "import plotly.graph_objects as go\n",
    "from process_data_raw_class import batch_processing"
   ]
  },
  {
   "cell_type": "code",
   "execution_count": 2,
   "metadata": {},
   "outputs": [],
   "source": [
    "with open('../data objects/batch_processing_object.pkl', 'rb') as file2:\n",
    "    bp = pickle.load(file2)"
   ]
  },
  {
   "cell_type": "code",
   "execution_count": 3,
   "metadata": {},
   "outputs": [
    {
     "output_type": "stream",
     "name": "stdout",
     "text": [
      "\n\n        ------------------------------------------------------------------\n            self.path            : raw data loc\n            self.metadata        : mturk metadata\n            self.mapping         : reference table\n            self.data_times      : reference times table\n            self.participants    : list of participant identifiers\n            self.parti_code      : list of participant codes\n            self.n               : total number of samples\n            self.wcst_paths      : paths to wcst  raw data\n            self.nback_paths     : paths to nback raw data\n            self.corsi_paths     : paths to corsi raw data\n            self.fitts_paths     : paths to fitts raw data\n            self.navon_paths     : paths to navon raw data\n            self.wcst_data       : wcst  dataframe\n            self.nback_data      : nback dataframe\n            self.corsi_data      : corsi dataframe\n            self.fitts_data      : fitts dataframe\n            self.navon_data      : navon dataframe\n            self.individual_data : psytoolkit metadata\n            self.MTurk           : mturk completion data\n        ------------------------------------------------------------------\n\n        \n"
     ]
    }
   ],
   "source": [
    "bp.describe_data()"
   ]
  },
  {
   "cell_type": "code",
   "execution_count": 4,
   "metadata": {},
   "outputs": [
    {
     "output_type": "display_data",
     "data": {
      "application/vnd.plotly.v1+json": {
       "config": {
        "plotlyServerURL": "https://plot.ly"
       },
       "data": [
        {
         "alignmentgroup": "True",
         "bingroup": "x",
         "hovertemplate": "age_a=%{x}<br>count=%{y}<extra></extra>",
         "legendgroup": "",
         "marker": {
          "color": "#636efa"
         },
         "name": "",
         "offsetgroup": "",
         "orientation": "v",
         "showlegend": false,
         "type": "histogram",
         "x": [
          "28",
          "25",
          "29",
          "47",
          "32",
          "34",
          "25",
          "18",
          "31",
          "43",
          "33",
          null,
          null,
          null,
          "45",
          "27",
          "40",
          "49",
          "35",
          "49",
          "44",
          "25",
          "35",
          "28",
          "29",
          "62",
          "49",
          "57",
          "32",
          "45",
          "31",
          "28",
          "37",
          "44",
          "33",
          "33",
          "29",
          "23",
          "29",
          null,
          null,
          "32",
          "27",
          "25",
          "20",
          null,
          "20",
          "41",
          "18",
          "age",
          "57",
          null,
          "radio",
          null,
          "23",
          "31",
          "38",
          "34",
          "25",
          "22",
          null,
          "50",
          "textline",
          "35",
          "45",
          "25",
          "26",
          "39",
          "46",
          "65",
          "39",
          "24",
          "45",
          null,
          "33",
          "26",
          "33",
          "24",
          "29",
          "64",
          "25",
          "47",
          "45",
          "28",
          "53",
          "41",
          "26",
          "38",
          "32",
          "35",
          "25",
          null,
          "69",
          "19",
          "43",
          "31",
          "34",
          "68",
          "56",
          "25",
          "60",
          "28",
          "32",
          "radio",
          "28",
          "55",
          "23",
          "41",
          null,
          "24",
          "24",
          "32",
          "32",
          "25",
          "40",
          "46",
          "40",
          "25",
          "35",
          null,
          "49",
          "34",
          "23",
          "60",
          "31",
          "36",
          "51",
          "25",
          "43",
          "70",
          null,
          "44",
          null,
          "34",
          null,
          "35",
          "33",
          null,
          "45",
          "corsi_block_span_task",
          "65",
          "33",
          "22",
          null,
          "25",
          "corsi_block_span_task",
          "48",
          "33",
          null,
          "25",
          "34",
          null,
          "25",
          "29",
          null,
          "55",
          "69",
          "24",
          "49",
          "33",
          "28",
          "30",
          null,
          "39",
          "29",
          null,
          null,
          "30",
          "20",
          null,
          "32",
          "28",
          "39",
          "42",
          null,
          "31",
          "radio",
          "36",
          "33",
          null,
          "37",
          "29",
          "33",
          "51",
          "43",
          "62",
          "26",
          null,
          "38",
          "33",
          "26",
          "28",
          "50",
          "25",
          "31",
          "34",
          "40",
          "26",
          null,
          "63",
          "25",
          "25",
          "41",
          null,
          null,
          "35",
          "41",
          "47",
          "50",
          "33",
          "38",
          "33",
          "50",
          "32",
          "60",
          "28",
          "33",
          "40",
          "34",
          "45",
          null,
          "46",
          "30",
          "23",
          "43",
          null,
          "33",
          "34",
          "40",
          "27",
          "28",
          "34",
          "33",
          "18",
          "64",
          "34",
          "39",
          "40",
          null,
          "33",
          "53",
          null,
          "24",
          "27",
          "32",
          "30",
          "30",
          "27",
          "25",
          "32",
          "39",
          null,
          "40",
          "40",
          "29",
          "62",
          null,
          "49",
          "radio",
          "33",
          "28",
          "47",
          "30",
          null,
          "35",
          "37",
          "52",
          "37",
          "33",
          null,
          null,
          "24",
          null,
          "54",
          null,
          "41",
          null,
          "25",
          "26",
          "41",
          "32",
          "50",
          "31",
          "34",
          "25",
          "25",
          "30",
          "32",
          null,
          "41",
          "44",
          "23",
          "30",
          "44",
          "29",
          "30",
          "53",
          "radio",
          "42",
          "58",
          "25",
          "42",
          "44",
          "33",
          "34",
          "31",
          "29",
          "41",
          "43",
          null,
          "corsi_block_span_task",
          "35",
          "28",
          "30",
          "44",
          "35",
          "39",
          "36",
          "50",
          "75",
          "45",
          "24",
          "27",
          "23",
          "63",
          "38",
          "27",
          "25",
          "24",
          null,
          "26",
          "44",
          "41",
          "37"
         ],
         "xaxis": "x",
         "yaxis": "y"
        }
       ],
       "layout": {
        "barmode": "relative",
        "legend": {
         "tracegroupgap": 0
        },
        "margin": {
         "t": 60
        },
        "template": {
         "data": {
          "bar": [
           {
            "error_x": {
             "color": "#2a3f5f"
            },
            "error_y": {
             "color": "#2a3f5f"
            },
            "marker": {
             "line": {
              "color": "#E5ECF6",
              "width": 0.5
             }
            },
            "type": "bar"
           }
          ],
          "barpolar": [
           {
            "marker": {
             "line": {
              "color": "#E5ECF6",
              "width": 0.5
             }
            },
            "type": "barpolar"
           }
          ],
          "carpet": [
           {
            "aaxis": {
             "endlinecolor": "#2a3f5f",
             "gridcolor": "white",
             "linecolor": "white",
             "minorgridcolor": "white",
             "startlinecolor": "#2a3f5f"
            },
            "baxis": {
             "endlinecolor": "#2a3f5f",
             "gridcolor": "white",
             "linecolor": "white",
             "minorgridcolor": "white",
             "startlinecolor": "#2a3f5f"
            },
            "type": "carpet"
           }
          ],
          "choropleth": [
           {
            "colorbar": {
             "outlinewidth": 0,
             "ticks": ""
            },
            "type": "choropleth"
           }
          ],
          "contour": [
           {
            "colorbar": {
             "outlinewidth": 0,
             "ticks": ""
            },
            "colorscale": [
             [
              0,
              "#0d0887"
             ],
             [
              0.1111111111111111,
              "#46039f"
             ],
             [
              0.2222222222222222,
              "#7201a8"
             ],
             [
              0.3333333333333333,
              "#9c179e"
             ],
             [
              0.4444444444444444,
              "#bd3786"
             ],
             [
              0.5555555555555556,
              "#d8576b"
             ],
             [
              0.6666666666666666,
              "#ed7953"
             ],
             [
              0.7777777777777778,
              "#fb9f3a"
             ],
             [
              0.8888888888888888,
              "#fdca26"
             ],
             [
              1,
              "#f0f921"
             ]
            ],
            "type": "contour"
           }
          ],
          "contourcarpet": [
           {
            "colorbar": {
             "outlinewidth": 0,
             "ticks": ""
            },
            "type": "contourcarpet"
           }
          ],
          "heatmap": [
           {
            "colorbar": {
             "outlinewidth": 0,
             "ticks": ""
            },
            "colorscale": [
             [
              0,
              "#0d0887"
             ],
             [
              0.1111111111111111,
              "#46039f"
             ],
             [
              0.2222222222222222,
              "#7201a8"
             ],
             [
              0.3333333333333333,
              "#9c179e"
             ],
             [
              0.4444444444444444,
              "#bd3786"
             ],
             [
              0.5555555555555556,
              "#d8576b"
             ],
             [
              0.6666666666666666,
              "#ed7953"
             ],
             [
              0.7777777777777778,
              "#fb9f3a"
             ],
             [
              0.8888888888888888,
              "#fdca26"
             ],
             [
              1,
              "#f0f921"
             ]
            ],
            "type": "heatmap"
           }
          ],
          "heatmapgl": [
           {
            "colorbar": {
             "outlinewidth": 0,
             "ticks": ""
            },
            "colorscale": [
             [
              0,
              "#0d0887"
             ],
             [
              0.1111111111111111,
              "#46039f"
             ],
             [
              0.2222222222222222,
              "#7201a8"
             ],
             [
              0.3333333333333333,
              "#9c179e"
             ],
             [
              0.4444444444444444,
              "#bd3786"
             ],
             [
              0.5555555555555556,
              "#d8576b"
             ],
             [
              0.6666666666666666,
              "#ed7953"
             ],
             [
              0.7777777777777778,
              "#fb9f3a"
             ],
             [
              0.8888888888888888,
              "#fdca26"
             ],
             [
              1,
              "#f0f921"
             ]
            ],
            "type": "heatmapgl"
           }
          ],
          "histogram": [
           {
            "marker": {
             "colorbar": {
              "outlinewidth": 0,
              "ticks": ""
             }
            },
            "type": "histogram"
           }
          ],
          "histogram2d": [
           {
            "colorbar": {
             "outlinewidth": 0,
             "ticks": ""
            },
            "colorscale": [
             [
              0,
              "#0d0887"
             ],
             [
              0.1111111111111111,
              "#46039f"
             ],
             [
              0.2222222222222222,
              "#7201a8"
             ],
             [
              0.3333333333333333,
              "#9c179e"
             ],
             [
              0.4444444444444444,
              "#bd3786"
             ],
             [
              0.5555555555555556,
              "#d8576b"
             ],
             [
              0.6666666666666666,
              "#ed7953"
             ],
             [
              0.7777777777777778,
              "#fb9f3a"
             ],
             [
              0.8888888888888888,
              "#fdca26"
             ],
             [
              1,
              "#f0f921"
             ]
            ],
            "type": "histogram2d"
           }
          ],
          "histogram2dcontour": [
           {
            "colorbar": {
             "outlinewidth": 0,
             "ticks": ""
            },
            "colorscale": [
             [
              0,
              "#0d0887"
             ],
             [
              0.1111111111111111,
              "#46039f"
             ],
             [
              0.2222222222222222,
              "#7201a8"
             ],
             [
              0.3333333333333333,
              "#9c179e"
             ],
             [
              0.4444444444444444,
              "#bd3786"
             ],
             [
              0.5555555555555556,
              "#d8576b"
             ],
             [
              0.6666666666666666,
              "#ed7953"
             ],
             [
              0.7777777777777778,
              "#fb9f3a"
             ],
             [
              0.8888888888888888,
              "#fdca26"
             ],
             [
              1,
              "#f0f921"
             ]
            ],
            "type": "histogram2dcontour"
           }
          ],
          "mesh3d": [
           {
            "colorbar": {
             "outlinewidth": 0,
             "ticks": ""
            },
            "type": "mesh3d"
           }
          ],
          "parcoords": [
           {
            "line": {
             "colorbar": {
              "outlinewidth": 0,
              "ticks": ""
             }
            },
            "type": "parcoords"
           }
          ],
          "pie": [
           {
            "automargin": true,
            "type": "pie"
           }
          ],
          "scatter": [
           {
            "marker": {
             "colorbar": {
              "outlinewidth": 0,
              "ticks": ""
             }
            },
            "type": "scatter"
           }
          ],
          "scatter3d": [
           {
            "line": {
             "colorbar": {
              "outlinewidth": 0,
              "ticks": ""
             }
            },
            "marker": {
             "colorbar": {
              "outlinewidth": 0,
              "ticks": ""
             }
            },
            "type": "scatter3d"
           }
          ],
          "scattercarpet": [
           {
            "marker": {
             "colorbar": {
              "outlinewidth": 0,
              "ticks": ""
             }
            },
            "type": "scattercarpet"
           }
          ],
          "scattergeo": [
           {
            "marker": {
             "colorbar": {
              "outlinewidth": 0,
              "ticks": ""
             }
            },
            "type": "scattergeo"
           }
          ],
          "scattergl": [
           {
            "marker": {
             "colorbar": {
              "outlinewidth": 0,
              "ticks": ""
             }
            },
            "type": "scattergl"
           }
          ],
          "scattermapbox": [
           {
            "marker": {
             "colorbar": {
              "outlinewidth": 0,
              "ticks": ""
             }
            },
            "type": "scattermapbox"
           }
          ],
          "scatterpolar": [
           {
            "marker": {
             "colorbar": {
              "outlinewidth": 0,
              "ticks": ""
             }
            },
            "type": "scatterpolar"
           }
          ],
          "scatterpolargl": [
           {
            "marker": {
             "colorbar": {
              "outlinewidth": 0,
              "ticks": ""
             }
            },
            "type": "scatterpolargl"
           }
          ],
          "scatterternary": [
           {
            "marker": {
             "colorbar": {
              "outlinewidth": 0,
              "ticks": ""
             }
            },
            "type": "scatterternary"
           }
          ],
          "surface": [
           {
            "colorbar": {
             "outlinewidth": 0,
             "ticks": ""
            },
            "colorscale": [
             [
              0,
              "#0d0887"
             ],
             [
              0.1111111111111111,
              "#46039f"
             ],
             [
              0.2222222222222222,
              "#7201a8"
             ],
             [
              0.3333333333333333,
              "#9c179e"
             ],
             [
              0.4444444444444444,
              "#bd3786"
             ],
             [
              0.5555555555555556,
              "#d8576b"
             ],
             [
              0.6666666666666666,
              "#ed7953"
             ],
             [
              0.7777777777777778,
              "#fb9f3a"
             ],
             [
              0.8888888888888888,
              "#fdca26"
             ],
             [
              1,
              "#f0f921"
             ]
            ],
            "type": "surface"
           }
          ],
          "table": [
           {
            "cells": {
             "fill": {
              "color": "#EBF0F8"
             },
             "line": {
              "color": "white"
             }
            },
            "header": {
             "fill": {
              "color": "#C8D4E3"
             },
             "line": {
              "color": "white"
             }
            },
            "type": "table"
           }
          ]
         },
         "layout": {
          "annotationdefaults": {
           "arrowcolor": "#2a3f5f",
           "arrowhead": 0,
           "arrowwidth": 1
          },
          "autotypenumbers": "strict",
          "coloraxis": {
           "colorbar": {
            "outlinewidth": 0,
            "ticks": ""
           }
          },
          "colorscale": {
           "diverging": [
            [
             0,
             "#8e0152"
            ],
            [
             0.1,
             "#c51b7d"
            ],
            [
             0.2,
             "#de77ae"
            ],
            [
             0.3,
             "#f1b6da"
            ],
            [
             0.4,
             "#fde0ef"
            ],
            [
             0.5,
             "#f7f7f7"
            ],
            [
             0.6,
             "#e6f5d0"
            ],
            [
             0.7,
             "#b8e186"
            ],
            [
             0.8,
             "#7fbc41"
            ],
            [
             0.9,
             "#4d9221"
            ],
            [
             1,
             "#276419"
            ]
           ],
           "sequential": [
            [
             0,
             "#0d0887"
            ],
            [
             0.1111111111111111,
             "#46039f"
            ],
            [
             0.2222222222222222,
             "#7201a8"
            ],
            [
             0.3333333333333333,
             "#9c179e"
            ],
            [
             0.4444444444444444,
             "#bd3786"
            ],
            [
             0.5555555555555556,
             "#d8576b"
            ],
            [
             0.6666666666666666,
             "#ed7953"
            ],
            [
             0.7777777777777778,
             "#fb9f3a"
            ],
            [
             0.8888888888888888,
             "#fdca26"
            ],
            [
             1,
             "#f0f921"
            ]
           ],
           "sequentialminus": [
            [
             0,
             "#0d0887"
            ],
            [
             0.1111111111111111,
             "#46039f"
            ],
            [
             0.2222222222222222,
             "#7201a8"
            ],
            [
             0.3333333333333333,
             "#9c179e"
            ],
            [
             0.4444444444444444,
             "#bd3786"
            ],
            [
             0.5555555555555556,
             "#d8576b"
            ],
            [
             0.6666666666666666,
             "#ed7953"
            ],
            [
             0.7777777777777778,
             "#fb9f3a"
            ],
            [
             0.8888888888888888,
             "#fdca26"
            ],
            [
             1,
             "#f0f921"
            ]
           ]
          },
          "colorway": [
           "#636efa",
           "#EF553B",
           "#00cc96",
           "#ab63fa",
           "#FFA15A",
           "#19d3f3",
           "#FF6692",
           "#B6E880",
           "#FF97FF",
           "#FECB52"
          ],
          "font": {
           "color": "#2a3f5f"
          },
          "geo": {
           "bgcolor": "white",
           "lakecolor": "white",
           "landcolor": "#E5ECF6",
           "showlakes": true,
           "showland": true,
           "subunitcolor": "white"
          },
          "hoverlabel": {
           "align": "left"
          },
          "hovermode": "closest",
          "mapbox": {
           "style": "light"
          },
          "paper_bgcolor": "white",
          "plot_bgcolor": "#E5ECF6",
          "polar": {
           "angularaxis": {
            "gridcolor": "white",
            "linecolor": "white",
            "ticks": ""
           },
           "bgcolor": "#E5ECF6",
           "radialaxis": {
            "gridcolor": "white",
            "linecolor": "white",
            "ticks": ""
           }
          },
          "scene": {
           "xaxis": {
            "backgroundcolor": "#E5ECF6",
            "gridcolor": "white",
            "gridwidth": 2,
            "linecolor": "white",
            "showbackground": true,
            "ticks": "",
            "zerolinecolor": "white"
           },
           "yaxis": {
            "backgroundcolor": "#E5ECF6",
            "gridcolor": "white",
            "gridwidth": 2,
            "linecolor": "white",
            "showbackground": true,
            "ticks": "",
            "zerolinecolor": "white"
           },
           "zaxis": {
            "backgroundcolor": "#E5ECF6",
            "gridcolor": "white",
            "gridwidth": 2,
            "linecolor": "white",
            "showbackground": true,
            "ticks": "",
            "zerolinecolor": "white"
           }
          },
          "shapedefaults": {
           "line": {
            "color": "#2a3f5f"
           }
          },
          "ternary": {
           "aaxis": {
            "gridcolor": "white",
            "linecolor": "white",
            "ticks": ""
           },
           "baxis": {
            "gridcolor": "white",
            "linecolor": "white",
            "ticks": ""
           },
           "bgcolor": "#E5ECF6",
           "caxis": {
            "gridcolor": "white",
            "linecolor": "white",
            "ticks": ""
           }
          },
          "title": {
           "x": 0.05
          },
          "xaxis": {
           "automargin": true,
           "gridcolor": "white",
           "linecolor": "white",
           "ticks": "",
           "title": {
            "standoff": 15
           },
           "zerolinecolor": "white",
           "zerolinewidth": 2
          },
          "yaxis": {
           "automargin": true,
           "gridcolor": "white",
           "linecolor": "white",
           "ticks": "",
           "title": {
            "standoff": 15
           },
           "zerolinecolor": "white",
           "zerolinewidth": 2
          }
         }
        },
        "xaxis": {
         "anchor": "y",
         "domain": [
          0,
          1
         ],
         "title": {
          "text": "age_a"
         }
        },
        "yaxis": {
         "anchor": "x",
         "domain": [
          0,
          1
         ],
         "title": {
          "text": "count"
         }
        }
       }
      }
     },
     "metadata": {}
    }
   ],
   "source": [
    "import plotly.express as px\n",
    "df = bp.individual_data[['age_a']]\n",
    "fig = px.histogram(df, x='age_a')\n",
    "fig.show()\n",
    "\n"
   ]
  },
  {
   "cell_type": "code",
   "execution_count": 24,
   "metadata": {},
   "outputs": [
    {
     "output_type": "execute_result",
     "data": {
      "text/plain": [
       "Index(['participant', 'participant_file', 'version', 'server-time',\n",
       "       'user_agent', 'screen_width', 'screen_height', 'html_width',\n",
       "       'html_height', 'user_time', 'T', 'Welcome_Screen',\n",
       "       'Welcome_Screen_stime', 'Welcome_Screen_T', 'Welcome_Screen_t',\n",
       "       'participant_code', 'participant_code_stime', 'participant_code_t',\n",
       "       'participant_code_a', 'feedback', 'feedback_stime', 'feedback_T',\n",
       "       'feedback_t', 'age', 'age_stime', 'age_T', 'age_t', 'age_a', 'gender',\n",
       "       'gender_stime', 'gender_T', 'gender_t', 'gender_a', 'handedness',\n",
       "       'handedness_stime', 'handedness_T', 'handedness_t', 'handedness_a',\n",
       "       'education', 'education_stime', 'education_T', 'education_t',\n",
       "       'education_a', 'income', 'income_stime', 'income_T', 'income_t',\n",
       "       'income_a', 'income_s', 'computer_hours', 'computer_hours_stime',\n",
       "       'computer_hours_T', 'computer_hours_t', 'computer_hours_a',\n",
       "       'computer_hours_s', 'wcst_task', 'wcst_task_stime', 'wcst_task_T',\n",
       "       'wcst_task_t', 'n_back_task', 'n_back_task_stime', 'n_back_task_T',\n",
       "       'n_back_task_t', 'corsi_block_span_task', 'corsi_block_span_task_stime',\n",
       "       'corsi_block_span_task_T', 'corsi_block_span_task_t', 'fitts_law',\n",
       "       'fitts_law_stime', 'fitts_law_T', 'fitts_law_t', 'navon_task_law',\n",
       "       'navon_task_stime', 'navon_task_T', 'navon_task_t', 'endcode', 'end'],\n",
       "      dtype='object')"
      ]
     },
     "metadata": {},
     "execution_count": 24
    }
   ],
   "source": [
    " bp.individual_data.columns\n",
    "\n",
    " "
   ]
  },
  {
   "cell_type": "code",
   "execution_count": 8,
   "metadata": {},
   "outputs": [
    {
     "output_type": "stream",
     "name": "stderr",
     "text": [
      "<ipython-input-8-1f6fc3944002>:51: SettingWithCopyWarning:\n\n\nA value is trying to be set on a copy of a slice from a DataFrame\n\nSee the caveats in the documentation: https://pandas.pydata.org/pandas-docs/stable/user_guide/indexing.html#returning-a-view-versus-a-copy\n\n<ipython-input-8-1f6fc3944002>:52: SettingWithCopyWarning:\n\n\nA value is trying to be set on a copy of a slice from a DataFrame\n\nSee the caveats in the documentation: https://pandas.pydata.org/pandas-docs/stable/user_guide/indexing.html#returning-a-view-versus-a-copy\n\n<ipython-input-8-1f6fc3944002>:53: SettingWithCopyWarning:\n\n\nA value is trying to be set on a copy of a slice from a DataFrame\n\nSee the caveats in the documentation: https://pandas.pydata.org/pandas-docs/stable/user_guide/indexing.html#returning-a-view-versus-a-copy\n\n<ipython-input-8-1f6fc3944002>:54: SettingWithCopyWarning:\n\n\nA value is trying to be set on a copy of a slice from a DataFrame\n\nSee the caveats in the documentation: https://pandas.pydata.org/pandas-docs/stable/user_guide/indexing.html#returning-a-view-versus-a-copy\n\n<ipython-input-8-1f6fc3944002>:57: SettingWithCopyWarning:\n\n\nA value is trying to be set on a copy of a slice from a DataFrame\n\nSee the caveats in the documentation: https://pandas.pydata.org/pandas-docs/stable/user_guide/indexing.html#returning-a-view-versus-a-copy\n\n<ipython-input-8-1f6fc3944002>:58: SettingWithCopyWarning:\n\n\nA value is trying to be set on a copy of a slice from a DataFrame\n\nSee the caveats in the documentation: https://pandas.pydata.org/pandas-docs/stable/user_guide/indexing.html#returning-a-view-versus-a-copy\n\n<ipython-input-8-1f6fc3944002>:59: SettingWithCopyWarning:\n\n\nA value is trying to be set on a copy of a slice from a DataFrame\n\nSee the caveats in the documentation: https://pandas.pydata.org/pandas-docs/stable/user_guide/indexing.html#returning-a-view-versus-a-copy\n\n<ipython-input-8-1f6fc3944002>:62: SettingWithCopyWarning:\n\n\nA value is trying to be set on a copy of a slice from a DataFrame\n\nSee the caveats in the documentation: https://pandas.pydata.org/pandas-docs/stable/user_guide/indexing.html#returning-a-view-versus-a-copy\n\n<ipython-input-8-1f6fc3944002>:63: SettingWithCopyWarning:\n\n\nA value is trying to be set on a copy of a slice from a DataFrame\n\nSee the caveats in the documentation: https://pandas.pydata.org/pandas-docs/stable/user_guide/indexing.html#returning-a-view-versus-a-copy\n\n<ipython-input-8-1f6fc3944002>:64: SettingWithCopyWarning:\n\n\nA value is trying to be set on a copy of a slice from a DataFrame\n\nSee the caveats in the documentation: https://pandas.pydata.org/pandas-docs/stable/user_guide/indexing.html#returning-a-view-versus-a-copy\n\n<ipython-input-8-1f6fc3944002>:65: SettingWithCopyWarning:\n\n\nA value is trying to be set on a copy of a slice from a DataFrame\n\nSee the caveats in the documentation: https://pandas.pydata.org/pandas-docs/stable/user_guide/indexing.html#returning-a-view-versus-a-copy\n\n"
     ]
    }
   ],
   "source": [
    "pd.options.display.max_rows = 4000\n",
    "\n",
    "\n",
    "\n",
    "\n",
    "\n",
    "# ------- Demographics Encoding --------x\n",
    "\n",
    "# q: Gender\n",
    "# - male\n",
    "# - female\n",
    "# - other\n",
    "# - prefer not to say\n",
    "\n",
    "# q: Handedness\n",
    "# - right\n",
    "# - left\n",
    "# - ambidextrous\n",
    "\n",
    "# q: What is your highest level of education?\n",
    "# - primary school\n",
    "# - high school\n",
    "# - university\n",
    "# - graduate school\n",
    "\n",
    "# l: income\n",
    "# q: Compared with the average, what is your income on a scale from 1 to 10 with 5 being average?\n",
    "# - {min=1,max=10,left=low,right=high,start=5}\n",
    "\n",
    "# l: computer_hours\n",
    "# q: How many hours do you spend playing computer games (per week)\n",
    "# - {min=0,max=100,left=low,right=high,start=0}\n",
    "\n",
    "# ------- Demographics Encoding --------x\n",
    "\n",
    "\n",
    "df = bp.individual_data[['participant', 'participant_file', 'user_agent', 'Welcome_Screen_T', 'participant_code_a', 'feedback_T', 'age_T', 'age_a', 'gender_T', 'gender_a',\n",
    "                        'handedness_T', 'handedness_a', 'education_T', 'education_a', 'income_T', 'income_a', 'income_s', 'computer_hours_T', 'computer_hours_a', 'computer_hours_s']]\n",
    "\n",
    "# ---- extract clean data ----x\n",
    "df             = df[df['age_a'].replace(np.NaN, 'na').str.isnumeric()]          # remove nonsensical data\n",
    "df.iloc[:, 3:] = df.iloc[:, 3:].astype('float')                                 # convert to float\n",
    "df             = df[df['gender_a'].notnull()]                                   # Nan data\n",
    "\n",
    "# ---- create age groupings ----x\n",
    "bins            = [0, 25, 35, 45, 55, 65, 120]\n",
    "labels          = ['18-24', '25-34', '35-44', '45-54', '55-64', '65+']\n",
    "df['age_group'] = pd.cut(df['age_a'], bins, labels=labels, include_lowest=True)\n",
    "\n",
    "# ---- gender ----x\n",
    "df['gender_a'][df['gender_a'] == 1] = 'male'\n",
    "df['gender_a'][df['gender_a'] == 2] = 'female'\n",
    "df['gender_a'][df['gender_a'] == 3] = 'other'\n",
    "df['gender_a'][df['gender_a'] == 4] = 'other'\n",
    "\n",
    "# ---- handedness ----x\n",
    "df['handedness_a'][df['handedness_a'] == 1] = 'right'\n",
    "df['handedness_a'][df['handedness_a'] == 2] = 'left'\n",
    "df['handedness_a'][df['handedness_a'] == 3] = 'ambidextrous'\n",
    "\n",
    "# ---- education ----x\n",
    "df['education_a'][df['education_a'] == 1] = 'primary school'\n",
    "df['education_a'][df['education_a'] == 2] = 'high school'\n",
    "df['education_a'][df['education_a'] == 3] = 'university'\n",
    "df['education_a'][df['education_a'] == 4] = 'graduate school'\n",
    "\n"
   ]
  },
  {
   "cell_type": "code",
   "execution_count": 15,
   "metadata": {},
   "outputs": [],
   "source": [
    "# ---- select grouping ----x\n",
    "grouping = ['gender_a', 'education_a', 'handedness_a', 'age_group']\n",
    "var      = ['age_a', 'income_a', 'computer_hours_a']\n",
    "\n",
    "\n",
    "\n",
    "grps = grouping\n",
    "vrs  = var\n",
    "fig = go.Figure()\n",
    "from plotly.subplots import make_subplots\n",
    "\n",
    "fig = make_subplots(rows=len(vrs), cols=len(grps))\n",
    "\n",
    "\n",
    "\n"
   ]
  },
  {
   "cell_type": "code",
   "execution_count": 13,
   "metadata": {},
   "outputs": [
    {
     "output_type": "display_data",
     "data": {
      "application/vnd.plotly.v1+json": {
       "config": {
        "plotlyServerURL": "https://plot.ly"
       },
       "data": [
        {
         "histnorm": "percent",
         "name": "female",
         "opacity": 1,
         "type": "histogram",
         "x": [
          6,
          7,
          6,
          9,
          7,
          6,
          6,
          2,
          7,
          9,
          4,
          3,
          6,
          6,
          8,
          5,
          8,
          4,
          8,
          4,
          7,
          8,
          8,
          9,
          9,
          2,
          9,
          8,
          9,
          2,
          4,
          7,
          9,
          5,
          6,
          4,
          7,
          8,
          3,
          8,
          9,
          5,
          9,
          8,
          5,
          4,
          5,
          6,
          6,
          7,
          8,
          6,
          3,
          8,
          5,
          4,
          7,
          5,
          5,
          7,
          6,
          6,
          6,
          6,
          3,
          1,
          3,
          5,
          9,
          5,
          1,
          9,
          8,
          5,
          8,
          5,
          8,
          4,
          5,
          4,
          3,
          3,
          2,
          7,
          2,
          5,
          8,
          3,
          6,
          5,
          3,
          5,
          6,
          6,
          7,
          3,
          1,
          8,
          8,
          5,
          1,
          6,
          10,
          7,
          4,
          8,
          3,
          8,
          9,
          7,
          4,
          10,
          8,
          5,
          2,
          6
         ],
         "xaxis": "x",
         "yaxis": "y"
        },
        {
         "histnorm": "percent",
         "name": "male",
         "opacity": 1,
         "type": "histogram",
         "x": [
          6,
          7,
          4,
          7,
          5,
          3,
          8,
          8,
          7,
          2,
          3,
          4,
          2,
          4,
          3,
          5,
          5,
          7,
          5,
          6,
          7,
          8,
          7,
          5,
          5,
          4,
          5,
          7,
          6,
          9,
          7,
          2,
          5,
          8,
          7,
          2,
          6,
          7,
          9,
          2,
          2,
          2,
          7,
          9,
          4,
          7,
          9,
          4,
          3,
          3,
          7,
          5,
          7,
          7,
          6,
          9,
          8,
          8,
          6,
          6,
          4,
          5,
          6,
          8,
          6,
          2,
          7,
          4,
          7,
          7,
          6,
          4,
          3,
          8,
          6,
          2,
          5,
          5,
          8,
          4,
          3,
          8,
          7,
          4,
          2,
          7,
          9,
          6,
          3,
          7,
          5,
          8,
          9,
          5,
          4,
          8,
          7,
          9,
          3,
          2,
          3,
          8,
          6,
          6,
          7,
          4,
          4,
          9,
          6,
          7,
          5,
          3,
          2,
          7,
          6,
          9,
          8,
          8,
          9,
          9,
          4,
          5,
          10,
          3,
          7,
          5,
          1,
          4,
          7,
          8,
          6,
          6,
          10,
          4,
          8,
          6,
          6,
          1,
          3,
          7,
          5,
          6,
          7,
          8,
          3,
          7,
          3,
          6,
          9,
          4,
          3,
          9,
          3,
          4,
          2,
          8,
          3,
          6,
          4,
          5
         ],
         "xaxis": "x",
         "yaxis": "y"
        },
        {
         "histnorm": "percent",
         "name": "other",
         "opacity": 1,
         "type": "histogram",
         "x": [
          6
         ],
         "xaxis": "x",
         "yaxis": "y"
        },
        {
         "histnorm": "percent",
         "name": "graduate school",
         "opacity": 1,
         "type": "histogram",
         "x": [
          7,
          5,
          7,
          6,
          7,
          9,
          3,
          7,
          5,
          4,
          8,
          8,
          9,
          9,
          9,
          4,
          7,
          5,
          4,
          9,
          6,
          4,
          7,
          8,
          5,
          9,
          5,
          9,
          5,
          6,
          8,
          8,
          4,
          6,
          8,
          6,
          5,
          7,
          8,
          8,
          7,
          7,
          6,
          9,
          9,
          8,
          8,
          4,
          9,
          6,
          8,
          9,
          10,
          3,
          5,
          6,
          5,
          8,
          3,
          6,
          4,
          8,
          8,
          3,
          8,
          4,
          5,
          8,
          2,
          6
         ],
         "xaxis": "x2",
         "yaxis": "y2"
        },
        {
         "histnorm": "percent",
         "name": "high school",
         "opacity": 1,
         "type": "histogram",
         "x": [
          7,
          9,
          3,
          7,
          2,
          2,
          6,
          5,
          7,
          5,
          5,
          4,
          7,
          4,
          2,
          8,
          2,
          2,
          2,
          2,
          3,
          7,
          3,
          6,
          7,
          4,
          7,
          2,
          4,
          3,
          3,
          3,
          1,
          7,
          5,
          6,
          3,
          3,
          7,
          4,
          3,
          6,
          1,
          5,
          1,
          3,
          3,
          3
         ],
         "xaxis": "x2",
         "yaxis": "y2"
        },
        {
         "histnorm": "percent",
         "name": "university",
         "opacity": 1,
         "type": "histogram",
         "x": [
          6,
          6,
          7,
          6,
          4,
          8,
          8,
          6,
          2,
          4,
          4,
          3,
          6,
          4,
          3,
          5,
          5,
          8,
          6,
          8,
          8,
          7,
          5,
          7,
          6,
          9,
          7,
          5,
          8,
          7,
          2,
          8,
          6,
          6,
          7,
          9,
          9,
          2,
          7,
          9,
          9,
          4,
          3,
          7,
          7,
          5,
          8,
          9,
          7,
          8,
          8,
          4,
          6,
          6,
          6,
          5,
          6,
          2,
          7,
          7,
          6,
          3,
          8,
          4,
          4,
          5,
          3,
          6,
          5,
          5,
          5,
          6,
          8,
          4,
          6,
          6,
          2,
          1,
          5,
          7,
          5,
          9,
          6,
          3,
          5,
          8,
          9,
          5,
          4,
          5,
          8,
          8,
          7,
          9,
          3,
          2,
          4,
          3,
          8,
          5,
          6,
          4,
          7,
          4,
          7,
          3,
          3,
          2,
          5,
          3,
          2,
          7,
          6,
          7,
          9,
          8,
          2,
          9,
          4,
          5,
          8,
          5,
          6,
          5,
          7,
          1,
          6,
          7,
          8,
          6,
          10,
          4,
          8,
          6,
          6,
          1,
          8,
          7,
          5,
          6,
          10,
          7,
          8,
          7,
          6,
          9,
          4,
          3,
          7,
          9,
          4,
          2,
          3,
          9,
          6,
          7,
          4,
          10,
          5
         ],
         "xaxis": "x2",
         "yaxis": "y2"
        },
        {
         "histnorm": "percent",
         "name": "ambidextrous",
         "opacity": 1,
         "type": "histogram",
         "x": [
          9,
          7,
          7,
          4,
          7,
          5,
          6,
          3,
          2,
          7
         ],
         "xaxis": "x3",
         "yaxis": "y3"
        },
        {
         "histnorm": "percent",
         "name": "left",
         "opacity": 1,
         "type": "histogram",
         "x": [
          7,
          7,
          4,
          4,
          2,
          9,
          3,
          6,
          8,
          4,
          3,
          8,
          2,
          4,
          7,
          3,
          6,
          8,
          4,
          2
         ],
         "xaxis": "x3",
         "yaxis": "y3"
        },
        {
         "histnorm": "percent",
         "name": "right",
         "opacity": 1,
         "type": "histogram",
         "x": [
          6,
          7,
          6,
          7,
          6,
          4,
          7,
          5,
          3,
          8,
          7,
          8,
          6,
          7,
          6,
          2,
          7,
          9,
          2,
          3,
          4,
          4,
          3,
          2,
          6,
          4,
          6,
          3,
          5,
          5,
          8,
          5,
          5,
          6,
          8,
          8,
          7,
          5,
          5,
          4,
          5,
          7,
          6,
          9,
          8,
          7,
          2,
          8,
          8,
          5,
          8,
          9,
          7,
          9,
          2,
          2,
          9,
          8,
          6,
          6,
          7,
          9,
          9,
          2,
          2,
          2,
          7,
          4,
          7,
          9,
          4,
          3,
          7,
          5,
          4,
          9,
          5,
          6,
          7,
          4,
          7,
          8,
          3,
          8,
          9,
          5,
          7,
          9,
          8,
          6,
          5,
          9,
          8,
          4,
          5,
          6,
          6,
          8,
          7,
          6,
          8,
          5,
          6,
          6,
          2,
          4,
          6,
          7,
          7,
          6,
          3,
          8,
          5,
          4,
          4,
          7,
          3,
          8,
          2,
          5,
          5,
          5,
          8,
          7,
          6,
          3,
          8,
          7,
          4,
          6,
          6,
          6,
          2,
          3,
          1,
          5,
          9,
          7,
          5,
          9,
          6,
          1,
          7,
          5,
          9,
          8,
          9,
          5,
          4,
          8,
          5,
          8,
          5,
          7,
          9,
          3,
          8,
          4,
          3,
          8,
          6,
          5,
          6,
          4,
          7,
          4,
          9,
          6,
          7,
          3,
          3,
          2,
          5,
          3,
          6,
          7,
          9,
          8,
          8,
          2,
          9,
          9,
          4,
          5,
          8,
          5,
          10,
          6,
          5,
          3,
          3,
          7,
          5,
          6,
          5,
          1,
          6,
          7,
          4,
          3,
          7,
          8,
          6,
          1,
          10,
          4,
          8,
          6,
          6,
          1,
          3,
          8,
          7,
          5,
          5,
          1,
          6,
          6,
          10,
          7,
          8,
          3,
          7,
          3,
          6,
          9,
          4,
          3,
          9,
          4,
          3,
          4,
          2,
          8,
          8,
          3,
          3,
          8,
          9,
          6,
          7,
          4,
          10,
          5,
          8,
          5,
          6
         ],
         "xaxis": "x3",
         "yaxis": "y3"
        },
        {
         "histnorm": "percent",
         "name": "18-24",
         "opacity": 1,
         "type": "histogram",
         "x": [
          7,
          7,
          9,
          9,
          5,
          8,
          7,
          5,
          4,
          5,
          8,
          7,
          8,
          9,
          6,
          9,
          9,
          3,
          9,
          8,
          8,
          9,
          9,
          9,
          6,
          8,
          4,
          6,
          6,
          8,
          7,
          5,
          9,
          9,
          8,
          6,
          3,
          7,
          9,
          7,
          7,
          8,
          6,
          8,
          7,
          8,
          6,
          10,
          5
         ],
         "xaxis": "x4",
         "yaxis": "y4"
        },
        {
         "histnorm": "percent",
         "name": "25-34",
         "opacity": 1,
         "type": "histogram",
         "x": [
          6,
          6,
          6,
          4,
          5,
          8,
          8,
          6,
          2,
          3,
          4,
          6,
          6,
          3,
          8,
          7,
          5,
          6,
          7,
          8,
          7,
          9,
          7,
          8,
          2,
          9,
          8,
          6,
          2,
          7,
          4,
          7,
          7,
          5,
          6,
          7,
          4,
          5,
          7,
          8,
          5,
          8,
          6,
          8,
          7,
          7,
          3,
          5,
          3,
          8,
          6,
          5,
          5,
          8,
          7,
          3,
          7,
          6,
          6,
          1,
          5,
          9,
          7,
          6,
          3,
          7,
          5,
          8,
          8,
          9,
          2,
          8,
          3,
          5,
          7,
          4,
          9,
          6,
          7,
          3,
          5,
          7,
          9,
          8,
          8,
          2,
          9,
          4,
          10,
          5,
          3,
          7,
          5,
          6,
          8,
          6,
          10,
          4,
          6,
          1,
          7,
          5,
          1,
          7,
          3,
          6,
          9,
          7,
          9,
          4,
          4,
          9,
          4,
          8
         ],
         "xaxis": "x4",
         "yaxis": "y4"
        },
        {
         "histnorm": "percent",
         "name": "35-44",
         "opacity": 1,
         "type": "histogram",
         "x": [
          3,
          7,
          6,
          7,
          4,
          5,
          5,
          5,
          6,
          2,
          5,
          7,
          2,
          2,
          2,
          9,
          3,
          3,
          8,
          5,
          7,
          6,
          5,
          6,
          2,
          4,
          6,
          8,
          4,
          2,
          3,
          1,
          9,
          4,
          5,
          4,
          8,
          4,
          4,
          3,
          2,
          5,
          8,
          5,
          6,
          1,
          3,
          6,
          8,
          3,
          5,
          6,
          8,
          3,
          4,
          3,
          3,
          2,
          8,
          3,
          7,
          5,
          2,
          6
         ],
         "xaxis": "x4",
         "yaxis": "y4"
        },
        {
         "histnorm": "percent",
         "name": "45-54",
         "opacity": 1,
         "type": "histogram",
         "x": [
          7,
          7,
          2,
          3,
          4,
          8,
          9,
          2,
          7,
          6,
          4,
          6,
          7,
          4,
          5,
          6,
          5,
          8,
          5,
          7,
          6,
          6,
          6,
          3,
          5,
          4,
          1,
          6,
          8
         ],
         "xaxis": "x4",
         "yaxis": "y4"
        },
        {
         "histnorm": "percent",
         "name": "55-64",
         "opacity": 1,
         "type": "histogram",
         "x": [
          4,
          2,
          4,
          9,
          7,
          7,
          5,
          6,
          2,
          3,
          5,
          3,
          2,
          3,
          10,
          4
         ],
         "xaxis": "x4",
         "yaxis": "y4"
        },
        {
         "histnorm": "percent",
         "name": "65+",
         "opacity": 1,
         "type": "histogram",
         "x": [
          4,
          4,
          4,
          4,
          3
         ],
         "xaxis": "x4",
         "yaxis": "y4"
        }
       ],
       "layout": {
        "bargap": 0.05,
        "bargroupgap": 0.1,
        "barmode": "group",
        "template": {
         "data": {
          "bar": [
           {
            "error_x": {
             "color": "#2a3f5f"
            },
            "error_y": {
             "color": "#2a3f5f"
            },
            "marker": {
             "line": {
              "color": "#E5ECF6",
              "width": 0.5
             }
            },
            "type": "bar"
           }
          ],
          "barpolar": [
           {
            "marker": {
             "line": {
              "color": "#E5ECF6",
              "width": 0.5
             }
            },
            "type": "barpolar"
           }
          ],
          "carpet": [
           {
            "aaxis": {
             "endlinecolor": "#2a3f5f",
             "gridcolor": "white",
             "linecolor": "white",
             "minorgridcolor": "white",
             "startlinecolor": "#2a3f5f"
            },
            "baxis": {
             "endlinecolor": "#2a3f5f",
             "gridcolor": "white",
             "linecolor": "white",
             "minorgridcolor": "white",
             "startlinecolor": "#2a3f5f"
            },
            "type": "carpet"
           }
          ],
          "choropleth": [
           {
            "colorbar": {
             "outlinewidth": 0,
             "ticks": ""
            },
            "type": "choropleth"
           }
          ],
          "contour": [
           {
            "colorbar": {
             "outlinewidth": 0,
             "ticks": ""
            },
            "colorscale": [
             [
              0,
              "#0d0887"
             ],
             [
              0.1111111111111111,
              "#46039f"
             ],
             [
              0.2222222222222222,
              "#7201a8"
             ],
             [
              0.3333333333333333,
              "#9c179e"
             ],
             [
              0.4444444444444444,
              "#bd3786"
             ],
             [
              0.5555555555555556,
              "#d8576b"
             ],
             [
              0.6666666666666666,
              "#ed7953"
             ],
             [
              0.7777777777777778,
              "#fb9f3a"
             ],
             [
              0.8888888888888888,
              "#fdca26"
             ],
             [
              1,
              "#f0f921"
             ]
            ],
            "type": "contour"
           }
          ],
          "contourcarpet": [
           {
            "colorbar": {
             "outlinewidth": 0,
             "ticks": ""
            },
            "type": "contourcarpet"
           }
          ],
          "heatmap": [
           {
            "colorbar": {
             "outlinewidth": 0,
             "ticks": ""
            },
            "colorscale": [
             [
              0,
              "#0d0887"
             ],
             [
              0.1111111111111111,
              "#46039f"
             ],
             [
              0.2222222222222222,
              "#7201a8"
             ],
             [
              0.3333333333333333,
              "#9c179e"
             ],
             [
              0.4444444444444444,
              "#bd3786"
             ],
             [
              0.5555555555555556,
              "#d8576b"
             ],
             [
              0.6666666666666666,
              "#ed7953"
             ],
             [
              0.7777777777777778,
              "#fb9f3a"
             ],
             [
              0.8888888888888888,
              "#fdca26"
             ],
             [
              1,
              "#f0f921"
             ]
            ],
            "type": "heatmap"
           }
          ],
          "heatmapgl": [
           {
            "colorbar": {
             "outlinewidth": 0,
             "ticks": ""
            },
            "colorscale": [
             [
              0,
              "#0d0887"
             ],
             [
              0.1111111111111111,
              "#46039f"
             ],
             [
              0.2222222222222222,
              "#7201a8"
             ],
             [
              0.3333333333333333,
              "#9c179e"
             ],
             [
              0.4444444444444444,
              "#bd3786"
             ],
             [
              0.5555555555555556,
              "#d8576b"
             ],
             [
              0.6666666666666666,
              "#ed7953"
             ],
             [
              0.7777777777777778,
              "#fb9f3a"
             ],
             [
              0.8888888888888888,
              "#fdca26"
             ],
             [
              1,
              "#f0f921"
             ]
            ],
            "type": "heatmapgl"
           }
          ],
          "histogram": [
           {
            "marker": {
             "colorbar": {
              "outlinewidth": 0,
              "ticks": ""
             }
            },
            "type": "histogram"
           }
          ],
          "histogram2d": [
           {
            "colorbar": {
             "outlinewidth": 0,
             "ticks": ""
            },
            "colorscale": [
             [
              0,
              "#0d0887"
             ],
             [
              0.1111111111111111,
              "#46039f"
             ],
             [
              0.2222222222222222,
              "#7201a8"
             ],
             [
              0.3333333333333333,
              "#9c179e"
             ],
             [
              0.4444444444444444,
              "#bd3786"
             ],
             [
              0.5555555555555556,
              "#d8576b"
             ],
             [
              0.6666666666666666,
              "#ed7953"
             ],
             [
              0.7777777777777778,
              "#fb9f3a"
             ],
             [
              0.8888888888888888,
              "#fdca26"
             ],
             [
              1,
              "#f0f921"
             ]
            ],
            "type": "histogram2d"
           }
          ],
          "histogram2dcontour": [
           {
            "colorbar": {
             "outlinewidth": 0,
             "ticks": ""
            },
            "colorscale": [
             [
              0,
              "#0d0887"
             ],
             [
              0.1111111111111111,
              "#46039f"
             ],
             [
              0.2222222222222222,
              "#7201a8"
             ],
             [
              0.3333333333333333,
              "#9c179e"
             ],
             [
              0.4444444444444444,
              "#bd3786"
             ],
             [
              0.5555555555555556,
              "#d8576b"
             ],
             [
              0.6666666666666666,
              "#ed7953"
             ],
             [
              0.7777777777777778,
              "#fb9f3a"
             ],
             [
              0.8888888888888888,
              "#fdca26"
             ],
             [
              1,
              "#f0f921"
             ]
            ],
            "type": "histogram2dcontour"
           }
          ],
          "mesh3d": [
           {
            "colorbar": {
             "outlinewidth": 0,
             "ticks": ""
            },
            "type": "mesh3d"
           }
          ],
          "parcoords": [
           {
            "line": {
             "colorbar": {
              "outlinewidth": 0,
              "ticks": ""
             }
            },
            "type": "parcoords"
           }
          ],
          "pie": [
           {
            "automargin": true,
            "type": "pie"
           }
          ],
          "scatter": [
           {
            "marker": {
             "colorbar": {
              "outlinewidth": 0,
              "ticks": ""
             }
            },
            "type": "scatter"
           }
          ],
          "scatter3d": [
           {
            "line": {
             "colorbar": {
              "outlinewidth": 0,
              "ticks": ""
             }
            },
            "marker": {
             "colorbar": {
              "outlinewidth": 0,
              "ticks": ""
             }
            },
            "type": "scatter3d"
           }
          ],
          "scattercarpet": [
           {
            "marker": {
             "colorbar": {
              "outlinewidth": 0,
              "ticks": ""
             }
            },
            "type": "scattercarpet"
           }
          ],
          "scattergeo": [
           {
            "marker": {
             "colorbar": {
              "outlinewidth": 0,
              "ticks": ""
             }
            },
            "type": "scattergeo"
           }
          ],
          "scattergl": [
           {
            "marker": {
             "colorbar": {
              "outlinewidth": 0,
              "ticks": ""
             }
            },
            "type": "scattergl"
           }
          ],
          "scattermapbox": [
           {
            "marker": {
             "colorbar": {
              "outlinewidth": 0,
              "ticks": ""
             }
            },
            "type": "scattermapbox"
           }
          ],
          "scatterpolar": [
           {
            "marker": {
             "colorbar": {
              "outlinewidth": 0,
              "ticks": ""
             }
            },
            "type": "scatterpolar"
           }
          ],
          "scatterpolargl": [
           {
            "marker": {
             "colorbar": {
              "outlinewidth": 0,
              "ticks": ""
             }
            },
            "type": "scatterpolargl"
           }
          ],
          "scatterternary": [
           {
            "marker": {
             "colorbar": {
              "outlinewidth": 0,
              "ticks": ""
             }
            },
            "type": "scatterternary"
           }
          ],
          "surface": [
           {
            "colorbar": {
             "outlinewidth": 0,
             "ticks": ""
            },
            "colorscale": [
             [
              0,
              "#0d0887"
             ],
             [
              0.1111111111111111,
              "#46039f"
             ],
             [
              0.2222222222222222,
              "#7201a8"
             ],
             [
              0.3333333333333333,
              "#9c179e"
             ],
             [
              0.4444444444444444,
              "#bd3786"
             ],
             [
              0.5555555555555556,
              "#d8576b"
             ],
             [
              0.6666666666666666,
              "#ed7953"
             ],
             [
              0.7777777777777778,
              "#fb9f3a"
             ],
             [
              0.8888888888888888,
              "#fdca26"
             ],
             [
              1,
              "#f0f921"
             ]
            ],
            "type": "surface"
           }
          ],
          "table": [
           {
            "cells": {
             "fill": {
              "color": "#EBF0F8"
             },
             "line": {
              "color": "white"
             }
            },
            "header": {
             "fill": {
              "color": "#C8D4E3"
             },
             "line": {
              "color": "white"
             }
            },
            "type": "table"
           }
          ]
         },
         "layout": {
          "annotationdefaults": {
           "arrowcolor": "#2a3f5f",
           "arrowhead": 0,
           "arrowwidth": 1
          },
          "autotypenumbers": "strict",
          "coloraxis": {
           "colorbar": {
            "outlinewidth": 0,
            "ticks": ""
           }
          },
          "colorscale": {
           "diverging": [
            [
             0,
             "#8e0152"
            ],
            [
             0.1,
             "#c51b7d"
            ],
            [
             0.2,
             "#de77ae"
            ],
            [
             0.3,
             "#f1b6da"
            ],
            [
             0.4,
             "#fde0ef"
            ],
            [
             0.5,
             "#f7f7f7"
            ],
            [
             0.6,
             "#e6f5d0"
            ],
            [
             0.7,
             "#b8e186"
            ],
            [
             0.8,
             "#7fbc41"
            ],
            [
             0.9,
             "#4d9221"
            ],
            [
             1,
             "#276419"
            ]
           ],
           "sequential": [
            [
             0,
             "#0d0887"
            ],
            [
             0.1111111111111111,
             "#46039f"
            ],
            [
             0.2222222222222222,
             "#7201a8"
            ],
            [
             0.3333333333333333,
             "#9c179e"
            ],
            [
             0.4444444444444444,
             "#bd3786"
            ],
            [
             0.5555555555555556,
             "#d8576b"
            ],
            [
             0.6666666666666666,
             "#ed7953"
            ],
            [
             0.7777777777777778,
             "#fb9f3a"
            ],
            [
             0.8888888888888888,
             "#fdca26"
            ],
            [
             1,
             "#f0f921"
            ]
           ],
           "sequentialminus": [
            [
             0,
             "#0d0887"
            ],
            [
             0.1111111111111111,
             "#46039f"
            ],
            [
             0.2222222222222222,
             "#7201a8"
            ],
            [
             0.3333333333333333,
             "#9c179e"
            ],
            [
             0.4444444444444444,
             "#bd3786"
            ],
            [
             0.5555555555555556,
             "#d8576b"
            ],
            [
             0.6666666666666666,
             "#ed7953"
            ],
            [
             0.7777777777777778,
             "#fb9f3a"
            ],
            [
             0.8888888888888888,
             "#fdca26"
            ],
            [
             1,
             "#f0f921"
            ]
           ]
          },
          "colorway": [
           "#636efa",
           "#EF553B",
           "#00cc96",
           "#ab63fa",
           "#FFA15A",
           "#19d3f3",
           "#FF6692",
           "#B6E880",
           "#FF97FF",
           "#FECB52"
          ],
          "font": {
           "color": "#2a3f5f"
          },
          "geo": {
           "bgcolor": "white",
           "lakecolor": "white",
           "landcolor": "#E5ECF6",
           "showlakes": true,
           "showland": true,
           "subunitcolor": "white"
          },
          "hoverlabel": {
           "align": "left"
          },
          "hovermode": "closest",
          "mapbox": {
           "style": "light"
          },
          "paper_bgcolor": "white",
          "plot_bgcolor": "#E5ECF6",
          "polar": {
           "angularaxis": {
            "gridcolor": "white",
            "linecolor": "white",
            "ticks": ""
           },
           "bgcolor": "#E5ECF6",
           "radialaxis": {
            "gridcolor": "white",
            "linecolor": "white",
            "ticks": ""
           }
          },
          "scene": {
           "xaxis": {
            "backgroundcolor": "#E5ECF6",
            "gridcolor": "white",
            "gridwidth": 2,
            "linecolor": "white",
            "showbackground": true,
            "ticks": "",
            "zerolinecolor": "white"
           },
           "yaxis": {
            "backgroundcolor": "#E5ECF6",
            "gridcolor": "white",
            "gridwidth": 2,
            "linecolor": "white",
            "showbackground": true,
            "ticks": "",
            "zerolinecolor": "white"
           },
           "zaxis": {
            "backgroundcolor": "#E5ECF6",
            "gridcolor": "white",
            "gridwidth": 2,
            "linecolor": "white",
            "showbackground": true,
            "ticks": "",
            "zerolinecolor": "white"
           }
          },
          "shapedefaults": {
           "line": {
            "color": "#2a3f5f"
           }
          },
          "ternary": {
           "aaxis": {
            "gridcolor": "white",
            "linecolor": "white",
            "ticks": ""
           },
           "baxis": {
            "gridcolor": "white",
            "linecolor": "white",
            "ticks": ""
           },
           "bgcolor": "#E5ECF6",
           "caxis": {
            "gridcolor": "white",
            "linecolor": "white",
            "ticks": ""
           }
          },
          "title": {
           "x": 0.05
          },
          "xaxis": {
           "automargin": true,
           "gridcolor": "white",
           "linecolor": "white",
           "ticks": "",
           "title": {
            "standoff": 15
           },
           "zerolinecolor": "white",
           "zerolinewidth": 2
          },
          "yaxis": {
           "automargin": true,
           "gridcolor": "white",
           "linecolor": "white",
           "ticks": "",
           "title": {
            "standoff": 15
           },
           "zerolinecolor": "white",
           "zerolinewidth": 2
          }
         }
        },
        "title": {
         "text": "Age Distribution"
        },
        "xaxis": {
         "anchor": "y",
         "domain": [
          0,
          0.2125
         ],
         "title": {
          "text": "Age"
         }
        },
        "xaxis10": {
         "anchor": "y10",
         "domain": [
          0.2625,
          0.475
         ]
        },
        "xaxis11": {
         "anchor": "y11",
         "domain": [
          0.525,
          0.7375
         ]
        },
        "xaxis12": {
         "anchor": "y12",
         "domain": [
          0.7875,
          1
         ]
        },
        "xaxis2": {
         "anchor": "y2",
         "domain": [
          0.2625,
          0.475
         ]
        },
        "xaxis3": {
         "anchor": "y3",
         "domain": [
          0.525,
          0.7375
         ]
        },
        "xaxis4": {
         "anchor": "y4",
         "domain": [
          0.7875,
          1
         ]
        },
        "xaxis5": {
         "anchor": "y5",
         "domain": [
          0,
          0.2125
         ]
        },
        "xaxis6": {
         "anchor": "y6",
         "domain": [
          0.2625,
          0.475
         ]
        },
        "xaxis7": {
         "anchor": "y7",
         "domain": [
          0.525,
          0.7375
         ]
        },
        "xaxis8": {
         "anchor": "y8",
         "domain": [
          0.7875,
          1
         ]
        },
        "xaxis9": {
         "anchor": "y9",
         "domain": [
          0,
          0.2125
         ]
        },
        "yaxis": {
         "anchor": "x",
         "domain": [
          0.7333333333333333,
          1
         ],
         "title": {
          "text": "Count"
         }
        },
        "yaxis10": {
         "anchor": "x10",
         "domain": [
          0,
          0.26666666666666666
         ]
        },
        "yaxis11": {
         "anchor": "x11",
         "domain": [
          0,
          0.26666666666666666
         ]
        },
        "yaxis12": {
         "anchor": "x12",
         "domain": [
          0,
          0.26666666666666666
         ]
        },
        "yaxis2": {
         "anchor": "x2",
         "domain": [
          0.7333333333333333,
          1
         ]
        },
        "yaxis3": {
         "anchor": "x3",
         "domain": [
          0.7333333333333333,
          1
         ]
        },
        "yaxis4": {
         "anchor": "x4",
         "domain": [
          0.7333333333333333,
          1
         ]
        },
        "yaxis5": {
         "anchor": "x5",
         "domain": [
          0.36666666666666664,
          0.6333333333333333
         ]
        },
        "yaxis6": {
         "anchor": "x6",
         "domain": [
          0.36666666666666664,
          0.6333333333333333
         ]
        },
        "yaxis7": {
         "anchor": "x7",
         "domain": [
          0.36666666666666664,
          0.6333333333333333
         ]
        },
        "yaxis8": {
         "anchor": "x8",
         "domain": [
          0.36666666666666664,
          0.6333333333333333
         ]
        },
        "yaxis9": {
         "anchor": "x9",
         "domain": [
          0,
          0.26666666666666666
         ]
        }
       }
      }
     },
     "metadata": {}
    }
   ],
   "source": [
    "grps = grouping\n",
    "vrs  = var\n",
    "fig = go.Figure()\n",
    "from plotly.subplots import make_subplots\n",
    "\n",
    "fig = make_subplots(rows=len(vrs), cols=len(grps))\n",
    "\n",
    "\n",
    "\n",
    "# for v in vrs:\n",
    "    # --- for each continuous variable ----x\n",
    "\n",
    "c=0; v=vrs[1]\n",
    "for gp in grps:\n",
    "    c+=1\n",
    "\n",
    "    gg = np.unique(df[gp])\n",
    "    for g in gg:\n",
    "\n",
    "        fig.add_trace(go.Histogram(\n",
    "            x           =df[v][df[gp] == g],\n",
    "            histnorm    ='percent',\n",
    "            name        =g, \n",
    "            opacity     =1\n",
    "        ), row=1, col=c)\n",
    "\n",
    "\n",
    "fig.update_layout(\n",
    "    barmode         ='overlay',\n",
    "    title_text      ='Age Distribution', \n",
    "    xaxis_title_text='Age', \n",
    "    yaxis_title_text='Count', \n",
    "    bargap          =0.05, \n",
    "    bargroupgap     =0.1 \n",
    ")\n",
    "\n",
    "fig.update_layout(barmode='group')\n",
    "fig.show()"
   ]
  },
  {
   "cell_type": "code",
   "execution_count": 217,
   "metadata": {},
   "outputs": [
    {
     "output_type": "execute_result",
     "data": {
      "text/plain": [
       "Index(['participant', 'participant_file', 'user_agent', 'Welcome_Screen_T',\n",
       "       'participant_code_a', 'feedback_T', 'age_T', 'age_a', 'gender_T',\n",
       "       'gender_a', 'handedness_T', 'handedness_a', 'education_T',\n",
       "       'education_a', 'income_T', 'income_a', 'income_s', 'computer_hours_T',\n",
       "       'computer_hours_a', 'computer_hours_s', 'age_group'],\n",
       "      dtype='object')"
      ]
     },
     "metadata": {},
     "execution_count": 217
    }
   ],
   "source": [
    "df.columns"
   ]
  },
  {
   "cell_type": "code",
   "execution_count": 223,
   "metadata": {},
   "outputs": [
    {
     "output_type": "display_data",
     "data": {
      "application/vnd.plotly.v1+json": {
       "config": {
        "plotlyServerURL": "https://plot.ly"
       },
       "data": [
        {
         "hovertemplate": "age_group=25-34<br>age_a=%{x}<br>income_a=%{y}<extra></extra>",
         "legendgroup": "25-34",
         "marker": {
          "color": "#636efa",
          "symbol": "circle"
         },
         "mode": "markers",
         "name": "25-34",
         "orientation": "v",
         "showlegend": true,
         "type": "scatter",
         "x": [
          28,
          29,
          32,
          34,
          31,
          33,
          27,
          35,
          35,
          28,
          29,
          32,
          31,
          28,
          33,
          33,
          29,
          29,
          32,
          27,
          31,
          34,
          35,
          26,
          33,
          26,
          33,
          29,
          28,
          26,
          32,
          35,
          31,
          34,
          28,
          32,
          28,
          32,
          32,
          35,
          34,
          31,
          34,
          35,
          33,
          33,
          34,
          29,
          33,
          28,
          30,
          29,
          30,
          32,
          28,
          31,
          33,
          29,
          33,
          26,
          33,
          26,
          28,
          31,
          34,
          26,
          35,
          33,
          33,
          32,
          28,
          33,
          34,
          30,
          33,
          34,
          27,
          28,
          34,
          33,
          34,
          33,
          27,
          32,
          30,
          30,
          27,
          32,
          29,
          33,
          28,
          30,
          35,
          33,
          26,
          32,
          31,
          34,
          30,
          32,
          30,
          29,
          30,
          33,
          34,
          31,
          29,
          35,
          28,
          30,
          35,
          27,
          27,
          26
         ],
         "xaxis": "x",
         "y": [
          6,
          6,
          6,
          4,
          5,
          8,
          8,
          6,
          2,
          3,
          4,
          6,
          6,
          3,
          8,
          7,
          5,
          6,
          7,
          8,
          7,
          9,
          7,
          8,
          2,
          9,
          8,
          6,
          2,
          7,
          4,
          7,
          7,
          5,
          6,
          7,
          4,
          5,
          7,
          8,
          5,
          8,
          6,
          8,
          7,
          7,
          3,
          5,
          3,
          8,
          6,
          5,
          5,
          8,
          7,
          3,
          7,
          6,
          6,
          1,
          5,
          9,
          7,
          6,
          3,
          7,
          5,
          8,
          8,
          9,
          2,
          8,
          3,
          5,
          7,
          4,
          9,
          6,
          7,
          3,
          5,
          7,
          9,
          8,
          8,
          2,
          9,
          4,
          10,
          5,
          3,
          7,
          5,
          6,
          8,
          6,
          10,
          4,
          6,
          1,
          7,
          5,
          1,
          7,
          3,
          6,
          9,
          7,
          9,
          4,
          4,
          9,
          4,
          8
         ],
         "yaxis": "y"
        },
        {
         "hovertemplate": "age_group=18-24<br>age_a=%{x}<br>income_a=%{y}<extra></extra>",
         "legendgroup": "18-24",
         "marker": {
          "color": "#EF553B",
          "symbol": "circle"
         },
         "mode": "markers",
         "name": "18-24",
         "orientation": "v",
         "showlegend": true,
         "type": "scatter",
         "x": [
          25,
          25,
          18,
          25,
          23,
          25,
          20,
          20,
          18,
          23,
          25,
          22,
          25,
          24,
          24,
          25,
          25,
          19,
          25,
          23,
          24,
          24,
          25,
          25,
          23,
          25,
          22,
          25,
          25,
          25,
          24,
          20,
          25,
          25,
          25,
          23,
          18,
          24,
          25,
          24,
          25,
          25,
          25,
          23,
          25,
          24,
          23,
          25,
          24
         ],
         "xaxis": "x",
         "y": [
          7,
          7,
          9,
          9,
          5,
          8,
          7,
          5,
          4,
          5,
          8,
          7,
          8,
          9,
          6,
          9,
          9,
          3,
          9,
          8,
          8,
          9,
          9,
          9,
          6,
          8,
          4,
          6,
          6,
          8,
          7,
          5,
          9,
          9,
          8,
          6,
          3,
          7,
          9,
          7,
          7,
          8,
          6,
          8,
          7,
          8,
          6,
          10,
          5
         ],
         "yaxis": "y"
        },
        {
         "hovertemplate": "age_group=45-54<br>age_a=%{x}<br>income_a=%{y}<extra></extra>",
         "legendgroup": "45-54",
         "marker": {
          "color": "#00cc96",
          "symbol": "circle"
         },
         "mode": "markers",
         "name": "45-54",
         "orientation": "v",
         "showlegend": true,
         "type": "scatter",
         "x": [
          47,
          49,
          49,
          49,
          50,
          46,
          47,
          53,
          55,
          46,
          49,
          51,
          48,
          55,
          49,
          51,
          50,
          47,
          50,
          50,
          46,
          53,
          49,
          47,
          52,
          54,
          50,
          53,
          50
         ],
         "xaxis": "x",
         "y": [
          7,
          7,
          2,
          3,
          4,
          8,
          9,
          2,
          7,
          6,
          4,
          6,
          7,
          4,
          5,
          6,
          5,
          8,
          5,
          7,
          6,
          6,
          6,
          3,
          5,
          4,
          1,
          6,
          8
         ],
         "yaxis": "y"
        },
        {
         "hovertemplate": "age_group=35-44<br>age_a=%{x}<br>income_a=%{y}<extra></extra>",
         "legendgroup": "35-44",
         "marker": {
          "color": "#ab63fa",
          "symbol": "circle"
         },
         "mode": "markers",
         "name": "35-44",
         "orientation": "v",
         "showlegend": true,
         "type": "scatter",
         "x": [
          43,
          45,
          40,
          44,
          45,
          37,
          44,
          41,
          38,
          45,
          39,
          39,
          45,
          45,
          41,
          38,
          43,
          41,
          40,
          40,
          36,
          43,
          44,
          45,
          39,
          39,
          42,
          36,
          37,
          43,
          38,
          40,
          41,
          41,
          38,
          40,
          45,
          43,
          40,
          39,
          40,
          39,
          40,
          40,
          37,
          37,
          41,
          41,
          41,
          44,
          44,
          42,
          42,
          44,
          41,
          43,
          44,
          39,
          36,
          45,
          38,
          44,
          41,
          37
         ],
         "xaxis": "x",
         "y": [
          3,
          7,
          6,
          7,
          4,
          5,
          5,
          5,
          6,
          2,
          5,
          7,
          2,
          2,
          2,
          9,
          3,
          3,
          8,
          5,
          7,
          6,
          5,
          6,
          2,
          4,
          6,
          8,
          4,
          2,
          3,
          1,
          9,
          4,
          5,
          4,
          8,
          4,
          4,
          3,
          2,
          5,
          8,
          5,
          6,
          1,
          3,
          6,
          8,
          3,
          5,
          6,
          8,
          3,
          4,
          3,
          3,
          2,
          8,
          3,
          7,
          5,
          2,
          6
         ],
         "yaxis": "y"
        },
        {
         "hovertemplate": "age_group=55-64<br>age_a=%{x}<br>income_a=%{y}<extra></extra>",
         "legendgroup": "55-64",
         "marker": {
          "color": "#FFA15A",
          "symbol": "circle"
         },
         "mode": "markers",
         "name": "55-64",
         "orientation": "v",
         "showlegend": true,
         "type": "scatter",
         "x": [
          62,
          57,
          57,
          65,
          64,
          56,
          60,
          60,
          65,
          62,
          63,
          60,
          64,
          62,
          58,
          63
         ],
         "xaxis": "x",
         "y": [
          4,
          2,
          4,
          9,
          7,
          7,
          5,
          6,
          2,
          3,
          5,
          3,
          2,
          3,
          10,
          4
         ],
         "yaxis": "y"
        },
        {
         "hovertemplate": "age_group=65+<br>age_a=%{x}<br>income_a=%{y}<extra></extra>",
         "legendgroup": "65+",
         "marker": {
          "color": "#19d3f3",
          "symbol": "circle"
         },
         "mode": "markers",
         "name": "65+",
         "orientation": "v",
         "showlegend": true,
         "type": "scatter",
         "x": [
          69,
          68,
          70,
          69,
          75
         ],
         "xaxis": "x",
         "y": [
          4,
          4,
          4,
          4,
          3
         ],
         "yaxis": "y"
        }
       ],
       "layout": {
        "legend": {
         "title": {
          "text": "age_group"
         },
         "tracegroupgap": 0
        },
        "margin": {
         "t": 60
        },
        "template": {
         "data": {
          "bar": [
           {
            "error_x": {
             "color": "#2a3f5f"
            },
            "error_y": {
             "color": "#2a3f5f"
            },
            "marker": {
             "line": {
              "color": "#E5ECF6",
              "width": 0.5
             }
            },
            "type": "bar"
           }
          ],
          "barpolar": [
           {
            "marker": {
             "line": {
              "color": "#E5ECF6",
              "width": 0.5
             }
            },
            "type": "barpolar"
           }
          ],
          "carpet": [
           {
            "aaxis": {
             "endlinecolor": "#2a3f5f",
             "gridcolor": "white",
             "linecolor": "white",
             "minorgridcolor": "white",
             "startlinecolor": "#2a3f5f"
            },
            "baxis": {
             "endlinecolor": "#2a3f5f",
             "gridcolor": "white",
             "linecolor": "white",
             "minorgridcolor": "white",
             "startlinecolor": "#2a3f5f"
            },
            "type": "carpet"
           }
          ],
          "choropleth": [
           {
            "colorbar": {
             "outlinewidth": 0,
             "ticks": ""
            },
            "type": "choropleth"
           }
          ],
          "contour": [
           {
            "colorbar": {
             "outlinewidth": 0,
             "ticks": ""
            },
            "colorscale": [
             [
              0,
              "#0d0887"
             ],
             [
              0.1111111111111111,
              "#46039f"
             ],
             [
              0.2222222222222222,
              "#7201a8"
             ],
             [
              0.3333333333333333,
              "#9c179e"
             ],
             [
              0.4444444444444444,
              "#bd3786"
             ],
             [
              0.5555555555555556,
              "#d8576b"
             ],
             [
              0.6666666666666666,
              "#ed7953"
             ],
             [
              0.7777777777777778,
              "#fb9f3a"
             ],
             [
              0.8888888888888888,
              "#fdca26"
             ],
             [
              1,
              "#f0f921"
             ]
            ],
            "type": "contour"
           }
          ],
          "contourcarpet": [
           {
            "colorbar": {
             "outlinewidth": 0,
             "ticks": ""
            },
            "type": "contourcarpet"
           }
          ],
          "heatmap": [
           {
            "colorbar": {
             "outlinewidth": 0,
             "ticks": ""
            },
            "colorscale": [
             [
              0,
              "#0d0887"
             ],
             [
              0.1111111111111111,
              "#46039f"
             ],
             [
              0.2222222222222222,
              "#7201a8"
             ],
             [
              0.3333333333333333,
              "#9c179e"
             ],
             [
              0.4444444444444444,
              "#bd3786"
             ],
             [
              0.5555555555555556,
              "#d8576b"
             ],
             [
              0.6666666666666666,
              "#ed7953"
             ],
             [
              0.7777777777777778,
              "#fb9f3a"
             ],
             [
              0.8888888888888888,
              "#fdca26"
             ],
             [
              1,
              "#f0f921"
             ]
            ],
            "type": "heatmap"
           }
          ],
          "heatmapgl": [
           {
            "colorbar": {
             "outlinewidth": 0,
             "ticks": ""
            },
            "colorscale": [
             [
              0,
              "#0d0887"
             ],
             [
              0.1111111111111111,
              "#46039f"
             ],
             [
              0.2222222222222222,
              "#7201a8"
             ],
             [
              0.3333333333333333,
              "#9c179e"
             ],
             [
              0.4444444444444444,
              "#bd3786"
             ],
             [
              0.5555555555555556,
              "#d8576b"
             ],
             [
              0.6666666666666666,
              "#ed7953"
             ],
             [
              0.7777777777777778,
              "#fb9f3a"
             ],
             [
              0.8888888888888888,
              "#fdca26"
             ],
             [
              1,
              "#f0f921"
             ]
            ],
            "type": "heatmapgl"
           }
          ],
          "histogram": [
           {
            "marker": {
             "colorbar": {
              "outlinewidth": 0,
              "ticks": ""
             }
            },
            "type": "histogram"
           }
          ],
          "histogram2d": [
           {
            "colorbar": {
             "outlinewidth": 0,
             "ticks": ""
            },
            "colorscale": [
             [
              0,
              "#0d0887"
             ],
             [
              0.1111111111111111,
              "#46039f"
             ],
             [
              0.2222222222222222,
              "#7201a8"
             ],
             [
              0.3333333333333333,
              "#9c179e"
             ],
             [
              0.4444444444444444,
              "#bd3786"
             ],
             [
              0.5555555555555556,
              "#d8576b"
             ],
             [
              0.6666666666666666,
              "#ed7953"
             ],
             [
              0.7777777777777778,
              "#fb9f3a"
             ],
             [
              0.8888888888888888,
              "#fdca26"
             ],
             [
              1,
              "#f0f921"
             ]
            ],
            "type": "histogram2d"
           }
          ],
          "histogram2dcontour": [
           {
            "colorbar": {
             "outlinewidth": 0,
             "ticks": ""
            },
            "colorscale": [
             [
              0,
              "#0d0887"
             ],
             [
              0.1111111111111111,
              "#46039f"
             ],
             [
              0.2222222222222222,
              "#7201a8"
             ],
             [
              0.3333333333333333,
              "#9c179e"
             ],
             [
              0.4444444444444444,
              "#bd3786"
             ],
             [
              0.5555555555555556,
              "#d8576b"
             ],
             [
              0.6666666666666666,
              "#ed7953"
             ],
             [
              0.7777777777777778,
              "#fb9f3a"
             ],
             [
              0.8888888888888888,
              "#fdca26"
             ],
             [
              1,
              "#f0f921"
             ]
            ],
            "type": "histogram2dcontour"
           }
          ],
          "mesh3d": [
           {
            "colorbar": {
             "outlinewidth": 0,
             "ticks": ""
            },
            "type": "mesh3d"
           }
          ],
          "parcoords": [
           {
            "line": {
             "colorbar": {
              "outlinewidth": 0,
              "ticks": ""
             }
            },
            "type": "parcoords"
           }
          ],
          "pie": [
           {
            "automargin": true,
            "type": "pie"
           }
          ],
          "scatter": [
           {
            "marker": {
             "colorbar": {
              "outlinewidth": 0,
              "ticks": ""
             }
            },
            "type": "scatter"
           }
          ],
          "scatter3d": [
           {
            "line": {
             "colorbar": {
              "outlinewidth": 0,
              "ticks": ""
             }
            },
            "marker": {
             "colorbar": {
              "outlinewidth": 0,
              "ticks": ""
             }
            },
            "type": "scatter3d"
           }
          ],
          "scattercarpet": [
           {
            "marker": {
             "colorbar": {
              "outlinewidth": 0,
              "ticks": ""
             }
            },
            "type": "scattercarpet"
           }
          ],
          "scattergeo": [
           {
            "marker": {
             "colorbar": {
              "outlinewidth": 0,
              "ticks": ""
             }
            },
            "type": "scattergeo"
           }
          ],
          "scattergl": [
           {
            "marker": {
             "colorbar": {
              "outlinewidth": 0,
              "ticks": ""
             }
            },
            "type": "scattergl"
           }
          ],
          "scattermapbox": [
           {
            "marker": {
             "colorbar": {
              "outlinewidth": 0,
              "ticks": ""
             }
            },
            "type": "scattermapbox"
           }
          ],
          "scatterpolar": [
           {
            "marker": {
             "colorbar": {
              "outlinewidth": 0,
              "ticks": ""
             }
            },
            "type": "scatterpolar"
           }
          ],
          "scatterpolargl": [
           {
            "marker": {
             "colorbar": {
              "outlinewidth": 0,
              "ticks": ""
             }
            },
            "type": "scatterpolargl"
           }
          ],
          "scatterternary": [
           {
            "marker": {
             "colorbar": {
              "outlinewidth": 0,
              "ticks": ""
             }
            },
            "type": "scatterternary"
           }
          ],
          "surface": [
           {
            "colorbar": {
             "outlinewidth": 0,
             "ticks": ""
            },
            "colorscale": [
             [
              0,
              "#0d0887"
             ],
             [
              0.1111111111111111,
              "#46039f"
             ],
             [
              0.2222222222222222,
              "#7201a8"
             ],
             [
              0.3333333333333333,
              "#9c179e"
             ],
             [
              0.4444444444444444,
              "#bd3786"
             ],
             [
              0.5555555555555556,
              "#d8576b"
             ],
             [
              0.6666666666666666,
              "#ed7953"
             ],
             [
              0.7777777777777778,
              "#fb9f3a"
             ],
             [
              0.8888888888888888,
              "#fdca26"
             ],
             [
              1,
              "#f0f921"
             ]
            ],
            "type": "surface"
           }
          ],
          "table": [
           {
            "cells": {
             "fill": {
              "color": "#EBF0F8"
             },
             "line": {
              "color": "white"
             }
            },
            "header": {
             "fill": {
              "color": "#C8D4E3"
             },
             "line": {
              "color": "white"
             }
            },
            "type": "table"
           }
          ]
         },
         "layout": {
          "annotationdefaults": {
           "arrowcolor": "#2a3f5f",
           "arrowhead": 0,
           "arrowwidth": 1
          },
          "autotypenumbers": "strict",
          "coloraxis": {
           "colorbar": {
            "outlinewidth": 0,
            "ticks": ""
           }
          },
          "colorscale": {
           "diverging": [
            [
             0,
             "#8e0152"
            ],
            [
             0.1,
             "#c51b7d"
            ],
            [
             0.2,
             "#de77ae"
            ],
            [
             0.3,
             "#f1b6da"
            ],
            [
             0.4,
             "#fde0ef"
            ],
            [
             0.5,
             "#f7f7f7"
            ],
            [
             0.6,
             "#e6f5d0"
            ],
            [
             0.7,
             "#b8e186"
            ],
            [
             0.8,
             "#7fbc41"
            ],
            [
             0.9,
             "#4d9221"
            ],
            [
             1,
             "#276419"
            ]
           ],
           "sequential": [
            [
             0,
             "#0d0887"
            ],
            [
             0.1111111111111111,
             "#46039f"
            ],
            [
             0.2222222222222222,
             "#7201a8"
            ],
            [
             0.3333333333333333,
             "#9c179e"
            ],
            [
             0.4444444444444444,
             "#bd3786"
            ],
            [
             0.5555555555555556,
             "#d8576b"
            ],
            [
             0.6666666666666666,
             "#ed7953"
            ],
            [
             0.7777777777777778,
             "#fb9f3a"
            ],
            [
             0.8888888888888888,
             "#fdca26"
            ],
            [
             1,
             "#f0f921"
            ]
           ],
           "sequentialminus": [
            [
             0,
             "#0d0887"
            ],
            [
             0.1111111111111111,
             "#46039f"
            ],
            [
             0.2222222222222222,
             "#7201a8"
            ],
            [
             0.3333333333333333,
             "#9c179e"
            ],
            [
             0.4444444444444444,
             "#bd3786"
            ],
            [
             0.5555555555555556,
             "#d8576b"
            ],
            [
             0.6666666666666666,
             "#ed7953"
            ],
            [
             0.7777777777777778,
             "#fb9f3a"
            ],
            [
             0.8888888888888888,
             "#fdca26"
            ],
            [
             1,
             "#f0f921"
            ]
           ]
          },
          "colorway": [
           "#636efa",
           "#EF553B",
           "#00cc96",
           "#ab63fa",
           "#FFA15A",
           "#19d3f3",
           "#FF6692",
           "#B6E880",
           "#FF97FF",
           "#FECB52"
          ],
          "font": {
           "color": "#2a3f5f"
          },
          "geo": {
           "bgcolor": "white",
           "lakecolor": "white",
           "landcolor": "#E5ECF6",
           "showlakes": true,
           "showland": true,
           "subunitcolor": "white"
          },
          "hoverlabel": {
           "align": "left"
          },
          "hovermode": "closest",
          "mapbox": {
           "style": "light"
          },
          "paper_bgcolor": "white",
          "plot_bgcolor": "#E5ECF6",
          "polar": {
           "angularaxis": {
            "gridcolor": "white",
            "linecolor": "white",
            "ticks": ""
           },
           "bgcolor": "#E5ECF6",
           "radialaxis": {
            "gridcolor": "white",
            "linecolor": "white",
            "ticks": ""
           }
          },
          "scene": {
           "xaxis": {
            "backgroundcolor": "#E5ECF6",
            "gridcolor": "white",
            "gridwidth": 2,
            "linecolor": "white",
            "showbackground": true,
            "ticks": "",
            "zerolinecolor": "white"
           },
           "yaxis": {
            "backgroundcolor": "#E5ECF6",
            "gridcolor": "white",
            "gridwidth": 2,
            "linecolor": "white",
            "showbackground": true,
            "ticks": "",
            "zerolinecolor": "white"
           },
           "zaxis": {
            "backgroundcolor": "#E5ECF6",
            "gridcolor": "white",
            "gridwidth": 2,
            "linecolor": "white",
            "showbackground": true,
            "ticks": "",
            "zerolinecolor": "white"
           }
          },
          "shapedefaults": {
           "line": {
            "color": "#2a3f5f"
           }
          },
          "ternary": {
           "aaxis": {
            "gridcolor": "white",
            "linecolor": "white",
            "ticks": ""
           },
           "baxis": {
            "gridcolor": "white",
            "linecolor": "white",
            "ticks": ""
           },
           "bgcolor": "#E5ECF6",
           "caxis": {
            "gridcolor": "white",
            "linecolor": "white",
            "ticks": ""
           }
          },
          "title": {
           "x": 0.05
          },
          "xaxis": {
           "automargin": true,
           "gridcolor": "white",
           "linecolor": "white",
           "ticks": "",
           "title": {
            "standoff": 15
           },
           "zerolinecolor": "white",
           "zerolinewidth": 2
          },
          "yaxis": {
           "automargin": true,
           "gridcolor": "white",
           "linecolor": "white",
           "ticks": "",
           "title": {
            "standoff": 15
           },
           "zerolinecolor": "white",
           "zerolinewidth": 2
          }
         }
        },
        "xaxis": {
         "anchor": "y",
         "domain": [
          0,
          1
         ],
         "title": {
          "text": "age_a"
         }
        },
        "yaxis": {
         "anchor": "x",
         "domain": [
          0,
          1
         ],
         "title": {
          "text": "income_a"
         }
        }
       }
      }
     },
     "metadata": {}
    }
   ],
   "source": [
    "import plotly.express as px\n",
    "\n",
    "fig = px.scatter(df, x=\"age_a\", y=\"income_a\", color=\"age_group\",\n",
    "                 )\n",
    "fig.show()"
   ]
  },
  {
   "cell_type": "code",
   "execution_count": null,
   "metadata": {},
   "outputs": [],
   "source": []
  },
  {
   "cell_type": "code",
   "execution_count": 181,
   "metadata": {},
   "outputs": [
    {
     "output_type": "display_data",
     "data": {
      "application/vnd.plotly.v1+json": {
       "config": {
        "plotlyServerURL": "https://plot.ly"
       },
       "data": [
        {
         "histnorm": "percent",
         "marker": {
          "color": "lightblue"
         },
         "name": "male",
         "opacity": 1,
         "type": "histogram",
         "x": [
          5,
          74,
          16,
          55,
          10,
          12,
          6,
          85,
          9,
          16,
          0,
          26,
          0,
          15,
          5,
          20,
          10,
          27,
          40,
          58,
          46,
          87,
          82,
          6,
          10,
          30,
          1,
          35,
          32,
          81,
          20,
          22,
          2,
          73,
          0,
          26,
          5,
          10,
          98,
          15,
          66,
          4,
          61,
          81,
          6,
          77,
          40,
          8,
          0,
          15,
          32,
          12,
          74,
          19,
          2,
          88,
          88,
          54,
          82,
          20,
          1,
          14,
          3,
          25,
          5,
          5,
          13,
          75,
          25,
          94,
          10,
          1,
          0,
          55,
          100,
          48,
          70,
          20,
          88,
          70,
          24,
          77,
          5,
          60,
          35,
          25,
          67,
          15,
          16,
          19,
          1,
          36,
          98,
          39,
          55,
          72,
          90,
          81,
          10,
          30,
          32,
          8,
          1,
          25,
          10,
          7,
          44,
          41,
          7,
          5,
          6,
          34,
          40,
          39,
          3,
          85,
          25,
          43,
          82,
          44,
          14,
          4,
          80,
          0,
          0,
          15,
          60,
          5,
          75,
          79,
          44,
          44,
          100,
          10,
          28,
          33,
          76,
          59,
          20,
          10,
          2,
          6,
          70,
          51,
          20,
          74,
          30,
          18,
          67,
          1,
          16,
          73,
          10,
          4,
          7,
          23,
          4,
          75,
          0,
          15
         ]
        },
        {
         "histnorm": "percent",
         "marker": {
          "color": "pink"
         },
         "name": "female",
         "opacity": 1,
         "type": "histogram",
         "x": [
          20,
          60,
          22,
          94,
          30,
          60,
          27,
          20,
          40,
          95,
          4,
          28,
          18,
          10,
          85,
          4,
          26,
          26,
          91,
          20,
          100,
          72,
          7,
          83,
          92,
          20,
          78,
          73,
          82,
          8,
          2,
          0,
          75,
          3,
          45,
          20,
          6,
          77,
          24,
          25,
          67,
          1,
          75,
          89,
          12,
          2,
          3,
          44,
          8,
          14,
          20,
          36,
          20,
          64,
          4,
          0,
          56,
          10,
          43,
          82,
          10,
          14,
          27,
          4,
          2,
          6,
          5,
          4,
          40,
          15,
          0,
          82,
          3,
          15,
          66,
          10,
          12,
          5,
          10,
          80,
          60,
          27,
          17,
          57,
          0,
          8,
          77,
          0,
          5,
          10,
          3,
          50,
          1,
          44,
          56,
          100,
          0,
          58,
          89,
          15,
          10,
          14,
          88,
          97,
          1,
          78,
          0,
          59,
          89,
          30,
          1,
          7,
          76,
          1,
          30,
          1
         ]
        }
       ],
       "layout": {
        "bargap": 0.05,
        "bargroupgap": 0.1,
        "barmode": "group",
        "template": {
         "data": {
          "bar": [
           {
            "error_x": {
             "color": "#2a3f5f"
            },
            "error_y": {
             "color": "#2a3f5f"
            },
            "marker": {
             "line": {
              "color": "#E5ECF6",
              "width": 0.5
             }
            },
            "type": "bar"
           }
          ],
          "barpolar": [
           {
            "marker": {
             "line": {
              "color": "#E5ECF6",
              "width": 0.5
             }
            },
            "type": "barpolar"
           }
          ],
          "carpet": [
           {
            "aaxis": {
             "endlinecolor": "#2a3f5f",
             "gridcolor": "white",
             "linecolor": "white",
             "minorgridcolor": "white",
             "startlinecolor": "#2a3f5f"
            },
            "baxis": {
             "endlinecolor": "#2a3f5f",
             "gridcolor": "white",
             "linecolor": "white",
             "minorgridcolor": "white",
             "startlinecolor": "#2a3f5f"
            },
            "type": "carpet"
           }
          ],
          "choropleth": [
           {
            "colorbar": {
             "outlinewidth": 0,
             "ticks": ""
            },
            "type": "choropleth"
           }
          ],
          "contour": [
           {
            "colorbar": {
             "outlinewidth": 0,
             "ticks": ""
            },
            "colorscale": [
             [
              0,
              "#0d0887"
             ],
             [
              0.1111111111111111,
              "#46039f"
             ],
             [
              0.2222222222222222,
              "#7201a8"
             ],
             [
              0.3333333333333333,
              "#9c179e"
             ],
             [
              0.4444444444444444,
              "#bd3786"
             ],
             [
              0.5555555555555556,
              "#d8576b"
             ],
             [
              0.6666666666666666,
              "#ed7953"
             ],
             [
              0.7777777777777778,
              "#fb9f3a"
             ],
             [
              0.8888888888888888,
              "#fdca26"
             ],
             [
              1,
              "#f0f921"
             ]
            ],
            "type": "contour"
           }
          ],
          "contourcarpet": [
           {
            "colorbar": {
             "outlinewidth": 0,
             "ticks": ""
            },
            "type": "contourcarpet"
           }
          ],
          "heatmap": [
           {
            "colorbar": {
             "outlinewidth": 0,
             "ticks": ""
            },
            "colorscale": [
             [
              0,
              "#0d0887"
             ],
             [
              0.1111111111111111,
              "#46039f"
             ],
             [
              0.2222222222222222,
              "#7201a8"
             ],
             [
              0.3333333333333333,
              "#9c179e"
             ],
             [
              0.4444444444444444,
              "#bd3786"
             ],
             [
              0.5555555555555556,
              "#d8576b"
             ],
             [
              0.6666666666666666,
              "#ed7953"
             ],
             [
              0.7777777777777778,
              "#fb9f3a"
             ],
             [
              0.8888888888888888,
              "#fdca26"
             ],
             [
              1,
              "#f0f921"
             ]
            ],
            "type": "heatmap"
           }
          ],
          "heatmapgl": [
           {
            "colorbar": {
             "outlinewidth": 0,
             "ticks": ""
            },
            "colorscale": [
             [
              0,
              "#0d0887"
             ],
             [
              0.1111111111111111,
              "#46039f"
             ],
             [
              0.2222222222222222,
              "#7201a8"
             ],
             [
              0.3333333333333333,
              "#9c179e"
             ],
             [
              0.4444444444444444,
              "#bd3786"
             ],
             [
              0.5555555555555556,
              "#d8576b"
             ],
             [
              0.6666666666666666,
              "#ed7953"
             ],
             [
              0.7777777777777778,
              "#fb9f3a"
             ],
             [
              0.8888888888888888,
              "#fdca26"
             ],
             [
              1,
              "#f0f921"
             ]
            ],
            "type": "heatmapgl"
           }
          ],
          "histogram": [
           {
            "marker": {
             "colorbar": {
              "outlinewidth": 0,
              "ticks": ""
             }
            },
            "type": "histogram"
           }
          ],
          "histogram2d": [
           {
            "colorbar": {
             "outlinewidth": 0,
             "ticks": ""
            },
            "colorscale": [
             [
              0,
              "#0d0887"
             ],
             [
              0.1111111111111111,
              "#46039f"
             ],
             [
              0.2222222222222222,
              "#7201a8"
             ],
             [
              0.3333333333333333,
              "#9c179e"
             ],
             [
              0.4444444444444444,
              "#bd3786"
             ],
             [
              0.5555555555555556,
              "#d8576b"
             ],
             [
              0.6666666666666666,
              "#ed7953"
             ],
             [
              0.7777777777777778,
              "#fb9f3a"
             ],
             [
              0.8888888888888888,
              "#fdca26"
             ],
             [
              1,
              "#f0f921"
             ]
            ],
            "type": "histogram2d"
           }
          ],
          "histogram2dcontour": [
           {
            "colorbar": {
             "outlinewidth": 0,
             "ticks": ""
            },
            "colorscale": [
             [
              0,
              "#0d0887"
             ],
             [
              0.1111111111111111,
              "#46039f"
             ],
             [
              0.2222222222222222,
              "#7201a8"
             ],
             [
              0.3333333333333333,
              "#9c179e"
             ],
             [
              0.4444444444444444,
              "#bd3786"
             ],
             [
              0.5555555555555556,
              "#d8576b"
             ],
             [
              0.6666666666666666,
              "#ed7953"
             ],
             [
              0.7777777777777778,
              "#fb9f3a"
             ],
             [
              0.8888888888888888,
              "#fdca26"
             ],
             [
              1,
              "#f0f921"
             ]
            ],
            "type": "histogram2dcontour"
           }
          ],
          "mesh3d": [
           {
            "colorbar": {
             "outlinewidth": 0,
             "ticks": ""
            },
            "type": "mesh3d"
           }
          ],
          "parcoords": [
           {
            "line": {
             "colorbar": {
              "outlinewidth": 0,
              "ticks": ""
             }
            },
            "type": "parcoords"
           }
          ],
          "pie": [
           {
            "automargin": true,
            "type": "pie"
           }
          ],
          "scatter": [
           {
            "marker": {
             "colorbar": {
              "outlinewidth": 0,
              "ticks": ""
             }
            },
            "type": "scatter"
           }
          ],
          "scatter3d": [
           {
            "line": {
             "colorbar": {
              "outlinewidth": 0,
              "ticks": ""
             }
            },
            "marker": {
             "colorbar": {
              "outlinewidth": 0,
              "ticks": ""
             }
            },
            "type": "scatter3d"
           }
          ],
          "scattercarpet": [
           {
            "marker": {
             "colorbar": {
              "outlinewidth": 0,
              "ticks": ""
             }
            },
            "type": "scattercarpet"
           }
          ],
          "scattergeo": [
           {
            "marker": {
             "colorbar": {
              "outlinewidth": 0,
              "ticks": ""
             }
            },
            "type": "scattergeo"
           }
          ],
          "scattergl": [
           {
            "marker": {
             "colorbar": {
              "outlinewidth": 0,
              "ticks": ""
             }
            },
            "type": "scattergl"
           }
          ],
          "scattermapbox": [
           {
            "marker": {
             "colorbar": {
              "outlinewidth": 0,
              "ticks": ""
             }
            },
            "type": "scattermapbox"
           }
          ],
          "scatterpolar": [
           {
            "marker": {
             "colorbar": {
              "outlinewidth": 0,
              "ticks": ""
             }
            },
            "type": "scatterpolar"
           }
          ],
          "scatterpolargl": [
           {
            "marker": {
             "colorbar": {
              "outlinewidth": 0,
              "ticks": ""
             }
            },
            "type": "scatterpolargl"
           }
          ],
          "scatterternary": [
           {
            "marker": {
             "colorbar": {
              "outlinewidth": 0,
              "ticks": ""
             }
            },
            "type": "scatterternary"
           }
          ],
          "surface": [
           {
            "colorbar": {
             "outlinewidth": 0,
             "ticks": ""
            },
            "colorscale": [
             [
              0,
              "#0d0887"
             ],
             [
              0.1111111111111111,
              "#46039f"
             ],
             [
              0.2222222222222222,
              "#7201a8"
             ],
             [
              0.3333333333333333,
              "#9c179e"
             ],
             [
              0.4444444444444444,
              "#bd3786"
             ],
             [
              0.5555555555555556,
              "#d8576b"
             ],
             [
              0.6666666666666666,
              "#ed7953"
             ],
             [
              0.7777777777777778,
              "#fb9f3a"
             ],
             [
              0.8888888888888888,
              "#fdca26"
             ],
             [
              1,
              "#f0f921"
             ]
            ],
            "type": "surface"
           }
          ],
          "table": [
           {
            "cells": {
             "fill": {
              "color": "#EBF0F8"
             },
             "line": {
              "color": "white"
             }
            },
            "header": {
             "fill": {
              "color": "#C8D4E3"
             },
             "line": {
              "color": "white"
             }
            },
            "type": "table"
           }
          ]
         },
         "layout": {
          "annotationdefaults": {
           "arrowcolor": "#2a3f5f",
           "arrowhead": 0,
           "arrowwidth": 1
          },
          "autotypenumbers": "strict",
          "coloraxis": {
           "colorbar": {
            "outlinewidth": 0,
            "ticks": ""
           }
          },
          "colorscale": {
           "diverging": [
            [
             0,
             "#8e0152"
            ],
            [
             0.1,
             "#c51b7d"
            ],
            [
             0.2,
             "#de77ae"
            ],
            [
             0.3,
             "#f1b6da"
            ],
            [
             0.4,
             "#fde0ef"
            ],
            [
             0.5,
             "#f7f7f7"
            ],
            [
             0.6,
             "#e6f5d0"
            ],
            [
             0.7,
             "#b8e186"
            ],
            [
             0.8,
             "#7fbc41"
            ],
            [
             0.9,
             "#4d9221"
            ],
            [
             1,
             "#276419"
            ]
           ],
           "sequential": [
            [
             0,
             "#0d0887"
            ],
            [
             0.1111111111111111,
             "#46039f"
            ],
            [
             0.2222222222222222,
             "#7201a8"
            ],
            [
             0.3333333333333333,
             "#9c179e"
            ],
            [
             0.4444444444444444,
             "#bd3786"
            ],
            [
             0.5555555555555556,
             "#d8576b"
            ],
            [
             0.6666666666666666,
             "#ed7953"
            ],
            [
             0.7777777777777778,
             "#fb9f3a"
            ],
            [
             0.8888888888888888,
             "#fdca26"
            ],
            [
             1,
             "#f0f921"
            ]
           ],
           "sequentialminus": [
            [
             0,
             "#0d0887"
            ],
            [
             0.1111111111111111,
             "#46039f"
            ],
            [
             0.2222222222222222,
             "#7201a8"
            ],
            [
             0.3333333333333333,
             "#9c179e"
            ],
            [
             0.4444444444444444,
             "#bd3786"
            ],
            [
             0.5555555555555556,
             "#d8576b"
            ],
            [
             0.6666666666666666,
             "#ed7953"
            ],
            [
             0.7777777777777778,
             "#fb9f3a"
            ],
            [
             0.8888888888888888,
             "#fdca26"
            ],
            [
             1,
             "#f0f921"
            ]
           ]
          },
          "colorway": [
           "#636efa",
           "#EF553B",
           "#00cc96",
           "#ab63fa",
           "#FFA15A",
           "#19d3f3",
           "#FF6692",
           "#B6E880",
           "#FF97FF",
           "#FECB52"
          ],
          "font": {
           "color": "#2a3f5f"
          },
          "geo": {
           "bgcolor": "white",
           "lakecolor": "white",
           "landcolor": "#E5ECF6",
           "showlakes": true,
           "showland": true,
           "subunitcolor": "white"
          },
          "hoverlabel": {
           "align": "left"
          },
          "hovermode": "closest",
          "mapbox": {
           "style": "light"
          },
          "paper_bgcolor": "white",
          "plot_bgcolor": "#E5ECF6",
          "polar": {
           "angularaxis": {
            "gridcolor": "white",
            "linecolor": "white",
            "ticks": ""
           },
           "bgcolor": "#E5ECF6",
           "radialaxis": {
            "gridcolor": "white",
            "linecolor": "white",
            "ticks": ""
           }
          },
          "scene": {
           "xaxis": {
            "backgroundcolor": "#E5ECF6",
            "gridcolor": "white",
            "gridwidth": 2,
            "linecolor": "white",
            "showbackground": true,
            "ticks": "",
            "zerolinecolor": "white"
           },
           "yaxis": {
            "backgroundcolor": "#E5ECF6",
            "gridcolor": "white",
            "gridwidth": 2,
            "linecolor": "white",
            "showbackground": true,
            "ticks": "",
            "zerolinecolor": "white"
           },
           "zaxis": {
            "backgroundcolor": "#E5ECF6",
            "gridcolor": "white",
            "gridwidth": 2,
            "linecolor": "white",
            "showbackground": true,
            "ticks": "",
            "zerolinecolor": "white"
           }
          },
          "shapedefaults": {
           "line": {
            "color": "#2a3f5f"
           }
          },
          "ternary": {
           "aaxis": {
            "gridcolor": "white",
            "linecolor": "white",
            "ticks": ""
           },
           "baxis": {
            "gridcolor": "white",
            "linecolor": "white",
            "ticks": ""
           },
           "bgcolor": "#E5ECF6",
           "caxis": {
            "gridcolor": "white",
            "linecolor": "white",
            "ticks": ""
           }
          },
          "title": {
           "x": 0.05
          },
          "xaxis": {
           "automargin": true,
           "gridcolor": "white",
           "linecolor": "white",
           "ticks": "",
           "title": {
            "standoff": 15
           },
           "zerolinecolor": "white",
           "zerolinewidth": 2
          },
          "yaxis": {
           "automargin": true,
           "gridcolor": "white",
           "linecolor": "white",
           "ticks": "",
           "title": {
            "standoff": 15
           },
           "zerolinecolor": "white",
           "zerolinewidth": 2
          }
         }
        },
        "title": {
         "text": "Age Distribution"
        },
        "xaxis": {
         "title": {
          "text": "Age"
         }
        },
        "yaxis": {
         "title": {
          "text": "Count"
         }
        }
       }
      }
     },
     "metadata": {}
    }
   ],
   "source": [
    "import plotly.graph_objects as go\n",
    "\n",
    "\n",
    "x = 'income_a'\n",
    "x = 'computer_hours_a'\n",
    "\n",
    "fig = go.Figure()\n",
    "fig.add_trace(go.Histogram(\n",
    "    x           =df[x][df['gender_a'] == 'male'],\n",
    "    histnorm    ='percent',\n",
    "    name        ='male', \n",
    "    marker_color='lightblue',\n",
    "    opacity     =1\n",
    "))\n",
    "fig.add_trace(go.Histogram(\n",
    "    x           =df[x][df['gender_a'] == 'female'],\n",
    "    histnorm    ='percent',\n",
    "    name        ='female', \n",
    "    marker_color='pink',\n",
    "    opacity     =1\n",
    "))\n",
    "\n",
    "fig.update_layout(\n",
    "    barmode         ='overlay',\n",
    "    title_text      ='Age Distribution', \n",
    "    xaxis_title_text='Age', \n",
    "    yaxis_title_text='Count', \n",
    "    bargap          =0.05, \n",
    "    bargroupgap     =0.1 \n",
    ")\n",
    "\n",
    "fig.update_layout(barmode='group')\n",
    "\n",
    "\n",
    "\n",
    "fig.show()"
   ]
  },
  {
   "cell_type": "code",
   "execution_count": null,
   "metadata": {},
   "outputs": [],
   "source": []
  },
  {
   "cell_type": "code",
   "execution_count": 185,
   "metadata": {},
   "outputs": [
    {
     "output_type": "execute_result",
     "data": {
      "text/plain": [
       "0      25-34\n",
       "1      18-24\n",
       "2      25-34\n",
       "3      45-54\n",
       "4      25-34\n",
       "5      25-34\n",
       "6      18-24\n",
       "7      18-24\n",
       "8      25-34\n",
       "9      35-44\n",
       "10     25-34\n",
       "14     35-44\n",
       "15     25-34\n",
       "16     35-44\n",
       "17     45-54\n",
       "18     25-34\n",
       "19     45-54\n",
       "20     35-44\n",
       "21     18-24\n",
       "22     25-34\n",
       "23     25-34\n",
       "24     25-34\n",
       "25     55-64\n",
       "26     45-54\n",
       "27     55-64\n",
       "28     25-34\n",
       "29     35-44\n",
       "30     25-34\n",
       "31     25-34\n",
       "32     35-44\n",
       "33     35-44\n",
       "34     25-34\n",
       "35     25-34\n",
       "36     25-34\n",
       "37     18-24\n",
       "38     25-34\n",
       "41     25-34\n",
       "42     25-34\n",
       "43     18-24\n",
       "44     18-24\n",
       "46     18-24\n",
       "47     35-44\n",
       "48     18-24\n",
       "50     55-64\n",
       "54     18-24\n",
       "55     25-34\n",
       "56     35-44\n",
       "57     25-34\n",
       "58     18-24\n",
       "59     18-24\n",
       "61     45-54\n",
       "63     25-34\n",
       "64     35-44\n",
       "65     18-24\n",
       "66     25-34\n",
       "67     35-44\n",
       "68     45-54\n",
       "69     55-64\n",
       "70     35-44\n",
       "71     18-24\n",
       "72     35-44\n",
       "74     25-34\n",
       "75     25-34\n",
       "76     25-34\n",
       "77     18-24\n",
       "78     25-34\n",
       "79     55-64\n",
       "80     18-24\n",
       "81     45-54\n",
       "82     35-44\n",
       "83     25-34\n",
       "84     45-54\n",
       "85     35-44\n",
       "86     25-34\n",
       "87     35-44\n",
       "88     25-34\n",
       "89     25-34\n",
       "90     18-24\n",
       "92       65+\n",
       "93     18-24\n",
       "94     35-44\n",
       "95     25-34\n",
       "96     25-34\n",
       "97       65+\n",
       "98     55-64\n",
       "99     18-24\n",
       "100    55-64\n",
       "101    25-34\n",
       "102    25-34\n",
       "104    25-34\n",
       "105    45-54\n",
       "106    18-24\n",
       "107    35-44\n",
       "109    18-24\n",
       "110    18-24\n",
       "111    25-34\n",
       "112    25-34\n",
       "113    18-24\n",
       "114    35-44\n",
       "115    45-54\n",
       "116    35-44\n",
       "117    18-24\n",
       "118    25-34\n",
       "120    45-54\n",
       "121    25-34\n",
       "122    18-24\n",
       "123    55-64\n",
       "124    25-34\n",
       "125    35-44\n",
       "126    45-54\n",
       "127    18-24\n",
       "128    35-44\n",
       "129      65+\n",
       "131    35-44\n",
       "133    25-34\n",
       "135    25-34\n",
       "138    35-44\n",
       "140    55-64\n",
       "141    25-34\n",
       "142    18-24\n",
       "144    18-24\n",
       "146    45-54\n",
       "147    25-34\n",
       "149    18-24\n",
       "150    25-34\n",
       "152    18-24\n",
       "153    25-34\n",
       "155    45-54\n",
       "156      65+\n",
       "157    18-24\n",
       "158    45-54\n",
       "159    25-34\n",
       "160    25-34\n",
       "161    25-34\n",
       "163    35-44\n",
       "164    25-34\n",
       "167    25-34\n",
       "168    18-24\n",
       "170    25-34\n",
       "171    25-34\n",
       "172    35-44\n",
       "173    35-44\n",
       "175    25-34\n",
       "177    35-44\n",
       "178    25-34\n",
       "180    35-44\n",
       "181    25-34\n",
       "182    25-34\n",
       "183    45-54\n",
       "184    35-44\n",
       "185    55-64\n",
       "186    25-34\n",
       "188    35-44\n",
       "189    25-34\n",
       "190    25-34\n",
       "191    25-34\n",
       "192    45-54\n",
       "193    18-24\n",
       "194    25-34\n",
       "195    25-34\n",
       "196    35-44\n",
       "197    25-34\n",
       "199    55-64\n",
       "200    18-24\n",
       "201    18-24\n",
       "202    35-44\n",
       "205    25-34\n",
       "206    35-44\n",
       "207    45-54\n",
       "208    45-54\n",
       "209    25-34\n",
       "210    35-44\n",
       "211    25-34\n",
       "212    45-54\n",
       "213    25-34\n",
       "214    55-64\n",
       "215    25-34\n",
       "216    25-34\n",
       "217    35-44\n",
       "218    25-34\n",
       "219    35-44\n",
       "221    45-54\n",
       "222    25-34\n",
       "223    18-24\n",
       "224    35-44\n",
       "226    25-34\n",
       "227    25-34\n",
       "228    35-44\n",
       "229    25-34\n",
       "230    25-34\n",
       "231    25-34\n",
       "232    25-34\n",
       "233    18-24\n",
       "234    55-64\n",
       "235    25-34\n",
       "236    35-44\n",
       "237    35-44\n",
       "239    25-34\n",
       "240    45-54\n",
       "242    18-24\n",
       "243    25-34\n",
       "244    25-34\n",
       "245    25-34\n",
       "246    25-34\n",
       "247    25-34\n",
       "248    18-24\n",
       "249    25-34\n",
       "250    35-44\n",
       "252    35-44\n",
       "253    35-44\n",
       "254    25-34\n",
       "255    55-64\n",
       "257    45-54\n",
       "259    25-34\n",
       "260    25-34\n",
       "261    45-54\n",
       "262    25-34\n",
       "264    25-34\n",
       "265    35-44\n",
       "266    45-54\n",
       "267    35-44\n",
       "268    25-34\n",
       "271    18-24\n",
       "273    45-54\n",
       "275    35-44\n",
       "277    18-24\n",
       "278    25-34\n",
       "279    35-44\n",
       "280    25-34\n",
       "281    45-54\n",
       "282    25-34\n",
       "283    25-34\n",
       "284    18-24\n",
       "285    18-24\n",
       "286    25-34\n",
       "287    25-34\n",
       "289    35-44\n",
       "290    35-44\n",
       "291    18-24\n",
       "292    25-34\n",
       "293    35-44\n",
       "294    25-34\n",
       "295    25-34\n",
       "296    45-54\n",
       "298    35-44\n",
       "299    55-64\n",
       "300    18-24\n",
       "301    35-44\n",
       "302    35-44\n",
       "303    25-34\n",
       "304    25-34\n",
       "305    25-34\n",
       "306    25-34\n",
       "307    35-44\n",
       "308    35-44\n",
       "311    25-34\n",
       "312    25-34\n",
       "313    25-34\n",
       "314    35-44\n",
       "315    25-34\n",
       "316    35-44\n",
       "317    35-44\n",
       "318    45-54\n",
       "319      65+\n",
       "320    35-44\n",
       "321    18-24\n",
       "322    25-34\n",
       "323    18-24\n",
       "324    55-64\n",
       "325    35-44\n",
       "326    25-34\n",
       "327    18-24\n",
       "328    18-24\n",
       "330    25-34\n",
       "331    35-44\n",
       "332    35-44\n",
       "333    35-44\n",
       "Name: age_a, dtype: category\n",
       "Categories (6, object): ['18-24' < '25-34' < '35-44' < '45-54' < '55-64' < '65+']"
      ]
     },
     "metadata": {},
     "execution_count": 185
    }
   ],
   "source": [
    "\n",
    "\n",
    "\n",
    "\n",
    "\n",
    "# bins = [18, 30, 40, 50, 60, 70, 120]\n",
    "# labels = ['18-29', '30-39', '40-49', '50-59', '60-69', '70+']\n",
    "# ages['agerange'] = pd.cut(ages.age, bins, labels = labels,include_lowest = True)\n",
    "\n",
    "# print(ages)"
   ]
  },
  {
   "cell_type": "code",
   "execution_count": null,
   "metadata": {},
   "outputs": [],
   "source": []
  },
  {
   "cell_type": "code",
   "execution_count": 96,
   "metadata": {},
   "outputs": [
    {
     "output_type": "stream",
     "name": "stdout",
     "text": [
      "Dash is running on http://127.0.0.1:8050/\n",
      "\n",
      "Dash is running on http://127.0.0.1:8050/\n",
      "\n",
      " * Serving Flask app \"__main__\" (lazy loading)\n",
      " * Environment: production\n",
      "\u001b[31m   WARNING: This is a development server. Do not use it in a production deployment.\u001b[0m\n",
      "\u001b[2m   Use a production WSGI server instead.\u001b[0m\n",
      " * Debug mode: on\n"
     ]
    },
    {
     "output_type": "error",
     "ename": "SystemExit",
     "evalue": "1",
     "traceback": [
      "An exception has occurred, use %tb to see the full traceback.\n",
      "\u001b[0;31mSystemExit\u001b[0m\u001b[0;31m:\u001b[0m 1\n"
     ]
    }
   ],
   "source": [
    "import dash\n",
    "import dash_core_components as dcc\n",
    "import dash_html_components as html\n",
    "from dash.dependencies import Input, Output\n",
    "import plotly.express as px\n",
    "import numpy as np\n",
    "\n",
    "\n",
    "np.random.seed(2020)\n",
    "\n",
    "app = dash.Dash(__name__)\n",
    "\n",
    "app.layout = html.Div([\n",
    "    dcc.Graph(id=\"graph\"),\n",
    "    html.P(\"Mean:\"),\n",
    "    dcc.Slider(id=\"mean\", min=-3, max=3, value=0, \n",
    "               marks={-3: '-3', 3: '3'}),\n",
    "    html.P(\"Standard Deviation:\"),\n",
    "    dcc.Slider(id=\"std\", min=1, max=3, value=1, \n",
    "               marks={1: '1', 3: '3'}),\n",
    "])\n",
    "\n",
    "@app.callback(\n",
    "    Output(\"graph\", \"figure\"), \n",
    "    [Input(\"mean\", \"value\"), \n",
    "     Input(\"std\", \"value\")])\n",
    "def display_color(mean, std):\n",
    "    data = np.random.normal(mean, std, size=500)\n",
    "    fig = px.histogram(data, nbins=30, range_x=[-10, 10])\n",
    "    return fig\n",
    "\n",
    "app.run_server(host = '127.0.0.1', debug=True)"
   ]
  },
  {
   "cell_type": "code",
   "execution_count": 97,
   "metadata": {},
   "outputs": [
    {
     "output_type": "error",
     "ename": "NameError",
     "evalue": "name 'f' is not defined",
     "traceback": [
      "\u001b[0;31m---------------------------------------------------------------------------\u001b[0m",
      "\u001b[0;31mNameError\u001b[0m                                 Traceback (most recent call last)",
      "\u001b[0;32m<ipython-input-97-a9fcd54b25e7>\u001b[0m in \u001b[0;36m<module>\u001b[0;34m\u001b[0m\n\u001b[0;32m----> 1\u001b[0;31m \u001b[0mf\u001b[0m\u001b[0;34m\u001b[0m\u001b[0;34m\u001b[0m\u001b[0m\n\u001b[0m",
      "\u001b[0;31mNameError\u001b[0m: name 'f' is not defined"
     ]
    }
   ],
   "source": []
  },
  {
   "cell_type": "code",
   "execution_count": null,
   "metadata": {},
   "outputs": [],
   "source": []
  },
  {
   "cell_type": "code",
   "execution_count": null,
   "metadata": {},
   "outputs": [],
   "source": []
  },
  {
   "cell_type": "code",
   "execution_count": null,
   "metadata": {},
   "outputs": [],
   "source": []
  },
  {
   "cell_type": "code",
   "execution_count": null,
   "metadata": {},
   "outputs": [],
   "source": []
  },
  {
   "cell_type": "code",
   "execution_count": null,
   "metadata": {},
   "outputs": [],
   "source": []
  },
  {
   "cell_type": "code",
   "execution_count": null,
   "metadata": {},
   "outputs": [],
   "source": []
  },
  {
   "cell_type": "code",
   "execution_count": null,
   "metadata": {},
   "outputs": [],
   "source": []
  },
  {
   "cell_type": "code",
   "execution_count": null,
   "metadata": {},
   "outputs": [],
   "source": []
  },
  {
   "cell_type": "code",
   "execution_count": null,
   "metadata": {},
   "outputs": [],
   "source": []
  },
  {
   "cell_type": "code",
   "execution_count": null,
   "metadata": {},
   "outputs": [],
   "source": []
  },
  {
   "cell_type": "code",
   "execution_count": null,
   "metadata": {},
   "outputs": [],
   "source": []
  },
  {
   "cell_type": "code",
   "execution_count": null,
   "metadata": {},
   "outputs": [],
   "source": []
  }
 ]
}
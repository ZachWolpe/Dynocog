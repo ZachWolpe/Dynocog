{
 "metadata": {
  "language_info": {
   "codemirror_mode": {
    "name": "ipython",
    "version": 3
   },
   "file_extension": ".py",
   "mimetype": "text/x-python",
   "name": "python",
   "nbconvert_exporter": "python",
   "pygments_lexer": "ipython3",
   "version": "3.8.8"
  },
  "orig_nbformat": 2,
  "kernelspec": {
   "name": "python388jvsc74a57bd00bdb1145a6394107ddd55d824c4d0e411e79cd19a6286b1018600d724ae6ee81",
   "display_name": "Python 3.8.8 64-bit ('dynocog': conda)"
  }
 },
 "nbformat": 4,
 "nbformat_minor": 2,
 "cells": [
  {
   "source": [
    "# Clean Processed Data\n",
    "## Data Preprocessing\n",
    "\n",
    "The data has been processed & captured int a _class object: batch_processing_ - storing the experimental & user demographic data in pandas dataframes.\n",
    "\n",
    "#### Objective\n",
    "This notebook aims to identify & handle missing, invalid or incomplete entries.\n",
    "\n",
    "#### Output\n",
    "- Store an instance of the _class object: batch_processing_ after additional cleaning.\n",
    "- Store a description of the transformations performed\n",
    "- The resulting data should be ready for:\n",
    "    - Statistics test\n",
    "    - Modelling\n",
    "    - Rendering graphics\n",
    "    \n",
    "---------\n",
    "```\n",
    "Zach Wolpe\n",
    "zachcolinwolpe@gmail.com\n",
    "03 June 2021\n",
    "```\n",
    "---------\n"
   ],
   "cell_type": "markdown",
   "metadata": {}
  },
  {
   "cell_type": "code",
   "execution_count": 1,
   "metadata": {},
   "outputs": [],
   "source": [
    "import numpy as np\n",
    "import matplotlib.pyplot as plt\n",
    "import pandas as pd\n",
    "import pickle\n",
    "import os\n",
    "import re\n",
    "import sys\n",
    "sys.path.append('../process data/')\n",
    "import plotly.graph_objects as go\n",
    "import plotly.express as px\n",
    "from process_data_raw_class import batch_processing"
   ]
  },
  {
   "cell_type": "code",
   "execution_count": 2,
   "metadata": {},
   "outputs": [],
   "source": [
    "with open('../data objects/batch_processing_object.pkl', 'rb') as file2:\n",
    "    bp = pickle.load(file2)"
   ]
  },
  {
   "cell_type": "code",
   "execution_count": 3,
   "metadata": {},
   "outputs": [
    {
     "output_type": "stream",
     "name": "stdout",
     "text": [
      "\n\n        ------------------------------------------------------------------\n            self.path            : raw data loc\n            self.metadata        : mturk metadata\n            self.mapping         : reference table\n            self.data_times      : reference times table\n            self.participants    : list of participant identifiers\n            self.parti_code      : list of participant codes\n            self.n               : total number of samples\n            self.wcst_paths      : paths to wcst  raw data\n            self.nback_paths     : paths to nback raw data\n            self.corsi_paths     : paths to corsi raw data\n            self.fitts_paths     : paths to fitts raw data\n            self.navon_paths     : paths to navon raw data\n            self.wcst_data       : wcst  dataframe\n            self.nback_data      : nback dataframe\n            self.corsi_data      : corsi dataframe\n            self.fitts_data      : fitts dataframe\n            self.navon_data      : navon dataframe\n            self.individual_data : psytoolkit metadata\n            self.MTurk           : mturk completion data\n        ------------------------------------------------------------------\n\n        \n"
     ]
    }
   ],
   "source": [
    "bp.describe_data()"
   ]
  },
  {
   "source": [
    "# Identify Missing Data\n",
    "\n",
    "- Identify missing or corrupt entries\n",
    "- relate those entries to participants\n"
   ],
   "cell_type": "markdown",
   "metadata": {}
  },
  {
   "cell_type": "code",
   "execution_count": 16,
   "metadata": {},
   "outputs": [
    {
     "output_type": "execute_result",
     "data": {
      "text/plain": [
       "  participant                            participant_file   user_agent  \\\n",
       "0    816404.0  s.6463d918-7e29-49b0-942d-f1a9faab6ad6.txt  mozilla/5.0   \n",
       "1    221478.0  s.fa171c49-91e1-44b0-b9e3-9937dca02dca.txt  mozilla/5.0   \n",
       "2    192208.0  s.b36334f4-c3dd-4d1b-b2e4-f0bee8be7d31.txt  mozilla/5.0   \n",
       "3    803102.0  s.35c74094-fc8a-4fc8-8ac2-3b4522be09ff.txt  mozilla/5.0   \n",
       "4    844810.0  s.727f9e4c-2eab-4d01-8176-cd62d77d550a.txt  mozilla/5.0   \n",
       "\n",
       "  Welcome_Screen_T participant_code_a feedback_T    age_T age_a gender_T  \\\n",
       "0  1621951320945.0           816404.0     8719.0   3556.0  28.0   2023.0   \n",
       "1  1621951860689.0           221478.0     6663.0  14735.0  25.0   1917.0   \n",
       "2  1621953589918.0           192208.0    17878.0   3448.0  29.0   1691.0   \n",
       "3  1621950896852.0           803102.0    11907.0  36996.0  47.0   2425.0   \n",
       "4  1621951255736.0           844810.0    17782.0   3288.0  32.0   1905.0   \n",
       "\n",
       "  gender_a  ... handedness_a education_T      education_a income_T income_a  \\\n",
       "0   female  ...        right      2604.0       university   6457.0      6.0   \n",
       "1   female  ...        right      3588.0  graduate school  49250.0      7.0   \n",
       "2     male  ...        right      2366.0       university   8341.0      6.0   \n",
       "3     male  ...        right      5373.0       university   4701.0      7.0   \n",
       "4   female  ...        right      3031.0       university  14055.0      6.0   \n",
       "\n",
       "  income_s computer_hours_T computer_hours_a computer_hours_s age_group  \n",
       "0      6.0          11528.0             20.0             20.0     25-34  \n",
       "1      7.0           8375.0             60.0             60.0     18-24  \n",
       "2      6.0          21202.0              5.0              5.0     25-34  \n",
       "3      7.0           4018.0             74.0             74.0     45-54  \n",
       "4      6.0           4410.0             22.0             22.0     25-34  \n",
       "\n",
       "[5 rows x 21 columns]"
      ],
      "text/html": "<div>\n<style scoped>\n    .dataframe tbody tr th:only-of-type {\n        vertical-align: middle;\n    }\n\n    .dataframe tbody tr th {\n        vertical-align: top;\n    }\n\n    .dataframe thead th {\n        text-align: right;\n    }\n</style>\n<table border=\"1\" class=\"dataframe\">\n  <thead>\n    <tr style=\"text-align: right;\">\n      <th></th>\n      <th>participant</th>\n      <th>participant_file</th>\n      <th>user_agent</th>\n      <th>Welcome_Screen_T</th>\n      <th>participant_code_a</th>\n      <th>feedback_T</th>\n      <th>age_T</th>\n      <th>age_a</th>\n      <th>gender_T</th>\n      <th>gender_a</th>\n      <th>...</th>\n      <th>handedness_a</th>\n      <th>education_T</th>\n      <th>education_a</th>\n      <th>income_T</th>\n      <th>income_a</th>\n      <th>income_s</th>\n      <th>computer_hours_T</th>\n      <th>computer_hours_a</th>\n      <th>computer_hours_s</th>\n      <th>age_group</th>\n    </tr>\n  </thead>\n  <tbody>\n    <tr>\n      <th>0</th>\n      <td>816404.0</td>\n      <td>s.6463d918-7e29-49b0-942d-f1a9faab6ad6.txt</td>\n      <td>mozilla/5.0</td>\n      <td>1621951320945.0</td>\n      <td>816404.0</td>\n      <td>8719.0</td>\n      <td>3556.0</td>\n      <td>28.0</td>\n      <td>2023.0</td>\n      <td>female</td>\n      <td>...</td>\n      <td>right</td>\n      <td>2604.0</td>\n      <td>university</td>\n      <td>6457.0</td>\n      <td>6.0</td>\n      <td>6.0</td>\n      <td>11528.0</td>\n      <td>20.0</td>\n      <td>20.0</td>\n      <td>25-34</td>\n    </tr>\n    <tr>\n      <th>1</th>\n      <td>221478.0</td>\n      <td>s.fa171c49-91e1-44b0-b9e3-9937dca02dca.txt</td>\n      <td>mozilla/5.0</td>\n      <td>1621951860689.0</td>\n      <td>221478.0</td>\n      <td>6663.0</td>\n      <td>14735.0</td>\n      <td>25.0</td>\n      <td>1917.0</td>\n      <td>female</td>\n      <td>...</td>\n      <td>right</td>\n      <td>3588.0</td>\n      <td>graduate school</td>\n      <td>49250.0</td>\n      <td>7.0</td>\n      <td>7.0</td>\n      <td>8375.0</td>\n      <td>60.0</td>\n      <td>60.0</td>\n      <td>18-24</td>\n    </tr>\n    <tr>\n      <th>2</th>\n      <td>192208.0</td>\n      <td>s.b36334f4-c3dd-4d1b-b2e4-f0bee8be7d31.txt</td>\n      <td>mozilla/5.0</td>\n      <td>1621953589918.0</td>\n      <td>192208.0</td>\n      <td>17878.0</td>\n      <td>3448.0</td>\n      <td>29.0</td>\n      <td>1691.0</td>\n      <td>male</td>\n      <td>...</td>\n      <td>right</td>\n      <td>2366.0</td>\n      <td>university</td>\n      <td>8341.0</td>\n      <td>6.0</td>\n      <td>6.0</td>\n      <td>21202.0</td>\n      <td>5.0</td>\n      <td>5.0</td>\n      <td>25-34</td>\n    </tr>\n    <tr>\n      <th>3</th>\n      <td>803102.0</td>\n      <td>s.35c74094-fc8a-4fc8-8ac2-3b4522be09ff.txt</td>\n      <td>mozilla/5.0</td>\n      <td>1621950896852.0</td>\n      <td>803102.0</td>\n      <td>11907.0</td>\n      <td>36996.0</td>\n      <td>47.0</td>\n      <td>2425.0</td>\n      <td>male</td>\n      <td>...</td>\n      <td>right</td>\n      <td>5373.0</td>\n      <td>university</td>\n      <td>4701.0</td>\n      <td>7.0</td>\n      <td>7.0</td>\n      <td>4018.0</td>\n      <td>74.0</td>\n      <td>74.0</td>\n      <td>45-54</td>\n    </tr>\n    <tr>\n      <th>4</th>\n      <td>844810.0</td>\n      <td>s.727f9e4c-2eab-4d01-8176-cd62d77d550a.txt</td>\n      <td>mozilla/5.0</td>\n      <td>1621951255736.0</td>\n      <td>844810.0</td>\n      <td>17782.0</td>\n      <td>3288.0</td>\n      <td>32.0</td>\n      <td>1905.0</td>\n      <td>female</td>\n      <td>...</td>\n      <td>right</td>\n      <td>3031.0</td>\n      <td>university</td>\n      <td>14055.0</td>\n      <td>6.0</td>\n      <td>6.0</td>\n      <td>4410.0</td>\n      <td>22.0</td>\n      <td>22.0</td>\n      <td>25-34</td>\n    </tr>\n  </tbody>\n</table>\n<p>5 rows × 21 columns</p>\n</div>"
     },
     "metadata": {},
     "execution_count": 16
    }
   ],
   "source": [
    "import warnings\n",
    "warnings.filterwarnings('ignore')\n",
    "pd.options.display.max_rows = 4000\n",
    "\n",
    "\n",
    "# ------- Demographics Encoding --------x\n",
    "# q: Gender\n",
    "# - male\n",
    "# - female\n",
    "# - other\n",
    "# - prefer not to say\n",
    "\n",
    "# q: Handedness\n",
    "# - right\n",
    "# - left\n",
    "# - ambidextrous\n",
    "\n",
    "# q: What is your highest level of education?\n",
    "# - primary school\n",
    "# - high school\n",
    "# - university\n",
    "# - graduate school\n",
    "\n",
    "# l: income\n",
    "# q: Compared with the average, what is your income on a scale from 1 to 10 with 5 being average?\n",
    "# - {min=1,max=10,left=low,right=high,start=5}\n",
    "\n",
    "# l: computer_hours\n",
    "# q: How many hours do you spend playing computer games (per week)\n",
    "# - {min=0,max=100,left=low,right=high,start=0}\n",
    "# ------- Demographics Encoding --------x\n",
    "\n",
    "\n",
    "df = bp.individual_data[['participant', 'participant_file', 'user_agent', 'Welcome_Screen_T', 'participant_code_a', 'feedback_T', 'age_T', 'age_a', 'gender_T', 'gender_a',\n",
    "                        'handedness_T', 'handedness_a', 'education_T', 'education_a', 'income_T', 'income_a', 'income_s', 'computer_hours_T', 'computer_hours_a', 'computer_hours_s']]\n",
    "\n",
    "# ---- extract clean data ----x\n",
    "df             = df[df['age_a'].replace(np.NaN, 'na').str.isnumeric()]          # remove nonsensical data\n",
    "df.iloc[:, 3:] = df.iloc[:, 3:].astype('float')                                 # convert to float\n",
    "original       = df.copy()                                                      # store original\n",
    "df             = df[df['gender_a'].notnull()]                                   # Nan data\n",
    "\n",
    "# ---- create age groupings ----x\n",
    "bins            = [0, 25, 35, 45, 55, 65, 120]\n",
    "labels          = ['18-24', '25-34', '35-44', '45-54', '55-64', '65+']\n",
    "df['age_group'] = pd.cut(df['age_a'], bins, labels=labels, include_lowest=True)\n",
    "\n",
    "# ---- gender ----x\n",
    "df['gender_a'][df['gender_a'] == 1] = 'male'\n",
    "df['gender_a'][df['gender_a'] == 2] = 'female'\n",
    "df['gender_a'][df['gender_a'] == 3] = 'other'\n",
    "df['gender_a'][df['gender_a'] == 4] = 'other'\n",
    "\n",
    "# ---- handedness ----x\n",
    "df['handedness_a'][df['handedness_a'] == 1] = 'right'\n",
    "df['handedness_a'][df['handedness_a'] == 2] = 'left'\n",
    "df['handedness_a'][df['handedness_a'] == 3] = 'ambidextrous'\n",
    "\n",
    "# ---- education ----x\n",
    "df['education_a'][df['education_a'] == 1] = 'primary school'\n",
    "df['education_a'][df['education_a'] == 2] = 'high school'\n",
    "df['education_a'][df['education_a'] == 3] = 'university'\n",
    "df['education_a'][df['education_a'] == 4] = 'graduate school'\n",
    "\n",
    "df.head()"
   ]
  },
  {
   "cell_type": "code",
   "execution_count": 28,
   "metadata": {},
   "outputs": [
    {
     "output_type": "stream",
     "name": "stdout",
     "text": [
      "\n\n        ------------------------------------------------------------------\n            self.path            : raw data loc\n            self.metadata        : mturk metadata\n            self.mapping         : reference table\n            self.data_times      : reference times table\n            self.participants    : list of participant identifiers\n            self.parti_code      : list of participant codes\n            self.n               : total number of samples\n            self.wcst_paths      : paths to wcst  raw data\n            self.nback_paths     : paths to nback raw data\n            self.corsi_paths     : paths to corsi raw data\n            self.fitts_paths     : paths to fitts raw data\n            self.navon_paths     : paths to navon raw data\n            self.wcst_data       : wcst  dataframe\n            self.nback_data      : nback dataframe\n            self.corsi_data      : corsi dataframe\n            self.fitts_data      : fitts dataframe\n            self.navon_data      : navon dataframe\n            self.individual_data : psytoolkit metadata\n            self.MTurk           : mturk completion data\n        ------------------------------------------------------------------\n\n        \n"
     ]
    }
   ],
   "source": [
    "bp.describe_data()"
   ]
  },
  {
   "cell_type": "code",
   "execution_count": 96,
   "metadata": {},
   "outputs": [
    {
     "output_type": "execute_result",
     "data": {
      "text/plain": [
       "904550.0"
      ]
     },
     "metadata": {},
     "execution_count": 96
    }
   ],
   "source": [
    "null_participants = []\n",
    "p = original[original['gender_a'].isnull()]\n",
    "p.iloc[0,]['participant']"
   ]
  },
  {
   "cell_type": "code",
   "execution_count": 80,
   "metadata": {},
   "outputs": [
    {
     "output_type": "execute_result",
     "data": {
      "text/plain": [
       "      participant                            participant_code large_letter  \\\n",
       "2775     929907.0  s.7d1721ff-7535-4673-9864-c9548c05fcaf.txt            S   \n",
       "5241     690573.0  s.083ae4d4-255b-488b-873c-7764dcee6253.txt            T   \n",
       "37       816404.0  s.6463d918-7e29-49b0-942d-f1a9faab6ad6.txt            S   \n",
       "6850     414065.0  s.a5726c35-b42d-4aa9-924c-2b897c6dbb19.txt            H   \n",
       "6963     230048.0  s.0e5bb56c-95ec-44b1-b326-e6e4bf95238f.txt            H   \n",
       "8454     573978.0  s.319f364a-2980-43b0-95bc-4af1dffac40d.txt            S   \n",
       "4508     895200.0  s.be0eaa1c-a662-4162-bd05-38f87df95c35.txt            H   \n",
       "73       221478.0  s.fa171c49-91e1-44b0-b9e3-9937dca02dca.txt            S   \n",
       "1193     866118.0  s.f08c5757-ac07-4a3b-bd2b-ace2ff9f7410.txt            T   \n",
       "1105     122240.0  s.99ea9504-2716-4ae3-9d5c-d2b95c65e1fe.txt            T   \n",
       "\n",
       "     small_letter level_of_target  level_of_target_n  status  reaction_time_ms  \n",
       "2775            S            none                  0       1              1189  \n",
       "5241            T            none                  0       1              1550  \n",
       "37              S            none                  0       2               721  \n",
       "6850            H          global                  2       2              2466  \n",
       "6963            H          global                  2       1               717  \n",
       "8454            S            none                  0       1              1361  \n",
       "4508            H          global                  2       2              2233  \n",
       "73              S            none                  0       2               542  \n",
       "1193            T           local                  1       1               595  \n",
       "1105            T            none                  0       1               737  "
      ],
      "text/html": "<div>\n<style scoped>\n    .dataframe tbody tr th:only-of-type {\n        vertical-align: middle;\n    }\n\n    .dataframe tbody tr th {\n        vertical-align: top;\n    }\n\n    .dataframe thead th {\n        text-align: right;\n    }\n</style>\n<table border=\"1\" class=\"dataframe\">\n  <thead>\n    <tr style=\"text-align: right;\">\n      <th></th>\n      <th>participant</th>\n      <th>participant_code</th>\n      <th>large_letter</th>\n      <th>small_letter</th>\n      <th>level_of_target</th>\n      <th>level_of_target_n</th>\n      <th>status</th>\n      <th>reaction_time_ms</th>\n    </tr>\n  </thead>\n  <tbody>\n    <tr>\n      <th>2775</th>\n      <td>929907.0</td>\n      <td>s.7d1721ff-7535-4673-9864-c9548c05fcaf.txt</td>\n      <td>S</td>\n      <td>S</td>\n      <td>none</td>\n      <td>0</td>\n      <td>1</td>\n      <td>1189</td>\n    </tr>\n    <tr>\n      <th>5241</th>\n      <td>690573.0</td>\n      <td>s.083ae4d4-255b-488b-873c-7764dcee6253.txt</td>\n      <td>T</td>\n      <td>T</td>\n      <td>none</td>\n      <td>0</td>\n      <td>1</td>\n      <td>1550</td>\n    </tr>\n    <tr>\n      <th>37</th>\n      <td>816404.0</td>\n      <td>s.6463d918-7e29-49b0-942d-f1a9faab6ad6.txt</td>\n      <td>S</td>\n      <td>S</td>\n      <td>none</td>\n      <td>0</td>\n      <td>2</td>\n      <td>721</td>\n    </tr>\n    <tr>\n      <th>6850</th>\n      <td>414065.0</td>\n      <td>s.a5726c35-b42d-4aa9-924c-2b897c6dbb19.txt</td>\n      <td>H</td>\n      <td>H</td>\n      <td>global</td>\n      <td>2</td>\n      <td>2</td>\n      <td>2466</td>\n    </tr>\n    <tr>\n      <th>6963</th>\n      <td>230048.0</td>\n      <td>s.0e5bb56c-95ec-44b1-b326-e6e4bf95238f.txt</td>\n      <td>H</td>\n      <td>H</td>\n      <td>global</td>\n      <td>2</td>\n      <td>1</td>\n      <td>717</td>\n    </tr>\n    <tr>\n      <th>8454</th>\n      <td>573978.0</td>\n      <td>s.319f364a-2980-43b0-95bc-4af1dffac40d.txt</td>\n      <td>S</td>\n      <td>S</td>\n      <td>none</td>\n      <td>0</td>\n      <td>1</td>\n      <td>1361</td>\n    </tr>\n    <tr>\n      <th>4508</th>\n      <td>895200.0</td>\n      <td>s.be0eaa1c-a662-4162-bd05-38f87df95c35.txt</td>\n      <td>H</td>\n      <td>H</td>\n      <td>global</td>\n      <td>2</td>\n      <td>2</td>\n      <td>2233</td>\n    </tr>\n    <tr>\n      <th>73</th>\n      <td>221478.0</td>\n      <td>s.fa171c49-91e1-44b0-b9e3-9937dca02dca.txt</td>\n      <td>S</td>\n      <td>S</td>\n      <td>none</td>\n      <td>0</td>\n      <td>2</td>\n      <td>542</td>\n    </tr>\n    <tr>\n      <th>1193</th>\n      <td>866118.0</td>\n      <td>s.f08c5757-ac07-4a3b-bd2b-ace2ff9f7410.txt</td>\n      <td>T</td>\n      <td>T</td>\n      <td>local</td>\n      <td>1</td>\n      <td>1</td>\n      <td>595</td>\n    </tr>\n    <tr>\n      <th>1105</th>\n      <td>122240.0</td>\n      <td>s.99ea9504-2716-4ae3-9d5c-d2b95c65e1fe.txt</td>\n      <td>T</td>\n      <td>T</td>\n      <td>none</td>\n      <td>0</td>\n      <td>1</td>\n      <td>737</td>\n    </tr>\n  </tbody>\n</table>\n</div>"
     },
     "metadata": {},
     "execution_count": 80
    }
   ],
   "source": [
    "pd.options.display.max_rows = 4000\n",
    "x = np.random.choice(range(10200), 10)\n",
    "\n",
    "bp.navon_data.iloc[x,]"
   ]
  },
  {
   "cell_type": "code",
   "execution_count": null,
   "metadata": {},
   "outputs": [],
   "source": []
  }
 ]
}
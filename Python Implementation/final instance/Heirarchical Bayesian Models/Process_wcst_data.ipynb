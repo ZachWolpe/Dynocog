{
 "cells": [
  {
   "cell_type": "markdown",
   "metadata": {},
   "source": [
    "# Process the WCST data\n",
    "\n",
    "Transform to a suitable format for final processing.\n",
    "\n",
    "----\n",
    "```\n",
    "author:     Zach Wolpe\n",
    "email:      zachcolinwolpe@gmail.com\n",
    "date:       21 January 2022\n",
    "```\n",
    "----"
   ]
  },
  {
   "cell_type": "code",
   "execution_count": 2,
   "metadata": {},
   "outputs": [],
   "source": [
    "import sys\n",
    "sys.path.append('../process data')\n",
    "from dependencies import *\n",
    "# import nbformatx"
   ]
  },
  {
   "cell_type": "code",
   "execution_count": 3,
   "metadata": {},
   "outputs": [
    {
     "data": {
      "text/plain": [
       "['wcst.pkl', 'wcst_raw_data.pkl', 'covariates.pkl', 'wcst.csv']"
      ]
     },
     "execution_count": 3,
     "metadata": {},
     "output_type": "execute_result"
    }
   ],
   "source": [
    "os.getcwd()\n",
    "\n",
    "loc = '/Users/zachwolpe/Documents/Production/Dynocog/Python Implementation/final instance/model-free analysis/final_dataframes'\n",
    "os.listdir(loc)"
   ]
  },
  {
   "cell_type": "code",
   "execution_count": 4,
   "metadata": {},
   "outputs": [
    {
     "data": {
      "text/plain": [
       "(27400, 16)"
      ]
     },
     "execution_count": 4,
     "metadata": {},
     "output_type": "execute_result"
    }
   ],
   "source": [
    "\n",
    "# save -------------------------------------*\n",
    "wcst_data  = pd.read_pickle(loc + '/wcst_raw_data.pkl')\n",
    "wcst_data.head(2)\n",
    "wcst_data.shape\n"
   ]
  },
  {
   "cell_type": "code",
   "execution_count": 133,
   "metadata": {},
   "outputs": [],
   "source": [
    "# Rt (correct action) --------* \n",
    "wcst_data['reward'] = [int(i) for i in wcst_data.status == 1]\n",
    "\n",
    "# encode actions -------------*\n",
    "encoding =  {'shape':1, 'number':2, 'color':3}\n",
    "wcst_data['action'] = None\n",
    "for k in encoding.keys(): wcst_data['action'][wcst_data.rule==k] = encoding[k]\n",
    "\n",
    "# check ----------------------*\n",
    "wcst = wcst_data[['participant', 'reward', 'status', 'action', 'rule']]\n",
    "wcst['n_t'] = wcst_data[['participant']].reset_index()['index'] % 100"
   ]
  },
  {
   "cell_type": "code",
   "execution_count": 135,
   "metadata": {},
   "outputs": [],
   "source": [
    "\n",
    "# save -------------------------------------*\n",
    "loc = '/Users/zachwolpe/Documents/Production/Dynocog/Python Implementation/final instance/model-free analysis/final_dataframes/'\n",
    "wcst.to_pickle(loc + 'wcst.pkl')\n",
    "wcst.to_csv(loc + 'wcst.csv')"
   ]
  },
  {
   "cell_type": "code",
   "execution_count": null,
   "metadata": {},
   "outputs": [],
   "source": []
  }
 ],
 "metadata": {
  "interpreter": {
   "hash": "499ade56b48b11342a6d867619c791c628f90c2104c58bc97832364da1843f8a"
  },
  "kernelspec": {
   "display_name": "Python 3.9.7 64-bit ('base': conda)",
   "language": "python",
   "name": "python3"
  },
  "language_info": {
   "codemirror_mode": {
    "name": "ipython",
    "version": 3
   },
   "file_extension": ".py",
   "mimetype": "text/x-python",
   "name": "python",
   "nbconvert_exporter": "python",
   "pygments_lexer": "ipython3",
   "version": "3.9.7"
  },
  "orig_nbformat": 4
 },
 "nbformat": 4,
 "nbformat_minor": 2
}

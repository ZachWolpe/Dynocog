{
 "cells": [
  {
   "cell_type": "markdown",
   "metadata": {},
   "source": [
    "# Source\n",
    "\n",
    "Due to computational issues Google Colab is used to run the Bayesian experiments.\n",
    "\n",
    "Notebook links:\n",
    "\n",
    "- [Simulation: Bayesian RL](https://colab.research.google.com/drive/1rFw5_UIMXGG5D4Ami1JU9r4PgOEK2Rqg#scrollTo=NxjYWeolvDRS)"
   ]
  }
 ],
 "metadata": {
  "language_info": {
   "name": "python"
  },
  "orig_nbformat": 4
 },
 "nbformat": 4,
 "nbformat_minor": 2
}

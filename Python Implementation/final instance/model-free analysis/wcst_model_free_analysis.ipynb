{
 "metadata": {
  "language_info": {
   "codemirror_mode": {
    "name": "ipython",
    "version": 3
   },
   "file_extension": ".py",
   "mimetype": "text/x-python",
   "name": "python",
   "nbconvert_exporter": "python",
   "pygments_lexer": "ipython3",
   "version": "3.8.8"
  },
  "orig_nbformat": 2,
  "kernelspec": {
   "name": "python3",
   "display_name": "Python 3.8.8 64-bit ('dynocog': conda)"
  },
  "interpreter": {
   "hash": "0bdb1145a6394107ddd55d824c4d0e411e79cd19a6286b1018600d724ae6ee81"
  }
 },
 "nbformat": 4,
 "nbformat_minor": 2,
 "cells": [
  {
   "source": [
    "# Model Free Analysis\n",
    "\n",
    "Statistical inquiry into the aggregate behaviour of the *Wisconsin Sorting* & *NBack* Tasks.\n",
    "\n",
    "\n",
    "---------\n",
    "```\n",
    "Zach Wolpe\n",
    "zachcolinwolpe@gmail.com\n",
    "17 July 2021\n",
    "```\n",
    "---------\n",
    "\n"
   ],
   "cell_type": "markdown",
   "metadata": {}
  },
  {
   "source": [
    "# Executive Functions\n",
    "\n",
    "The additional experiments are provided to gauge executive functions and computer literacy that may distinguish candidates when participating in the WCST & NBack Tasks."
   ],
   "cell_type": "markdown",
   "metadata": {}
  },
  {
   "cell_type": "code",
   "execution_count": 1,
   "metadata": {},
   "outputs": [],
   "source": [
    "import numpy as np\n",
    "import matplotlib.pyplot as plt\n",
    "import pandas as pd\n",
    "import pickle\n",
    "import os\n",
    "import re\n",
    "import sys\n",
    "sys.path.append('../process data/')\n",
    "import plotly.graph_objs as go\n",
    "import plotly.offline as pyo\n",
    "import plotly.express as px\n",
    "from encode_processed_data import encode_data"
   ]
  },
  {
   "cell_type": "code",
   "execution_count": 2,
   "metadata": {},
   "outputs": [
    {
     "output_type": "execute_result",
     "data": {
      "text/plain": [
       "dict_keys(['raw', 'fitts_summary_stats', 'corsi_summary_stats', 'navon_summary_stats', 'nback_summary_stats', 'demographics_plot', 'demographics'])"
      ]
     },
     "metadata": {},
     "execution_count": 2
    }
   ],
   "source": [
    "# with open('../data objects/batch_processing_object.pkl', 'rb') as file2:\n",
    "#     bp = pickle.load(file2)\n",
    "\n",
    "# ---- fetch data object ----x\n",
    "with open('../data objects/batch_processing_object_with_encodings.pkl', 'rb') as file2:\n",
    "    ed = pickle.load(file2)\n",
    "\n",
    "   \n",
    "ed.__dict__.keys()"
   ]
  },
  {
   "cell_type": "code",
   "execution_count": 3,
   "metadata": {},
   "outputs": [
    {
     "output_type": "stream",
     "name": "stdout",
     "text": [
      "\n\n        ------------------------------------------------------------------\n            self.path            : raw data loc\n            self.metadata        : mturk metadata\n            self.mapping         : reference table\n            self.data_times      : reference times table\n            self.participants    : list of participant identifiers\n            self.parti_code      : list of participant codes\n            self.n               : total number of samples\n            self.wcst_paths      : paths to wcst  raw data\n            self.nback_paths     : paths to nback raw data\n            self.corsi_paths     : paths to corsi raw data\n            self.fitts_paths     : paths to fitts raw data\n            self.navon_paths     : paths to navon raw data\n            self.wcst_data       : wcst  dataframe\n            self.nback_data      : nback dataframe\n            self.corsi_data      : corsi dataframe\n            self.fitts_data      : fitts dataframe\n            self.navon_data      : navon dataframe\n            self.individual_data : psytoolkit metadata\n            self.MTurk           : mturk completion data\n\n            -----------------------------------------------------\n            Additions:\n\n            self.raw                    : original object\n            self.nback_summary_stats    : dataframe\n            self.navon_summary_stats    : dataframe\n            self.corsi_summary_stats    : dataframe\n            self.fitts_summary_stats    : dataframe\n            self.demographics           : dataframe\n            self.plot_random_fitts      : plot\n            self.plot_corsi             : plot\n            self.plot_navon             : plot\n            self.write_class_to_pickle  : function\n            self.describe_data          : info\n            self.clean_data_info        : info\n            \n        ------------------------------------------------------------------\n\n        \n"
     ]
    }
   ],
   "source": [
    "ed.describe_data()"
   ]
  },
  {
   "cell_type": "code",
   "execution_count": 4,
   "metadata": {},
   "outputs": [
    {
     "output_type": "stream",
     "name": "stdout",
     "text": [
      "\n\n            ===========================================================================================================================\n                WCST - Wisconsin Card Sorting Task                                                  DataFrame: ed.raw.wcst_date\n            ---------------------------------------------------------------------------------------------------------------------------\n            \n                participant                     : key               : participant ID\n                card_no                         : categorical       : the card shown\n                correct_card                    : categorical       : the card that should be clicked of the top four on screen      \n                correct_persevering             : categorical       : the card that would be clicked if the participant is persevering\n                seq_no                          : numeric           : trial number\n                rule                            : categorical       : matching rule  \n                card_shape                      : categorical       : current card shape\n                card_number                     : categorical       : current card number\n                card_colour                     : categorical       : current card colour\n                reaction_time_ms                : numeric           : reaction time (ms)\n                status                          : categorical       : 1=correct, 2=wrong card, 3=too slow\n                card_selected                   : categorical       : card chosen\n                error                           : binary            : 1=error, 0=no error\n                perseverance_error              : binary            : 1=perserverance error,       0=otherwise\n                not_perseverance_error          : binary            : 1=not a perseveration error, 0=otherwise\n\n            ---------------------------------------------------------------------------------------------------------------------------    \n                Demographic                                                                         DataFrame: ed.demographics\n            ---------------------------------------------------------------------------------------------------------------------------\n\n                participant                     : key \n                age_a                           : numeric\n                gender_a                        : categorical \n                handedness_a                    : categorical\n                education_a                     : categorical\n                income_a                        : categorical \n                computer_hours_a                : numeric\n                age_group                       : categorical\n                mean_reation_time_ms.           : numeric\n\n            ---------------------------------------------------------------------------------------------------------------------------    \n                N-Back                                                                              DataFrame: ed.nback_summary_stats\n            ---------------------------------------------------------------------------------------------------------------------------\n\n                participant                     : key \n                block_number                    : numeric       : trial block number \n                trial_counter   - count         : numeric       : number of trials in the block \n                score           - mean          : probability   : score of current trail (1=correct, 0=wrong)\n                                - std           : probability       \n                status          - mean          : probability   : whether the response given was a correct match (1=correct, 0=wrong)\n                                - std           : probability   \n                miss            - mean          : probability   : whether the response given was a miss (1=miss, 0=otherwise)\n                                - std           : probability     \n                false_alarm     - mean          : probability   : 1=participant clicked but there was no-match, 0=otherwise\n                                - std           : probability    \n                reaction_time_ms- mean          : numeric       \n                                - std           : numeric  \n\n            ---------------------------------------------------------------------------------------------------------------------------    \n                Navon                                                                              DataFrame: ed.nback_summary_stats\n            ---------------------------------------------------------------------------------------------------------------------------\n\n                participant                     : key \n                level_of_target                 : categorical   : type of signal (global/local/none)\n                correct         - mean          : probability   : correct action\n                                - std           : probability\n                too_slow        - mean          : probability   : acted too slow\n                                - std           : probability\n                reaction_time_ms- mean\n                                - std\n\n            ---------------------------------------------------------------------------------------------------------------------------    \n                Corsi Block Span                                                                    DataFrame: ed.corsi_summary_stats\n            ---------------------------------------------------------------------------------------------------------------------------\n\n                participant                     : key \n                highest_span    - max           : numeric       : highest corsi block span\n                n_items         - max           : numeric       : (max) number of items to be remembered\n                status          - mean          : probability   : current trial (1=correct, 0=wrong)\n                                - std           : probability \n\n            ---------------------------------------------------------------------------------------------------------------------------    \n                Fitts Law                                                                          DataFrame: ed.fitts_summary_stats\n            ---------------------------------------------------------------------------------------------------------------------------\n\n                participant                     : key \n                delta           - mean          : numeric       : average deviation in expects (fitts law) performance\n                                - std           : numeric       : std dev in expected (fitts law) performance\n                status          - mean          : numeric       : status (1=correct, 2=error, 3=too slow)\n                                - std           : numeric     \n                                \n            ===========================================================================================================================\n        \n"
     ]
    }
   ],
   "source": [
    "ed.clean_data_info()"
   ]
  },
  {
   "cell_type": "code",
   "execution_count": 8,
   "metadata": {},
   "outputs": [
    {
     "output_type": "execute_result",
     "data": {
      "text/plain": [
       "  participant level_of_target   correct           too_slow       \\\n",
       "                                   mean       std     mean  std   \n",
       "0    100934.0          global  0.166667  0.389249      0.0  0.0   \n",
       "1    100934.0           local  0.461538  0.518875      0.0  0.0   \n",
       "2    100934.0            none  0.480000  0.509902      0.0  0.0   \n",
       "3    103322.0          global  0.923077  0.277350      0.0  0.0   \n",
       "4    103322.0           local  0.916667  0.288675      0.0  0.0   \n",
       "\n",
       "  reaction_time_ms              \n",
       "              mean         std  \n",
       "0       664.583333  221.989540  \n",
       "1       597.769231  294.353856  \n",
       "2       622.960000  343.110949  \n",
       "3       959.769231  358.604739  \n",
       "4       999.750000  221.561453  "
      ],
      "text/html": "<div>\n<style scoped>\n    .dataframe tbody tr th:only-of-type {\n        vertical-align: middle;\n    }\n\n    .dataframe tbody tr th {\n        vertical-align: top;\n    }\n\n    .dataframe thead tr th {\n        text-align: left;\n    }\n</style>\n<table border=\"1\" class=\"dataframe\">\n  <thead>\n    <tr>\n      <th></th>\n      <th>participant</th>\n      <th>level_of_target</th>\n      <th colspan=\"2\" halign=\"left\">correct</th>\n      <th colspan=\"2\" halign=\"left\">too_slow</th>\n      <th colspan=\"2\" halign=\"left\">reaction_time_ms</th>\n    </tr>\n    <tr>\n      <th></th>\n      <th></th>\n      <th></th>\n      <th>mean</th>\n      <th>std</th>\n      <th>mean</th>\n      <th>std</th>\n      <th>mean</th>\n      <th>std</th>\n    </tr>\n  </thead>\n  <tbody>\n    <tr>\n      <th>0</th>\n      <td>100934.0</td>\n      <td>global</td>\n      <td>0.166667</td>\n      <td>0.389249</td>\n      <td>0.0</td>\n      <td>0.0</td>\n      <td>664.583333</td>\n      <td>221.989540</td>\n    </tr>\n    <tr>\n      <th>1</th>\n      <td>100934.0</td>\n      <td>local</td>\n      <td>0.461538</td>\n      <td>0.518875</td>\n      <td>0.0</td>\n      <td>0.0</td>\n      <td>597.769231</td>\n      <td>294.353856</td>\n    </tr>\n    <tr>\n      <th>2</th>\n      <td>100934.0</td>\n      <td>none</td>\n      <td>0.480000</td>\n      <td>0.509902</td>\n      <td>0.0</td>\n      <td>0.0</td>\n      <td>622.960000</td>\n      <td>343.110949</td>\n    </tr>\n    <tr>\n      <th>3</th>\n      <td>103322.0</td>\n      <td>global</td>\n      <td>0.923077</td>\n      <td>0.277350</td>\n      <td>0.0</td>\n      <td>0.0</td>\n      <td>959.769231</td>\n      <td>358.604739</td>\n    </tr>\n    <tr>\n      <th>4</th>\n      <td>103322.0</td>\n      <td>local</td>\n      <td>0.916667</td>\n      <td>0.288675</td>\n      <td>0.0</td>\n      <td>0.0</td>\n      <td>999.750000</td>\n      <td>221.561453</td>\n    </tr>\n  </tbody>\n</table>\n</div>"
     },
     "metadata": {},
     "execution_count": 8
    }
   ],
   "source": [
    "ed.navon_summary_stats.head()"
   ]
  },
  {
   "cell_type": "code",
   "execution_count": 9,
   "metadata": {},
   "outputs": [
    {
     "output_type": "execute_result",
     "data": {
      "text/plain": [
       "  participant highest_span n_items    status          \n",
       "                       max     max      mean       std\n",
       "0    100934.0            4       5  0.428571  0.534522\n",
       "1    103322.0            6       7  0.625000  0.517549\n",
       "2    107700.0            6       7  0.625000  0.517549\n",
       "3    117200.0            4       5  0.500000  0.547723\n",
       "4    117306.0            5       6  0.571429  0.534522"
      ],
      "text/html": "<div>\n<style scoped>\n    .dataframe tbody tr th:only-of-type {\n        vertical-align: middle;\n    }\n\n    .dataframe tbody tr th {\n        vertical-align: top;\n    }\n\n    .dataframe thead tr th {\n        text-align: left;\n    }\n</style>\n<table border=\"1\" class=\"dataframe\">\n  <thead>\n    <tr>\n      <th></th>\n      <th>participant</th>\n      <th>highest_span</th>\n      <th>n_items</th>\n      <th colspan=\"2\" halign=\"left\">status</th>\n    </tr>\n    <tr>\n      <th></th>\n      <th></th>\n      <th>max</th>\n      <th>max</th>\n      <th>mean</th>\n      <th>std</th>\n    </tr>\n  </thead>\n  <tbody>\n    <tr>\n      <th>0</th>\n      <td>100934.0</td>\n      <td>4</td>\n      <td>5</td>\n      <td>0.428571</td>\n      <td>0.534522</td>\n    </tr>\n    <tr>\n      <th>1</th>\n      <td>103322.0</td>\n      <td>6</td>\n      <td>7</td>\n      <td>0.625000</td>\n      <td>0.517549</td>\n    </tr>\n    <tr>\n      <th>2</th>\n      <td>107700.0</td>\n      <td>6</td>\n      <td>7</td>\n      <td>0.625000</td>\n      <td>0.517549</td>\n    </tr>\n    <tr>\n      <th>3</th>\n      <td>117200.0</td>\n      <td>4</td>\n      <td>5</td>\n      <td>0.500000</td>\n      <td>0.547723</td>\n    </tr>\n    <tr>\n      <th>4</th>\n      <td>117306.0</td>\n      <td>5</td>\n      <td>6</td>\n      <td>0.571429</td>\n      <td>0.534522</td>\n    </tr>\n  </tbody>\n</table>\n</div>"
     },
     "metadata": {},
     "execution_count": 9
    }
   ],
   "source": [
    "ed.corsi_summary_stats.head()"
   ]
  },
  {
   "cell_type": "code",
   "execution_count": 10,
   "metadata": {},
   "outputs": [
    {
     "output_type": "execute_result",
     "data": {
      "text/plain": [
       "  participant   delta             status          \n",
       "                 mean         std   mean       std\n",
       "0    100934.0   -5.70  186.607130    1.0  0.000000\n",
       "1    103322.0 -203.05  174.308400    1.0  0.000000\n",
       "2    107700.0 -342.65  345.637059    1.1  0.447214\n",
       "3    117200.0  -85.05  156.117188    1.0  0.000000\n",
       "4    117306.0 -141.80  167.808036    1.0  0.000000"
      ],
      "text/html": "<div>\n<style scoped>\n    .dataframe tbody tr th:only-of-type {\n        vertical-align: middle;\n    }\n\n    .dataframe tbody tr th {\n        vertical-align: top;\n    }\n\n    .dataframe thead tr th {\n        text-align: left;\n    }\n</style>\n<table border=\"1\" class=\"dataframe\">\n  <thead>\n    <tr>\n      <th></th>\n      <th>participant</th>\n      <th colspan=\"2\" halign=\"left\">delta</th>\n      <th colspan=\"2\" halign=\"left\">status</th>\n    </tr>\n    <tr>\n      <th></th>\n      <th></th>\n      <th>mean</th>\n      <th>std</th>\n      <th>mean</th>\n      <th>std</th>\n    </tr>\n  </thead>\n  <tbody>\n    <tr>\n      <th>0</th>\n      <td>100934.0</td>\n      <td>-5.70</td>\n      <td>186.607130</td>\n      <td>1.0</td>\n      <td>0.000000</td>\n    </tr>\n    <tr>\n      <th>1</th>\n      <td>103322.0</td>\n      <td>-203.05</td>\n      <td>174.308400</td>\n      <td>1.0</td>\n      <td>0.000000</td>\n    </tr>\n    <tr>\n      <th>2</th>\n      <td>107700.0</td>\n      <td>-342.65</td>\n      <td>345.637059</td>\n      <td>1.1</td>\n      <td>0.447214</td>\n    </tr>\n    <tr>\n      <th>3</th>\n      <td>117200.0</td>\n      <td>-85.05</td>\n      <td>156.117188</td>\n      <td>1.0</td>\n      <td>0.000000</td>\n    </tr>\n    <tr>\n      <th>4</th>\n      <td>117306.0</td>\n      <td>-141.80</td>\n      <td>167.808036</td>\n      <td>1.0</td>\n      <td>0.000000</td>\n    </tr>\n  </tbody>\n</table>\n</div>"
     },
     "metadata": {},
     "execution_count": 10
    }
   ],
   "source": [
    "ed.fitts_summary_stats.head()"
   ]
  },
  {
   "cell_type": "code",
   "execution_count": 11,
   "metadata": {},
   "outputs": [
    {
     "output_type": "execute_result",
     "data": {
      "text/plain": [
       "   participant age_a gender_a handedness_a      education_a income_a  \\\n",
       "0     816404.0  28.0   female        right       university      6.0   \n",
       "1     221478.0  25.0   female        right  graduate school      7.0   \n",
       "2     192208.0  29.0     male        right       university      6.0   \n",
       "3     803102.0  47.0     male        right       university      7.0   \n",
       "4     844810.0  32.0   female        right       university      6.0   \n",
       "\n",
       "  computer_hours_a age_group  mean_reation_time_ms  \n",
       "0             20.0     25-34           5502.000000  \n",
       "1             60.0     18-24          12353.428571  \n",
       "2              5.0     25-34           8302.285714  \n",
       "3             74.0     45-54          10340.857143  \n",
       "4             22.0     25-34           6612.428571  "
      ],
      "text/html": "<div>\n<style scoped>\n    .dataframe tbody tr th:only-of-type {\n        vertical-align: middle;\n    }\n\n    .dataframe tbody tr th {\n        vertical-align: top;\n    }\n\n    .dataframe thead th {\n        text-align: right;\n    }\n</style>\n<table border=\"1\" class=\"dataframe\">\n  <thead>\n    <tr style=\"text-align: right;\">\n      <th></th>\n      <th>participant</th>\n      <th>age_a</th>\n      <th>gender_a</th>\n      <th>handedness_a</th>\n      <th>education_a</th>\n      <th>income_a</th>\n      <th>computer_hours_a</th>\n      <th>age_group</th>\n      <th>mean_reation_time_ms</th>\n    </tr>\n  </thead>\n  <tbody>\n    <tr>\n      <th>0</th>\n      <td>816404.0</td>\n      <td>28.0</td>\n      <td>female</td>\n      <td>right</td>\n      <td>university</td>\n      <td>6.0</td>\n      <td>20.0</td>\n      <td>25-34</td>\n      <td>5502.000000</td>\n    </tr>\n    <tr>\n      <th>1</th>\n      <td>221478.0</td>\n      <td>25.0</td>\n      <td>female</td>\n      <td>right</td>\n      <td>graduate school</td>\n      <td>7.0</td>\n      <td>60.0</td>\n      <td>18-24</td>\n      <td>12353.428571</td>\n    </tr>\n    <tr>\n      <th>2</th>\n      <td>192208.0</td>\n      <td>29.0</td>\n      <td>male</td>\n      <td>right</td>\n      <td>university</td>\n      <td>6.0</td>\n      <td>5.0</td>\n      <td>25-34</td>\n      <td>8302.285714</td>\n    </tr>\n    <tr>\n      <th>3</th>\n      <td>803102.0</td>\n      <td>47.0</td>\n      <td>male</td>\n      <td>right</td>\n      <td>university</td>\n      <td>7.0</td>\n      <td>74.0</td>\n      <td>45-54</td>\n      <td>10340.857143</td>\n    </tr>\n    <tr>\n      <th>4</th>\n      <td>844810.0</td>\n      <td>32.0</td>\n      <td>female</td>\n      <td>right</td>\n      <td>university</td>\n      <td>6.0</td>\n      <td>22.0</td>\n      <td>25-34</td>\n      <td>6612.428571</td>\n    </tr>\n  </tbody>\n</table>\n</div>"
     },
     "metadata": {},
     "execution_count": 11
    }
   ],
   "source": [
    "ed.demographics.head()"
   ]
  },
  {
   "source": [
    "# Final Datasets\n",
    "\n",
    "These curated datasets are now joined, pruned & transformed to produce the `final` set of datasets - on which we will conduct our anaylsis.\n",
    "\n",
    "\n",
    "# Structure\n",
    "\n",
    "#### wcst\n"
   ],
   "cell_type": "markdown",
   "metadata": {}
  },
  {
   "cell_type": "code",
   "execution_count": 12,
   "metadata": {},
   "outputs": [
    {
     "output_type": "execute_result",
     "data": {
      "text/plain": [
       "   participant age_a gender_a handedness_a      education_a income_a  \\\n",
       "0     816404.0  28.0   female        right       university      6.0   \n",
       "1     221478.0  25.0   female        right  graduate school      7.0   \n",
       "2     192208.0  29.0     male        right       university      6.0   \n",
       "3     803102.0  47.0     male        right       university      7.0   \n",
       "4     844810.0  32.0   female        right       university      6.0   \n",
       "\n",
       "  computer_hours_a age_group  mean_reation_time_ms  \n",
       "0             20.0     25-34           5502.000000  \n",
       "1             60.0     18-24          12353.428571  \n",
       "2              5.0     25-34           8302.285714  \n",
       "3             74.0     45-54          10340.857143  \n",
       "4             22.0     25-34           6612.428571  "
      ],
      "text/html": "<div>\n<style scoped>\n    .dataframe tbody tr th:only-of-type {\n        vertical-align: middle;\n    }\n\n    .dataframe tbody tr th {\n        vertical-align: top;\n    }\n\n    .dataframe thead th {\n        text-align: right;\n    }\n</style>\n<table border=\"1\" class=\"dataframe\">\n  <thead>\n    <tr style=\"text-align: right;\">\n      <th></th>\n      <th>participant</th>\n      <th>age_a</th>\n      <th>gender_a</th>\n      <th>handedness_a</th>\n      <th>education_a</th>\n      <th>income_a</th>\n      <th>computer_hours_a</th>\n      <th>age_group</th>\n      <th>mean_reation_time_ms</th>\n    </tr>\n  </thead>\n  <tbody>\n    <tr>\n      <th>0</th>\n      <td>816404.0</td>\n      <td>28.0</td>\n      <td>female</td>\n      <td>right</td>\n      <td>university</td>\n      <td>6.0</td>\n      <td>20.0</td>\n      <td>25-34</td>\n      <td>5502.000000</td>\n    </tr>\n    <tr>\n      <th>1</th>\n      <td>221478.0</td>\n      <td>25.0</td>\n      <td>female</td>\n      <td>right</td>\n      <td>graduate school</td>\n      <td>7.0</td>\n      <td>60.0</td>\n      <td>18-24</td>\n      <td>12353.428571</td>\n    </tr>\n    <tr>\n      <th>2</th>\n      <td>192208.0</td>\n      <td>29.0</td>\n      <td>male</td>\n      <td>right</td>\n      <td>university</td>\n      <td>6.0</td>\n      <td>5.0</td>\n      <td>25-34</td>\n      <td>8302.285714</td>\n    </tr>\n    <tr>\n      <th>3</th>\n      <td>803102.0</td>\n      <td>47.0</td>\n      <td>male</td>\n      <td>right</td>\n      <td>university</td>\n      <td>7.0</td>\n      <td>74.0</td>\n      <td>45-54</td>\n      <td>10340.857143</td>\n    </tr>\n    <tr>\n      <th>4</th>\n      <td>844810.0</td>\n      <td>32.0</td>\n      <td>female</td>\n      <td>right</td>\n      <td>university</td>\n      <td>6.0</td>\n      <td>22.0</td>\n      <td>25-34</td>\n      <td>6612.428571</td>\n    </tr>\n  </tbody>\n</table>\n</div>"
     },
     "metadata": {},
     "execution_count": 12
    }
   ],
   "source": [
    "ed.demographics.head()"
   ]
  },
  {
   "cell_type": "code",
   "execution_count": 165,
   "metadata": {},
   "outputs": [],
   "source": [
    "\"\"\"Describe the available data associated with the class\"\"\"\n",
    "message = \"\"\"\n",
    "\n",
    "    ===========================================================================================================================\n",
    "        WCST - Wisconsin Card Sorting Task                                                  DataFrame: ed.raw.wcst_date\n",
    "    ---------------------------------------------------------------------------------------------------------------------------\n",
    "    \n",
    "        participant                     : key               : participant ID\n",
    "        card_no                         : categorical       : the card shown\n",
    "        correct_card                    : categorical       : the card that should be clicked of the top four on screen      \n",
    "        correct_persevering             : categorical       : the card that would be clicked if the participant is persevering\n",
    "        seq_no                          : numeric           : trial number\n",
    "        rule                            : categorical       : matching rule  \n",
    "        card_shape                      : categorical       : current card shape\n",
    "        card_number                     : categorical       : current card number\n",
    "        card_colour                     : categorical       : current card colour\n",
    "        reaction_time_ms                : numeric           : reaction time (ms)\n",
    "        status                          : categorical       : 1=correct, 2=wrong card, 3=too slow\n",
    "        card_selected                   : categorical       : card chosen\n",
    "        error                           : binary            : 1=error, 0=no error\n",
    "        perseverance_error              : binary            : 1=perserverance error,       0=otherwise\n",
    "        not_perseverance_error          : binary            : 1=not a perseveration error, 0=otherwise\n",
    "\n",
    "    ---------------------------------------------------------------------------------------------------------------------------    \n",
    "        Demographic                                                                         DataFrame: ed.demographics\n",
    "    ---------------------------------------------------------------------------------------------------------------------------\n",
    "\n",
    "        participant                     : key \n",
    "        age_a                           : numeric\n",
    "        gender_a                        : categorical \n",
    "        handedness_a                    : categorical\n",
    "        education_a                     : categorical\n",
    "        income_a                        : categorical \n",
    "        computer_hours_a                : numeric\n",
    "        age_group                       : categorical\n",
    "        mean_reation_time_ms.           : numeric\n",
    "\n",
    "    ---------------------------------------------------------------------------------------------------------------------------    \n",
    "        N-Back                                                                              DataFrame: ed.nback_summary_stats\n",
    "    ---------------------------------------------------------------------------------------------------------------------------\n",
    "\n",
    "        participant                     : key \n",
    "        block_number                    : numeric       : trial block number \n",
    "        trial_counter   - count         : numeric       : number of trials in the block \n",
    "        score           - mean          : probability   : score of current trail (1=correct, 0=wrong)\n",
    "                        - std           : probability       \n",
    "        status          - mean          : probability   : whether the response given was a correct match (1=correct, 0=wrong)\n",
    "                        - std           : probability   \n",
    "        miss            - mean          : probability   : whether the response given was a miss (1=miss, 0=otherwise)\n",
    "                        - std           : probability     \n",
    "        false_alarm     - mean          : probability   : 1=participant clicked but there was no-match, 0=otherwise\n",
    "                        - std           : probability    \n",
    "        reaction_time_ms- mean          : numeric       \n",
    "                        - std           : numeric  \n",
    "\n",
    "    ---------------------------------------------------------------------------------------------------------------------------    \n",
    "        Navon                                                                              DataFrame: ed.nback_summary_stats\n",
    "    ---------------------------------------------------------------------------------------------------------------------------\n",
    "\n",
    "        participant                     : key \n",
    "        level_of_target                 : categorical   : type of signal (global/local/none)\n",
    "        correct         - mean          : probability   : correct action\n",
    "                        - std           : probability\n",
    "        too_slow        - mean          : probability   : acted too slow\n",
    "                        - std           : probability\n",
    "        reaction_time_ms- mean\n",
    "                        - std\n",
    "\n",
    "    ---------------------------------------------------------------------------------------------------------------------------    \n",
    "        Corsi Block Span                                                                    DataFrame: ed.corsi_summary_stats\n",
    "    ---------------------------------------------------------------------------------------------------------------------------\n",
    "\n",
    "        participant                     : key \n",
    "        highest_span    - max           : numeric       : highest corsi block span\n",
    "        n_items         - max           : numeric       : (max) number of items to be remembered\n",
    "        status          - mean          : probability   : current trial (1=correct, 0=wrong)\n",
    "                        - std           : probability \n",
    "\n",
    "    ---------------------------------------------------------------------------------------------------------------------------    \n",
    "        Fitts Law                                                                          DataFrame: ed.fitts_summary_stats\n",
    "    ---------------------------------------------------------------------------------------------------------------------------\n",
    "\n",
    "        participant                     : key \n",
    "        delta           - mean          : numeric       : average deviation in expects (fitts law) performance\n",
    "                        - std           : numeric       : std dev in expected (fitts law) performance\n",
    "        status          - mean          : numeric       : status (1=correct, 2=error, 3=too slow)\n",
    "                        - std           : numeric     \n",
    "                        \n",
    "    ===========================================================================================================================\n",
    "\"\"\"\n",
    "# print(message)\n"
   ]
  },
  {
   "cell_type": "code",
   "execution_count": 185,
   "metadata": {},
   "outputs": [
    {
     "output_type": "execute_result",
     "data": {
      "text/plain": [
       "  participant   delta             status          \n",
       "                 mean         std   mean       std\n",
       "0    100934.0   -5.70  186.607130    1.0  0.000000\n",
       "1    103322.0 -203.05  174.308400    1.0  0.000000\n",
       "2    107700.0 -342.65  345.637059    1.1  0.447214\n",
       "3    117200.0  -85.05  156.117188    1.0  0.000000\n",
       "4    117306.0 -141.80  167.808036    1.0  0.000000"
      ],
      "text/html": "<div>\n<style scoped>\n    .dataframe tbody tr th:only-of-type {\n        vertical-align: middle;\n    }\n\n    .dataframe tbody tr th {\n        vertical-align: top;\n    }\n\n    .dataframe thead tr th {\n        text-align: left;\n    }\n</style>\n<table border=\"1\" class=\"dataframe\">\n  <thead>\n    <tr>\n      <th></th>\n      <th>participant</th>\n      <th colspan=\"2\" halign=\"left\">delta</th>\n      <th colspan=\"2\" halign=\"left\">status</th>\n    </tr>\n    <tr>\n      <th></th>\n      <th></th>\n      <th>mean</th>\n      <th>std</th>\n      <th>mean</th>\n      <th>std</th>\n    </tr>\n  </thead>\n  <tbody>\n    <tr>\n      <th>0</th>\n      <td>100934.0</td>\n      <td>-5.70</td>\n      <td>186.607130</td>\n      <td>1.0</td>\n      <td>0.000000</td>\n    </tr>\n    <tr>\n      <th>1</th>\n      <td>103322.0</td>\n      <td>-203.05</td>\n      <td>174.308400</td>\n      <td>1.0</td>\n      <td>0.000000</td>\n    </tr>\n    <tr>\n      <th>2</th>\n      <td>107700.0</td>\n      <td>-342.65</td>\n      <td>345.637059</td>\n      <td>1.1</td>\n      <td>0.447214</td>\n    </tr>\n    <tr>\n      <th>3</th>\n      <td>117200.0</td>\n      <td>-85.05</td>\n      <td>156.117188</td>\n      <td>1.0</td>\n      <td>0.000000</td>\n    </tr>\n    <tr>\n      <th>4</th>\n      <td>117306.0</td>\n      <td>-141.80</td>\n      <td>167.808036</td>\n      <td>1.0</td>\n      <td>0.000000</td>\n    </tr>\n  </tbody>\n</table>\n</div>"
     },
     "metadata": {},
     "execution_count": 185
    }
   ],
   "source": [
    "# ed.demographics.head()\n",
    "# ed.nback_summary_stats.head()\n",
    "# ed.navon_summary_stats.head()\n",
    "# ed.corsi_summary_stats.head()\n",
    "# ed.fitts_summary_stats.head()"
   ]
  },
  {
   "cell_type": "code",
   "execution_count": 152,
   "metadata": {},
   "outputs": [
    {
     "output_type": "execute_result",
     "data": {
      "text/plain": [
       "             card_no  seq_no   rule card_shape  card_number card_colour  \\\n",
       "participant                                                               \n",
       "100934.0          52       1  shape   triangle            1      yellow   \n",
       "100934.0          59       2  shape   triangle            3         red   \n",
       "100934.0          23       3  shape      cross            2         red   \n",
       "100934.0          52       4  shape   triangle            1      yellow   \n",
       "100934.0          52       5  shape   triangle            1      yellow   \n",
       "...              ...     ...    ...        ...          ...         ...   \n",
       "998593.0          61       2  color   triangle            4        blue   \n",
       "998593.0          14       3  color     circle            4       green   \n",
       "998593.0          14       4  color     circle            4       green   \n",
       "998593.0          23       5  color      cross            2         red   \n",
       "998593.0          20       6  color      cross            1      yellow   \n",
       "\n",
       "             reaction_time_ms  status  card_selected  error  \\\n",
       "participant                                                   \n",
       "100934.0                 4567       1              1      0   \n",
       "100934.0                 4661       1              3      0   \n",
       "100934.0                 1319       1              2      0   \n",
       "100934.0                 2336       1              1      0   \n",
       "100934.0                 6634       1              1      0   \n",
       "...                       ...     ...            ...    ...   \n",
       "998593.0                 2489       1              4      0   \n",
       "998593.0                 2193       1              4      0   \n",
       "998593.0                 2310       1              4      0   \n",
       "998593.0                 1430       1              2      0   \n",
       "998593.0                 2310       1              1      0   \n",
       "\n",
       "             perseverance_error  not_perseverance_error age_a gender_a  \\\n",
       "participant                                                              \n",
       "100934.0                      0                       0  28.0     male   \n",
       "100934.0                      0                       0  28.0     male   \n",
       "100934.0                      0                       0  28.0     male   \n",
       "100934.0                      0                       0  28.0     male   \n",
       "100934.0                      0                       0  28.0     male   \n",
       "...                         ...                     ...   ...      ...   \n",
       "998593.0                      0                       0  25.0   female   \n",
       "998593.0                      0                       0  25.0   female   \n",
       "998593.0                      0                       0  25.0   female   \n",
       "998593.0                      0                       0  25.0   female   \n",
       "998593.0                      0                       0  25.0   female   \n",
       "\n",
       "            handedness_a      education_a income_a computer_hours_a age_group  \\\n",
       "participant                                                                     \n",
       "100934.0           right       university      7.0             25.0     25-34   \n",
       "100934.0           right       university      7.0             25.0     25-34   \n",
       "100934.0           right       university      7.0             25.0     25-34   \n",
       "100934.0           right       university      7.0             25.0     25-34   \n",
       "100934.0           right       university      7.0             25.0     25-34   \n",
       "...                  ...              ...      ...              ...       ...   \n",
       "998593.0           right  graduate school      8.0             72.0     18-24   \n",
       "998593.0           right  graduate school      8.0             72.0     18-24   \n",
       "998593.0           right  graduate school      8.0             72.0     18-24   \n",
       "998593.0           right  graduate school      8.0             72.0     18-24   \n",
       "998593.0           right  graduate school      8.0             72.0     18-24   \n",
       "\n",
       "             mean_reation_time_ms  \n",
       "participant                        \n",
       "100934.0             11453.571429  \n",
       "100934.0             11453.571429  \n",
       "100934.0             11453.571429  \n",
       "100934.0             11453.571429  \n",
       "100934.0             11453.571429  \n",
       "...                           ...  \n",
       "998593.0              9284.714286  \n",
       "998593.0              9284.714286  \n",
       "998593.0              9284.714286  \n",
       "998593.0              9284.714286  \n",
       "998593.0              9284.714286  \n",
       "\n",
       "[27400 rows x 20 columns]"
      ],
      "text/html": "<div>\n<style scoped>\n    .dataframe tbody tr th:only-of-type {\n        vertical-align: middle;\n    }\n\n    .dataframe tbody tr th {\n        vertical-align: top;\n    }\n\n    .dataframe thead th {\n        text-align: right;\n    }\n</style>\n<table border=\"1\" class=\"dataframe\">\n  <thead>\n    <tr style=\"text-align: right;\">\n      <th></th>\n      <th>card_no</th>\n      <th>seq_no</th>\n      <th>rule</th>\n      <th>card_shape</th>\n      <th>card_number</th>\n      <th>card_colour</th>\n      <th>reaction_time_ms</th>\n      <th>status</th>\n      <th>card_selected</th>\n      <th>error</th>\n      <th>perseverance_error</th>\n      <th>not_perseverance_error</th>\n      <th>age_a</th>\n      <th>gender_a</th>\n      <th>handedness_a</th>\n      <th>education_a</th>\n      <th>income_a</th>\n      <th>computer_hours_a</th>\n      <th>age_group</th>\n      <th>mean_reation_time_ms</th>\n    </tr>\n    <tr>\n      <th>participant</th>\n      <th></th>\n      <th></th>\n      <th></th>\n      <th></th>\n      <th></th>\n      <th></th>\n      <th></th>\n      <th></th>\n      <th></th>\n      <th></th>\n      <th></th>\n      <th></th>\n      <th></th>\n      <th></th>\n      <th></th>\n      <th></th>\n      <th></th>\n      <th></th>\n      <th></th>\n      <th></th>\n    </tr>\n  </thead>\n  <tbody>\n    <tr>\n      <th>100934.0</th>\n      <td>52</td>\n      <td>1</td>\n      <td>shape</td>\n      <td>triangle</td>\n      <td>1</td>\n      <td>yellow</td>\n      <td>4567</td>\n      <td>1</td>\n      <td>1</td>\n      <td>0</td>\n      <td>0</td>\n      <td>0</td>\n      <td>28.0</td>\n      <td>male</td>\n      <td>right</td>\n      <td>university</td>\n      <td>7.0</td>\n      <td>25.0</td>\n      <td>25-34</td>\n      <td>11453.571429</td>\n    </tr>\n    <tr>\n      <th>100934.0</th>\n      <td>59</td>\n      <td>2</td>\n      <td>shape</td>\n      <td>triangle</td>\n      <td>3</td>\n      <td>red</td>\n      <td>4661</td>\n      <td>1</td>\n      <td>3</td>\n      <td>0</td>\n      <td>0</td>\n      <td>0</td>\n      <td>28.0</td>\n      <td>male</td>\n      <td>right</td>\n      <td>university</td>\n      <td>7.0</td>\n      <td>25.0</td>\n      <td>25-34</td>\n      <td>11453.571429</td>\n    </tr>\n    <tr>\n      <th>100934.0</th>\n      <td>23</td>\n      <td>3</td>\n      <td>shape</td>\n      <td>cross</td>\n      <td>2</td>\n      <td>red</td>\n      <td>1319</td>\n      <td>1</td>\n      <td>2</td>\n      <td>0</td>\n      <td>0</td>\n      <td>0</td>\n      <td>28.0</td>\n      <td>male</td>\n      <td>right</td>\n      <td>university</td>\n      <td>7.0</td>\n      <td>25.0</td>\n      <td>25-34</td>\n      <td>11453.571429</td>\n    </tr>\n    <tr>\n      <th>100934.0</th>\n      <td>52</td>\n      <td>4</td>\n      <td>shape</td>\n      <td>triangle</td>\n      <td>1</td>\n      <td>yellow</td>\n      <td>2336</td>\n      <td>1</td>\n      <td>1</td>\n      <td>0</td>\n      <td>0</td>\n      <td>0</td>\n      <td>28.0</td>\n      <td>male</td>\n      <td>right</td>\n      <td>university</td>\n      <td>7.0</td>\n      <td>25.0</td>\n      <td>25-34</td>\n      <td>11453.571429</td>\n    </tr>\n    <tr>\n      <th>100934.0</th>\n      <td>52</td>\n      <td>5</td>\n      <td>shape</td>\n      <td>triangle</td>\n      <td>1</td>\n      <td>yellow</td>\n      <td>6634</td>\n      <td>1</td>\n      <td>1</td>\n      <td>0</td>\n      <td>0</td>\n      <td>0</td>\n      <td>28.0</td>\n      <td>male</td>\n      <td>right</td>\n      <td>university</td>\n      <td>7.0</td>\n      <td>25.0</td>\n      <td>25-34</td>\n      <td>11453.571429</td>\n    </tr>\n    <tr>\n      <th>...</th>\n      <td>...</td>\n      <td>...</td>\n      <td>...</td>\n      <td>...</td>\n      <td>...</td>\n      <td>...</td>\n      <td>...</td>\n      <td>...</td>\n      <td>...</td>\n      <td>...</td>\n      <td>...</td>\n      <td>...</td>\n      <td>...</td>\n      <td>...</td>\n      <td>...</td>\n      <td>...</td>\n      <td>...</td>\n      <td>...</td>\n      <td>...</td>\n      <td>...</td>\n    </tr>\n    <tr>\n      <th>998593.0</th>\n      <td>61</td>\n      <td>2</td>\n      <td>color</td>\n      <td>triangle</td>\n      <td>4</td>\n      <td>blue</td>\n      <td>2489</td>\n      <td>1</td>\n      <td>4</td>\n      <td>0</td>\n      <td>0</td>\n      <td>0</td>\n      <td>25.0</td>\n      <td>female</td>\n      <td>right</td>\n      <td>graduate school</td>\n      <td>8.0</td>\n      <td>72.0</td>\n      <td>18-24</td>\n      <td>9284.714286</td>\n    </tr>\n    <tr>\n      <th>998593.0</th>\n      <td>14</td>\n      <td>3</td>\n      <td>color</td>\n      <td>circle</td>\n      <td>4</td>\n      <td>green</td>\n      <td>2193</td>\n      <td>1</td>\n      <td>4</td>\n      <td>0</td>\n      <td>0</td>\n      <td>0</td>\n      <td>25.0</td>\n      <td>female</td>\n      <td>right</td>\n      <td>graduate school</td>\n      <td>8.0</td>\n      <td>72.0</td>\n      <td>18-24</td>\n      <td>9284.714286</td>\n    </tr>\n    <tr>\n      <th>998593.0</th>\n      <td>14</td>\n      <td>4</td>\n      <td>color</td>\n      <td>circle</td>\n      <td>4</td>\n      <td>green</td>\n      <td>2310</td>\n      <td>1</td>\n      <td>4</td>\n      <td>0</td>\n      <td>0</td>\n      <td>0</td>\n      <td>25.0</td>\n      <td>female</td>\n      <td>right</td>\n      <td>graduate school</td>\n      <td>8.0</td>\n      <td>72.0</td>\n      <td>18-24</td>\n      <td>9284.714286</td>\n    </tr>\n    <tr>\n      <th>998593.0</th>\n      <td>23</td>\n      <td>5</td>\n      <td>color</td>\n      <td>cross</td>\n      <td>2</td>\n      <td>red</td>\n      <td>1430</td>\n      <td>1</td>\n      <td>2</td>\n      <td>0</td>\n      <td>0</td>\n      <td>0</td>\n      <td>25.0</td>\n      <td>female</td>\n      <td>right</td>\n      <td>graduate school</td>\n      <td>8.0</td>\n      <td>72.0</td>\n      <td>18-24</td>\n      <td>9284.714286</td>\n    </tr>\n    <tr>\n      <th>998593.0</th>\n      <td>20</td>\n      <td>6</td>\n      <td>color</td>\n      <td>cross</td>\n      <td>1</td>\n      <td>yellow</td>\n      <td>2310</td>\n      <td>1</td>\n      <td>1</td>\n      <td>0</td>\n      <td>0</td>\n      <td>0</td>\n      <td>25.0</td>\n      <td>female</td>\n      <td>right</td>\n      <td>graduate school</td>\n      <td>8.0</td>\n      <td>72.0</td>\n      <td>18-24</td>\n      <td>9284.714286</td>\n    </tr>\n  </tbody>\n</table>\n<p>27400 rows × 20 columns</p>\n</div>"
     },
     "metadata": {},
     "execution_count": 152
    }
   ],
   "source": [
    "# --- demographics dataset ---x\n",
    "wcst = ed.raw.wcst_data[['participant', 'card_no', 'seq_no', 'rule', 'card_shape', 'card_number', 'card_colour', 'reaction_time_ms', 'status',\n",
    "                                    'card_selected', 'error','perseverance_error', 'not_perseverance_error']]\n",
    "wcst.set_index('participant').join(ed.demographics.set_index('participant'))\n"
   ]
  },
  {
   "cell_type": "code",
   "execution_count": 169,
   "metadata": {},
   "outputs": [],
   "source": [
    "# --- demographics dataset ---x\n",
    "# ed.nback_summary_stats\n",
    "# ed.fitts_summary_stats"
   ]
  },
  {
   "cell_type": "code",
   "execution_count": null,
   "metadata": {},
   "outputs": [],
   "source": []
  },
  {
   "cell_type": "code",
   "execution_count": 61,
   "metadata": {},
   "outputs": [
    {
     "output_type": "execute_result",
     "data": {
      "text/plain": [
       "'temp-plot.html'"
      ]
     },
     "metadata": {},
     "execution_count": 61
    }
   ],
   "source": [
    "# ---- Scatter Plots ----x\n",
    "\n",
    "# --- data ---x\n",
    "df1 = ed.raw.wcst_data[['participant', 'seq_no', 'card_no', 'rule', 'card_shape', 'card_number',\n",
    "                        'card_colour', 'reaction_time_ms',\n",
    "                        'status', 'card_selected', 'error','perseverance_error', 'not_perseverance_error']]\n",
    "df2 = ed.demographics[[ 'participant', 'age_a','gender_a','handedness_a','education_a', 'income_a', \n",
    "                        'computer_hours_a','age_group']]\n",
    "df  = df1.set_index('participant').join(df2.set_index('participant'))\n",
    "\n",
    "\n",
    "# --- scatter plot ---x\n",
    "trace_1 = go.Scatter(x=df.computer_hours_a, y=df.age_a, mode='markers', marker=dict(size=12, color='steelblue', symbol='pentagon', line={'width':2}))\n",
    "data    = [trace_1]\n",
    "layout  = go.Layout(title='title', xaxis={'title':'age'}, yaxis={'title':'computer hours'}, hovermode='closest')\n",
    "fig     = go.Figure(data=data, layout=layout)\n",
    "pyo.plot(fig, filename='temp-plot.html')"
   ]
  },
  {
   "cell_type": "code",
   "execution_count": 66,
   "metadata": {},
   "outputs": [
    {
     "output_type": "execute_result",
     "data": {
      "text/plain": [
       "'temp-plot.html'"
      ]
     },
     "metadata": {},
     "execution_count": 66
    }
   ],
   "source": [
    "# ---- line plot ----x\n",
    "trace_1 = go.Scatter(x=df.seq_no, y=df.gender_a, mode='markers', marker=dict(size=5, color='darkblue', symbol='circle'))\n",
    "trace_2 = go.Scatter(x=df.seq_no, y=df.education_a, mode='markers', marker=dict(size=5, color='darkblue', symbol='circle'))\n",
    "\n",
    "data    = [trace_1, trace_2]\n",
    "layout  = go.Layout(title='R Time', xaxis={'title':'age'}, yaxis={'title':'computer hours'})\n",
    "fig = go.Figure(data=data, layout=layout)\n",
    "pyo.plot(fig)\n"
   ]
  },
  {
   "cell_type": "code",
   "execution_count": null,
   "metadata": {},
   "outputs": [],
   "source": []
  }
 ]
}
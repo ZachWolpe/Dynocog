{
 "metadata": {
  "language_info": {
   "codemirror_mode": {
    "name": "ipython",
    "version": 3
   },
   "file_extension": ".py",
   "mimetype": "text/x-python",
   "name": "python",
   "nbconvert_exporter": "python",
   "pygments_lexer": "ipython3",
   "version": "3.8.8"
  },
  "orig_nbformat": 2,
  "kernelspec": {
   "name": "python3",
   "display_name": "Python 3.8.8 64-bit ('dynocog': conda)"
  },
  "interpreter": {
   "hash": "0bdb1145a6394107ddd55d824c4d0e411e79cd19a6286b1018600d724ae6ee81"
  }
 },
 "nbformat": 4,
 "nbformat_minor": 2,
 "cells": [
  {
   "source": [
    "# Model Free Analysis\n",
    "\n",
    "Statistical inquiry into the aggregate behaviour of the *Wisconsin Sorting* & *NBack* Tasks.\n",
    "\n",
    "\n",
    "---------\n",
    "```\n",
    "Zach Wolpe\n",
    "zachcolinwolpe@gmail.com\n",
    "27 July 2021\n",
    "```\n",
    "---------\n",
    "\n"
   ],
   "cell_type": "markdown",
   "metadata": {}
  },
  {
   "source": [
    "# Executive Functions\n",
    "\n",
    "The additional experiments are provided to gauge executive functions and computer literacy that may distinguish candidates when participating in the WCST & NBack Tasks."
   ],
   "cell_type": "markdown",
   "metadata": {}
  },
  {
   "cell_type": "code",
   "execution_count": 38,
   "metadata": {},
   "outputs": [],
   "source": [
    "import numpy as np\n",
    "import matplotlib.pyplot as plt\n",
    "import pandas as pd\n",
    "import pickle\n",
    "import os\n",
    "import re\n",
    "import sys\n",
    "sys.path.append('../process data/')\n",
    "import plotly.graph_objs as go\n",
    "import plotly.offline as pyo\n",
    "import plotly.express as px\n",
    "from encode_processed_data import encode_data"
   ]
  },
  {
   "cell_type": "code",
   "execution_count": 2,
   "metadata": {},
   "outputs": [
    {
     "output_type": "execute_result",
     "data": {
      "text/plain": [
       "dict_keys(['raw', 'fitts_summary_stats', 'corsi_summary_stats', 'navon_summary_stats', 'nback_summary_stats', 'demographics'])"
      ]
     },
     "metadata": {},
     "execution_count": 2
    }
   ],
   "source": [
    "# with open('../data objects/batch_processing_object.pkl', 'rb') as file2:\n",
    "#     bp = pickle.load(file2)\n",
    "\n",
    "# ---- fetch data object ----x\n",
    "with open('../data objects/batch_processing_object_with_encodings.pkl', 'rb') as file2:\n",
    "    ed = pickle.load(file2)\n",
    "ed.__dict__.keys()"
   ]
  },
  {
   "cell_type": "code",
   "execution_count": 3,
   "metadata": {},
   "outputs": [
    {
     "output_type": "stream",
     "name": "stdout",
     "text": [
      "\n\n        ------------------------------------------------------------------\n            self.path            : raw data loc\n            self.metadata        : mturk metadata\n            self.mapping         : reference table\n            self.data_times      : reference times table\n            self.participants    : list of participant identifiers\n            self.parti_code      : list of participant codes\n            self.n               : total number of samples\n            self.wcst_paths      : paths to wcst  raw data\n            self.nback_paths     : paths to nback raw data\n            self.corsi_paths     : paths to corsi raw data\n            self.fitts_paths     : paths to fitts raw data\n            self.navon_paths     : paths to navon raw data\n            self.wcst_data       : wcst  dataframe\n            self.nback_data      : nback dataframe\n            self.corsi_data      : corsi dataframe\n            self.fitts_data      : fitts dataframe\n            self.navon_data      : navon dataframe\n            self.individual_data : psytoolkit metadata\n            self.MTurk           : mturk completion data\n\n            -----------------------------------------------------\n            Additions:\n\n            self.raw                    : original object\n            self.nback_summary_stats    : dataframe\n            self.navon_summary_stats    : dataframe\n            self.corsi_summary_stats    : dataframe\n            self.fitts_summary_stats    : dataframe\n            self.demographics           : dataframe\n            self.plot_random_fitts      : plot\n            self.plot_corsi             : plot\n            self.plot_navon             : plot\n            self.write_class_to_pickle  : function\n            \n        ------------------------------------------------------------------\n\n        \n"
     ]
    }
   ],
   "source": [
    "ed.describe_data()"
   ]
  },
  {
   "cell_type": "code",
   "execution_count": 4,
   "metadata": {},
   "outputs": [
    {
     "output_type": "execute_result",
     "data": {
      "text/plain": [
       "  participant block_number trial_counter score              status            \\\n",
       "                                   count  mean       std      mean       std   \n",
       "0    100934.0            1            20  0.30  0.470162  0.850000  0.366348   \n",
       "1    100934.0            2            30  0.30  0.466092  0.900000  0.305129   \n",
       "2    100934.0            3            30  0.20  0.406838  0.933333  0.253708   \n",
       "3    103322.0            1            20  0.25  0.444262  0.850000  0.366348   \n",
       "4    103322.0            2            30  0.30  0.466092  0.933333  0.253708   \n",
       "\n",
       "       miss           false_alarm           reaction_time_ms               \n",
       "       mean       std        mean       std             mean          std  \n",
       "0  0.250000  0.444262    0.050000  0.223607      2155.400000  1185.698080  \n",
       "1  0.266667  0.449776    0.033333  0.182574      2175.133333  1191.591626  \n",
       "2  0.200000  0.406838    0.000000  0.000000      2323.700000  1142.043364  \n",
       "3  0.200000  0.410391    0.050000  0.223607      2305.100000  1090.350542  \n",
       "4  0.233333  0.430183    0.066667  0.253708      2425.966667  1059.981668  "
      ],
      "text/html": "<div>\n<style scoped>\n    .dataframe tbody tr th:only-of-type {\n        vertical-align: middle;\n    }\n\n    .dataframe tbody tr th {\n        vertical-align: top;\n    }\n\n    .dataframe thead tr th {\n        text-align: left;\n    }\n</style>\n<table border=\"1\" class=\"dataframe\">\n  <thead>\n    <tr>\n      <th></th>\n      <th>participant</th>\n      <th>block_number</th>\n      <th>trial_counter</th>\n      <th colspan=\"2\" halign=\"left\">score</th>\n      <th colspan=\"2\" halign=\"left\">status</th>\n      <th colspan=\"2\" halign=\"left\">miss</th>\n      <th colspan=\"2\" halign=\"left\">false_alarm</th>\n      <th colspan=\"2\" halign=\"left\">reaction_time_ms</th>\n    </tr>\n    <tr>\n      <th></th>\n      <th></th>\n      <th></th>\n      <th>count</th>\n      <th>mean</th>\n      <th>std</th>\n      <th>mean</th>\n      <th>std</th>\n      <th>mean</th>\n      <th>std</th>\n      <th>mean</th>\n      <th>std</th>\n      <th>mean</th>\n      <th>std</th>\n    </tr>\n  </thead>\n  <tbody>\n    <tr>\n      <th>0</th>\n      <td>100934.0</td>\n      <td>1</td>\n      <td>20</td>\n      <td>0.30</td>\n      <td>0.470162</td>\n      <td>0.850000</td>\n      <td>0.366348</td>\n      <td>0.250000</td>\n      <td>0.444262</td>\n      <td>0.050000</td>\n      <td>0.223607</td>\n      <td>2155.400000</td>\n      <td>1185.698080</td>\n    </tr>\n    <tr>\n      <th>1</th>\n      <td>100934.0</td>\n      <td>2</td>\n      <td>30</td>\n      <td>0.30</td>\n      <td>0.466092</td>\n      <td>0.900000</td>\n      <td>0.305129</td>\n      <td>0.266667</td>\n      <td>0.449776</td>\n      <td>0.033333</td>\n      <td>0.182574</td>\n      <td>2175.133333</td>\n      <td>1191.591626</td>\n    </tr>\n    <tr>\n      <th>2</th>\n      <td>100934.0</td>\n      <td>3</td>\n      <td>30</td>\n      <td>0.20</td>\n      <td>0.406838</td>\n      <td>0.933333</td>\n      <td>0.253708</td>\n      <td>0.200000</td>\n      <td>0.406838</td>\n      <td>0.000000</td>\n      <td>0.000000</td>\n      <td>2323.700000</td>\n      <td>1142.043364</td>\n    </tr>\n    <tr>\n      <th>3</th>\n      <td>103322.0</td>\n      <td>1</td>\n      <td>20</td>\n      <td>0.25</td>\n      <td>0.444262</td>\n      <td>0.850000</td>\n      <td>0.366348</td>\n      <td>0.200000</td>\n      <td>0.410391</td>\n      <td>0.050000</td>\n      <td>0.223607</td>\n      <td>2305.100000</td>\n      <td>1090.350542</td>\n    </tr>\n    <tr>\n      <th>4</th>\n      <td>103322.0</td>\n      <td>2</td>\n      <td>30</td>\n      <td>0.30</td>\n      <td>0.466092</td>\n      <td>0.933333</td>\n      <td>0.253708</td>\n      <td>0.233333</td>\n      <td>0.430183</td>\n      <td>0.066667</td>\n      <td>0.253708</td>\n      <td>2425.966667</td>\n      <td>1059.981668</td>\n    </tr>\n  </tbody>\n</table>\n</div>"
     },
     "metadata": {},
     "execution_count": 4
    }
   ],
   "source": [
    "ed.nback_summary_stats.head()"
   ]
  },
  {
   "cell_type": "code",
   "execution_count": 5,
   "metadata": {},
   "outputs": [
    {
     "output_type": "execute_result",
     "data": {
      "text/plain": [
       "  participant level_of_target   correct           too_slow       \\\n",
       "                                   mean       std     mean  std   \n",
       "0    100934.0          global  0.166667  0.389249      0.0  0.0   \n",
       "1    100934.0           local  0.461538  0.518875      0.0  0.0   \n",
       "2    100934.0            none  0.480000  0.509902      0.0  0.0   \n",
       "3    103322.0          global  0.923077  0.277350      0.0  0.0   \n",
       "4    103322.0           local  0.916667  0.288675      0.0  0.0   \n",
       "\n",
       "  reaction_time_ms              \n",
       "              mean         std  \n",
       "0       664.583333  221.989540  \n",
       "1       597.769231  294.353856  \n",
       "2       622.960000  343.110949  \n",
       "3       959.769231  358.604739  \n",
       "4       999.750000  221.561453  "
      ],
      "text/html": "<div>\n<style scoped>\n    .dataframe tbody tr th:only-of-type {\n        vertical-align: middle;\n    }\n\n    .dataframe tbody tr th {\n        vertical-align: top;\n    }\n\n    .dataframe thead tr th {\n        text-align: left;\n    }\n</style>\n<table border=\"1\" class=\"dataframe\">\n  <thead>\n    <tr>\n      <th></th>\n      <th>participant</th>\n      <th>level_of_target</th>\n      <th colspan=\"2\" halign=\"left\">correct</th>\n      <th colspan=\"2\" halign=\"left\">too_slow</th>\n      <th colspan=\"2\" halign=\"left\">reaction_time_ms</th>\n    </tr>\n    <tr>\n      <th></th>\n      <th></th>\n      <th></th>\n      <th>mean</th>\n      <th>std</th>\n      <th>mean</th>\n      <th>std</th>\n      <th>mean</th>\n      <th>std</th>\n    </tr>\n  </thead>\n  <tbody>\n    <tr>\n      <th>0</th>\n      <td>100934.0</td>\n      <td>global</td>\n      <td>0.166667</td>\n      <td>0.389249</td>\n      <td>0.0</td>\n      <td>0.0</td>\n      <td>664.583333</td>\n      <td>221.989540</td>\n    </tr>\n    <tr>\n      <th>1</th>\n      <td>100934.0</td>\n      <td>local</td>\n      <td>0.461538</td>\n      <td>0.518875</td>\n      <td>0.0</td>\n      <td>0.0</td>\n      <td>597.769231</td>\n      <td>294.353856</td>\n    </tr>\n    <tr>\n      <th>2</th>\n      <td>100934.0</td>\n      <td>none</td>\n      <td>0.480000</td>\n      <td>0.509902</td>\n      <td>0.0</td>\n      <td>0.0</td>\n      <td>622.960000</td>\n      <td>343.110949</td>\n    </tr>\n    <tr>\n      <th>3</th>\n      <td>103322.0</td>\n      <td>global</td>\n      <td>0.923077</td>\n      <td>0.277350</td>\n      <td>0.0</td>\n      <td>0.0</td>\n      <td>959.769231</td>\n      <td>358.604739</td>\n    </tr>\n    <tr>\n      <th>4</th>\n      <td>103322.0</td>\n      <td>local</td>\n      <td>0.916667</td>\n      <td>0.288675</td>\n      <td>0.0</td>\n      <td>0.0</td>\n      <td>999.750000</td>\n      <td>221.561453</td>\n    </tr>\n  </tbody>\n</table>\n</div>"
     },
     "metadata": {},
     "execution_count": 5
    }
   ],
   "source": [
    "ed.navon_summary_stats.head()"
   ]
  },
  {
   "cell_type": "code",
   "execution_count": 12,
   "metadata": {},
   "outputs": [
    {
     "output_type": "execute_result",
     "data": {
      "text/plain": [
       "  participant highest_span n_items    status          \n",
       "                       max     max      mean       std\n",
       "0    100934.0            4       5  0.428571  0.534522\n",
       "1    103322.0            6       7  0.625000  0.517549\n",
       "2    107700.0            6       7  0.625000  0.517549\n",
       "3    117200.0            4       5  0.500000  0.547723\n",
       "4    117306.0            5       6  0.571429  0.534522"
      ],
      "text/html": "<div>\n<style scoped>\n    .dataframe tbody tr th:only-of-type {\n        vertical-align: middle;\n    }\n\n    .dataframe tbody tr th {\n        vertical-align: top;\n    }\n\n    .dataframe thead tr th {\n        text-align: left;\n    }\n</style>\n<table border=\"1\" class=\"dataframe\">\n  <thead>\n    <tr>\n      <th></th>\n      <th>participant</th>\n      <th>highest_span</th>\n      <th>n_items</th>\n      <th colspan=\"2\" halign=\"left\">status</th>\n    </tr>\n    <tr>\n      <th></th>\n      <th></th>\n      <th>max</th>\n      <th>max</th>\n      <th>mean</th>\n      <th>std</th>\n    </tr>\n  </thead>\n  <tbody>\n    <tr>\n      <th>0</th>\n      <td>100934.0</td>\n      <td>4</td>\n      <td>5</td>\n      <td>0.428571</td>\n      <td>0.534522</td>\n    </tr>\n    <tr>\n      <th>1</th>\n      <td>103322.0</td>\n      <td>6</td>\n      <td>7</td>\n      <td>0.625000</td>\n      <td>0.517549</td>\n    </tr>\n    <tr>\n      <th>2</th>\n      <td>107700.0</td>\n      <td>6</td>\n      <td>7</td>\n      <td>0.625000</td>\n      <td>0.517549</td>\n    </tr>\n    <tr>\n      <th>3</th>\n      <td>117200.0</td>\n      <td>4</td>\n      <td>5</td>\n      <td>0.500000</td>\n      <td>0.547723</td>\n    </tr>\n    <tr>\n      <th>4</th>\n      <td>117306.0</td>\n      <td>5</td>\n      <td>6</td>\n      <td>0.571429</td>\n      <td>0.534522</td>\n    </tr>\n  </tbody>\n</table>\n</div>"
     },
     "metadata": {},
     "execution_count": 12
    }
   ],
   "source": [
    "ed.corsi_summary_stats.head()"
   ]
  },
  {
   "cell_type": "code",
   "execution_count": 13,
   "metadata": {},
   "outputs": [
    {
     "output_type": "execute_result",
     "data": {
      "text/plain": [
       "  participant   delta             status          \n",
       "                 mean         std   mean       std\n",
       "0    100934.0   -5.70  186.607130    1.0  0.000000\n",
       "1    103322.0 -203.05  174.308400    1.0  0.000000\n",
       "2    107700.0 -342.65  345.637059    1.1  0.447214\n",
       "3    117200.0  -85.05  156.117188    1.0  0.000000\n",
       "4    117306.0 -141.80  167.808036    1.0  0.000000"
      ],
      "text/html": "<div>\n<style scoped>\n    .dataframe tbody tr th:only-of-type {\n        vertical-align: middle;\n    }\n\n    .dataframe tbody tr th {\n        vertical-align: top;\n    }\n\n    .dataframe thead tr th {\n        text-align: left;\n    }\n</style>\n<table border=\"1\" class=\"dataframe\">\n  <thead>\n    <tr>\n      <th></th>\n      <th>participant</th>\n      <th colspan=\"2\" halign=\"left\">delta</th>\n      <th colspan=\"2\" halign=\"left\">status</th>\n    </tr>\n    <tr>\n      <th></th>\n      <th></th>\n      <th>mean</th>\n      <th>std</th>\n      <th>mean</th>\n      <th>std</th>\n    </tr>\n  </thead>\n  <tbody>\n    <tr>\n      <th>0</th>\n      <td>100934.0</td>\n      <td>-5.70</td>\n      <td>186.607130</td>\n      <td>1.0</td>\n      <td>0.000000</td>\n    </tr>\n    <tr>\n      <th>1</th>\n      <td>103322.0</td>\n      <td>-203.05</td>\n      <td>174.308400</td>\n      <td>1.0</td>\n      <td>0.000000</td>\n    </tr>\n    <tr>\n      <th>2</th>\n      <td>107700.0</td>\n      <td>-342.65</td>\n      <td>345.637059</td>\n      <td>1.1</td>\n      <td>0.447214</td>\n    </tr>\n    <tr>\n      <th>3</th>\n      <td>117200.0</td>\n      <td>-85.05</td>\n      <td>156.117188</td>\n      <td>1.0</td>\n      <td>0.000000</td>\n    </tr>\n    <tr>\n      <th>4</th>\n      <td>117306.0</td>\n      <td>-141.80</td>\n      <td>167.808036</td>\n      <td>1.0</td>\n      <td>0.000000</td>\n    </tr>\n  </tbody>\n</table>\n</div>"
     },
     "metadata": {},
     "execution_count": 13
    }
   ],
   "source": [
    "ed.fitts_summary_stats.head()"
   ]
  },
  {
   "cell_type": "code",
   "execution_count": 14,
   "metadata": {},
   "outputs": [
    {
     "output_type": "execute_result",
     "data": {
      "text/plain": [
       "participant                                             816404.0\n",
       "participant_file      s.6463d918-7e29-49b0-942d-f1a9faab6ad6.txt\n",
       "user_agent                                           mozilla/5.0\n",
       "Welcome_Screen_T                                 1621951320945.0\n",
       "participant_code_a                                      816404.0\n",
       "feedback_T                                                8719.0\n",
       "age_T                                                     3556.0\n",
       "age_a                                                       28.0\n",
       "gender_T                                                  2023.0\n",
       "gender_a                                                  female\n",
       "handedness_T                                              3627.0\n",
       "handedness_a                                               right\n",
       "education_T                                               2604.0\n",
       "education_a                                           university\n",
       "income_T                                                  6457.0\n",
       "income_a                                                     6.0\n",
       "income_s                                                     6.0\n",
       "computer_hours_T                                         11528.0\n",
       "computer_hours_a                                            20.0\n",
       "computer_hours_s                                            20.0\n",
       "age_group                                                  25-34\n",
       "Name: 0, dtype: object"
      ]
     },
     "metadata": {},
     "execution_count": 14
    }
   ],
   "source": [
    "ed.demographics.iloc[0,]"
   ]
  },
  {
   "source": [
    "# Final Datasets\n",
    "\n",
    "These curated datasets are now joined, pruned & transformed to produce the `final` set of datasets - on which we will conduct our anaylsis.\n"
   ],
   "cell_type": "markdown",
   "metadata": {}
  },
  {
   "cell_type": "code",
   "execution_count": 72,
   "metadata": {},
   "outputs": [
    {
     "output_type": "execute_result",
     "data": {
      "text/plain": [
       "       participant                            participant_code  card_no  \\\n",
       "0         816404.0  s.6463d918-7e29-49b0-942d-f1a9faab6ad6.txt       52   \n",
       "1         816404.0  s.6463d918-7e29-49b0-942d-f1a9faab6ad6.txt       59   \n",
       "2         816404.0  s.6463d918-7e29-49b0-942d-f1a9faab6ad6.txt       23   \n",
       "3         816404.0  s.6463d918-7e29-49b0-942d-f1a9faab6ad6.txt       52   \n",
       "4         816404.0  s.6463d918-7e29-49b0-942d-f1a9faab6ad6.txt       52   \n",
       "...            ...                                         ...      ...   \n",
       "27395     684712.0  s.7eeb88a1-4136-4dad-923e-c98785b34377.txt       61   \n",
       "27396     684712.0  s.7eeb88a1-4136-4dad-923e-c98785b34377.txt       14   \n",
       "27397     684712.0  s.7eeb88a1-4136-4dad-923e-c98785b34377.txt       14   \n",
       "27398     684712.0  s.7eeb88a1-4136-4dad-923e-c98785b34377.txt       23   \n",
       "27399     684712.0  s.7eeb88a1-4136-4dad-923e-c98785b34377.txt       20   \n",
       "\n",
       "       correct_card  correct_persevering  seq_no   rule card_shape  \\\n",
       "0                 1                    0       1  shape   triangle   \n",
       "1                 3                    0       2  shape   triangle   \n",
       "2                 2                    0       3  shape      cross   \n",
       "3                 1                    0       4  shape   triangle   \n",
       "4                 1                    0       5  shape   triangle   \n",
       "...             ...                  ...     ...    ...        ...   \n",
       "27395             4                    2       2  color   triangle   \n",
       "27396             4                    1       3  color     circle   \n",
       "27397             4                    1       4  color     circle   \n",
       "27398             2                    3       5  color      cross   \n",
       "27399             1                    3       6  color      cross   \n",
       "\n",
       "       card_number card_colour  reaction_time_ms  status  card_selected  \\\n",
       "0                1      yellow              3775       1              1   \n",
       "1                3         red              3771       1              3   \n",
       "2                2         red              1359       1              2   \n",
       "3                1      yellow              1209       1              1   \n",
       "4                1      yellow               953       1              1   \n",
       "...            ...         ...               ...     ...            ...   \n",
       "27395            4        blue              1761       1              4   \n",
       "27396            4       green              1109       1              4   \n",
       "27397            4       green              1045       1              4   \n",
       "27398            2         red              1779       1              2   \n",
       "27399            1      yellow              1621       1              1   \n",
       "\n",
       "       error  perseverance_error  not_perseverance_error  \n",
       "0          0                   0                       0  \n",
       "1          0                   0                       0  \n",
       "2          0                   0                       0  \n",
       "3          0                   0                       0  \n",
       "4          0                   0                       0  \n",
       "...      ...                 ...                     ...  \n",
       "27395      0                   0                       0  \n",
       "27396      0                   0                       0  \n",
       "27397      0                   0                       0  \n",
       "27398      0                   0                       0  \n",
       "27399      0                   0                       0  \n",
       "\n",
       "[27400 rows x 16 columns]"
      ],
      "text/html": "<div>\n<style scoped>\n    .dataframe tbody tr th:only-of-type {\n        vertical-align: middle;\n    }\n\n    .dataframe tbody tr th {\n        vertical-align: top;\n    }\n\n    .dataframe thead th {\n        text-align: right;\n    }\n</style>\n<table border=\"1\" class=\"dataframe\">\n  <thead>\n    <tr style=\"text-align: right;\">\n      <th></th>\n      <th>participant</th>\n      <th>participant_code</th>\n      <th>card_no</th>\n      <th>correct_card</th>\n      <th>correct_persevering</th>\n      <th>seq_no</th>\n      <th>rule</th>\n      <th>card_shape</th>\n      <th>card_number</th>\n      <th>card_colour</th>\n      <th>reaction_time_ms</th>\n      <th>status</th>\n      <th>card_selected</th>\n      <th>error</th>\n      <th>perseverance_error</th>\n      <th>not_perseverance_error</th>\n    </tr>\n  </thead>\n  <tbody>\n    <tr>\n      <th>0</th>\n      <td>816404.0</td>\n      <td>s.6463d918-7e29-49b0-942d-f1a9faab6ad6.txt</td>\n      <td>52</td>\n      <td>1</td>\n      <td>0</td>\n      <td>1</td>\n      <td>shape</td>\n      <td>triangle</td>\n      <td>1</td>\n      <td>yellow</td>\n      <td>3775</td>\n      <td>1</td>\n      <td>1</td>\n      <td>0</td>\n      <td>0</td>\n      <td>0</td>\n    </tr>\n    <tr>\n      <th>1</th>\n      <td>816404.0</td>\n      <td>s.6463d918-7e29-49b0-942d-f1a9faab6ad6.txt</td>\n      <td>59</td>\n      <td>3</td>\n      <td>0</td>\n      <td>2</td>\n      <td>shape</td>\n      <td>triangle</td>\n      <td>3</td>\n      <td>red</td>\n      <td>3771</td>\n      <td>1</td>\n      <td>3</td>\n      <td>0</td>\n      <td>0</td>\n      <td>0</td>\n    </tr>\n    <tr>\n      <th>2</th>\n      <td>816404.0</td>\n      <td>s.6463d918-7e29-49b0-942d-f1a9faab6ad6.txt</td>\n      <td>23</td>\n      <td>2</td>\n      <td>0</td>\n      <td>3</td>\n      <td>shape</td>\n      <td>cross</td>\n      <td>2</td>\n      <td>red</td>\n      <td>1359</td>\n      <td>1</td>\n      <td>2</td>\n      <td>0</td>\n      <td>0</td>\n      <td>0</td>\n    </tr>\n    <tr>\n      <th>3</th>\n      <td>816404.0</td>\n      <td>s.6463d918-7e29-49b0-942d-f1a9faab6ad6.txt</td>\n      <td>52</td>\n      <td>1</td>\n      <td>0</td>\n      <td>4</td>\n      <td>shape</td>\n      <td>triangle</td>\n      <td>1</td>\n      <td>yellow</td>\n      <td>1209</td>\n      <td>1</td>\n      <td>1</td>\n      <td>0</td>\n      <td>0</td>\n      <td>0</td>\n    </tr>\n    <tr>\n      <th>4</th>\n      <td>816404.0</td>\n      <td>s.6463d918-7e29-49b0-942d-f1a9faab6ad6.txt</td>\n      <td>52</td>\n      <td>1</td>\n      <td>0</td>\n      <td>5</td>\n      <td>shape</td>\n      <td>triangle</td>\n      <td>1</td>\n      <td>yellow</td>\n      <td>953</td>\n      <td>1</td>\n      <td>1</td>\n      <td>0</td>\n      <td>0</td>\n      <td>0</td>\n    </tr>\n    <tr>\n      <th>...</th>\n      <td>...</td>\n      <td>...</td>\n      <td>...</td>\n      <td>...</td>\n      <td>...</td>\n      <td>...</td>\n      <td>...</td>\n      <td>...</td>\n      <td>...</td>\n      <td>...</td>\n      <td>...</td>\n      <td>...</td>\n      <td>...</td>\n      <td>...</td>\n      <td>...</td>\n      <td>...</td>\n    </tr>\n    <tr>\n      <th>27395</th>\n      <td>684712.0</td>\n      <td>s.7eeb88a1-4136-4dad-923e-c98785b34377.txt</td>\n      <td>61</td>\n      <td>4</td>\n      <td>2</td>\n      <td>2</td>\n      <td>color</td>\n      <td>triangle</td>\n      <td>4</td>\n      <td>blue</td>\n      <td>1761</td>\n      <td>1</td>\n      <td>4</td>\n      <td>0</td>\n      <td>0</td>\n      <td>0</td>\n    </tr>\n    <tr>\n      <th>27396</th>\n      <td>684712.0</td>\n      <td>s.7eeb88a1-4136-4dad-923e-c98785b34377.txt</td>\n      <td>14</td>\n      <td>4</td>\n      <td>1</td>\n      <td>3</td>\n      <td>color</td>\n      <td>circle</td>\n      <td>4</td>\n      <td>green</td>\n      <td>1109</td>\n      <td>1</td>\n      <td>4</td>\n      <td>0</td>\n      <td>0</td>\n      <td>0</td>\n    </tr>\n    <tr>\n      <th>27397</th>\n      <td>684712.0</td>\n      <td>s.7eeb88a1-4136-4dad-923e-c98785b34377.txt</td>\n      <td>14</td>\n      <td>4</td>\n      <td>1</td>\n      <td>4</td>\n      <td>color</td>\n      <td>circle</td>\n      <td>4</td>\n      <td>green</td>\n      <td>1045</td>\n      <td>1</td>\n      <td>4</td>\n      <td>0</td>\n      <td>0</td>\n      <td>0</td>\n    </tr>\n    <tr>\n      <th>27398</th>\n      <td>684712.0</td>\n      <td>s.7eeb88a1-4136-4dad-923e-c98785b34377.txt</td>\n      <td>23</td>\n      <td>2</td>\n      <td>3</td>\n      <td>5</td>\n      <td>color</td>\n      <td>cross</td>\n      <td>2</td>\n      <td>red</td>\n      <td>1779</td>\n      <td>1</td>\n      <td>2</td>\n      <td>0</td>\n      <td>0</td>\n      <td>0</td>\n    </tr>\n    <tr>\n      <th>27399</th>\n      <td>684712.0</td>\n      <td>s.7eeb88a1-4136-4dad-923e-c98785b34377.txt</td>\n      <td>20</td>\n      <td>1</td>\n      <td>3</td>\n      <td>6</td>\n      <td>color</td>\n      <td>cross</td>\n      <td>1</td>\n      <td>yellow</td>\n      <td>1621</td>\n      <td>1</td>\n      <td>1</td>\n      <td>0</td>\n      <td>0</td>\n      <td>0</td>\n    </tr>\n  </tbody>\n</table>\n<p>27400 rows × 16 columns</p>\n</div>"
     },
     "metadata": {},
     "execution_count": 72
    }
   ],
   "source": [
    "# --- demographics dataset ---x\n",
    "ed.demographics.columns\n",
    "\n",
    "df2 = ed.demographics[[ 'participant', 'age_a','gender_a','handedness_a','education_a', 'income_a', \n",
    "                        'computer_hours_a','age_group']]\n",
    "\n",
    "ed.raw.wcst_data[['participant', 'seq_no', 'card_no', 'rule', 'card_shape', 'card_number',\n",
    "                        'card_colour', 'reaction_time_ms',\n",
    "                        'status', 'card_selected', 'error','perseverance_error', 'not_perseverance_error']]\n",
    "\n",
    "['participant', 'participant_code', 'card_no', 'correct_card',\n",
    "       'correct_persevering', 'seq_no', 'rule', 'card_shape', 'card_number',\n",
    "       'card_colour', 'reaction_time_ms', 'status', 'card_selected', 'error',\n",
    "       'perseverance_error', 'not_perseverance_error'],\n",
    "\n",
    "       \n",
    "ed.raw.wcst_data \n",
    "                    "
   ]
  },
  {
   "cell_type": "code",
   "execution_count": null,
   "metadata": {},
   "outputs": [],
   "source": []
  },
  {
   "cell_type": "code",
   "execution_count": null,
   "metadata": {},
   "outputs": [],
   "source": []
  },
  {
   "cell_type": "code",
   "execution_count": 61,
   "metadata": {},
   "outputs": [
    {
     "output_type": "execute_result",
     "data": {
      "text/plain": [
       "'temp-plot.html'"
      ]
     },
     "metadata": {},
     "execution_count": 61
    }
   ],
   "source": [
    "# ---- Scatter Plots ----x\n",
    "\n",
    "# --- data ---x\n",
    "df1 = ed.raw.wcst_data[['participant', 'seq_no', 'card_no', 'rule', 'card_shape', 'card_number',\n",
    "                        'card_colour', 'reaction_time_ms',\n",
    "                        'status', 'card_selected', 'error','perseverance_error', 'not_perseverance_error']]\n",
    "df2 = ed.demographics[[ 'participant', 'age_a','gender_a','handedness_a','education_a', 'income_a', \n",
    "                        'computer_hours_a','age_group']]\n",
    "df  = df1.set_index('participant').join(df2.set_index('participant'))\n",
    "\n",
    "\n",
    "# --- scatter plot ---x\n",
    "trace_1 = go.Scatter(x=df.computer_hours_a, y=df.age_a, mode='markers', marker=dict(size=12, color='steelblue', symbol='pentagon', line={'width':2}))\n",
    "data    = [trace_1]\n",
    "layout  = go.Layout(title='title', xaxis={'title':'age'}, yaxis={'title':'computer hours'}, hovermode='closest')\n",
    "fig     = go.Figure(data=data, layout=layout)\n",
    "pyo.plot(fig, filename='temp-plot.html')"
   ]
  },
  {
   "cell_type": "code",
   "execution_count": 66,
   "metadata": {},
   "outputs": [
    {
     "output_type": "execute_result",
     "data": {
      "text/plain": [
       "'temp-plot.html'"
      ]
     },
     "metadata": {},
     "execution_count": 66
    }
   ],
   "source": [
    "# ---- line plot ----x\n",
    "trace_1 = go.Scatter(x=df.seq_no, y=df.gender_a, mode='markers', marker=dict(size=5, color='darkblue', symbol='circle'))\n",
    "trace_2 = go.Scatter(x=df.seq_no, y=df.education_a, mode='markers', marker=dict(size=5, color='darkblue', symbol='circle'))\n",
    "\n",
    "data    = [trace_1, trace_2]\n",
    "layout  = go.Layout(title='R Time', xaxis={'title':'age'}, yaxis={'title':'computer hours'})\n",
    "fig = go.Figure(data=data, layout=layout)\n",
    "pyo.plot(fig)\n"
   ]
  },
  {
   "cell_type": "code",
   "execution_count": null,
   "metadata": {},
   "outputs": [],
   "source": []
  }
 ]
}
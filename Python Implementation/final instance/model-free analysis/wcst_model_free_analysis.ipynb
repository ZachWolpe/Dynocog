{
 "metadata": {
  "language_info": {
   "codemirror_mode": {
    "name": "ipython",
    "version": 3
   },
   "file_extension": ".py",
   "mimetype": "text/x-python",
   "name": "python",
   "nbconvert_exporter": "python",
   "pygments_lexer": "ipython3",
   "version": "3.8.8"
  },
  "orig_nbformat": 2,
  "kernelspec": {
   "name": "python3",
   "display_name": "Python 3.8.8 64-bit ('dynocog': conda)"
  },
  "interpreter": {
   "hash": "0bdb1145a6394107ddd55d824c4d0e411e79cd19a6286b1018600d724ae6ee81"
  }
 },
 "nbformat": 4,
 "nbformat_minor": 2,
 "cells": [
  {
   "source": [
    "# Model Free Analysis\n",
    "\n",
    "Statistical inquiry into the aggregate behaviour of the *Wisconsin Sorting* & *NBack* Tasks.\n",
    "\n",
    "\n",
    "---------\n",
    "```\n",
    "Zach Wolpe\n",
    "zachcolinwolpe@gmail.com\n",
    "17 July 2021\n",
    "```\n",
    "---------\n",
    "\n"
   ],
   "cell_type": "markdown",
   "metadata": {}
  },
  {
   "source": [
    "# Executive Functions\n",
    "\n",
    "The additional experiments are provided to gauge executive functions and computer literacy that may distinguish candidates when participating in the WCST & NBack Tasks."
   ],
   "cell_type": "markdown",
   "metadata": {}
  },
  {
   "cell_type": "code",
   "execution_count": 1,
   "metadata": {},
   "outputs": [],
   "source": [
    "import numpy as np\n",
    "import matplotlib.pyplot as plt\n",
    "import pandas as pd\n",
    "import pickle\n",
    "import os\n",
    "import re\n",
    "import sys\n",
    "sys.path.append('../process data/')\n",
    "import plotly.graph_objs as go\n",
    "import plotly.offline as pyo\n",
    "import plotly.express as px\n",
    "from encode_processed_data import encode_data"
   ]
  },
  {
   "cell_type": "code",
   "execution_count": 2,
   "metadata": {},
   "outputs": [
    {
     "output_type": "execute_result",
     "data": {
      "text/plain": [
       "dict_keys(['raw', 'fitts_summary_stats', 'corsi_summary_stats', 'navon_summary_stats', 'nback_summary_stats', 'demographics_plot', 'demographics'])"
      ]
     },
     "metadata": {},
     "execution_count": 2
    }
   ],
   "source": [
    "# with open('../data objects/batch_processing_object.pkl', 'rb') as file2:\n",
    "#     bp = pickle.load(file2)\n",
    "\n",
    "# ---- fetch data object ----x\n",
    "with open('../data objects/batch_processing_object_with_encodings.pkl', 'rb') as file2:\n",
    "    ed = pickle.load(file2)\n",
    "\n",
    "   \n",
    "ed.__dict__.keys()"
   ]
  },
  {
   "cell_type": "code",
   "execution_count": 3,
   "metadata": {},
   "outputs": [
    {
     "output_type": "stream",
     "name": "stdout",
     "text": [
      "\n\n        ------------------------------------------------------------------\n            self.path            : raw data loc\n            self.metadata        : mturk metadata\n            self.mapping         : reference table\n            self.data_times      : reference times table\n            self.participants    : list of participant identifiers\n            self.parti_code      : list of participant codes\n            self.n               : total number of samples\n            self.wcst_paths      : paths to wcst  raw data\n            self.nback_paths     : paths to nback raw data\n            self.corsi_paths     : paths to corsi raw data\n            self.fitts_paths     : paths to fitts raw data\n            self.navon_paths     : paths to navon raw data\n            self.wcst_data       : wcst  dataframe\n            self.nback_data      : nback dataframe\n            self.corsi_data      : corsi dataframe\n            self.fitts_data      : fitts dataframe\n            self.navon_data      : navon dataframe\n            self.individual_data : psytoolkit metadata\n            self.MTurk           : mturk completion data\n\n            -----------------------------------------------------\n            Additions:\n\n            self.raw                    : original object\n            self.nback_summary_stats    : dataframe\n            self.navon_summary_stats    : dataframe\n            self.corsi_summary_stats    : dataframe\n            self.fitts_summary_stats    : dataframe\n            self.demographics           : dataframe\n            self.plot_random_fitts      : plot\n            self.plot_corsi             : plot\n            self.plot_navon             : plot\n            self.write_class_to_pickle  : function\n            self.describe_data          : info\n            self.clean_data_info        : info\n            \n        ------------------------------------------------------------------\n\n        \n"
     ]
    }
   ],
   "source": [
    "ed.describe_data()"
   ]
  },
  {
   "cell_type": "code",
   "execution_count": 4,
   "metadata": {},
   "outputs": [
    {
     "output_type": "stream",
     "name": "stdout",
     "text": [
      "\n\n            ===========================================================================================================================\n                WCST - Wisconsin Card Sorting Task                                                  DataFrame: ed.raw.wcst_date\n            ---------------------------------------------------------------------------------------------------------------------------\n            \n                participant                     : key               : participant ID\n                card_no                         : categorical       : the card shown\n                correct_card                    : categorical       : the card that should be clicked of the top four on screen      \n                correct_persevering             : categorical       : the card that would be clicked if the participant is persevering\n                seq_no                          : numeric           : trial number\n                rule                            : categorical       : matching rule  \n                card_shape                      : categorical       : current card shape\n                card_number                     : categorical       : current card number\n                card_colour                     : categorical       : current card colour\n                reaction_time_ms                : numeric           : reaction time (ms)\n                status                          : categorical       : 1=correct, 2=wrong card, 3=too slow\n                card_selected                   : categorical       : card chosen\n                error                           : binary            : 1=error, 0=no error\n                perseverance_error              : binary            : 1=perserverance error,       0=otherwise\n                not_perseverance_error          : binary            : 1=not a perseveration error, 0=otherwise\n\n            ---------------------------------------------------------------------------------------------------------------------------    \n                Demographic                                                                         DataFrame: ed.demographics\n            ---------------------------------------------------------------------------------------------------------------------------\n\n                participant                     : key \n                age_a                           : numeric\n                gender_a                        : categorical \n                handedness_a                    : categorical\n                education_a                     : categorical\n                income_a                        : categorical \n                computer_hours_a                : numeric\n                age_group                       : categorical\n                mean_reation_time_ms.           : numeric\n\n            ---------------------------------------------------------------------------------------------------------------------------    \n                N-Back                                                                              DataFrame: ed.nback_summary_stats\n            ---------------------------------------------------------------------------------------------------------------------------\n\n                participant                     : key \n                block_number                    : numeric       : trial block number \n                trial_counter   - count         : numeric       : number of trials in the block \n                score           - mean          : probability   : score of current trail (1=correct, 0=wrong)\n                                - std           : probability       \n                status          - mean          : probability   : whether the response given was a correct match (1=correct, 0=wrong)\n                                - std           : probability   \n                miss            - mean          : probability   : whether the response given was a miss (1=miss, 0=otherwise)\n                                - std           : probability     \n                false_alarm     - mean          : probability   : 1=participant clicked but there was no-match, 0=otherwise\n                                - std           : probability    \n                reaction_time_ms- mean          : numeric       \n                                - std           : numeric  \n\n            ---------------------------------------------------------------------------------------------------------------------------    \n                Navon                                                                              DataFrame: ed.navon_summary_stats\n            ---------------------------------------------------------------------------------------------------------------------------\n\n                participant                     : key \n                level_of_target                 : categorical   : type of signal (global/local/none)\n                correct         - mean          : probability   : correct action\n                                - std           : probability\n                too_slow        - mean          : probability   : acted too slow\n                                - std           : probability\n                reaction_time_ms- mean\n                                - std\n\n            ---------------------------------------------------------------------------------------------------------------------------    \n                Corsi Block Span                                                                    DataFrame: ed.corsi_summary_stats\n            ---------------------------------------------------------------------------------------------------------------------------\n\n                participant                     : key \n                highest_span    - max           : numeric       : highest corsi block span\n                n_items         - max           : numeric       : (max) number of items to be remembered\n                status          - mean          : probability   : current trial (1=correct, 0=wrong)\n                                - std           : probability \n\n            ---------------------------------------------------------------------------------------------------------------------------    \n                Fitts Law                                                                          DataFrame: ed.fitts_summary_stats\n            ---------------------------------------------------------------------------------------------------------------------------\n\n                participant                     : key \n                delta           - mean          : numeric       : average deviation in expects (fitts law) performance\n                                - std           : numeric       : std dev in expected (fitts law) performance\n                status          - mean          : categorical   : status (1=correct, 2=error, 3=too slow)\n                                - std           : numeric     \n                                \n            ===========================================================================================================================\n        \n"
     ]
    }
   ],
   "source": [
    "ed.clean_data_info()"
   ]
  },
  {
   "cell_type": "code",
   "execution_count": 5,
   "metadata": {},
   "outputs": [],
   "source": [
    "# ----- all categories descriptors -----x\n",
    "cats_demographics   = ['gender_a', 'handedness_a', 'education_a', 'age_group']\n",
    "cats_navon          = [('level_of_target', '')]\n",
    "\n",
    "# ---- add numerical descriptors ----x\n",
    "num_demographics = ['age_a','income_a', 'computer_hours_a', 'mean_reation_time_ms']\n",
    "num_nback = [('block_number', ''), ('score', 'mean'), ('score', 'std'), ('status', 'mean'), ('status', 'std'), ('miss', 'mean'), \n",
    "            ('miss', 'std'), ('false_alarm', 'mean'), ('false_alarm', 'std'), ('reaction_time_ms', 'mean'), ('reaction_time_ms', 'std')]\n",
    "num_navon = [('correct', 'mean'), ('correct',  'std'), ('too_slow', 'mean'), ('too_slow',  'std'), \n",
    "            ('reaction_time_ms', 'mean'), ('reaction_time_ms',  'std')]\n",
    "num_corsi = [('highest_span',  'max'), ('status', 'mean'), ('status',  'std')]\n",
    "num_fitts = [('delta', 'mean'), ('delta',  'std'), ('status', 'mean')]\n",
    "\n",
    "\n",
    "# ---- user selected menus ---x"
   ]
  },
  {
   "cell_type": "code",
   "execution_count": 20,
   "metadata": {},
   "outputs": [
    {
     "output_type": "execute_result",
     "data": {
      "text/plain": [
       "array([  0.,  10.,  20.,  30.,  40.,  50.,  60.,  70.,  80.,  90., 100.])"
      ]
     },
     "metadata": {},
     "execution_count": 20
    }
   ],
   "source": []
  },
  {
   "cell_type": "code",
   "execution_count": 421,
   "metadata": {
    "tags": []
   },
   "outputs": [
    {
     "output_type": "execute_result",
     "data": {
      "text/plain": [
       "  participant status participant reaction_time_ms               \\\n",
       "                           count             mean          std   \n",
       "0    100934.0      1           9      2913.666667  1901.246170   \n",
       "1    103322.0      1           8      1524.125000   714.072113   \n",
       "2    103322.0      2           1      7644.000000          NaN   \n",
       "3    107700.0      1           7      1640.857143   456.098465   \n",
       "4    107700.0      2           2      3401.500000  1221.173411   \n",
       "\n",
       "  perseverance_error not_perseverance_error percentages trials trials_2  \n",
       "                mean                   mean                              \n",
       "0                0.0                    0.0         0.9   0-10     10.0  \n",
       "1                0.0                    0.0         0.8   0-10     10.0  \n",
       "2                0.0                    1.0         0.1   0-10     10.0  \n",
       "3                0.0                    0.0         0.7   0-10     10.0  \n",
       "4                0.0                    1.0         0.2   0-10     10.0  "
      ],
      "text/html": "<div>\n<style scoped>\n    .dataframe tbody tr th:only-of-type {\n        vertical-align: middle;\n    }\n\n    .dataframe tbody tr th {\n        vertical-align: top;\n    }\n\n    .dataframe thead tr th {\n        text-align: left;\n    }\n</style>\n<table border=\"1\" class=\"dataframe\">\n  <thead>\n    <tr>\n      <th></th>\n      <th>participant</th>\n      <th>status</th>\n      <th>participant</th>\n      <th colspan=\"2\" halign=\"left\">reaction_time_ms</th>\n      <th>perseverance_error</th>\n      <th>not_perseverance_error</th>\n      <th>percentages</th>\n      <th>trials</th>\n      <th>trials_2</th>\n    </tr>\n    <tr>\n      <th></th>\n      <th></th>\n      <th></th>\n      <th>count</th>\n      <th>mean</th>\n      <th>std</th>\n      <th>mean</th>\n      <th>mean</th>\n      <th></th>\n      <th></th>\n      <th></th>\n    </tr>\n  </thead>\n  <tbody>\n    <tr>\n      <th>0</th>\n      <td>100934.0</td>\n      <td>1</td>\n      <td>9</td>\n      <td>2913.666667</td>\n      <td>1901.246170</td>\n      <td>0.0</td>\n      <td>0.0</td>\n      <td>0.9</td>\n      <td>0-10</td>\n      <td>10.0</td>\n    </tr>\n    <tr>\n      <th>1</th>\n      <td>103322.0</td>\n      <td>1</td>\n      <td>8</td>\n      <td>1524.125000</td>\n      <td>714.072113</td>\n      <td>0.0</td>\n      <td>0.0</td>\n      <td>0.8</td>\n      <td>0-10</td>\n      <td>10.0</td>\n    </tr>\n    <tr>\n      <th>2</th>\n      <td>103322.0</td>\n      <td>2</td>\n      <td>1</td>\n      <td>7644.000000</td>\n      <td>NaN</td>\n      <td>0.0</td>\n      <td>1.0</td>\n      <td>0.1</td>\n      <td>0-10</td>\n      <td>10.0</td>\n    </tr>\n    <tr>\n      <th>3</th>\n      <td>107700.0</td>\n      <td>1</td>\n      <td>7</td>\n      <td>1640.857143</td>\n      <td>456.098465</td>\n      <td>0.0</td>\n      <td>0.0</td>\n      <td>0.7</td>\n      <td>0-10</td>\n      <td>10.0</td>\n    </tr>\n    <tr>\n      <th>4</th>\n      <td>107700.0</td>\n      <td>2</td>\n      <td>2</td>\n      <td>3401.500000</td>\n      <td>1221.173411</td>\n      <td>0.0</td>\n      <td>1.0</td>\n      <td>0.2</td>\n      <td>0-10</td>\n      <td>10.0</td>\n    </tr>\n  </tbody>\n</table>\n</div>"
     },
     "metadata": {},
     "execution_count": 421
    }
   ],
   "source": [
    "# ---- base plots ----x\n",
    "\n",
    "# x < 25\n",
    "# 25 <= x < 50\n",
    "# 50 <= x < 75\n",
    "# 75 <= x \n",
    "\n",
    "# df.iloc[df.index <25, :]\n",
    "\n",
    "# ---- add trial number ----x\n",
    "xx = []; df = ed.raw.wcst_data\n",
    "[xx.append((i%100)+1) for i in range(df.shape[0])]\n",
    "df['trial_no'] = xx \n",
    "\n",
    "# ---- status==1 --> correct\n",
    "\n",
    "\n",
    "n_groups=4; n_groups=10\n",
    "t = np.linspace(0,100,num=n_groups+1).tolist(); c=0\n",
    "\n",
    "for tt in t[1:]:\n",
    "    c +=1\n",
    "    x = df.loc[df['trial_no'] < tt,].groupby(['participant', 'status']).agg({\n",
    "    'participant':              ['count'],\n",
    "    'reaction_time_ms':         ['mean', 'std'],\n",
    "    'perseverance_error':       ['mean'],\n",
    "    'not_perseverance_error':   ['mean']\n",
    "    }).reset_index()\n",
    "    x['percentages'] = x[('participant', 'count')]/tt\n",
    "    x['trials']      = str(round(t[c-1])) + '-' + str(round(t[c]))\n",
    "    x['trials_2']    = t[c]\n",
    "    if c==1:    data=x\n",
    "    else:       data=data.append(other=x)\n",
    "\n",
    "\n",
    "data.head()"
   ]
  },
  {
   "cell_type": "code",
   "execution_count": 494,
   "metadata": {},
   "outputs": [
    {
     "output_type": "execute_result",
     "data": {
      "text/plain": [
       "    participant status participant reaction_time_ms               \\\n",
       "                             count             mean          std   \n",
       "0      100934.0      1           9      2913.666667  1901.246170   \n",
       "1      103322.0      1           8      1524.125000   714.072113   \n",
       "2      103322.0      2           1      7644.000000          NaN   \n",
       "3      107700.0      1           7      1640.857143   456.098465   \n",
       "4      107700.0      2           2      3401.500000  1221.173411   \n",
       "..          ...    ...         ...              ...          ...   \n",
       "665    996407.0      1          64      1189.859375   482.186484   \n",
       "666    996407.0      2          35      1165.885714   468.933130   \n",
       "667    998593.0      1          64      2898.187500  1283.695631   \n",
       "668    998593.0      2          31      3669.064516  1744.578381   \n",
       "669    998593.0      3           4      8994.750000  2010.500000   \n",
       "\n",
       "    perseverance_error not_perseverance_error percentages  trials trials_2  \\\n",
       "                  mean                   mean                                \n",
       "0             0.000000               0.000000        0.90    0-10     10.0   \n",
       "1             0.000000               0.000000        0.80    0-10     10.0   \n",
       "2             0.000000               1.000000        0.10    0-10     10.0   \n",
       "3             0.000000               0.000000        0.70    0-10     10.0   \n",
       "4             0.000000               1.000000        0.20    0-10     10.0   \n",
       "..                 ...                    ...         ...     ...      ...   \n",
       "665           0.000000               0.000000        0.64  90-100    100.0   \n",
       "666           0.114286               0.885714        0.35  90-100    100.0   \n",
       "667           0.000000               0.000000        0.64  90-100    100.0   \n",
       "668           0.032258               0.967742        0.31  90-100    100.0   \n",
       "669           0.250000               0.750000        0.04  90-100    100.0   \n",
       "\n",
       "                   main_error main_error_color  \n",
       "                                                \n",
       "0    non perserverance errors            False  \n",
       "1    non perserverance errors            False  \n",
       "2    non perserverance errors            False  \n",
       "3    non perserverance errors            False  \n",
       "4    non perserverance errors            False  \n",
       "..                        ...              ...  \n",
       "665  non perserverance errors            False  \n",
       "666  non perserverance errors            False  \n",
       "667  non perserverance errors            False  \n",
       "668  non perserverance errors            False  \n",
       "669  non perserverance errors            False  \n",
       "\n",
       "[6292 rows x 12 columns]"
      ],
      "text/html": "<div>\n<style scoped>\n    .dataframe tbody tr th:only-of-type {\n        vertical-align: middle;\n    }\n\n    .dataframe tbody tr th {\n        vertical-align: top;\n    }\n\n    .dataframe thead tr th {\n        text-align: left;\n    }\n</style>\n<table border=\"1\" class=\"dataframe\">\n  <thead>\n    <tr>\n      <th></th>\n      <th>participant</th>\n      <th>status</th>\n      <th>participant</th>\n      <th colspan=\"2\" halign=\"left\">reaction_time_ms</th>\n      <th>perseverance_error</th>\n      <th>not_perseverance_error</th>\n      <th>percentages</th>\n      <th>trials</th>\n      <th>trials_2</th>\n      <th>main_error</th>\n      <th>main_error_color</th>\n    </tr>\n    <tr>\n      <th></th>\n      <th></th>\n      <th></th>\n      <th>count</th>\n      <th>mean</th>\n      <th>std</th>\n      <th>mean</th>\n      <th>mean</th>\n      <th></th>\n      <th></th>\n      <th></th>\n      <th></th>\n      <th></th>\n    </tr>\n  </thead>\n  <tbody>\n    <tr>\n      <th>0</th>\n      <td>100934.0</td>\n      <td>1</td>\n      <td>9</td>\n      <td>2913.666667</td>\n      <td>1901.246170</td>\n      <td>0.000000</td>\n      <td>0.000000</td>\n      <td>0.90</td>\n      <td>0-10</td>\n      <td>10.0</td>\n      <td>non perserverance errors</td>\n      <td>False</td>\n    </tr>\n    <tr>\n      <th>1</th>\n      <td>103322.0</td>\n      <td>1</td>\n      <td>8</td>\n      <td>1524.125000</td>\n      <td>714.072113</td>\n      <td>0.000000</td>\n      <td>0.000000</td>\n      <td>0.80</td>\n      <td>0-10</td>\n      <td>10.0</td>\n      <td>non perserverance errors</td>\n      <td>False</td>\n    </tr>\n    <tr>\n      <th>2</th>\n      <td>103322.0</td>\n      <td>2</td>\n      <td>1</td>\n      <td>7644.000000</td>\n      <td>NaN</td>\n      <td>0.000000</td>\n      <td>1.000000</td>\n      <td>0.10</td>\n      <td>0-10</td>\n      <td>10.0</td>\n      <td>non perserverance errors</td>\n      <td>False</td>\n    </tr>\n    <tr>\n      <th>3</th>\n      <td>107700.0</td>\n      <td>1</td>\n      <td>7</td>\n      <td>1640.857143</td>\n      <td>456.098465</td>\n      <td>0.000000</td>\n      <td>0.000000</td>\n      <td>0.70</td>\n      <td>0-10</td>\n      <td>10.0</td>\n      <td>non perserverance errors</td>\n      <td>False</td>\n    </tr>\n    <tr>\n      <th>4</th>\n      <td>107700.0</td>\n      <td>2</td>\n      <td>2</td>\n      <td>3401.500000</td>\n      <td>1221.173411</td>\n      <td>0.000000</td>\n      <td>1.000000</td>\n      <td>0.20</td>\n      <td>0-10</td>\n      <td>10.0</td>\n      <td>non perserverance errors</td>\n      <td>False</td>\n    </tr>\n    <tr>\n      <th>...</th>\n      <td>...</td>\n      <td>...</td>\n      <td>...</td>\n      <td>...</td>\n      <td>...</td>\n      <td>...</td>\n      <td>...</td>\n      <td>...</td>\n      <td>...</td>\n      <td>...</td>\n      <td>...</td>\n      <td>...</td>\n    </tr>\n    <tr>\n      <th>665</th>\n      <td>996407.0</td>\n      <td>1</td>\n      <td>64</td>\n      <td>1189.859375</td>\n      <td>482.186484</td>\n      <td>0.000000</td>\n      <td>0.000000</td>\n      <td>0.64</td>\n      <td>90-100</td>\n      <td>100.0</td>\n      <td>non perserverance errors</td>\n      <td>False</td>\n    </tr>\n    <tr>\n      <th>666</th>\n      <td>996407.0</td>\n      <td>2</td>\n      <td>35</td>\n      <td>1165.885714</td>\n      <td>468.933130</td>\n      <td>0.114286</td>\n      <td>0.885714</td>\n      <td>0.35</td>\n      <td>90-100</td>\n      <td>100.0</td>\n      <td>non perserverance errors</td>\n      <td>False</td>\n    </tr>\n    <tr>\n      <th>667</th>\n      <td>998593.0</td>\n      <td>1</td>\n      <td>64</td>\n      <td>2898.187500</td>\n      <td>1283.695631</td>\n      <td>0.000000</td>\n      <td>0.000000</td>\n      <td>0.64</td>\n      <td>90-100</td>\n      <td>100.0</td>\n      <td>non perserverance errors</td>\n      <td>False</td>\n    </tr>\n    <tr>\n      <th>668</th>\n      <td>998593.0</td>\n      <td>2</td>\n      <td>31</td>\n      <td>3669.064516</td>\n      <td>1744.578381</td>\n      <td>0.032258</td>\n      <td>0.967742</td>\n      <td>0.31</td>\n      <td>90-100</td>\n      <td>100.0</td>\n      <td>non perserverance errors</td>\n      <td>False</td>\n    </tr>\n    <tr>\n      <th>669</th>\n      <td>998593.0</td>\n      <td>3</td>\n      <td>4</td>\n      <td>8994.750000</td>\n      <td>2010.500000</td>\n      <td>0.250000</td>\n      <td>0.750000</td>\n      <td>0.04</td>\n      <td>90-100</td>\n      <td>100.0</td>\n      <td>non perserverance errors</td>\n      <td>False</td>\n    </tr>\n  </tbody>\n</table>\n<p>6292 rows × 12 columns</p>\n</div>"
     },
     "metadata": {},
     "execution_count": 494
    }
   ],
   "source": [
    " \n",
    "# if x>0 --> perseverance_error > not_perseverance_error --> main error=perseverance_error\n",
    "data['main_error'] = np.where(data['perseverance_error'] - data['not_perseverance_error'] > 0, 'perserverance errors', 'non perserverance errors')\n",
    "data"
   ]
  },
  {
   "source": [],
   "cell_type": "code",
   "metadata": {},
   "execution_count": 501,
   "outputs": [
    {
     "output_type": "execute_result",
     "data": {
      "text/plain": [
       "['steelblue',\n",
       " 'steelblue',\n",
       " 'steelblue',\n",
       " 'steelblue',\n",
       " 'steelblue',\n",
       " 'steelblue',\n",
       " 'steelblue',\n",
       " 'steelblue',\n",
       " 'steelblue',\n",
       " 'steelblue']"
      ]
     },
     "metadata": {},
     "execution_count": 501
    }
   ]
  },
  {
   "cell_type": "code",
   "execution_count": 510,
   "metadata": {},
   "outputs": [
    {
     "output_type": "display_data",
     "data": {
      "application/vnd.plotly.v1+json": {
       "config": {
        "plotlyServerURL": "https://plot.ly"
       },
       "data": [
        {
         "marker": {
          "color": [
           "steelblue",
           "steelblue",
           "steelblue",
           "steelblue",
           "steelblue",
           "steelblue",
           "steelblue",
           "steelblue",
           "steelblue",
           "steelblue"
          ],
          "size": [
           26.016666666666666,
           22.265625,
           21.9396,
           20.4503125,
           20.027837837837836,
           19.288,
           18.74709090909091,
           19.352295081967213,
           19.558382352941177,
           19.21871794871795
          ]
         },
         "mode": "lines+markers",
         "type": "scatter",
         "x": [
          10,
          20,
          30,
          40,
          50,
          60,
          70,
          80,
          90,
          100
         ],
         "y": [
          0.9,
          0.8,
          0.8333333333333334,
          0.8,
          0.74,
          0.75,
          0.7857142857142857,
          0.7625,
          0.7555555555555555,
          0.78
         ]
        },
        {
         "marker": {
          "color": [
           "steelblue",
           "steelblue",
           "steelblue",
           "steelblue",
           "steelblue",
           "steelblue",
           "steelblue",
           "steelblue",
           "steelblue",
           "steelblue"
          ],
          "size": [
           22.29,
           22.29,
           13.293333333333333,
           13.293333333333333,
           13.293333333333333,
           13.293333333333333,
           13.293333333333333,
           13.293333333333333,
           13.293333333333333,
           14.583076923076923
          ]
         },
         "mode": "lines+markers",
         "type": "scatter",
         "x": [
          10,
          20,
          30,
          40,
          50,
          60,
          70,
          80,
          90,
          100
         ],
         "y": [
          0.1,
          0.05,
          0.2,
          0.15,
          0.12,
          0.1,
          0.08571428571428572,
          0.075,
          0.06666666666666667,
          0.13
         ]
        },
        {
         "marker": {
          "color": [
           "steelblue",
           "steelblue",
           "steelblue",
           "steelblue",
           "steelblue",
           "steelblue",
           "steelblue",
           "steelblue",
           "steelblue",
           "steelblue"
          ],
          "size": [
           15.4825,
           17.0325,
           17.62857142857143,
           17.515714285714285,
           16.87514285714286,
           16.15590909090909,
           15.145,
           14.884032258064517,
           14.735833333333332,
           14.266219512195121
          ]
         },
         "mode": "lines+markers",
         "type": "scatter",
         "x": [
          10,
          20,
          30,
          40,
          50,
          60,
          70,
          80,
          90,
          100
         ],
         "y": [
          0.8,
          0.8,
          0.7,
          0.7,
          0.7,
          0.7333333333333333,
          0.7714285714285715,
          0.775,
          0.8,
          0.82
         ]
        },
        {
         "marker": {
          "color": [
           "steelblue",
           "steelblue",
           "steelblue",
           "steelblue",
           "steelblue",
           "steelblue",
           "steelblue",
           "steelblue",
           "steelblue",
           "steelblue"
          ],
          "size": [
           10.048333333333334,
           10.587857142857143,
           10.301363636363638,
           11.158666666666665,
           10.88162162162162,
           10.718181818181817,
           9.896296296296297,
           9.784426229508197,
           9.533521126760563,
           9.215802469135802
          ]
         },
         "mode": "lines+markers",
         "type": "scatter",
         "x": [
          10,
          20,
          30,
          40,
          50,
          60,
          70,
          80,
          90,
          100
         ],
         "y": [
          0.6,
          0.7,
          0.7333333333333333,
          0.75,
          0.74,
          0.7333333333333333,
          0.7714285714285715,
          0.7625,
          0.7888888888888889,
          0.81
         ]
        },
        {
         "marker": {
          "color": [
           "steelblue",
           "steelblue",
           "steelblue",
           "steelblue",
           "steelblue",
           "steelblue",
           "steelblue",
           "steelblue",
           "steelblue",
           "steelblue"
          ],
          "size": [
           19.15142857142857,
           19.152666666666665,
           18.03608695652174,
           16.91103448275862,
           17.132121212121213,
           17.28375,
           16.4548,
           16.43,
           16.22,
           15.67945945945946
          ]
         },
         "mode": "lines+markers",
         "type": "scatter",
         "x": [
          10,
          20,
          30,
          40,
          50,
          60,
          70,
          80,
          90,
          100
         ],
         "y": [
          0.7,
          0.75,
          0.7666666666666667,
          0.725,
          0.66,
          0.6666666666666666,
          0.7142857142857143,
          0.675,
          0.7111111111111111,
          0.74
         ]
        }
       ],
       "layout": {
        "template": {
         "data": {
          "bar": [
           {
            "error_x": {
             "color": "#2a3f5f"
            },
            "error_y": {
             "color": "#2a3f5f"
            },
            "marker": {
             "line": {
              "color": "#E5ECF6",
              "width": 0.5
             }
            },
            "type": "bar"
           }
          ],
          "barpolar": [
           {
            "marker": {
             "line": {
              "color": "#E5ECF6",
              "width": 0.5
             }
            },
            "type": "barpolar"
           }
          ],
          "carpet": [
           {
            "aaxis": {
             "endlinecolor": "#2a3f5f",
             "gridcolor": "white",
             "linecolor": "white",
             "minorgridcolor": "white",
             "startlinecolor": "#2a3f5f"
            },
            "baxis": {
             "endlinecolor": "#2a3f5f",
             "gridcolor": "white",
             "linecolor": "white",
             "minorgridcolor": "white",
             "startlinecolor": "#2a3f5f"
            },
            "type": "carpet"
           }
          ],
          "choropleth": [
           {
            "colorbar": {
             "outlinewidth": 0,
             "ticks": ""
            },
            "type": "choropleth"
           }
          ],
          "contour": [
           {
            "colorbar": {
             "outlinewidth": 0,
             "ticks": ""
            },
            "colorscale": [
             [
              0,
              "#0d0887"
             ],
             [
              0.1111111111111111,
              "#46039f"
             ],
             [
              0.2222222222222222,
              "#7201a8"
             ],
             [
              0.3333333333333333,
              "#9c179e"
             ],
             [
              0.4444444444444444,
              "#bd3786"
             ],
             [
              0.5555555555555556,
              "#d8576b"
             ],
             [
              0.6666666666666666,
              "#ed7953"
             ],
             [
              0.7777777777777778,
              "#fb9f3a"
             ],
             [
              0.8888888888888888,
              "#fdca26"
             ],
             [
              1,
              "#f0f921"
             ]
            ],
            "type": "contour"
           }
          ],
          "contourcarpet": [
           {
            "colorbar": {
             "outlinewidth": 0,
             "ticks": ""
            },
            "type": "contourcarpet"
           }
          ],
          "heatmap": [
           {
            "colorbar": {
             "outlinewidth": 0,
             "ticks": ""
            },
            "colorscale": [
             [
              0,
              "#0d0887"
             ],
             [
              0.1111111111111111,
              "#46039f"
             ],
             [
              0.2222222222222222,
              "#7201a8"
             ],
             [
              0.3333333333333333,
              "#9c179e"
             ],
             [
              0.4444444444444444,
              "#bd3786"
             ],
             [
              0.5555555555555556,
              "#d8576b"
             ],
             [
              0.6666666666666666,
              "#ed7953"
             ],
             [
              0.7777777777777778,
              "#fb9f3a"
             ],
             [
              0.8888888888888888,
              "#fdca26"
             ],
             [
              1,
              "#f0f921"
             ]
            ],
            "type": "heatmap"
           }
          ],
          "heatmapgl": [
           {
            "colorbar": {
             "outlinewidth": 0,
             "ticks": ""
            },
            "colorscale": [
             [
              0,
              "#0d0887"
             ],
             [
              0.1111111111111111,
              "#46039f"
             ],
             [
              0.2222222222222222,
              "#7201a8"
             ],
             [
              0.3333333333333333,
              "#9c179e"
             ],
             [
              0.4444444444444444,
              "#bd3786"
             ],
             [
              0.5555555555555556,
              "#d8576b"
             ],
             [
              0.6666666666666666,
              "#ed7953"
             ],
             [
              0.7777777777777778,
              "#fb9f3a"
             ],
             [
              0.8888888888888888,
              "#fdca26"
             ],
             [
              1,
              "#f0f921"
             ]
            ],
            "type": "heatmapgl"
           }
          ],
          "histogram": [
           {
            "marker": {
             "colorbar": {
              "outlinewidth": 0,
              "ticks": ""
             }
            },
            "type": "histogram"
           }
          ],
          "histogram2d": [
           {
            "colorbar": {
             "outlinewidth": 0,
             "ticks": ""
            },
            "colorscale": [
             [
              0,
              "#0d0887"
             ],
             [
              0.1111111111111111,
              "#46039f"
             ],
             [
              0.2222222222222222,
              "#7201a8"
             ],
             [
              0.3333333333333333,
              "#9c179e"
             ],
             [
              0.4444444444444444,
              "#bd3786"
             ],
             [
              0.5555555555555556,
              "#d8576b"
             ],
             [
              0.6666666666666666,
              "#ed7953"
             ],
             [
              0.7777777777777778,
              "#fb9f3a"
             ],
             [
              0.8888888888888888,
              "#fdca26"
             ],
             [
              1,
              "#f0f921"
             ]
            ],
            "type": "histogram2d"
           }
          ],
          "histogram2dcontour": [
           {
            "colorbar": {
             "outlinewidth": 0,
             "ticks": ""
            },
            "colorscale": [
             [
              0,
              "#0d0887"
             ],
             [
              0.1111111111111111,
              "#46039f"
             ],
             [
              0.2222222222222222,
              "#7201a8"
             ],
             [
              0.3333333333333333,
              "#9c179e"
             ],
             [
              0.4444444444444444,
              "#bd3786"
             ],
             [
              0.5555555555555556,
              "#d8576b"
             ],
             [
              0.6666666666666666,
              "#ed7953"
             ],
             [
              0.7777777777777778,
              "#fb9f3a"
             ],
             [
              0.8888888888888888,
              "#fdca26"
             ],
             [
              1,
              "#f0f921"
             ]
            ],
            "type": "histogram2dcontour"
           }
          ],
          "mesh3d": [
           {
            "colorbar": {
             "outlinewidth": 0,
             "ticks": ""
            },
            "type": "mesh3d"
           }
          ],
          "parcoords": [
           {
            "line": {
             "colorbar": {
              "outlinewidth": 0,
              "ticks": ""
             }
            },
            "type": "parcoords"
           }
          ],
          "pie": [
           {
            "automargin": true,
            "type": "pie"
           }
          ],
          "scatter": [
           {
            "marker": {
             "colorbar": {
              "outlinewidth": 0,
              "ticks": ""
             }
            },
            "type": "scatter"
           }
          ],
          "scatter3d": [
           {
            "line": {
             "colorbar": {
              "outlinewidth": 0,
              "ticks": ""
             }
            },
            "marker": {
             "colorbar": {
              "outlinewidth": 0,
              "ticks": ""
             }
            },
            "type": "scatter3d"
           }
          ],
          "scattercarpet": [
           {
            "marker": {
             "colorbar": {
              "outlinewidth": 0,
              "ticks": ""
             }
            },
            "type": "scattercarpet"
           }
          ],
          "scattergeo": [
           {
            "marker": {
             "colorbar": {
              "outlinewidth": 0,
              "ticks": ""
             }
            },
            "type": "scattergeo"
           }
          ],
          "scattergl": [
           {
            "marker": {
             "colorbar": {
              "outlinewidth": 0,
              "ticks": ""
             }
            },
            "type": "scattergl"
           }
          ],
          "scattermapbox": [
           {
            "marker": {
             "colorbar": {
              "outlinewidth": 0,
              "ticks": ""
             }
            },
            "type": "scattermapbox"
           }
          ],
          "scatterpolar": [
           {
            "marker": {
             "colorbar": {
              "outlinewidth": 0,
              "ticks": ""
             }
            },
            "type": "scatterpolar"
           }
          ],
          "scatterpolargl": [
           {
            "marker": {
             "colorbar": {
              "outlinewidth": 0,
              "ticks": ""
             }
            },
            "type": "scatterpolargl"
           }
          ],
          "scatterternary": [
           {
            "marker": {
             "colorbar": {
              "outlinewidth": 0,
              "ticks": ""
             }
            },
            "type": "scatterternary"
           }
          ],
          "surface": [
           {
            "colorbar": {
             "outlinewidth": 0,
             "ticks": ""
            },
            "colorscale": [
             [
              0,
              "#0d0887"
             ],
             [
              0.1111111111111111,
              "#46039f"
             ],
             [
              0.2222222222222222,
              "#7201a8"
             ],
             [
              0.3333333333333333,
              "#9c179e"
             ],
             [
              0.4444444444444444,
              "#bd3786"
             ],
             [
              0.5555555555555556,
              "#d8576b"
             ],
             [
              0.6666666666666666,
              "#ed7953"
             ],
             [
              0.7777777777777778,
              "#fb9f3a"
             ],
             [
              0.8888888888888888,
              "#fdca26"
             ],
             [
              1,
              "#f0f921"
             ]
            ],
            "type": "surface"
           }
          ],
          "table": [
           {
            "cells": {
             "fill": {
              "color": "#EBF0F8"
             },
             "line": {
              "color": "white"
             }
            },
            "header": {
             "fill": {
              "color": "#C8D4E3"
             },
             "line": {
              "color": "white"
             }
            },
            "type": "table"
           }
          ]
         },
         "layout": {
          "annotationdefaults": {
           "arrowcolor": "#2a3f5f",
           "arrowhead": 0,
           "arrowwidth": 1
          },
          "autotypenumbers": "strict",
          "coloraxis": {
           "colorbar": {
            "outlinewidth": 0,
            "ticks": ""
           }
          },
          "colorscale": {
           "diverging": [
            [
             0,
             "#8e0152"
            ],
            [
             0.1,
             "#c51b7d"
            ],
            [
             0.2,
             "#de77ae"
            ],
            [
             0.3,
             "#f1b6da"
            ],
            [
             0.4,
             "#fde0ef"
            ],
            [
             0.5,
             "#f7f7f7"
            ],
            [
             0.6,
             "#e6f5d0"
            ],
            [
             0.7,
             "#b8e186"
            ],
            [
             0.8,
             "#7fbc41"
            ],
            [
             0.9,
             "#4d9221"
            ],
            [
             1,
             "#276419"
            ]
           ],
           "sequential": [
            [
             0,
             "#0d0887"
            ],
            [
             0.1111111111111111,
             "#46039f"
            ],
            [
             0.2222222222222222,
             "#7201a8"
            ],
            [
             0.3333333333333333,
             "#9c179e"
            ],
            [
             0.4444444444444444,
             "#bd3786"
            ],
            [
             0.5555555555555556,
             "#d8576b"
            ],
            [
             0.6666666666666666,
             "#ed7953"
            ],
            [
             0.7777777777777778,
             "#fb9f3a"
            ],
            [
             0.8888888888888888,
             "#fdca26"
            ],
            [
             1,
             "#f0f921"
            ]
           ],
           "sequentialminus": [
            [
             0,
             "#0d0887"
            ],
            [
             0.1111111111111111,
             "#46039f"
            ],
            [
             0.2222222222222222,
             "#7201a8"
            ],
            [
             0.3333333333333333,
             "#9c179e"
            ],
            [
             0.4444444444444444,
             "#bd3786"
            ],
            [
             0.5555555555555556,
             "#d8576b"
            ],
            [
             0.6666666666666666,
             "#ed7953"
            ],
            [
             0.7777777777777778,
             "#fb9f3a"
            ],
            [
             0.8888888888888888,
             "#fdca26"
            ],
            [
             1,
             "#f0f921"
            ]
           ]
          },
          "colorway": [
           "#636efa",
           "#EF553B",
           "#00cc96",
           "#ab63fa",
           "#FFA15A",
           "#19d3f3",
           "#FF6692",
           "#B6E880",
           "#FF97FF",
           "#FECB52"
          ],
          "font": {
           "color": "#2a3f5f"
          },
          "geo": {
           "bgcolor": "white",
           "lakecolor": "white",
           "landcolor": "#E5ECF6",
           "showlakes": true,
           "showland": true,
           "subunitcolor": "white"
          },
          "hoverlabel": {
           "align": "left"
          },
          "hovermode": "closest",
          "mapbox": {
           "style": "light"
          },
          "paper_bgcolor": "white",
          "plot_bgcolor": "#E5ECF6",
          "polar": {
           "angularaxis": {
            "gridcolor": "white",
            "linecolor": "white",
            "ticks": ""
           },
           "bgcolor": "#E5ECF6",
           "radialaxis": {
            "gridcolor": "white",
            "linecolor": "white",
            "ticks": ""
           }
          },
          "scene": {
           "xaxis": {
            "backgroundcolor": "#E5ECF6",
            "gridcolor": "white",
            "gridwidth": 2,
            "linecolor": "white",
            "showbackground": true,
            "ticks": "",
            "zerolinecolor": "white"
           },
           "yaxis": {
            "backgroundcolor": "#E5ECF6",
            "gridcolor": "white",
            "gridwidth": 2,
            "linecolor": "white",
            "showbackground": true,
            "ticks": "",
            "zerolinecolor": "white"
           },
           "zaxis": {
            "backgroundcolor": "#E5ECF6",
            "gridcolor": "white",
            "gridwidth": 2,
            "linecolor": "white",
            "showbackground": true,
            "ticks": "",
            "zerolinecolor": "white"
           }
          },
          "shapedefaults": {
           "line": {
            "color": "#2a3f5f"
           }
          },
          "ternary": {
           "aaxis": {
            "gridcolor": "white",
            "linecolor": "white",
            "ticks": ""
           },
           "baxis": {
            "gridcolor": "white",
            "linecolor": "white",
            "ticks": ""
           },
           "bgcolor": "#E5ECF6",
           "caxis": {
            "gridcolor": "white",
            "linecolor": "white",
            "ticks": ""
           }
          },
          "title": {
           "x": 0.05
          },
          "xaxis": {
           "automargin": true,
           "gridcolor": "white",
           "linecolor": "white",
           "ticks": "",
           "title": {
            "standoff": 15
           },
           "zerolinecolor": "white",
           "zerolinewidth": 2
          },
          "yaxis": {
           "automargin": true,
           "gridcolor": "white",
           "linecolor": "white",
           "ticks": "",
           "title": {
            "standoff": 15
           },
           "zerolinecolor": "white",
           "zerolinewidth": 2
          }
         }
        }
       }
      }
     },
     "metadata": {}
    }
   ],
   "source": [
    "import plotly.graph_objects as go\n",
    "colours={'perserverance errors':'darkred', 'non perserverance errors': 'steelblue'}\n",
    "\n",
    "\n",
    "\n",
    "traces = []\n",
    "# for participant in data[('participant', '')].unique():\n",
    "for participant in np.random.choice(data[('participant', '')].unique(), 5):\n",
    "    df    = data.loc[(data[('participant', '')] == participant) & (data['status']==1), ['trials_2', 'percentages', 'main_error', 'reaction_time_ms']]\n",
    "    trace = go.Scatter(x=df.trials_2, y=df.percentages, mode='lines+markers', marker=dict(\n",
    "        size=df[('reaction_time_ms','mean')]/100,\n",
    "        color=[colours[i] for i in df.main_error]\n",
    "        ))\n",
    "    traces.append(trace)\n",
    "fig = go.Figure(data=traces)\n",
    "fig.show()"
   ]
  },
  {
   "cell_type": "code",
   "execution_count": 390,
   "metadata": {},
   "outputs": [
    {
     "output_type": "display_data",
     "data": {
      "application/vnd.plotly.v1+json": {
       "config": {
        "plotlyServerURL": "https://plot.ly"
       },
       "data": [
        {
         "error_x": {
          "array": [
           2667.06219098934,
           2257.0219378840275,
           2144.175656555797,
           1996.620944672512
          ],
          "arrayminus": [
           1242.5568566297077,
           1067.9304430683535,
           937.2704972903564,
           777.6262463387237
          ],
          "symmetric": false,
          "type": "data"
         },
         "mode": "markers",
         "type": "scatter",
         "x": [
          1954.8095238095239,
          1662.4761904761904,
          1540.7230769230769,
          1387.123595505618
         ],
         "y": [
          0.84,
          0.84,
          0.8666666666666667,
          0.89
         ]
        },
        {
         "error_x": {
          "array": [
           2252.6664394824656,
           2235.601662037332,
           2164.4642840420242,
           2003.5117493169591
          ],
          "arrayminus": [
           783.4335605175345,
           926.1544355236438,
           755.3134937357535,
           643.1161576597851
          ],
          "symmetric": false,
          "type": "data"
         },
         "mode": "markers",
         "type": "scatter",
         "x": [
          1518.05,
          1580.878048780488,
          1459.888888888889,
          1323.3139534883721
         ],
         "y": [
          0.8,
          0.82,
          0.84,
          0.86
         ]
        },
        {
         "error_x": {
          "array": [
           2225.6907870652667,
           2485.0413085775017,
           2349.55070224439,
           2174.203549689339
          ],
          "arrayminus": [
           1347.9455765710968,
           1018.1253580891647,
           982.2365317981634,
           943.6274362261539
          ],
          "symmetric": false,
          "type": "data"
         },
         "mode": "markers",
         "type": "scatter",
         "x": [
          1786.8181818181818,
          1751.5833333333333,
          1665.8936170212767,
          1558.9154929577464
         ],
         "y": [
          0.44,
          0.48,
          0.6266666666666667,
          0.71
         ]
        },
        {
         "error_x": {
          "array": [
           4785.873732488725,
           5961.230050550052,
           7139.50051866134,
           7475.02197117638
          ],
          "arrayminus": [
           3590.126267511275,
           3123.9128065928053,
           3313.4406578092476,
           3294.97802882362
          ],
          "symmetric": false,
          "type": "data"
         },
         "mode": "markers",
         "type": "scatter",
         "x": [
          4188,
          4542.571428571428,
          5226.470588235294,
          5385
         ],
         "y": [
          0.12,
          0.14,
          0.22666666666666666,
          0.26
         ]
        },
        {
         "error_x": {
          "array": [
           1773.4931878097939,
           2070.388406422763,
           2365.158459820437,
           2224.7823692592883
          ],
          "arrayminus": [
           1048.221097904492,
           950.4687364343794,
           780.0779038159264,
           715.296578109133
          ],
          "symmetric": false,
          "type": "data"
         },
         "mode": "markers",
         "type": "scatter",
         "x": [
          1410.857142857143,
          1510.4285714285713,
          1572.6181818181817,
          1470.0394736842106
         ],
         "y": [
          0.56,
          0.7,
          0.7333333333333333,
          0.76
         ]
        }
       ],
       "layout": {
        "template": {
         "data": {
          "bar": [
           {
            "error_x": {
             "color": "#2a3f5f"
            },
            "error_y": {
             "color": "#2a3f5f"
            },
            "marker": {
             "line": {
              "color": "#E5ECF6",
              "width": 0.5
             }
            },
            "type": "bar"
           }
          ],
          "barpolar": [
           {
            "marker": {
             "line": {
              "color": "#E5ECF6",
              "width": 0.5
             }
            },
            "type": "barpolar"
           }
          ],
          "carpet": [
           {
            "aaxis": {
             "endlinecolor": "#2a3f5f",
             "gridcolor": "white",
             "linecolor": "white",
             "minorgridcolor": "white",
             "startlinecolor": "#2a3f5f"
            },
            "baxis": {
             "endlinecolor": "#2a3f5f",
             "gridcolor": "white",
             "linecolor": "white",
             "minorgridcolor": "white",
             "startlinecolor": "#2a3f5f"
            },
            "type": "carpet"
           }
          ],
          "choropleth": [
           {
            "colorbar": {
             "outlinewidth": 0,
             "ticks": ""
            },
            "type": "choropleth"
           }
          ],
          "contour": [
           {
            "colorbar": {
             "outlinewidth": 0,
             "ticks": ""
            },
            "colorscale": [
             [
              0,
              "#0d0887"
             ],
             [
              0.1111111111111111,
              "#46039f"
             ],
             [
              0.2222222222222222,
              "#7201a8"
             ],
             [
              0.3333333333333333,
              "#9c179e"
             ],
             [
              0.4444444444444444,
              "#bd3786"
             ],
             [
              0.5555555555555556,
              "#d8576b"
             ],
             [
              0.6666666666666666,
              "#ed7953"
             ],
             [
              0.7777777777777778,
              "#fb9f3a"
             ],
             [
              0.8888888888888888,
              "#fdca26"
             ],
             [
              1,
              "#f0f921"
             ]
            ],
            "type": "contour"
           }
          ],
          "contourcarpet": [
           {
            "colorbar": {
             "outlinewidth": 0,
             "ticks": ""
            },
            "type": "contourcarpet"
           }
          ],
          "heatmap": [
           {
            "colorbar": {
             "outlinewidth": 0,
             "ticks": ""
            },
            "colorscale": [
             [
              0,
              "#0d0887"
             ],
             [
              0.1111111111111111,
              "#46039f"
             ],
             [
              0.2222222222222222,
              "#7201a8"
             ],
             [
              0.3333333333333333,
              "#9c179e"
             ],
             [
              0.4444444444444444,
              "#bd3786"
             ],
             [
              0.5555555555555556,
              "#d8576b"
             ],
             [
              0.6666666666666666,
              "#ed7953"
             ],
             [
              0.7777777777777778,
              "#fb9f3a"
             ],
             [
              0.8888888888888888,
              "#fdca26"
             ],
             [
              1,
              "#f0f921"
             ]
            ],
            "type": "heatmap"
           }
          ],
          "heatmapgl": [
           {
            "colorbar": {
             "outlinewidth": 0,
             "ticks": ""
            },
            "colorscale": [
             [
              0,
              "#0d0887"
             ],
             [
              0.1111111111111111,
              "#46039f"
             ],
             [
              0.2222222222222222,
              "#7201a8"
             ],
             [
              0.3333333333333333,
              "#9c179e"
             ],
             [
              0.4444444444444444,
              "#bd3786"
             ],
             [
              0.5555555555555556,
              "#d8576b"
             ],
             [
              0.6666666666666666,
              "#ed7953"
             ],
             [
              0.7777777777777778,
              "#fb9f3a"
             ],
             [
              0.8888888888888888,
              "#fdca26"
             ],
             [
              1,
              "#f0f921"
             ]
            ],
            "type": "heatmapgl"
           }
          ],
          "histogram": [
           {
            "marker": {
             "colorbar": {
              "outlinewidth": 0,
              "ticks": ""
             }
            },
            "type": "histogram"
           }
          ],
          "histogram2d": [
           {
            "colorbar": {
             "outlinewidth": 0,
             "ticks": ""
            },
            "colorscale": [
             [
              0,
              "#0d0887"
             ],
             [
              0.1111111111111111,
              "#46039f"
             ],
             [
              0.2222222222222222,
              "#7201a8"
             ],
             [
              0.3333333333333333,
              "#9c179e"
             ],
             [
              0.4444444444444444,
              "#bd3786"
             ],
             [
              0.5555555555555556,
              "#d8576b"
             ],
             [
              0.6666666666666666,
              "#ed7953"
             ],
             [
              0.7777777777777778,
              "#fb9f3a"
             ],
             [
              0.8888888888888888,
              "#fdca26"
             ],
             [
              1,
              "#f0f921"
             ]
            ],
            "type": "histogram2d"
           }
          ],
          "histogram2dcontour": [
           {
            "colorbar": {
             "outlinewidth": 0,
             "ticks": ""
            },
            "colorscale": [
             [
              0,
              "#0d0887"
             ],
             [
              0.1111111111111111,
              "#46039f"
             ],
             [
              0.2222222222222222,
              "#7201a8"
             ],
             [
              0.3333333333333333,
              "#9c179e"
             ],
             [
              0.4444444444444444,
              "#bd3786"
             ],
             [
              0.5555555555555556,
              "#d8576b"
             ],
             [
              0.6666666666666666,
              "#ed7953"
             ],
             [
              0.7777777777777778,
              "#fb9f3a"
             ],
             [
              0.8888888888888888,
              "#fdca26"
             ],
             [
              1,
              "#f0f921"
             ]
            ],
            "type": "histogram2dcontour"
           }
          ],
          "mesh3d": [
           {
            "colorbar": {
             "outlinewidth": 0,
             "ticks": ""
            },
            "type": "mesh3d"
           }
          ],
          "parcoords": [
           {
            "line": {
             "colorbar": {
              "outlinewidth": 0,
              "ticks": ""
             }
            },
            "type": "parcoords"
           }
          ],
          "pie": [
           {
            "automargin": true,
            "type": "pie"
           }
          ],
          "scatter": [
           {
            "marker": {
             "colorbar": {
              "outlinewidth": 0,
              "ticks": ""
             }
            },
            "type": "scatter"
           }
          ],
          "scatter3d": [
           {
            "line": {
             "colorbar": {
              "outlinewidth": 0,
              "ticks": ""
             }
            },
            "marker": {
             "colorbar": {
              "outlinewidth": 0,
              "ticks": ""
             }
            },
            "type": "scatter3d"
           }
          ],
          "scattercarpet": [
           {
            "marker": {
             "colorbar": {
              "outlinewidth": 0,
              "ticks": ""
             }
            },
            "type": "scattercarpet"
           }
          ],
          "scattergeo": [
           {
            "marker": {
             "colorbar": {
              "outlinewidth": 0,
              "ticks": ""
             }
            },
            "type": "scattergeo"
           }
          ],
          "scattergl": [
           {
            "marker": {
             "colorbar": {
              "outlinewidth": 0,
              "ticks": ""
             }
            },
            "type": "scattergl"
           }
          ],
          "scattermapbox": [
           {
            "marker": {
             "colorbar": {
              "outlinewidth": 0,
              "ticks": ""
             }
            },
            "type": "scattermapbox"
           }
          ],
          "scatterpolar": [
           {
            "marker": {
             "colorbar": {
              "outlinewidth": 0,
              "ticks": ""
             }
            },
            "type": "scatterpolar"
           }
          ],
          "scatterpolargl": [
           {
            "marker": {
             "colorbar": {
              "outlinewidth": 0,
              "ticks": ""
             }
            },
            "type": "scatterpolargl"
           }
          ],
          "scatterternary": [
           {
            "marker": {
             "colorbar": {
              "outlinewidth": 0,
              "ticks": ""
             }
            },
            "type": "scatterternary"
           }
          ],
          "surface": [
           {
            "colorbar": {
             "outlinewidth": 0,
             "ticks": ""
            },
            "colorscale": [
             [
              0,
              "#0d0887"
             ],
             [
              0.1111111111111111,
              "#46039f"
             ],
             [
              0.2222222222222222,
              "#7201a8"
             ],
             [
              0.3333333333333333,
              "#9c179e"
             ],
             [
              0.4444444444444444,
              "#bd3786"
             ],
             [
              0.5555555555555556,
              "#d8576b"
             ],
             [
              0.6666666666666666,
              "#ed7953"
             ],
             [
              0.7777777777777778,
              "#fb9f3a"
             ],
             [
              0.8888888888888888,
              "#fdca26"
             ],
             [
              1,
              "#f0f921"
             ]
            ],
            "type": "surface"
           }
          ],
          "table": [
           {
            "cells": {
             "fill": {
              "color": "#EBF0F8"
             },
             "line": {
              "color": "white"
             }
            },
            "header": {
             "fill": {
              "color": "#C8D4E3"
             },
             "line": {
              "color": "white"
             }
            },
            "type": "table"
           }
          ]
         },
         "layout": {
          "annotationdefaults": {
           "arrowcolor": "#2a3f5f",
           "arrowhead": 0,
           "arrowwidth": 1
          },
          "autotypenumbers": "strict",
          "coloraxis": {
           "colorbar": {
            "outlinewidth": 0,
            "ticks": ""
           }
          },
          "colorscale": {
           "diverging": [
            [
             0,
             "#8e0152"
            ],
            [
             0.1,
             "#c51b7d"
            ],
            [
             0.2,
             "#de77ae"
            ],
            [
             0.3,
             "#f1b6da"
            ],
            [
             0.4,
             "#fde0ef"
            ],
            [
             0.5,
             "#f7f7f7"
            ],
            [
             0.6,
             "#e6f5d0"
            ],
            [
             0.7,
             "#b8e186"
            ],
            [
             0.8,
             "#7fbc41"
            ],
            [
             0.9,
             "#4d9221"
            ],
            [
             1,
             "#276419"
            ]
           ],
           "sequential": [
            [
             0,
             "#0d0887"
            ],
            [
             0.1111111111111111,
             "#46039f"
            ],
            [
             0.2222222222222222,
             "#7201a8"
            ],
            [
             0.3333333333333333,
             "#9c179e"
            ],
            [
             0.4444444444444444,
             "#bd3786"
            ],
            [
             0.5555555555555556,
             "#d8576b"
            ],
            [
             0.6666666666666666,
             "#ed7953"
            ],
            [
             0.7777777777777778,
             "#fb9f3a"
            ],
            [
             0.8888888888888888,
             "#fdca26"
            ],
            [
             1,
             "#f0f921"
            ]
           ],
           "sequentialminus": [
            [
             0,
             "#0d0887"
            ],
            [
             0.1111111111111111,
             "#46039f"
            ],
            [
             0.2222222222222222,
             "#7201a8"
            ],
            [
             0.3333333333333333,
             "#9c179e"
            ],
            [
             0.4444444444444444,
             "#bd3786"
            ],
            [
             0.5555555555555556,
             "#d8576b"
            ],
            [
             0.6666666666666666,
             "#ed7953"
            ],
            [
             0.7777777777777778,
             "#fb9f3a"
            ],
            [
             0.8888888888888888,
             "#fdca26"
            ],
            [
             1,
             "#f0f921"
            ]
           ]
          },
          "colorway": [
           "#636efa",
           "#EF553B",
           "#00cc96",
           "#ab63fa",
           "#FFA15A",
           "#19d3f3",
           "#FF6692",
           "#B6E880",
           "#FF97FF",
           "#FECB52"
          ],
          "font": {
           "color": "#2a3f5f"
          },
          "geo": {
           "bgcolor": "white",
           "lakecolor": "white",
           "landcolor": "#E5ECF6",
           "showlakes": true,
           "showland": true,
           "subunitcolor": "white"
          },
          "hoverlabel": {
           "align": "left"
          },
          "hovermode": "closest",
          "mapbox": {
           "style": "light"
          },
          "paper_bgcolor": "white",
          "plot_bgcolor": "#E5ECF6",
          "polar": {
           "angularaxis": {
            "gridcolor": "white",
            "linecolor": "white",
            "ticks": ""
           },
           "bgcolor": "#E5ECF6",
           "radialaxis": {
            "gridcolor": "white",
            "linecolor": "white",
            "ticks": ""
           }
          },
          "scene": {
           "xaxis": {
            "backgroundcolor": "#E5ECF6",
            "gridcolor": "white",
            "gridwidth": 2,
            "linecolor": "white",
            "showbackground": true,
            "ticks": "",
            "zerolinecolor": "white"
           },
           "yaxis": {
            "backgroundcolor": "#E5ECF6",
            "gridcolor": "white",
            "gridwidth": 2,
            "linecolor": "white",
            "showbackground": true,
            "ticks": "",
            "zerolinecolor": "white"
           },
           "zaxis": {
            "backgroundcolor": "#E5ECF6",
            "gridcolor": "white",
            "gridwidth": 2,
            "linecolor": "white",
            "showbackground": true,
            "ticks": "",
            "zerolinecolor": "white"
           }
          },
          "shapedefaults": {
           "line": {
            "color": "#2a3f5f"
           }
          },
          "ternary": {
           "aaxis": {
            "gridcolor": "white",
            "linecolor": "white",
            "ticks": ""
           },
           "baxis": {
            "gridcolor": "white",
            "linecolor": "white",
            "ticks": ""
           },
           "bgcolor": "#E5ECF6",
           "caxis": {
            "gridcolor": "white",
            "linecolor": "white",
            "ticks": ""
           }
          },
          "title": {
           "x": 0.05
          },
          "xaxis": {
           "automargin": true,
           "gridcolor": "white",
           "linecolor": "white",
           "ticks": "",
           "title": {
            "standoff": 15
           },
           "zerolinecolor": "white",
           "zerolinewidth": 2
          },
          "yaxis": {
           "automargin": true,
           "gridcolor": "white",
           "linecolor": "white",
           "ticks": "",
           "title": {
            "standoff": 15
           },
           "zerolinecolor": "white",
           "zerolinewidth": 2
          }
         }
        }
       }
      }
     },
     "metadata": {}
    }
   ],
   "source": [
    "traces = []\n",
    "for participant in np.random.choice(data[('participant', '')].unique(), 5):\n",
    "    df = data.loc[(data[('participant', '')] == participant) & (data['status']==1), ['trials_2', 'percentages', 'reaction_time_ms']]\n",
    "    df['upper'] = df[('reaction_time_ms', 'mean')] + df[('reaction_time_ms', 'std')]\n",
    "    df['lower'] = df[('reaction_time_ms', 'mean')] - df[('reaction_time_ms', 'std')]\n",
    "    trace = go.Scatter(x=df[('reaction_time_ms', 'mean')], y=df.percentages, mode='markers',  \n",
    "    error_x=dict(\n",
    "            type='data',\n",
    "            symmetric=False,\n",
    "            array=df.upper,\n",
    "            arrayminus=df.lower)\n",
    "            )\n",
    "    traces.append(trace)\n",
    "fig = go.Figure(data=traces)\n",
    "fig.show()"
   ]
  },
  {
   "cell_type": "code",
   "execution_count": null,
   "metadata": {},
   "outputs": [],
   "source": []
  },
  {
   "cell_type": "code",
   "execution_count": null,
   "metadata": {},
   "outputs": [],
   "source": []
  },
  {
   "cell_type": "code",
   "execution_count": null,
   "metadata": {},
   "outputs": [],
   "source": []
  },
  {
   "cell_type": "code",
   "execution_count": null,
   "metadata": {},
   "outputs": [],
   "source": []
  },
  {
   "cell_type": "code",
   "execution_count": 97,
   "metadata": {},
   "outputs": [
    {
     "output_type": "execute_result",
     "data": {
      "text/plain": [
       "25"
      ]
     },
     "metadata": {},
     "execution_count": 97
    }
   ],
   "source": []
  },
  {
   "cell_type": "code",
   "execution_count": 84,
   "metadata": {},
   "outputs": [
    {
     "output_type": "error",
     "ename": "NameError",
     "evalue": "name 'data' is not defined",
     "traceback": [
      "\u001b[0;31m---------------------------------------------------------------------------\u001b[0m",
      "\u001b[0;31mNameError\u001b[0m                                 Traceback (most recent call last)",
      "\u001b[0;32m<ipython-input-84-c5d84736ba45>\u001b[0m in \u001b[0;36m<module>\u001b[0;34m\u001b[0m\n\u001b[0;32m----> 1\u001b[0;31m \u001b[0mdata\u001b[0m\u001b[0;34m\u001b[0m\u001b[0;34m\u001b[0m\u001b[0m\n\u001b[0m",
      "\u001b[0;31mNameError\u001b[0m: name 'data' is not defined"
     ]
    }
   ],
   "source": [
    "data"
   ]
  },
  {
   "cell_type": "code",
   "execution_count": 118,
   "metadata": {},
   "outputs": [
    {
     "output_type": "execute_result",
     "data": {
      "text/plain": [
       "0             12     12  0.0      4258.416667  1919.036617   \n",
       "925283.0              3      3  0.0      2615.666667  1391.819073   \n",
       "929907.0              8      8  0.0      1338.750000   312.590901   \n",
       "934851.0              7      7  0.0      3285.000000  1725.313691   \n",
       "936870.0              4      4  0.0      1920.750000   467.094120   \n",
       "937746.0              7      7  0.0      3878.714286  2540.092696   \n",
       "938534.0              7      7  0.0      1831.714286  1620.488786   \n",
       "941737.0             11     11  0.0      2520.181818   984.962316   \n",
       "948158.0              6      6  0.0      2913.000000  1262.587977   \n",
       "948299.0              4      4  0.0      2477.500000  1578.861510   \n",
       "948779.0              5      5  0.0      3085.400000  1914.868742   \n",
       "951022.0              6      6  0.0      1783.166667   867.047730   \n",
       "951797.0             15     15  0.0      2055.866667   798.654392   \n",
       "952799.0              6      6  0.0      1692.166667  1187.084397   \n",
       "960412.0             10     10  0.0      2873.000000  2692.527313   \n",
       "963191.0             19     19  0.0      3967.368421  2163.160425   \n",
       "971229.0              4      4  0.0       973.000000   200.071654   \n",
       "976061.0              5      5  0.0      1495.200000   565.777076   \n",
       "977008.0             16     16  0.0      2058.187500  1433.205974   \n",
       "978676.0              4      4  0.0      2302.750000  1518.696014   \n",
       "979785.0              6      6  0.0      1202.333333   247.232414   \n",
       "984020.0              9      9  0.0      1704.555556   723.798679   \n",
       "987993.0             13     13  0.0      1602.000000   635.113113   \n",
       "996407.0              7      7  0.0       994.857143   421.203604   \n",
       "998593.0             13     13  0.0      4082.153846  2142.645438   \n",
       "\n",
       "            perseverance_error      not_perseverance_error       \n",
       "                          mean  std                   mean  std  \n",
       "participant                                                      \n",
       "100934.0                     0  0.0                      1  0.0  \n",
       "103322.0                     0  0.0                      1  0.0  \n",
       "107700.0                     0  0.0                      1  0.0  \n",
       "117200.0                     0  0.0                      1  0.0  \n",
       "117306.0                     0  0.0                      1  0.0  \n",
       "120307.0                     0  0.0                      1  0.0  \n",
       "122240.0                     0  0.0                      1  0.0  \n",
       "127180.0                     0  0.0                      1  0.0  \n",
       "130202.0                     0  0.0                      1  0.0  \n",
       "130501.0                     0  0.0                      1  0.0  \n",
       "135202.0                     0  0.0                      1  0.0  \n",
       "136469.0                     0  0.0                      1  0.0  \n",
       "139330.0                     0  0.0                      1  0.0  \n",
       "140183.0                     0  0.0                      1  0.0  \n",
       "141199.0                     0  0.0                      1  0.0  \n",
       "142617.0                     0  0.0                      1  0.0  \n",
       "152049.0                     0  0.0                      1  0.0  \n",
       "153366.0                     0  0.0                      1  0.0  \n",
       "157836.0                     0  0.0                      1  0.0  \n",
       "160188.0                     0  0.0                      1  0.0  \n",
       "165654.0                     0  0.0                      1  0.0  \n",
       "172230.0                     0  0.0                      1  0.0  \n",
       "174705.0                     0  0.0                      1  0.0  \n",
       "181213.0                     0  0.0                      1  0.0  \n",
       "183102.0                     0  0.0                      1  0.0  \n",
       "187729.0                     0  0.0                      1  0.0  \n",
       "188798.0                     0  0.0                      1  0.0  \n",
       "190562.0                     0  0.0                      1  0.0  \n",
       "193611.0                     0  0.0                      1  0.0  \n",
       "195458.0                     0  0.0                      1  0.0  \n",
       "196015.0                     0  0.0                      1  0.0  \n",
       "203965.0                     0  0.0                      1  0.0  \n",
       "208212.0                     0  0.0                      1  0.0  \n",
       "211021.0                     0  0.0                      1  0.0  \n",
       "211890.0                     0  0.0                      1  0.0  \n",
       "216377.0                     0  0.0                      1  0.0  \n",
       "216437.0                     0  0.0                      1  0.0  \n",
       "217762.0                     0  0.0                      1  0.0  \n",
       "221478.0                     0  0.0                      1  0.0  \n",
       "223460.0                     0  0.0                      1  0.0  \n",
       "223984.0                     0  0.0                      1  0.0  \n",
       "223992.0                     0  0.0                      1  0.0  \n",
       "226288.0                     0  0.0                      1  0.0  \n",
       "229541.0                     0  0.0                      1  0.0  \n",
       "230048.0                     0  0.0                      1  0.0  \n",
       "234513.0                     0  0.0                      1  0.0  \n",
       "235651.0                     0  0.0                      1  0.0  \n",
       "243363.0                     0  0.0                      1  0.0  \n",
       "247707.0                     0  0.0                      1  0.0  \n",
       "250040.0                     0  0.0                      1  0.0  \n",
       "256218.0                     0  0.0                      1  0.0  \n",
       "260309.0                     0  0.0                      1  0.0  \n",
       "271279.0                     0  0.0                      1  0.0  \n",
       "274564.0                     0  0.0                      1  0.0  \n",
       "275336.0                     0  0.0                      1  0.0  \n",
       "276141.0                     0  0.0                      1  0.0  \n",
       "279127.0                     0  0.0                      1  0.0  \n",
       "286520.0                     0  0.0                      1  0.0  \n",
       "291694.0                     0  0.0                      1  0.0  \n",
       "291756.0                     0  0.0                      1  0.0  \n",
       "293551.0                     0  0.0                      1  0.0  \n",
       "293897.0                     0  0.0                      1  0.0  \n",
       "296742.0                     0  0.0                      1  0.0  \n",
       "299933.0                     0  0.0                      1  0.0  \n",
       "304171.0                     0  0.0                      1  0.0  \n",
       "311536.0                     0  0.0                      1  0.0  \n",
       "316448.0                     0  0.0                      1  0.0  \n",
       "317920.0                     0  0.0                      1  0.0  \n",
       "321015.0                     0  0.0                      1  0.0  \n",
       "327094.0                     0  0.0                      1  0.0  \n",
       "328959.0                     0  0.0                      1  0.0  \n",
       "332088.0                     0  0.0                      1  0.0  \n",
       "335802.0                     0  0.0                      1  0.0  \n",
       "352526.0                     0  0.0                      1  0.0  \n",
       "355131.0                     0  0.0                      1  0.0  \n",
       "357250.0                     0  0.0                      1  0.0  \n",
       "358099.0                     0  0.0                      1  0.0  \n",
       "358494.0                     0  0.0                      1  0.0  \n",
       "359845.0                     0  0.0                      1  0.0  \n",
       "360939.0                     0  0.0                      1  0.0  \n",
       "362780.0                     0  0.0                      1  0.0  \n",
       "364516.0                     0  0.0                      1  0.0  \n",
       "371360.0                     0  0.0                      1  0.0  \n",
       "376398.0                     0  0.0                      1  0.0  \n",
       "377849.0                     0  0.0                      1  0.0  \n",
       "379824.0                     0  0.0                      1  0.0  \n",
       "388021.0                     0  0.0                      1  0.0  \n",
       "388850.0                     0  0.0                      1  0.0  \n",
       "393191.0                     0  0.0                      1  0.0  \n",
       "397451.0                     0  0.0                      1  0.0  \n",
       "402320.0                     0  0.0                      1  0.0  \n",
       "406595.0                     0  0.0                      1  0.0  \n",
       "412246.0                     0  0.0                      1  0.0  \n",
       "414065.0                     0  0.0                      1  0.0  \n",
       "414391.0                     0  0.0                      1  0.0  \n",
       "416606.0                     0  0.0                      1  0.0  \n",
       "420839.0                     0  0.0                      1  0.0  \n",
       "425547.0                     0  0.0                      1  0.0  \n",
       "431418.0                     0  0.0                      1  0.0  \n",
       "433277.0                     0  0.0                      1  0.0  \n",
       "434528.0                     0  0.0                      1  0.0  \n",
       "438401.0                     0  0.0                      1  0.0  \n",
       "438446.0                     0  0.0                      1  0.0  \n",
       "438865.0                     0  0.0                      1  0.0  \n",
       "438964.0                     0  0.0                      1  0.0  \n",
       "440534.0                     0  0.0                      1  0.0  \n",
       "445799.0                     0  0.0                      1  0.0  \n",
       "451917.0                     0  0.0                      1  0.0  \n",
       "456042.0                     0  0.0                      1  0.0  \n",
       "459223.0                     0  0.0                      1  0.0  \n",
       "461272.0                     0  0.0                      1  0.0  \n",
       "461852.0                     0  0.0                      1  0.0  \n",
       "463780.0                     0  0.0                      1  0.0  \n",
       "464878.0                     0  0.0                      1  0.0  \n",
       "467445.0                     0  0.0                      1  0.0  \n",
       "468185.0                     0  0.0                      1  0.0  \n",
       "469441.0                     0  0.0                      1  0.0  \n",
       "479010.0                     0  0.0                      1  0.0  \n",
       "484881.0                     0  0.0                      1  0.0  \n",
       "485561.0                     0  0.0                      1  0.0  \n",
       "486018.0                     0  0.0                      1  0.0  \n",
       "489027.0                     0  0.0                      1  0.0  \n",
       "490901.0                     0  0.0                      1  0.0  \n",
       "491090.0                     0  0.0                      1  0.0  \n",
       "493614.0                     0  0.0                      1  0.0  \n",
       "501414.0                     0  0.0                      1  0.0  \n",
       "506218.0                     0  0.0                      1  0.0  \n",
       "507361.0                     0  0.0                      1  0.0  \n",
       "513724.0                     0  0.0                      1  0.0  \n",
       "517404.0                     0  0.0                      1  0.0  \n",
       "521567.0                     0  0.0                      1  0.0  \n",
       "524310.0                     0  0.0                      1  0.0  \n",
       "528041.0                     0  0.0                      1  0.0  \n",
       "528482.0                     0  0.0                      1  0.0  \n",
       "528653.0                     0  0.0                      1  0.0  \n",
       "537080.0                     0  0.0                      1  0.0  \n",
       "541645.0                     0  0.0                      1  0.0  \n",
       "544638.0                     0  0.0                      1  0.0  \n",
       "548477.0                     0  0.0                      1  0.0  \n",
       "552414.0                     0  0.0                      1  0.0  \n",
       "554054.0                     0  0.0                      1  0.0  \n",
       "554473.0                     0  0.0                      1  0.0  \n",
       "557453.0                     0  0.0                      1  0.0  \n",
       "559530.0                     0  0.0                      1  0.0  \n",
       "561134.0                     0  0.0                      1  0.0  \n",
       "562945.0                     0  0.0                      1  0.0  \n",
       "564369.0                     0  0.0                      1  0.0  \n",
       "572735.0                     0  0.0                      1  0.0  \n",
       "573978.0                     0  0.0                      1  0.0  \n",
       "577630.0                     0  0.0                      1  0.0  \n",
       "578085.0                     0  0.0                      1  0.0  \n",
       "586518.0                     0  0.0                      1  0.0  \n",
       "595728.0                     0  0.0                      1  0.0  \n",
       "598693.0                     0  0.0                      1  0.0  \n",
       "599007.0                     0  0.0                      1  0.0  \n",
       "601236.0                     0  0.0                      1  0.0  \n",
       "601407.0                     0  0.0                      1  0.0  \n",
       "605413.0                     0  0.0                      1  0.0  \n",
       "612204.0                     0  0.0                      1  0.0  \n",
       "615351.0                     0  0.0                      1  0.0  \n",
       "622387.0                     0  0.0                      1  0.0  \n",
       "624559.0                     0  0.0                      1  0.0  \n",
       "628718.0                     0  0.0                      1  0.0  \n",
       "632838.0                     0  0.0                      1  0.0  \n",
       "640181.0                     0  0.0                      1  0.0  \n",
       "644865.0                     0  0.0                      1  0.0  \n",
       "647658.0                     0  0.0                      1  0.0  \n",
       "652890.0                     0  0.0                      1  0.0  \n",
       "653673.0                     0  0.0                      1  0.0  \n",
       "657902.0                     0  0.0                      1  0.0  \n",
       "663372.0                     0  0.0                      1  0.0  \n",
       "663604.0                     0  0.0                      1  0.0  \n",
       "664027.0                     0  0.0                      1  0.0  \n",
       "664687.0                     0  0.0                      1  0.0  \n",
       "667664.0                     0  0.0                      1  0.0  \n",
       "671809.0                     0  0.0                      1  0.0  \n",
       "672956.0                     0  0.0                      1  0.0  \n",
       "674647.0                     0  0.0                      1  0.0  \n",
       "678629.0                     0  0.0                      1  0.0  \n",
       "683638.0                     0  0.0                      1  0.0  \n",
       "684712.0                     0  0.0                      1  0.0  \n",
       "685375.0                     0  0.0                      1  0.0  \n",
       "690573.0                     0  0.0                      1  0.0  \n",
       "695489.0                     0  0.0                      1  0.0  \n",
       "699794.0                     0  0.0                      1  0.0  \n",
       "701738.0                     0  0.0                      1  0.0  \n",
       "702467.0                     0  0.0                      1  0.0  \n",
       "706034.0                     0  0.0                      1  0.0  \n",
       "709209.0                     0  0.0                      1  0.0  \n",
       "709691.0                     0  0.0                      1  0.0  \n",
       "713183.0                     0  0.0                      1  0.0  \n",
       "717182.0                     0  0.0                      1  0.0  \n",
       "720294.0                     0  0.0                      1  0.0  \n",
       "722252.0                     0  0.0                      1  0.0  \n",
       "722573.0                     0  0.0                      1  0.0  \n",
       "723258.0                     0  0.0                      1  0.0  \n",
       "726906.0                     0  0.0                      1  0.0  \n",
       "736251.0                     0  0.0                      1  0.0  \n",
       "737724.0                     0  0.0                      1  0.0  \n",
       "738408.0                     0  0.0                      1  0.0  \n",
       "739085.0                     0  0.0                      1  0.0  \n",
       "739375.0                     0  0.0                      1  0.0  \n",
       "774789.0                     0  0.0                      1  0.0  \n",
       "787344.0                     0  0.0                      1  0.0  \n",
       "790956.0                     0  0.0                      1  0.0  \n",
       "792318.0                     0  0.0                      1  0.0  \n",
       "793438.0                     0  0.0                      1  0.0  \n",
       "793912.0                     0  0.0                      1  0.0  \n",
       "794450.0                     0  0.0                      1  0.0  \n",
       "807208.0                     0  0.0                      1  0.0  \n",
       "812735.0                     0  0.0                      1  0.0  \n",
       "816404.0                     0  0.0                      1  0.0  \n",
       "818967.0                     0  0.0                      1  0.0  \n",
       "819142.0                     0  0.0                      1  0.0  \n",
       "819705.0                     0  0.0                      1  0.0  \n",
       "823460.0                     0  0.0                      1  0.0  \n",
       "826698.0                     0  0.0                      1  0.0  \n",
       "835635.0                     0  0.0                      1  0.0  \n",
       "840021.0                     0  0.0                      1  0.0  \n",
       "844810.0                     0  0.0                      1  0.0  \n",
       "846954.0                     0  0.0                      1  0.0  \n",
       "847759.0                     0  0.0                      1  0.0  \n",
       "851366.0                     0  0.0                      1  0.0  \n",
       "852903.0                     0  0.0                      1  0.0  \n",
       "855028.0                     0  0.0                      1  0.0  \n",
       "864636.0                     0  0.0                      1  0.0  \n",
       "865667.0                     0  0.0                      1  0.0  \n",
       "866118.0                     0  0.0                      1  0.0  \n",
       "867257.0                     0  0.0                      1  0.0  \n",
       "869019.0                     0  0.0                      1  0.0  \n",
       "869266.0                     0  0.0                      1  0.0  \n",
       "870858.0                     0  0.0                      1  0.0  \n",
       "873417.0                     0  0.0                      1  0.0  \n",
       "875596.0                     0  0.0                      1  0.0  \n",
       "875693.0                     0  0.0                      1  0.0  \n",
       "882008.0                     0  0.0                      1  0.0  \n",
       "882397.0                     0  0.0                      1  0.0  \n",
       "889197.0                     0  0.0                      1  0.0  \n",
       "889968.0                     0  0.0                      1  0.0  \n",
       "891096.0                     0  0.0                      1  0.0  \n",
       "892549.0                     0  0.0                      1  0.0  \n",
       "895200.0                     0  0.0                      1  0.0  \n",
       "895883.0                     0  0.0                      1  0.0  \n",
       "896860.0                     0  0.0                      1  0.0  \n",
       "897924.0                     0  0.0                      1  0.0  \n",
       "902113.0                     0  0.0                      1  0.0  \n",
       "905859.0                     0  0.0                      1  0.0  \n",
       "915038.0                     0  0.0                      1  0.0  \n",
       "919015.0                     0  0.0                      1  0.0  \n",
       "924198.0                     0  0.0                      1  0.0  \n",
       "925283.0                     0  0.0                      1  0.0  \n",
       "929907.0                     0  0.0                      1  0.0  \n",
       "934851.0                     0  0.0                      1  0.0  \n",
       "936870.0                     0  0.0                      1  0.0  \n",
       "937746.0                     0  0.0                      1  0.0  \n",
       "938534.0                     0  0.0                      1  0.0  \n",
       "941737.0                     0  0.0                      1  0.0  \n",
       "948158.0                     0  0.0                      1  0.0  \n",
       "948299.0                     0  0.0                      1  0.0  \n",
       "948779.0                     0  0.0                      1  0.0  \n",
       "951022.0                     0  0.0                      1  0.0  \n",
       "951797.0                     0  0.0                      1  0.0  \n",
       "952799.0                     0  0.0                      1  0.0  \n",
       "960412.0                     0  0.0                      1  0.0  \n",
       "963191.0                     0  0.0                      1  0.0  \n",
       "971229.0                     0  0.0                      1  0.0  \n",
       "976061.0                     0  0.0                      1  0.0  \n",
       "977008.0                     0  0.0                      1  0.0  \n",
       "978676.0                     0  0.0                      1  0.0  \n",
       "979785.0                     0  0.0                      1  0.0  \n",
       "984020.0                     0  0.0                      1  0.0  \n",
       "987993.0                     0  0.0                      1  0.0  \n",
       "996407.0                     0  0.0                      1  0.0  \n",
       "998593.0                     0  0.0                      1  0.0  "
      ],
      "text/html": "<div>\n<style scoped>\n    .dataframe tbody tr th:only-of-type {\n        vertical-align: middle;\n    }\n\n    .dataframe tbody tr th {\n        vertical-align: top;\n    }\n\n    .dataframe thead tr th {\n        text-align: left;\n    }\n\n    .dataframe thead tr:last-of-type th {\n        text-align: right;\n    }\n</style>\n<table border=\"1\" class=\"dataframe\">\n  <thead>\n    <tr>\n      <th></th>\n      <th>participant</th>\n      <th colspan=\"2\" halign=\"left\">status</th>\n      <th colspan=\"2\" halign=\"left\">reaction_time_ms</th>\n      <th colspan=\"2\" halign=\"left\">perseverance_error</th>\n      <th colspan=\"2\" halign=\"left\">not_perseverance_error</th>\n    </tr>\n    <tr>\n      <th></th>\n      <th>count</th>\n      <th>count</th>\n      <th>std</th>\n      <th>mean</th>\n      <th>std</th>\n      <th>mean</th>\n      <th>std</th>\n      <th>mean</th>\n      <th>std</th>\n    </tr>\n    <tr>\n      <th>participant</th>\n      <th></th>\n      <th></th>\n      <th></th>\n      <th></th>\n      <th></th>\n      <th></th>\n      <th></th>\n      <th></th>\n      <th></th>\n    </tr>\n  </thead>\n  <tbody>\n    <tr>\n      <th>100934.0</th>\n      <td>3</td>\n      <td>3</td>\n      <td>0.0</td>\n      <td>1512.000000</td>\n      <td>129.630243</td>\n      <td>0</td>\n      <td>0.0</td>\n      <td>1</td>\n      <td>0.0</td>\n    </tr>\n    <tr>\n      <th>103322.0</th>\n      <td>4</td>\n      <td>4</td>\n      <td>0.0</td>\n      <td>2821.250000</td>\n      <td>3216.095083</td>\n      <td>0</td>\n      <td>0.0</td>\n      <td>1</td>\n      <td>0.0</td>\n    </tr>\n    <tr>\n      <th>107700.0</th>\n      <td>6</td>\n      <td>6</td>\n      <td>0.0</td>\n      <td>2084.666667</td>\n      <td>1157.700076</td>\n      <td>0</td>\n      <td>0.0</td>\n      <td>1</td>\n      <td>0.0</td>\n    </tr>\n    <tr>\n      <th>117200.0</th>\n      <td>8</td>\n      <td>8</td>\n      <td>0.0</td>\n      <td>1460.000000</td>\n      <td>447.697602</td>\n      <td>0</td>\n      <td>0.0</td>\n      <td>1</td>\n      <td>0.0</td>\n    </tr>\n    <tr>\n      <th>117306.0</th>\n      <td>3</td>\n      <td>3</td>\n      <td>0.0</td>\n      <td>1896.000000</td>\n      <td>426.240542</td>\n      <td>0</td>\n      <td>0.0</td>\n      <td>1</td>\n      <td>0.0</td>\n    </tr>\n    <tr>\n      <th>120307.0</th>\n      <td>15</td>\n      <td>15</td>\n      <td>0.0</td>\n      <td>2162.666667</td>\n      <td>1492.494062</td>\n      <td>0</td>\n      <td>0.0</td>\n      <td>1</td>\n      <td>0.0</td>\n    </tr>\n    <tr>\n      <th>122240.0</th>\n      <td>3</td>\n      <td>3</td>\n      <td>0.0</td>\n      <td>1666.333333</td>\n      <td>789.652033</td>\n      <td>0</td>\n      <td>0.0</td>\n      <td>1</td>\n      <td>0.0</td>\n    </tr>\n    <tr>\n      <th>127180.0</th>\n      <td>11</td>\n      <td>11</td>\n      <td>0.0</td>\n      <td>3076.181818</td>\n      <td>1670.831878</td>\n      <td>0</td>\n      <td>0.0</td>\n      <td>1</td>\n      <td>0.0</td>\n    </tr>\n    <tr>\n      <th>130202.0</th>\n      <td>7</td>\n      <td>7</td>\n      <td>0.0</td>\n      <td>1976.714286</td>\n      <td>1196.215381</td>\n      <td>0</td>\n      <td>0.0</td>\n      <td>1</td>\n      <td>0.0</td>\n    </tr>\n    <tr>\n      <th>130501.0</th>\n      <td>12</td>\n      <td>12</td>\n      <td>0.0</td>\n      <td>2757.750000</td>\n      <td>2447.820445</td>\n      <td>0</td>\n      <td>0.0</td>\n      <td>1</td>\n      <td>0.0</td>\n    </tr>\n    <tr>\n      <th>135202.0</th>\n      <td>5</td>\n      <td>5</td>\n      <td>0.0</td>\n      <td>3839.400000</td>\n      <td>2495.190834</td>\n      <td>0</td>\n      <td>0.0</td>\n      <td>1</td>\n      <td>0.0</td>\n    </tr>\n    <tr>\n      <th>136469.0</th>\n      <td>9</td>\n      <td>9</td>\n      <td>0.0</td>\n      <td>1519.888889</td>\n      <td>762.362683</td>\n      <td>0</td>\n      <td>0.0</td>\n      <td>1</td>\n      <td>0.0</td>\n    </tr>\n    <tr>\n      <th>139330.0</th>\n      <td>14</td>\n      <td>14</td>\n      <td>0.0</td>\n      <td>1439.928571</td>\n      <td>924.970807</td>\n      <td>0</td>\n      <td>0.0</td>\n      <td>1</td>\n      <td>0.0</td>\n    </tr>\n    <tr>\n      <th>140183.0</th>\n      <td>9</td>\n      <td>9</td>\n      <td>0.0</td>\n      <td>2935.666667</td>\n      <td>1954.213077</td>\n      <td>0</td>\n      <td>0.0</td>\n      <td>1</td>\n      <td>0.0</td>\n    </tr>\n    <tr>\n      <th>141199.0</th>\n      <td>19</td>\n      <td>19</td>\n      <td>0.0</td>\n      <td>1720.631579</td>\n      <td>819.178871</td>\n      <td>0</td>\n      <td>0.0</td>\n      <td>1</td>\n      <td>0.0</td>\n    </tr>\n    <tr>\n      <th>142617.0</th>\n      <td>16</td>\n      <td>16</td>\n      <td>0.0</td>\n      <td>2615.625000</td>\n      <td>1560.482655</td>\n      <td>0</td>\n      <td>0.0</td>\n      <td>1</td>\n      <td>0.0</td>\n    </tr>\n    <tr>\n      <th>152049.0</th>\n      <td>6</td>\n      <td>6</td>\n      <td>0.0</td>\n      <td>1653.666667</td>\n      <td>612.661951</td>\n      <td>0</td>\n      <td>0.0</td>\n      <td>1</td>\n      <td>0.0</td>\n    </tr>\n    <tr>\n      <th>153366.0</th>\n      <td>3</td>\n      <td>3</td>\n      <td>0.0</td>\n      <td>1470.000000</td>\n      <td>224.875521</td>\n      <td>0</td>\n      <td>0.0</td>\n      <td>1</td>\n      <td>0.0</td>\n    </tr>\n    <tr>\n      <th>157836.0</th>\n      <td>14</td>\n      <td>14</td>\n      <td>0.0</td>\n      <td>3548.071429</td>\n      <td>1901.528554</td>\n      <td>0</td>\n      <td>0.0</td>\n      <td>1</td>\n      <td>0.0</td>\n    </tr>\n    <tr>\n      <th>160188.0</th>\n      <td>8</td>\n      <td>8</td>\n      <td>0.0</td>\n      <td>3667.250000</td>\n      <td>1776.593993</td>\n      <td>0</td>\n      <td>0.0</td>\n      <td>1</td>\n      <td>0.0</td>\n    </tr>\n    <tr>\n      <th>165654.0</th>\n      <td>7</td>\n      <td>7</td>\n      <td>0.0</td>\n      <td>1257.142857</td>\n      <td>817.218337</td>\n      <td>0</td>\n      <td>0.0</td>\n      <td>1</td>\n      <td>0.0</td>\n    </tr>\n    <tr>\n      <th>172230.0</th>\n      <td>15</td>\n      <td>15</td>\n      <td>0.0</td>\n      <td>3132.733333</td>\n      <td>2050.990996</td>\n      <td>0</td>\n      <td>0.0</td>\n      <td>1</td>\n      <td>0.0</td>\n    </tr>\n    <tr>\n      <th>174705.0</th>\n      <td>7</td>\n      <td>7</td>\n      <td>0.0</td>\n      <td>1864.571429</td>\n      <td>872.537078</td>\n      <td>0</td>\n      <td>0.0</td>\n      <td>1</td>\n      <td>0.0</td>\n    </tr>\n    <tr>\n      <th>181213.0</th>\n      <td>5</td>\n      <td>5</td>\n      <td>0.0</td>\n      <td>957.400000</td>\n      <td>372.612131</td>\n      <td>0</td>\n      <td>0.0</td>\n      <td>1</td>\n      <td>0.0</td>\n    </tr>\n    <tr>\n      <th>183102.0</th>\n      <td>4</td>\n      <td>4</td>\n      <td>0.0</td>\n      <td>2864.500000</td>\n      <td>1351.592271</td>\n      <td>0</td>\n      <td>0.0</td>\n      <td>1</td>\n      <td>0.0</td>\n    </tr>\n    <tr>\n      <th>187729.0</th>\n      <td>10</td>\n      <td>10</td>\n      <td>0.0</td>\n      <td>3279.400000</td>\n      <td>1615.261740</td>\n      <td>0</td>\n      <td>0.0</td>\n      <td>1</td>\n      <td>0.0</td>\n    </tr>\n    <tr>\n      <th>188798.0</th>\n      <td>5</td>\n      <td>5</td>\n      <td>0.0</td>\n      <td>2106.400000</td>\n      <td>898.287148</td>\n      <td>0</td>\n      <td>0.0</td>\n      <td>1</td>\n      <td>0.0</td>\n    </tr>\n    <tr>\n      <th>190562.0</th>\n      <td>6</td>\n      <td>6</td>\n      <td>0.0</td>\n      <td>2243.333333</td>\n      <td>995.517085</td>\n      <td>0</td>\n      <td>0.0</td>\n      <td>1</td>\n      <td>0.0</td>\n    </tr>\n    <tr>\n      <th>193611.0</th>\n      <td>4</td>\n      <td>4</td>\n      <td>0.0</td>\n      <td>2991.500000</td>\n      <td>1815.587600</td>\n      <td>0</td>\n      <td>0.0</td>\n      <td>1</td>\n      <td>0.0</td>\n    </tr>\n    <tr>\n      <th>195458.0</th>\n      <td>15</td>\n      <td>15</td>\n      <td>0.0</td>\n      <td>2305.733333</td>\n      <td>1811.902334</td>\n      <td>0</td>\n      <td>0.0</td>\n      <td>1</td>\n      <td>0.0</td>\n    </tr>\n    <tr>\n      <th>196015.0</th>\n      <td>6</td>\n      <td>6</td>\n      <td>0.0</td>\n      <td>2264.000000</td>\n      <td>942.082374</td>\n      <td>0</td>\n      <td>0.0</td>\n      <td>1</td>\n      <td>0.0</td>\n    </tr>\n    <tr>\n      <th>203965.0</th>\n      <td>4</td>\n      <td>4</td>\n      <td>0.0</td>\n      <td>2849.500000</td>\n      <td>2535.716401</td>\n      <td>0</td>\n      <td>0.0</td>\n      <td>1</td>\n      <td>0.0</td>\n    </tr>\n    <tr>\n      <th>208212.0</th>\n      <td>3</td>\n      <td>3</td>\n      <td>0.0</td>\n      <td>1396.333333</td>\n      <td>195.720038</td>\n      <td>0</td>\n      <td>0.0</td>\n      <td>1</td>\n      <td>0.0</td>\n    </tr>\n    <tr>\n      <th>211021.0</th>\n      <td>5</td>\n      <td>5</td>\n      <td>0.0</td>\n      <td>1683.000000</td>\n      <td>852.476686</td>\n      <td>0</td>\n      <td>0.0</td>\n      <td>1</td>\n      <td>0.0</td>\n    </tr>\n    <tr>\n      <th>211890.0</th>\n      <td>8</td>\n      <td>8</td>\n      <td>0.0</td>\n      <td>2148.375000</td>\n      <td>1324.952930</td>\n      <td>0</td>\n      <td>0.0</td>\n      <td>1</td>\n      <td>0.0</td>\n    </tr>\n    <tr>\n      <th>216377.0</th>\n      <td>9</td>\n      <td>9</td>\n      <td>0.0</td>\n      <td>1666.666667</td>\n      <td>1191.063705</td>\n      <td>0</td>\n      <td>0.0</td>\n      <td>1</td>\n      <td>0.0</td>\n    </tr>\n    <tr>\n      <th>216437.0</th>\n      <td>13</td>\n      <td>13</td>\n      <td>0.0</td>\n      <td>2422.769231</td>\n      <td>910.394983</td>\n      <td>0</td>\n      <td>0.0</td>\n      <td>1</td>\n      <td>0.0</td>\n    </tr>\n    <tr>\n      <th>217762.0</th>\n      <td>5</td>\n      <td>5</td>\n      <td>0.0</td>\n      <td>3004.600000</td>\n      <td>1731.326746</td>\n      <td>0</td>\n      <td>0.0</td>\n      <td>1</td>\n      <td>0.0</td>\n    </tr>\n    <tr>\n      <th>221478.0</th>\n      <td>17</td>\n      <td>17</td>\n      <td>0.0</td>\n      <td>3357.647059</td>\n      <td>2065.675947</td>\n      <td>0</td>\n      <td>0.0</td>\n      <td>1</td>\n      <td>0.0</td>\n    </tr>\n    <tr>\n      <th>223460.0</th>\n      <td>8</td>\n      <td>8</td>\n      <td>0.0</td>\n      <td>2899.000000</td>\n      <td>1349.941057</td>\n      <td>0</td>\n      <td>0.0</td>\n      <td>1</td>\n      <td>0.0</td>\n    </tr>\n    <tr>\n      <th>223984.0</th>\n      <td>5</td>\n      <td>5</td>\n      <td>0.0</td>\n      <td>1845.800000</td>\n      <td>1417.437018</td>\n      <td>0</td>\n      <td>0.0</td>\n      <td>1</td>\n      <td>0.0</td>\n    </tr>\n    <tr>\n      <th>223992.0</th>\n      <td>5</td>\n      <td>5</td>\n      <td>0.0</td>\n      <td>1917.400000</td>\n      <td>603.835077</td>\n      <td>0</td>\n      <td>0.0</td>\n      <td>1</td>\n      <td>0.0</td>\n    </tr>\n    <tr>\n      <th>226288.0</th>\n      <td>6</td>\n      <td>6</td>\n      <td>0.0</td>\n      <td>2194.166667</td>\n      <td>991.096245</td>\n      <td>0</td>\n      <td>0.0</td>\n      <td>1</td>\n      <td>0.0</td>\n    </tr>\n    <tr>\n      <th>229541.0</th>\n      <td>14</td>\n      <td>14</td>\n      <td>0.0</td>\n      <td>1688.071429</td>\n      <td>1263.503034</td>\n      <td>0</td>\n      <td>0.0</td>\n      <td>1</td>\n      <td>0.0</td>\n    </tr>\n    <tr>\n      <th>230048.0</th>\n      <td>19</td>\n      <td>19</td>\n      <td>0.0</td>\n      <td>1636.894737</td>\n      <td>1479.151555</td>\n      <td>0</td>\n      <td>0.0</td>\n      <td>1</td>\n      <td>0.0</td>\n    </tr>\n    <tr>\n      <th>234513.0</th>\n      <td>15</td>\n      <td>15</td>\n      <td>0.0</td>\n      <td>4540.533333</td>\n      <td>1873.043736</td>\n      <td>0</td>\n      <td>0.0</td>\n      <td>1</td>\n      <td>0.0</td>\n    </tr>\n    <tr>\n      <th>235651.0</th>\n      <td>4</td>\n      <td>4</td>\n      <td>0.0</td>\n      <td>2202.250000</td>\n      <td>1327.739777</td>\n      <td>0</td>\n      <td>0.0</td>\n      <td>1</td>\n      <td>0.0</td>\n    </tr>\n    <tr>\n      <th>243363.0</th>\n      <td>6</td>\n      <td>6</td>\n      <td>0.0</td>\n      <td>3368.333333</td>\n      <td>3131.798312</td>\n      <td>0</td>\n      <td>0.0</td>\n      <td>1</td>\n      <td>0.0</td>\n    </tr>\n    <tr>\n      <th>247707.0</th>\n      <td>12</td>\n      <td>12</td>\n      <td>0.0</td>\n      <td>2398.833333</td>\n      <td>1588.091584</td>\n      <td>0</td>\n      <td>0.0</td>\n      <td>1</td>\n      <td>0.0</td>\n    </tr>\n    <tr>\n      <th>250040.0</th>\n      <td>14</td>\n      <td>14</td>\n      <td>0.0</td>\n      <td>2014.571429</td>\n      <td>1491.694788</td>\n      <td>0</td>\n      <td>0.0</td>\n      <td>1</td>\n      <td>0.0</td>\n    </tr>\n    <tr>\n      <th>256218.0</th>\n      <td>4</td>\n      <td>4</td>\n      <td>0.0</td>\n      <td>2364.000000</td>\n      <td>1157.862110</td>\n      <td>0</td>\n      <td>0.0</td>\n      <td>1</td>\n      <td>0.0</td>\n    </tr>\n    <tr>\n      <th>260309.0</th>\n      <td>3</td>\n      <td>3</td>\n      <td>0.0</td>\n      <td>2719.666667</td>\n      <td>2082.000080</td>\n      <td>0</td>\n      <td>0.0</td>\n      <td>1</td>\n      <td>0.0</td>\n    </tr>\n    <tr>\n      <th>271279.0</th>\n      <td>5</td>\n      <td>5</td>\n      <td>0.0</td>\n      <td>1132.600000</td>\n      <td>362.779272</td>\n      <td>0</td>\n      <td>0.0</td>\n      <td>1</td>\n      <td>0.0</td>\n    </tr>\n    <tr>\n      <th>274564.0</th>\n      <td>5</td>\n      <td>5</td>\n      <td>0.0</td>\n      <td>5661.000000</td>\n      <td>3197.999140</td>\n      <td>0</td>\n      <td>0.0</td>\n      <td>1</td>\n      <td>0.0</td>\n    </tr>\n    <tr>\n      <th>275336.0</th>\n      <td>9</td>\n      <td>9</td>\n      <td>0.0</td>\n      <td>1546.111111</td>\n      <td>543.613016</td>\n      <td>0</td>\n      <td>0.0</td>\n      <td>1</td>\n      <td>0.0</td>\n    </tr>\n    <tr>\n      <th>276141.0</th>\n      <td>4</td>\n      <td>4</td>\n      <td>0.0</td>\n      <td>2199.000000</td>\n      <td>934.918535</td>\n      <td>0</td>\n      <td>0.0</td>\n      <td>1</td>\n      <td>0.0</td>\n    </tr>\n    <tr>\n      <th>279127.0</th>\n      <td>5</td>\n      <td>5</td>\n      <td>0.0</td>\n      <td>2060.600000</td>\n      <td>942.042090</td>\n      <td>0</td>\n      <td>0.0</td>\n      <td>1</td>\n      <td>0.0</td>\n    </tr>\n    <tr>\n      <th>286520.0</th>\n      <td>20</td>\n      <td>20</td>\n      <td>0.0</td>\n      <td>1711.150000</td>\n      <td>609.640556</td>\n      <td>0</td>\n      <td>0.0</td>\n      <td>1</td>\n      <td>0.0</td>\n    </tr>\n    <tr>\n      <th>291694.0</th>\n      <td>8</td>\n      <td>8</td>\n      <td>0.0</td>\n      <td>3348.625000</td>\n      <td>2139.718268</td>\n      <td>0</td>\n      <td>0.0</td>\n      <td>1</td>\n      <td>0.0</td>\n    </tr>\n    <tr>\n      <th>291756.0</th>\n      <td>3</td>\n      <td>3</td>\n      <td>0.0</td>\n      <td>1866.000000</td>\n      <td>1041.567569</td>\n      <td>0</td>\n      <td>0.0</td>\n      <td>1</td>\n      <td>0.0</td>\n    </tr>\n    <tr>\n      <th>293551.0</th>\n      <td>13</td>\n      <td>13</td>\n      <td>0.0</td>\n      <td>2197.461538</td>\n      <td>764.126038</td>\n      <td>0</td>\n      <td>0.0</td>\n      <td>1</td>\n      <td>0.0</td>\n    </tr>\n    <tr>\n      <th>293897.0</th>\n      <td>8</td>\n      <td>8</td>\n      <td>0.0</td>\n      <td>2253.375000</td>\n      <td>1075.011088</td>\n      <td>0</td>\n      <td>0.0</td>\n      <td>1</td>\n      <td>0.0</td>\n    </tr>\n    <tr>\n      <th>296742.0</th>\n      <td>7</td>\n      <td>7</td>\n      <td>0.0</td>\n      <td>1621.285714</td>\n      <td>767.994513</td>\n      <td>0</td>\n      <td>0.0</td>\n      <td>1</td>\n      <td>0.0</td>\n    </tr>\n    <tr>\n      <th>299933.0</th>\n      <td>15</td>\n      <td>15</td>\n      <td>0.0</td>\n      <td>2256.133333</td>\n      <td>793.407377</td>\n      <td>0</td>\n      <td>0.0</td>\n      <td>1</td>\n      <td>0.0</td>\n    </tr>\n    <tr>\n      <th>304171.0</th>\n      <td>9</td>\n      <td>9</td>\n      <td>0.0</td>\n      <td>2128.888889</td>\n      <td>1045.742732</td>\n      <td>0</td>\n      <td>0.0</td>\n      <td>1</td>\n      <td>0.0</td>\n    </tr>\n    <tr>\n      <th>311536.0</th>\n      <td>4</td>\n      <td>4</td>\n      <td>0.0</td>\n      <td>1138.250000</td>\n      <td>312.116832</td>\n      <td>0</td>\n      <td>0.0</td>\n      <td>1</td>\n      <td>0.0</td>\n    </tr>\n    <tr>\n      <th>316448.0</th>\n      <td>10</td>\n      <td>10</td>\n      <td>0.0</td>\n      <td>2121.100000</td>\n      <td>1135.118834</td>\n      <td>0</td>\n      <td>0.0</td>\n      <td>1</td>\n      <td>0.0</td>\n    </tr>\n    <tr>\n      <th>317920.0</th>\n      <td>7</td>\n      <td>7</td>\n      <td>0.0</td>\n      <td>3582.285714</td>\n      <td>1746.835206</td>\n      <td>0</td>\n      <td>0.0</td>\n      <td>1</td>\n      <td>0.0</td>\n    </tr>\n    <tr>\n      <th>321015.0</th>\n      <td>12</td>\n      <td>12</td>\n      <td>0.0</td>\n      <td>3221.583333</td>\n      <td>1913.334427</td>\n      <td>0</td>\n      <td>0.0</td>\n      <td>1</td>\n      <td>0.0</td>\n    </tr>\n    <tr>\n      <th>327094.0</th>\n      <td>13</td>\n      <td>13</td>\n      <td>0.0</td>\n      <td>2104.384615</td>\n      <td>2336.359723</td>\n      <td>0</td>\n      <td>0.0</td>\n      <td>1</td>\n      <td>0.0</td>\n    </tr>\n    <tr>\n      <th>328959.0</th>\n      <td>18</td>\n      <td>18</td>\n      <td>0.0</td>\n      <td>2568.388889</td>\n      <td>1534.189770</td>\n      <td>0</td>\n      <td>0.0</td>\n      <td>1</td>\n      <td>0.0</td>\n    </tr>\n    <tr>\n      <th>332088.0</th>\n      <td>17</td>\n      <td>17</td>\n      <td>0.0</td>\n      <td>2205.235294</td>\n      <td>1868.630666</td>\n      <td>0</td>\n      <td>0.0</td>\n      <td>1</td>\n      <td>0.0</td>\n    </tr>\n    <tr>\n      <th>335802.0</th>\n      <td>5</td>\n      <td>5</td>\n      <td>0.0</td>\n      <td>2040.600000</td>\n      <td>783.826703</td>\n      <td>0</td>\n      <td>0.0</td>\n      <td>1</td>\n      <td>0.0</td>\n    </tr>\n    <tr>\n      <th>352526.0</th>\n      <td>3</td>\n      <td>3</td>\n      <td>0.0</td>\n      <td>2107.333333</td>\n      <td>1347.664770</td>\n      <td>0</td>\n      <td>0.0</td>\n      <td>1</td>\n      <td>0.0</td>\n    </tr>\n    <tr>\n      <th>355131.0</th>\n      <td>10</td>\n      <td>10</td>\n      <td>0.0</td>\n      <td>4333.500000</td>\n      <td>2075.617030</td>\n      <td>0</td>\n      <td>0.0</td>\n      <td>1</td>\n      <td>0.0</td>\n    </tr>\n    <tr>\n      <th>357250.0</th>\n      <td>10</td>\n      <td>10</td>\n      <td>0.0</td>\n      <td>1449.300000</td>\n      <td>266.148267</td>\n      <td>0</td>\n      <td>0.0</td>\n      <td>1</td>\n      <td>0.0</td>\n    </tr>\n    <tr>\n      <th>358099.0</th>\n      <td>9</td>\n      <td>9</td>\n      <td>0.0</td>\n      <td>3814.777778</td>\n      <td>2798.177299</td>\n      <td>0</td>\n      <td>0.0</td>\n      <td>1</td>\n      <td>0.0</td>\n    </tr>\n    <tr>\n      <th>358494.0</th>\n      <td>3</td>\n      <td>3</td>\n      <td>0.0</td>\n      <td>1197.666667</td>\n      <td>345.934001</td>\n      <td>0</td>\n      <td>0.0</td>\n      <td>1</td>\n      <td>0.0</td>\n    </tr>\n    <tr>\n      <th>359845.0</th>\n      <td>3</td>\n      <td>3</td>\n      <td>0.0</td>\n      <td>996.666667</td>\n      <td>96.292956</td>\n      <td>0</td>\n      <td>0.0</td>\n      <td>1</td>\n      <td>0.0</td>\n    </tr>\n    <tr>\n      <th>360939.0</th>\n      <td>7</td>\n      <td>7</td>\n      <td>0.0</td>\n      <td>2048.714286</td>\n      <td>1173.324012</td>\n      <td>0</td>\n      <td>0.0</td>\n      <td>1</td>\n      <td>0.0</td>\n    </tr>\n    <tr>\n      <th>362780.0</th>\n      <td>10</td>\n      <td>10</td>\n      <td>0.0</td>\n      <td>1442.500000</td>\n      <td>389.250062</td>\n      <td>0</td>\n      <td>0.0</td>\n      <td>1</td>\n      <td>0.0</td>\n    </tr>\n    <tr>\n      <th>364516.0</th>\n      <td>9</td>\n      <td>9</td>\n      <td>0.0</td>\n      <td>3312.888889</td>\n      <td>1930.755775</td>\n      <td>0</td>\n      <td>0.0</td>\n      <td>1</td>\n      <td>0.0</td>\n    </tr>\n    <tr>\n      <th>371360.0</th>\n      <td>13</td>\n      <td>13</td>\n      <td>0.0</td>\n      <td>2676.076923</td>\n      <td>1484.298120</td>\n      <td>0</td>\n      <td>0.0</td>\n      <td>1</td>\n      <td>0.0</td>\n    </tr>\n    <tr>\n      <th>376398.0</th>\n      <td>11</td>\n      <td>11</td>\n      <td>0.0</td>\n      <td>2916.818182</td>\n      <td>1182.621057</td>\n      <td>0</td>\n      <td>0.0</td>\n      <td>1</td>\n      <td>0.0</td>\n    </tr>\n    <tr>\n      <th>377849.0</th>\n      <td>12</td>\n      <td>12</td>\n      <td>0.0</td>\n      <td>2133.083333</td>\n      <td>1612.764395</td>\n      <td>0</td>\n      <td>0.0</td>\n      <td>1</td>\n      <td>0.0</td>\n    </tr>\n    <tr>\n      <th>379824.0</th>\n      <td>8</td>\n      <td>8</td>\n      <td>0.0</td>\n      <td>2925.875000</td>\n      <td>2235.037516</td>\n      <td>0</td>\n      <td>0.0</td>\n      <td>1</td>\n      <td>0.0</td>\n    </tr>\n    <tr>\n      <th>388021.0</th>\n      <td>4</td>\n      <td>4</td>\n      <td>0.0</td>\n      <td>1115.750000</td>\n      <td>135.142826</td>\n      <td>0</td>\n      <td>0.0</td>\n      <td>1</td>\n      <td>0.0</td>\n    </tr>\n    <tr>\n      <th>388850.0</th>\n      <td>8</td>\n      <td>8</td>\n      <td>0.0</td>\n      <td>1822.750000</td>\n      <td>677.192049</td>\n      <td>0</td>\n      <td>0.0</td>\n      <td>1</td>\n      <td>0.0</td>\n    </tr>\n    <tr>\n      <th>393191.0</th>\n      <td>5</td>\n      <td>5</td>\n      <td>0.0</td>\n      <td>1519.800000</td>\n      <td>1158.279198</td>\n      <td>0</td>\n      <td>0.0</td>\n      <td>1</td>\n      <td>0.0</td>\n    </tr>\n    <tr>\n      <th>397451.0</th>\n      <td>3</td>\n      <td>3</td>\n      <td>0.0</td>\n      <td>1821.666667</td>\n      <td>840.868797</td>\n      <td>0</td>\n      <td>0.0</td>\n      <td>1</td>\n      <td>0.0</td>\n    </tr>\n    <tr>\n      <th>402320.0</th>\n      <td>13</td>\n      <td>13</td>\n      <td>0.0</td>\n      <td>2117.384615</td>\n      <td>1022.828231</td>\n      <td>0</td>\n      <td>0.0</td>\n      <td>1</td>\n      <td>0.0</td>\n    </tr>\n    <tr>\n      <th>406595.0</th>\n      <td>14</td>\n      <td>14</td>\n      <td>0.0</td>\n      <td>2514.428571</td>\n      <td>1692.855654</td>\n      <td>0</td>\n      <td>0.0</td>\n      <td>1</td>\n      <td>0.0</td>\n    </tr>\n    <tr>\n      <th>412246.0</th>\n      <td>5</td>\n      <td>5</td>\n      <td>0.0</td>\n      <td>2746.000000</td>\n      <td>1413.700994</td>\n      <td>0</td>\n      <td>0.0</td>\n      <td>1</td>\n      <td>0.0</td>\n    </tr>\n    <tr>\n      <th>414065.0</th>\n      <td>15</td>\n      <td>15</td>\n      <td>0.0</td>\n      <td>4334.866667</td>\n      <td>2570.456932</td>\n      <td>0</td>\n      <td>0.0</td>\n      <td>1</td>\n      <td>0.0</td>\n    </tr>\n    <tr>\n      <th>414391.0</th>\n      <td>8</td>\n      <td>8</td>\n      <td>0.0</td>\n      <td>2467.250000</td>\n      <td>1161.800419</td>\n      <td>0</td>\n      <td>0.0</td>\n      <td>1</td>\n      <td>0.0</td>\n    </tr>\n    <tr>\n      <th>416606.0</th>\n      <td>14</td>\n      <td>14</td>\n      <td>0.0</td>\n      <td>1656.785714</td>\n      <td>1673.487477</td>\n      <td>0</td>\n      <td>0.0</td>\n      <td>1</td>\n      <td>0.0</td>\n    </tr>\n    <tr>\n      <th>420839.0</th>\n      <td>3</td>\n      <td>3</td>\n      <td>0.0</td>\n      <td>1921.666667</td>\n      <td>455.719578</td>\n      <td>0</td>\n      <td>0.0</td>\n      <td>1</td>\n      <td>0.0</td>\n    </tr>\n    <tr>\n      <th>425547.0</th>\n      <td>8</td>\n      <td>8</td>\n      <td>0.0</td>\n      <td>3054.375000</td>\n      <td>1392.199692</td>\n      <td>0</td>\n      <td>0.0</td>\n      <td>1</td>\n      <td>0.0</td>\n    </tr>\n    <tr>\n      <th>431418.0</th>\n      <td>6</td>\n      <td>6</td>\n      <td>0.0</td>\n      <td>2845.166667</td>\n      <td>1994.411734</td>\n      <td>0</td>\n      <td>0.0</td>\n      <td>1</td>\n      <td>0.0</td>\n    </tr>\n    <tr>\n      <th>433277.0</th>\n      <td>8</td>\n      <td>8</td>\n      <td>0.0</td>\n      <td>1862.000000</td>\n      <td>1325.674168</td>\n      <td>0</td>\n      <td>0.0</td>\n      <td>1</td>\n      <td>0.0</td>\n    </tr>\n    <tr>\n      <th>434528.0</th>\n      <td>10</td>\n      <td>10</td>\n      <td>0.0</td>\n      <td>1452.600000</td>\n      <td>825.941913</td>\n      <td>0</td>\n      <td>0.0</td>\n      <td>1</td>\n      <td>0.0</td>\n    </tr>\n    <tr>\n      <th>438401.0</th>\n      <td>6</td>\n      <td>6</td>\n      <td>0.0</td>\n      <td>839.333333</td>\n      <td>360.777309</td>\n      <td>0</td>\n      <td>0.0</td>\n      <td>1</td>\n      <td>0.0</td>\n    </tr>\n    <tr>\n      <th>438446.0</th>\n      <td>6</td>\n      <td>6</td>\n      <td>0.0</td>\n      <td>1516.333333</td>\n      <td>648.501246</td>\n      <td>0</td>\n      <td>0.0</td>\n      <td>1</td>\n      <td>0.0</td>\n    </tr>\n    <tr>\n      <th>438865.0</th>\n      <td>3</td>\n      <td>3</td>\n      <td>0.0</td>\n      <td>1622.666667</td>\n      <td>431.040988</td>\n      <td>0</td>\n      <td>0.0</td>\n      <td>1</td>\n      <td>0.0</td>\n    </tr>\n    <tr>\n      <th>438964.0</th>\n      <td>16</td>\n      <td>16</td>\n      <td>0.0</td>\n      <td>2009.937500</td>\n      <td>1214.088435</td>\n      <td>0</td>\n      <td>0.0</td>\n      <td>1</td>\n      <td>0.0</td>\n    </tr>\n    <tr>\n      <th>440534.0</th>\n      <td>3</td>\n      <td>3</td>\n      <td>0.0</td>\n      <td>1633.000000</td>\n      <td>237.082264</td>\n      <td>0</td>\n      <td>0.0</td>\n      <td>1</td>\n      <td>0.0</td>\n    </tr>\n    <tr>\n      <th>445799.0</th>\n      <td>12</td>\n      <td>12</td>\n      <td>0.0</td>\n      <td>2562.500000</td>\n      <td>1763.196297</td>\n      <td>0</td>\n      <td>0.0</td>\n      <td>1</td>\n      <td>0.0</td>\n    </tr>\n    <tr>\n      <th>451917.0</th>\n      <td>16</td>\n      <td>16</td>\n      <td>0.0</td>\n      <td>2456.625000</td>\n      <td>1913.874147</td>\n      <td>0</td>\n      <td>0.0</td>\n      <td>1</td>\n      <td>0.0</td>\n    </tr>\n    <tr>\n      <th>456042.0</th>\n      <td>8</td>\n      <td>8</td>\n      <td>0.0</td>\n      <td>1984.375000</td>\n      <td>1127.317795</td>\n      <td>0</td>\n      <td>0.0</td>\n      <td>1</td>\n      <td>0.0</td>\n    </tr>\n    <tr>\n      <th>459223.0</th>\n      <td>4</td>\n      <td>4</td>\n      <td>0.0</td>\n      <td>1758.250000</td>\n      <td>487.164158</td>\n      <td>0</td>\n      <td>0.0</td>\n      <td>1</td>\n      <td>0.0</td>\n    </tr>\n    <tr>\n      <th>461272.0</th>\n      <td>5</td>\n      <td>5</td>\n      <td>0.0</td>\n      <td>1025.200000</td>\n      <td>357.138209</td>\n      <td>0</td>\n      <td>0.0</td>\n      <td>1</td>\n      <td>0.0</td>\n    </tr>\n    <tr>\n      <th>461852.0</th>\n      <td>6</td>\n      <td>6</td>\n      <td>0.0</td>\n      <td>3110.333333</td>\n      <td>3081.164434</td>\n      <td>0</td>\n      <td>0.0</td>\n      <td>1</td>\n      <td>0.0</td>\n    </tr>\n    <tr>\n      <th>463780.0</th>\n      <td>22</td>\n      <td>22</td>\n      <td>0.0</td>\n      <td>1652.409091</td>\n      <td>513.529585</td>\n      <td>0</td>\n      <td>0.0</td>\n      <td>1</td>\n      <td>0.0</td>\n    </tr>\n    <tr>\n      <th>464878.0</th>\n      <td>10</td>\n      <td>10</td>\n      <td>0.0</td>\n      <td>2601.700000</td>\n      <td>794.374254</td>\n      <td>0</td>\n      <td>0.0</td>\n      <td>1</td>\n      <td>0.0</td>\n    </tr>\n    <tr>\n      <th>467445.0</th>\n      <td>18</td>\n      <td>18</td>\n      <td>0.0</td>\n      <td>1813.500000</td>\n      <td>1336.262886</td>\n      <td>0</td>\n      <td>0.0</td>\n      <td>1</td>\n      <td>0.0</td>\n    </tr>\n    <tr>\n      <th>468185.0</th>\n      <td>5</td>\n      <td>5</td>\n      <td>0.0</td>\n      <td>1433.800000</td>\n      <td>800.911169</td>\n      <td>0</td>\n      <td>0.0</td>\n      <td>1</td>\n      <td>0.0</td>\n    </tr>\n    <tr>\n      <th>469441.0</th>\n      <td>4</td>\n      <td>4</td>\n      <td>0.0</td>\n      <td>1230.750000</td>\n      <td>372.323672</td>\n      <td>0</td>\n      <td>0.0</td>\n      <td>1</td>\n      <td>0.0</td>\n    </tr>\n    <tr>\n      <th>479010.0</th>\n      <td>10</td>\n      <td>10</td>\n      <td>0.0</td>\n      <td>1714.500000</td>\n      <td>654.750207</td>\n      <td>0</td>\n      <td>0.0</td>\n      <td>1</td>\n      <td>0.0</td>\n    </tr>\n    <tr>\n      <th>484881.0</th>\n      <td>8</td>\n      <td>8</td>\n      <td>0.0</td>\n      <td>3715.125000</td>\n      <td>2631.458989</td>\n      <td>0</td>\n      <td>0.0</td>\n      <td>1</td>\n      <td>0.0</td>\n    </tr>\n    <tr>\n      <th>485561.0</th>\n      <td>5</td>\n      <td>5</td>\n      <td>0.0</td>\n      <td>3047.200000</td>\n      <td>3037.345831</td>\n      <td>0</td>\n      <td>0.0</td>\n      <td>1</td>\n      <td>0.0</td>\n    </tr>\n    <tr>\n      <th>486018.0</th>\n      <td>4</td>\n      <td>4</td>\n      <td>0.0</td>\n      <td>1015.000000</td>\n      <td>201.869595</td>\n      <td>0</td>\n      <td>0.0</td>\n      <td>1</td>\n      <td>0.0</td>\n    </tr>\n    <tr>\n      <th>489027.0</th>\n      <td>5</td>\n      <td>5</td>\n      <td>0.0</td>\n      <td>1124.800000</td>\n      <td>435.363871</td>\n      <td>0</td>\n      <td>0.0</td>\n      <td>1</td>\n      <td>0.0</td>\n    </tr>\n    <tr>\n      <th>490901.0</th>\n      <td>5</td>\n      <td>5</td>\n      <td>0.0</td>\n      <td>1871.600000</td>\n      <td>981.134191</td>\n      <td>0</td>\n      <td>0.0</td>\n      <td>1</td>\n      <td>0.0</td>\n    </tr>\n    <tr>\n      <th>491090.0</th>\n      <td>5</td>\n      <td>5</td>\n      <td>0.0</td>\n      <td>2222.000000</td>\n      <td>1674.833275</td>\n      <td>0</td>\n      <td>0.0</td>\n      <td>1</td>\n      <td>0.0</td>\n    </tr>\n    <tr>\n      <th>493614.0</th>\n      <td>16</td>\n      <td>16</td>\n      <td>0.0</td>\n      <td>4653.750000</td>\n      <td>2716.079957</td>\n      <td>0</td>\n      <td>0.0</td>\n      <td>1</td>\n      <td>0.0</td>\n    </tr>\n    <tr>\n      <th>501414.0</th>\n      <td>13</td>\n      <td>13</td>\n      <td>0.0</td>\n      <td>2971.384615</td>\n      <td>2230.588620</td>\n      <td>0</td>\n      <td>0.0</td>\n      <td>1</td>\n      <td>0.0</td>\n    </tr>\n    <tr>\n      <th>506218.0</th>\n      <td>16</td>\n      <td>16</td>\n      <td>0.0</td>\n      <td>2612.875000</td>\n      <td>1990.568558</td>\n      <td>0</td>\n      <td>0.0</td>\n      <td>1</td>\n      <td>0.0</td>\n    </tr>\n    <tr>\n      <th>507361.0</th>\n      <td>6</td>\n      <td>6</td>\n      <td>0.0</td>\n      <td>2818.166667</td>\n      <td>1582.283592</td>\n      <td>0</td>\n      <td>0.0</td>\n      <td>1</td>\n      <td>0.0</td>\n    </tr>\n    <tr>\n      <th>513724.0</th>\n      <td>11</td>\n      <td>11</td>\n      <td>0.0</td>\n      <td>2541.636364</td>\n      <td>1289.308440</td>\n      <td>0</td>\n      <td>0.0</td>\n      <td>1</td>\n      <td>0.0</td>\n    </tr>\n    <tr>\n      <th>517404.0</th>\n      <td>17</td>\n      <td>17</td>\n      <td>0.0</td>\n      <td>2548.882353</td>\n      <td>1119.652730</td>\n      <td>0</td>\n      <td>0.0</td>\n      <td>1</td>\n      <td>0.0</td>\n    </tr>\n    <tr>\n      <th>521567.0</th>\n      <td>11</td>\n      <td>11</td>\n      <td>0.0</td>\n      <td>1628.727273</td>\n      <td>415.965165</td>\n      <td>0</td>\n      <td>0.0</td>\n      <td>1</td>\n      <td>0.0</td>\n    </tr>\n    <tr>\n      <th>524310.0</th>\n      <td>5</td>\n      <td>5</td>\n      <td>0.0</td>\n      <td>1093.400000</td>\n      <td>154.339885</td>\n      <td>0</td>\n      <td>0.0</td>\n      <td>1</td>\n      <td>0.0</td>\n    </tr>\n    <tr>\n      <th>528041.0</th>\n      <td>14</td>\n      <td>14</td>\n      <td>0.0</td>\n      <td>2349.357143</td>\n      <td>790.337864</td>\n      <td>0</td>\n      <td>0.0</td>\n      <td>1</td>\n      <td>0.0</td>\n    </tr>\n    <tr>\n      <th>528482.0</th>\n      <td>8</td>\n      <td>8</td>\n      <td>0.0</td>\n      <td>1714.500000</td>\n      <td>941.497591</td>\n      <td>0</td>\n      <td>0.0</td>\n      <td>1</td>\n      <td>0.0</td>\n    </tr>\n    <tr>\n      <th>528653.0</th>\n      <td>9</td>\n      <td>9</td>\n      <td>0.0</td>\n      <td>3044.888889</td>\n      <td>2404.563445</td>\n      <td>0</td>\n      <td>0.0</td>\n      <td>1</td>\n      <td>0.0</td>\n    </tr>\n    <tr>\n      <th>537080.0</th>\n      <td>10</td>\n      <td>10</td>\n      <td>0.0</td>\n      <td>2008.100000</td>\n      <td>1409.233633</td>\n      <td>0</td>\n      <td>0.0</td>\n      <td>1</td>\n      <td>0.0</td>\n    </tr>\n    <tr>\n      <th>541645.0</th>\n      <td>10</td>\n      <td>10</td>\n      <td>0.0</td>\n      <td>2039.800000</td>\n      <td>1045.528341</td>\n      <td>0</td>\n      <td>0.0</td>\n      <td>1</td>\n      <td>0.0</td>\n    </tr>\n    <tr>\n      <th>544638.0</th>\n      <td>4</td>\n      <td>4</td>\n      <td>0.0</td>\n      <td>1085.250000</td>\n      <td>257.021886</td>\n      <td>0</td>\n      <td>0.0</td>\n      <td>1</td>\n      <td>0.0</td>\n    </tr>\n    <tr>\n      <th>548477.0</th>\n      <td>8</td>\n      <td>8</td>\n      <td>0.0</td>\n      <td>3358.375000</td>\n      <td>2486.900649</td>\n      <td>0</td>\n      <td>0.0</td>\n      <td>1</td>\n      <td>0.0</td>\n    </tr>\n    <tr>\n      <th>552414.0</th>\n      <td>5</td>\n      <td>5</td>\n      <td>0.0</td>\n      <td>3021.600000</td>\n      <td>3218.608131</td>\n      <td>0</td>\n      <td>0.0</td>\n      <td>1</td>\n      <td>0.0</td>\n    </tr>\n    <tr>\n      <th>554054.0</th>\n      <td>10</td>\n      <td>10</td>\n      <td>0.0</td>\n      <td>3619.500000</td>\n      <td>2410.014258</td>\n      <td>0</td>\n      <td>0.0</td>\n      <td>1</td>\n      <td>0.0</td>\n    </tr>\n    <tr>\n      <th>554473.0</th>\n      <td>21</td>\n      <td>21</td>\n      <td>0.0</td>\n      <td>3986.571429</td>\n      <td>1501.257925</td>\n      <td>0</td>\n      <td>0.0</td>\n      <td>1</td>\n      <td>0.0</td>\n    </tr>\n    <tr>\n      <th>557453.0</th>\n      <td>19</td>\n      <td>19</td>\n      <td>0.0</td>\n      <td>1654.105263</td>\n      <td>867.605831</td>\n      <td>0</td>\n      <td>0.0</td>\n      <td>1</td>\n      <td>0.0</td>\n    </tr>\n    <tr>\n      <th>559530.0</th>\n      <td>7</td>\n      <td>7</td>\n      <td>0.0</td>\n      <td>2246.714286</td>\n      <td>1623.969182</td>\n      <td>0</td>\n      <td>0.0</td>\n      <td>1</td>\n      <td>0.0</td>\n    </tr>\n    <tr>\n      <th>561134.0</th>\n      <td>7</td>\n      <td>7</td>\n      <td>0.0</td>\n      <td>3304.285714</td>\n      <td>1815.540756</td>\n      <td>0</td>\n      <td>0.0</td>\n      <td>1</td>\n      <td>0.0</td>\n    </tr>\n    <tr>\n      <th>562945.0</th>\n      <td>16</td>\n      <td>16</td>\n      <td>0.0</td>\n      <td>4929.500000</td>\n      <td>2636.388717</td>\n      <td>0</td>\n      <td>0.0</td>\n      <td>1</td>\n      <td>0.0</td>\n    </tr>\n    <tr>\n      <th>564369.0</th>\n      <td>7</td>\n      <td>7</td>\n      <td>0.0</td>\n      <td>3117.428571</td>\n      <td>1476.891201</td>\n      <td>0</td>\n      <td>0.0</td>\n      <td>1</td>\n      <td>0.0</td>\n    </tr>\n    <tr>\n      <th>572735.0</th>\n      <td>4</td>\n      <td>4</td>\n      <td>0.0</td>\n      <td>1182.250000</td>\n      <td>192.335427</td>\n      <td>0</td>\n      <td>0.0</td>\n      <td>1</td>\n      <td>0.0</td>\n    </tr>\n    <tr>\n      <th>573978.0</th>\n      <td>7</td>\n      <td>7</td>\n      <td>0.0</td>\n      <td>1462.000000</td>\n      <td>743.984991</td>\n      <td>0</td>\n      <td>0.0</td>\n      <td>1</td>\n      <td>0.0</td>\n    </tr>\n    <tr>\n      <th>577630.0</th>\n      <td>10</td>\n      <td>10</td>\n      <td>0.0</td>\n      <td>2105.000000</td>\n      <td>2257.968162</td>\n      <td>0</td>\n      <td>0.0</td>\n      <td>1</td>\n      <td>0.0</td>\n    </tr>\n    <tr>\n      <th>578085.0</th>\n      <td>10</td>\n      <td>10</td>\n      <td>0.0</td>\n      <td>2200.200000</td>\n      <td>1260.550391</td>\n      <td>0</td>\n      <td>0.0</td>\n      <td>1</td>\n      <td>0.0</td>\n    </tr>\n    <tr>\n      <th>586518.0</th>\n      <td>7</td>\n      <td>7</td>\n      <td>0.0</td>\n      <td>1482.571429</td>\n      <td>652.294887</td>\n      <td>0</td>\n      <td>0.0</td>\n      <td>1</td>\n      <td>0.0</td>\n    </tr>\n    <tr>\n      <th>595728.0</th>\n      <td>14</td>\n      <td>14</td>\n      <td>0.0</td>\n      <td>2351.142857</td>\n      <td>1323.461130</td>\n      <td>0</td>\n      <td>0.0</td>\n      <td>1</td>\n      <td>0.0</td>\n    </tr>\n    <tr>\n      <th>598693.0</th>\n      <td>13</td>\n      <td>13</td>\n      <td>0.0</td>\n      <td>2759.000000</td>\n      <td>1044.791526</td>\n      <td>0</td>\n      <td>0.0</td>\n      <td>1</td>\n      <td>0.0</td>\n    </tr>\n    <tr>\n      <th>599007.0</th>\n      <td>5</td>\n      <td>5</td>\n      <td>0.0</td>\n      <td>2151.400000</td>\n      <td>2253.454970</td>\n      <td>0</td>\n      <td>0.0</td>\n      <td>1</td>\n      <td>0.0</td>\n    </tr>\n    <tr>\n      <th>601236.0</th>\n      <td>17</td>\n      <td>17</td>\n      <td>0.0</td>\n      <td>2126.352941</td>\n      <td>908.341135</td>\n      <td>0</td>\n      <td>0.0</td>\n      <td>1</td>\n      <td>0.0</td>\n    </tr>\n    <tr>\n      <th>601407.0</th>\n      <td>9</td>\n      <td>9</td>\n      <td>0.0</td>\n      <td>1862.666667</td>\n      <td>897.614477</td>\n      <td>0</td>\n      <td>0.0</td>\n      <td>1</td>\n      <td>0.0</td>\n    </tr>\n    <tr>\n      <th>605413.0</th>\n      <td>20</td>\n      <td>20</td>\n      <td>0.0</td>\n      <td>1562.300000</td>\n      <td>1639.165002</td>\n      <td>0</td>\n      <td>0.0</td>\n      <td>1</td>\n      <td>0.0</td>\n    </tr>\n    <tr>\n      <th>612204.0</th>\n      <td>10</td>\n      <td>10</td>\n      <td>0.0</td>\n      <td>2760.300000</td>\n      <td>997.202203</td>\n      <td>0</td>\n      <td>0.0</td>\n      <td>1</td>\n      <td>0.0</td>\n    </tr>\n    <tr>\n      <th>615351.0</th>\n      <td>8</td>\n      <td>8</td>\n      <td>0.0</td>\n      <td>1488.875000</td>\n      <td>475.176490</td>\n      <td>0</td>\n      <td>0.0</td>\n      <td>1</td>\n      <td>0.0</td>\n    </tr>\n    <tr>\n      <th>622387.0</th>\n      <td>14</td>\n      <td>14</td>\n      <td>0.0</td>\n      <td>1465.000000</td>\n      <td>781.998131</td>\n      <td>0</td>\n      <td>0.0</td>\n      <td>1</td>\n      <td>0.0</td>\n    </tr>\n    <tr>\n      <th>624559.0</th>\n      <td>6</td>\n      <td>6</td>\n      <td>0.0</td>\n      <td>1117.333333</td>\n      <td>545.939801</td>\n      <td>0</td>\n      <td>0.0</td>\n      <td>1</td>\n      <td>0.0</td>\n    </tr>\n    <tr>\n      <th>628718.0</th>\n      <td>6</td>\n      <td>6</td>\n      <td>0.0</td>\n      <td>1428.666667</td>\n      <td>293.387571</td>\n      <td>0</td>\n      <td>0.0</td>\n      <td>1</td>\n      <td>0.0</td>\n    </tr>\n    <tr>\n      <th>632838.0</th>\n      <td>8</td>\n      <td>8</td>\n      <td>0.0</td>\n      <td>1484.250000</td>\n      <td>506.271455</td>\n      <td>0</td>\n      <td>0.0</td>\n      <td>1</td>\n      <td>0.0</td>\n    </tr>\n    <tr>\n      <th>640181.0</th>\n      <td>7</td>\n      <td>7</td>\n      <td>0.0</td>\n      <td>3364.000000</td>\n      <td>1809.982505</td>\n      <td>0</td>\n      <td>0.0</td>\n      <td>1</td>\n      <td>0.0</td>\n    </tr>\n    <tr>\n      <th>644865.0</th>\n      <td>4</td>\n      <td>4</td>\n      <td>0.0</td>\n      <td>1281.500000</td>\n      <td>212.970264</td>\n      <td>0</td>\n      <td>0.0</td>\n      <td>1</td>\n      <td>0.0</td>\n    </tr>\n    <tr>\n      <th>647658.0</th>\n      <td>9</td>\n      <td>9</td>\n      <td>0.0</td>\n      <td>3115.666667</td>\n      <td>1765.464599</td>\n      <td>0</td>\n      <td>0.0</td>\n      <td>1</td>\n      <td>0.0</td>\n    </tr>\n    <tr>\n      <th>652890.0</th>\n      <td>6</td>\n      <td>6</td>\n      <td>0.0</td>\n      <td>3432.666667</td>\n      <td>2403.698539</td>\n      <td>0</td>\n      <td>0.0</td>\n      <td>1</td>\n      <td>0.0</td>\n    </tr>\n    <tr>\n      <th>653673.0</th>\n      <td>4</td>\n      <td>4</td>\n      <td>0.0</td>\n      <td>1660.250000</td>\n      <td>983.125077</td>\n      <td>0</td>\n      <td>0.0</td>\n      <td>1</td>\n      <td>0.0</td>\n    </tr>\n    <tr>\n      <th>657902.0</th>\n      <td>9</td>\n      <td>9</td>\n      <td>0.0</td>\n      <td>1962.666667</td>\n      <td>895.202770</td>\n      <td>0</td>\n      <td>0.0</td>\n      <td>1</td>\n      <td>0.0</td>\n    </tr>\n    <tr>\n      <th>663372.0</th>\n      <td>4</td>\n      <td>4</td>\n      <td>0.0</td>\n      <td>1586.750000</td>\n      <td>393.300034</td>\n      <td>0</td>\n      <td>0.0</td>\n      <td>1</td>\n      <td>0.0</td>\n    </tr>\n    <tr>\n      <th>663604.0</th>\n      <td>4</td>\n      <td>4</td>\n      <td>0.0</td>\n      <td>943.500000</td>\n      <td>332.658484</td>\n      <td>0</td>\n      <td>0.0</td>\n      <td>1</td>\n      <td>0.0</td>\n    </tr>\n    <tr>\n      <th>664027.0</th>\n      <td>6</td>\n      <td>6</td>\n      <td>0.0</td>\n      <td>3338.166667</td>\n      <td>1555.363034</td>\n      <td>0</td>\n      <td>0.0</td>\n      <td>1</td>\n      <td>0.0</td>\n    </tr>\n    <tr>\n      <th>664687.0</th>\n      <td>4</td>\n      <td>4</td>\n      <td>0.0</td>\n      <td>1884.500000</td>\n      <td>810.997945</td>\n      <td>0</td>\n      <td>0.0</td>\n      <td>1</td>\n      <td>0.0</td>\n    </tr>\n    <tr>\n      <th>667664.0</th>\n      <td>5</td>\n      <td>5</td>\n      <td>0.0</td>\n      <td>2199.400000</td>\n      <td>1673.376616</td>\n      <td>0</td>\n      <td>0.0</td>\n      <td>1</td>\n      <td>0.0</td>\n    </tr>\n    <tr>\n      <th>671809.0</th>\n      <td>11</td>\n      <td>11</td>\n      <td>0.0</td>\n      <td>3401.090909</td>\n      <td>2245.603146</td>\n      <td>0</td>\n      <td>0.0</td>\n      <td>1</td>\n      <td>0.0</td>\n    </tr>\n    <tr>\n      <th>672956.0</th>\n      <td>6</td>\n      <td>6</td>\n      <td>0.0</td>\n      <td>3281.333333</td>\n      <td>3269.004782</td>\n      <td>0</td>\n      <td>0.0</td>\n      <td>1</td>\n      <td>0.0</td>\n    </tr>\n    <tr>\n      <th>674647.0</th>\n      <td>10</td>\n      <td>10</td>\n      <td>0.0</td>\n      <td>1166.600000</td>\n      <td>250.158705</td>\n      <td>0</td>\n      <td>0.0</td>\n      <td>1</td>\n      <td>0.0</td>\n    </tr>\n    <tr>\n      <th>678629.0</th>\n      <td>3</td>\n      <td>3</td>\n      <td>0.0</td>\n      <td>828.000000</td>\n      <td>178.336760</td>\n      <td>0</td>\n      <td>0.0</td>\n      <td>1</td>\n      <td>0.0</td>\n    </tr>\n    <tr>\n      <th>683638.0</th>\n      <td>12</td>\n      <td>12</td>\n      <td>0.0</td>\n      <td>2420.916667</td>\n      <td>1993.351014</td>\n      <td>0</td>\n      <td>0.0</td>\n      <td>1</td>\n      <td>0.0</td>\n    </tr>\n    <tr>\n      <th>684712.0</th>\n      <td>5</td>\n      <td>5</td>\n      <td>0.0</td>\n      <td>1863.600000</td>\n      <td>1004.188628</td>\n      <td>0</td>\n      <td>0.0</td>\n      <td>1</td>\n      <td>0.0</td>\n    </tr>\n    <tr>\n      <th>685375.0</th>\n      <td>11</td>\n      <td>11</td>\n      <td>0.0</td>\n      <td>2212.272727</td>\n      <td>1120.894651</td>\n      <td>0</td>\n      <td>0.0</td>\n      <td>1</td>\n      <td>0.0</td>\n    </tr>\n    <tr>\n      <th>690573.0</th>\n      <td>11</td>\n      <td>11</td>\n      <td>0.0</td>\n      <td>2507.545455</td>\n      <td>1085.903805</td>\n      <td>0</td>\n      <td>0.0</td>\n      <td>1</td>\n      <td>0.0</td>\n    </tr>\n    <tr>\n      <th>695489.0</th>\n      <td>17</td>\n      <td>17</td>\n      <td>0.0</td>\n      <td>1352.588235</td>\n      <td>1074.402279</td>\n      <td>0</td>\n      <td>0.0</td>\n      <td>1</td>\n      <td>0.0</td>\n    </tr>\n    <tr>\n      <th>699794.0</th>\n      <td>4</td>\n      <td>4</td>\n      <td>0.0</td>\n      <td>1371.250000</td>\n      <td>517.143678</td>\n      <td>0</td>\n      <td>0.0</td>\n      <td>1</td>\n      <td>0.0</td>\n    </tr>\n    <tr>\n      <th>701738.0</th>\n      <td>9</td>\n      <td>9</td>\n      <td>0.0</td>\n      <td>1548.777778</td>\n      <td>490.767709</td>\n      <td>0</td>\n      <td>0.0</td>\n      <td>1</td>\n      <td>0.0</td>\n    </tr>\n    <tr>\n      <th>702467.0</th>\n      <td>6</td>\n      <td>6</td>\n      <td>0.0</td>\n      <td>1356.666667</td>\n      <td>798.922441</td>\n      <td>0</td>\n      <td>0.0</td>\n      <td>1</td>\n      <td>0.0</td>\n    </tr>\n    <tr>\n      <th>706034.0</th>\n      <td>8</td>\n      <td>8</td>\n      <td>0.0</td>\n      <td>2724.125000</td>\n      <td>1606.136753</td>\n      <td>0</td>\n      <td>0.0</td>\n      <td>1</td>\n      <td>0.0</td>\n    </tr>\n    <tr>\n      <th>709209.0</th>\n      <td>6</td>\n      <td>6</td>\n      <td>0.0</td>\n      <td>3105.833333</td>\n      <td>2057.253647</td>\n      <td>0</td>\n      <td>0.0</td>\n      <td>1</td>\n      <td>0.0</td>\n    </tr>\n    <tr>\n      <th>709691.0</th>\n      <td>8</td>\n      <td>8</td>\n      <td>0.0</td>\n      <td>2553.750000</td>\n      <td>632.286723</td>\n      <td>0</td>\n      <td>0.0</td>\n      <td>1</td>\n      <td>0.0</td>\n    </tr>\n    <tr>\n      <th>713183.0</th>\n      <td>16</td>\n      <td>16</td>\n      <td>0.0</td>\n      <td>2995.625000</td>\n      <td>1482.476346</td>\n      <td>0</td>\n      <td>0.0</td>\n      <td>1</td>\n      <td>0.0</td>\n    </tr>\n    <tr>\n      <th>717182.0</th>\n      <td>10</td>\n      <td>10</td>\n      <td>0.0</td>\n      <td>2208.700000</td>\n      <td>1751.392148</td>\n      <td>0</td>\n      <td>0.0</td>\n      <td>1</td>\n      <td>0.0</td>\n    </tr>\n    <tr>\n      <th>720294.0</th>\n      <td>3</td>\n      <td>3</td>\n      <td>0.0</td>\n      <td>2204.000000</td>\n      <td>1015.528926</td>\n      <td>0</td>\n      <td>0.0</td>\n      <td>1</td>\n      <td>0.0</td>\n    </tr>\n    <tr>\n      <th>722252.0</th>\n      <td>5</td>\n      <td>5</td>\n      <td>0.0</td>\n      <td>1344.600000</td>\n      <td>498.386196</td>\n      <td>0</td>\n      <td>0.0</td>\n      <td>1</td>\n      <td>0.0</td>\n    </tr>\n    <tr>\n      <th>722573.0</th>\n      <td>12</td>\n      <td>12</td>\n      <td>0.0</td>\n      <td>3028.583333</td>\n      <td>1494.900207</td>\n      <td>0</td>\n      <td>0.0</td>\n      <td>1</td>\n      <td>0.0</td>\n    </tr>\n    <tr>\n      <th>723258.0</th>\n      <td>6</td>\n      <td>6</td>\n      <td>0.0</td>\n      <td>1557.500000</td>\n      <td>255.176606</td>\n      <td>0</td>\n      <td>0.0</td>\n      <td>1</td>\n      <td>0.0</td>\n    </tr>\n    <tr>\n      <th>726906.0</th>\n      <td>9</td>\n      <td>9</td>\n      <td>0.0</td>\n      <td>3124.555556</td>\n      <td>2096.089998</td>\n      <td>0</td>\n      <td>0.0</td>\n      <td>1</td>\n      <td>0.0</td>\n    </tr>\n    <tr>\n      <th>736251.0</th>\n      <td>5</td>\n      <td>5</td>\n      <td>0.0</td>\n      <td>4183.000000</td>\n      <td>1845.703795</td>\n      <td>0</td>\n      <td>0.0</td>\n      <td>1</td>\n      <td>0.0</td>\n    </tr>\n    <tr>\n      <th>737724.0</th>\n      <td>7</td>\n      <td>7</td>\n      <td>0.0</td>\n      <td>2689.000000</td>\n      <td>1420.011150</td>\n      <td>0</td>\n      <td>0.0</td>\n      <td>1</td>\n      <td>0.0</td>\n    </tr>\n    <tr>\n      <th>738408.0</th>\n      <td>8</td>\n      <td>8</td>\n      <td>0.0</td>\n      <td>4963.000000</td>\n      <td>3163.734276</td>\n      <td>0</td>\n      <td>0.0</td>\n      <td>1</td>\n      <td>0.0</td>\n    </tr>\n    <tr>\n      <th>739085.0</th>\n      <td>7</td>\n      <td>7</td>\n      <td>0.0</td>\n      <td>2400.428571</td>\n      <td>1063.603914</td>\n      <td>0</td>\n      <td>0.0</td>\n      <td>1</td>\n      <td>0.0</td>\n    </tr>\n    <tr>\n      <th>739375.0</th>\n      <td>8</td>\n      <td>8</td>\n      <td>0.0</td>\n      <td>1949.500000</td>\n      <td>1068.381553</td>\n      <td>0</td>\n      <td>0.0</td>\n      <td>1</td>\n      <td>0.0</td>\n    </tr>\n    <tr>\n      <th>774789.0</th>\n      <td>7</td>\n      <td>7</td>\n      <td>0.0</td>\n      <td>1940.000000</td>\n      <td>496.282849</td>\n      <td>0</td>\n      <td>0.0</td>\n      <td>1</td>\n      <td>0.0</td>\n    </tr>\n    <tr>\n      <th>787344.0</th>\n      <td>13</td>\n      <td>13</td>\n      <td>0.0</td>\n      <td>561.000000</td>\n      <td>489.683571</td>\n      <td>0</td>\n      <td>0.0</td>\n      <td>1</td>\n      <td>0.0</td>\n    </tr>\n    <tr>\n      <th>790956.0</th>\n      <td>18</td>\n      <td>18</td>\n      <td>0.0</td>\n      <td>2266.388889</td>\n      <td>1611.442910</td>\n      <td>0</td>\n      <td>0.0</td>\n      <td>1</td>\n      <td>0.0</td>\n    </tr>\n    <tr>\n      <th>792318.0</th>\n      <td>16</td>\n      <td>16</td>\n      <td>0.0</td>\n      <td>2284.000000</td>\n      <td>2081.320574</td>\n      <td>0</td>\n      <td>0.0</td>\n      <td>1</td>\n      <td>0.0</td>\n    </tr>\n    <tr>\n      <th>793438.0</th>\n      <td>6</td>\n      <td>6</td>\n      <td>0.0</td>\n      <td>1068.500000</td>\n      <td>259.156131</td>\n      <td>0</td>\n      <td>0.0</td>\n      <td>1</td>\n      <td>0.0</td>\n    </tr>\n    <tr>\n      <th>793912.0</th>\n      <td>13</td>\n      <td>13</td>\n      <td>0.0</td>\n      <td>1496.846154</td>\n      <td>348.763493</td>\n      <td>0</td>\n      <td>0.0</td>\n      <td>1</td>\n      <td>0.0</td>\n    </tr>\n    <tr>\n      <th>794450.0</th>\n      <td>5</td>\n      <td>5</td>\n      <td>0.0</td>\n      <td>2611.000000</td>\n      <td>1201.909938</td>\n      <td>0</td>\n      <td>0.0</td>\n      <td>1</td>\n      <td>0.0</td>\n    </tr>\n    <tr>\n      <th>807208.0</th>\n      <td>14</td>\n      <td>14</td>\n      <td>0.0</td>\n      <td>2356.928571</td>\n      <td>609.385499</td>\n      <td>0</td>\n      <td>0.0</td>\n      <td>1</td>\n      <td>0.0</td>\n    </tr>\n    <tr>\n      <th>812735.0</th>\n      <td>6</td>\n      <td>6</td>\n      <td>0.0</td>\n      <td>1924.833333</td>\n      <td>953.983945</td>\n      <td>0</td>\n      <td>0.0</td>\n      <td>1</td>\n      <td>0.0</td>\n    </tr>\n    <tr>\n      <th>816404.0</th>\n      <td>7</td>\n      <td>7</td>\n      <td>0.0</td>\n      <td>1723.142857</td>\n      <td>907.272364</td>\n      <td>0</td>\n      <td>0.0</td>\n      <td>1</td>\n      <td>0.0</td>\n    </tr>\n    <tr>\n      <th>818967.0</th>\n      <td>10</td>\n      <td>10</td>\n      <td>0.0</td>\n      <td>3371.600000</td>\n      <td>2119.089071</td>\n      <td>0</td>\n      <td>0.0</td>\n      <td>1</td>\n      <td>0.0</td>\n    </tr>\n    <tr>\n      <th>819142.0</th>\n      <td>6</td>\n      <td>6</td>\n      <td>0.0</td>\n      <td>1809.833333</td>\n      <td>1263.841828</td>\n      <td>0</td>\n      <td>0.0</td>\n      <td>1</td>\n      <td>0.0</td>\n    </tr>\n    <tr>\n      <th>819705.0</th>\n      <td>16</td>\n      <td>16</td>\n      <td>0.0</td>\n      <td>2005.625000</td>\n      <td>652.567838</td>\n      <td>0</td>\n      <td>0.0</td>\n      <td>1</td>\n      <td>0.0</td>\n    </tr>\n    <tr>\n      <th>823460.0</th>\n      <td>13</td>\n      <td>13</td>\n      <td>0.0</td>\n      <td>1671.538462</td>\n      <td>869.024224</td>\n      <td>0</td>\n      <td>0.0</td>\n      <td>1</td>\n      <td>0.0</td>\n    </tr>\n    <tr>\n      <th>826698.0</th>\n      <td>4</td>\n      <td>4</td>\n      <td>0.0</td>\n      <td>1453.750000</td>\n      <td>673.059866</td>\n      <td>0</td>\n      <td>0.0</td>\n      <td>1</td>\n      <td>0.0</td>\n    </tr>\n    <tr>\n      <th>835635.0</th>\n      <td>15</td>\n      <td>15</td>\n      <td>0.0</td>\n      <td>509.000000</td>\n      <td>532.869054</td>\n      <td>0</td>\n      <td>0.0</td>\n      <td>1</td>\n      <td>0.0</td>\n    </tr>\n    <tr>\n      <th>840021.0</th>\n      <td>4</td>\n      <td>4</td>\n      <td>0.0</td>\n      <td>1518.250000</td>\n      <td>706.209306</td>\n      <td>0</td>\n      <td>0.0</td>\n      <td>1</td>\n      <td>0.0</td>\n    </tr>\n    <tr>\n      <th>844810.0</th>\n      <td>8</td>\n      <td>8</td>\n      <td>0.0</td>\n      <td>2201.875000</td>\n      <td>972.263844</td>\n      <td>0</td>\n      <td>0.0</td>\n      <td>1</td>\n      <td>0.0</td>\n    </tr>\n    <tr>\n      <th>846954.0</th>\n      <td>14</td>\n      <td>14</td>\n      <td>0.0</td>\n      <td>2217.857143</td>\n      <td>2256.880927</td>\n      <td>0</td>\n      <td>0.0</td>\n      <td>1</td>\n      <td>0.0</td>\n    </tr>\n    <tr>\n      <th>847759.0</th>\n      <td>17</td>\n      <td>17</td>\n      <td>0.0</td>\n      <td>3212.941176</td>\n      <td>1297.576755</td>\n      <td>0</td>\n      <td>0.0</td>\n      <td>1</td>\n      <td>0.0</td>\n    </tr>\n    <tr>\n      <th>851366.0</th>\n      <td>10</td>\n      <td>10</td>\n      <td>0.0</td>\n      <td>1283.600000</td>\n      <td>1228.440945</td>\n      <td>0</td>\n      <td>0.0</td>\n      <td>1</td>\n      <td>0.0</td>\n    </tr>\n    <tr>\n      <th>852903.0</th>\n      <td>15</td>\n      <td>15</td>\n      <td>0.0</td>\n      <td>2479.933333</td>\n      <td>1781.386237</td>\n      <td>0</td>\n      <td>0.0</td>\n      <td>1</td>\n      <td>0.0</td>\n    </tr>\n    <tr>\n      <th>855028.0</th>\n      <td>10</td>\n      <td>10</td>\n      <td>0.0</td>\n      <td>2326.800000</td>\n      <td>1848.627106</td>\n      <td>0</td>\n      <td>0.0</td>\n      <td>1</td>\n      <td>0.0</td>\n    </tr>\n    <tr>\n      <th>864636.0</th>\n      <td>5</td>\n      <td>5</td>\n      <td>0.0</td>\n      <td>2051.200000</td>\n      <td>785.360872</td>\n      <td>0</td>\n      <td>0.0</td>\n      <td>1</td>\n      <td>0.0</td>\n    </tr>\n    <tr>\n      <th>865667.0</th>\n      <td>4</td>\n      <td>4</td>\n      <td>0.0</td>\n      <td>3656.000000</td>\n      <td>1492.324138</td>\n      <td>0</td>\n      <td>0.0</td>\n      <td>1</td>\n      <td>0.0</td>\n    </tr>\n    <tr>\n      <th>866118.0</th>\n      <td>7</td>\n      <td>7</td>\n      <td>0.0</td>\n      <td>1443.000000</td>\n      <td>809.357152</td>\n      <td>0</td>\n      <td>0.0</td>\n      <td>1</td>\n      <td>0.0</td>\n    </tr>\n    <tr>\n      <th>867257.0</th>\n      <td>7</td>\n      <td>7</td>\n      <td>0.0</td>\n      <td>3544.142857</td>\n      <td>971.648844</td>\n      <td>0</td>\n      <td>0.0</td>\n      <td>1</td>\n      <td>0.0</td>\n    </tr>\n    <tr>\n      <th>869019.0</th>\n      <td>10</td>\n      <td>10</td>\n      <td>0.0</td>\n      <td>2882.600000</td>\n      <td>1015.896451</td>\n      <td>0</td>\n      <td>0.0</td>\n      <td>1</td>\n      <td>0.0</td>\n    </tr>\n    <tr>\n      <th>869266.0</th>\n      <td>6</td>\n      <td>6</td>\n      <td>0.0</td>\n      <td>3252.166667</td>\n      <td>760.767880</td>\n      <td>0</td>\n      <td>0.0</td>\n      <td>1</td>\n      <td>0.0</td>\n    </tr>\n    <tr>\n      <th>870858.0</th>\n      <td>16</td>\n      <td>16</td>\n      <td>0.0</td>\n      <td>2892.375000</td>\n      <td>1609.829344</td>\n      <td>0</td>\n      <td>0.0</td>\n      <td>1</td>\n      <td>0.0</td>\n    </tr>\n    <tr>\n      <th>873417.0</th>\n      <td>6</td>\n      <td>6</td>\n      <td>0.0</td>\n      <td>1462.333333</td>\n      <td>711.435638</td>\n      <td>0</td>\n      <td>0.0</td>\n      <td>1</td>\n      <td>0.0</td>\n    </tr>\n    <tr>\n      <th>875596.0</th>\n      <td>11</td>\n      <td>11</td>\n      <td>0.0</td>\n      <td>3055.818182</td>\n      <td>2387.469573</td>\n      <td>0</td>\n      <td>0.0</td>\n      <td>1</td>\n      <td>0.0</td>\n    </tr>\n    <tr>\n      <th>875693.0</th>\n      <td>6</td>\n      <td>6</td>\n      <td>0.0</td>\n      <td>2071.333333</td>\n      <td>592.017793</td>\n      <td>0</td>\n      <td>0.0</td>\n      <td>1</td>\n      <td>0.0</td>\n    </tr>\n    <tr>\n      <th>882008.0</th>\n      <td>19</td>\n      <td>19</td>\n      <td>0.0</td>\n      <td>1696.105263</td>\n      <td>2322.128523</td>\n      <td>0</td>\n      <td>0.0</td>\n      <td>1</td>\n      <td>0.0</td>\n    </tr>\n    <tr>\n      <th>882397.0</th>\n      <td>15</td>\n      <td>15</td>\n      <td>0.0</td>\n      <td>2386.866667</td>\n      <td>1719.997918</td>\n      <td>0</td>\n      <td>0.0</td>\n      <td>1</td>\n      <td>0.0</td>\n    </tr>\n    <tr>\n      <th>889197.0</th>\n      <td>4</td>\n      <td>4</td>\n      <td>0.0</td>\n      <td>3501.000000</td>\n      <td>2712.588555</td>\n      <td>0</td>\n      <td>0.0</td>\n      <td>1</td>\n      <td>0.0</td>\n    </tr>\n    <tr>\n      <th>889968.0</th>\n      <td>14</td>\n      <td>14</td>\n      <td>0.0</td>\n      <td>2229.500000</td>\n      <td>908.984958</td>\n      <td>0</td>\n      <td>0.0</td>\n      <td>1</td>\n      <td>0.0</td>\n    </tr>\n    <tr>\n      <th>891096.0</th>\n      <td>4</td>\n      <td>4</td>\n      <td>0.0</td>\n      <td>3572.250000</td>\n      <td>2420.436101</td>\n      <td>0</td>\n      <td>0.0</td>\n      <td>1</td>\n      <td>0.0</td>\n    </tr>\n    <tr>\n      <th>892549.0</th>\n      <td>4</td>\n      <td>4</td>\n      <td>0.0</td>\n      <td>1321.500000</td>\n      <td>292.673310</td>\n      <td>0</td>\n      <td>0.0</td>\n      <td>1</td>\n      <td>0.0</td>\n    </tr>\n    <tr>\n      <th>895200.0</th>\n      <td>4</td>\n      <td>4</td>\n      <td>0.0</td>\n      <td>2203.250000</td>\n      <td>1515.167400</td>\n      <td>0</td>\n      <td>0.0</td>\n      <td>1</td>\n      <td>0.0</td>\n    </tr>\n    <tr>\n      <th>895883.0</th>\n      <td>7</td>\n      <td>7</td>\n      <td>0.0</td>\n      <td>2884.142857</td>\n      <td>2481.248841</td>\n      <td>0</td>\n      <td>0.0</td>\n      <td>1</td>\n      <td>0.0</td>\n    </tr>\n    <tr>\n      <th>896860.0</th>\n      <td>17</td>\n      <td>17</td>\n      <td>0.0</td>\n      <td>3343.823529</td>\n      <td>2332.194842</td>\n      <td>0</td>\n      <td>0.0</td>\n      <td>1</td>\n      <td>0.0</td>\n    </tr>\n    <tr>\n      <th>897924.0</th>\n      <td>4</td>\n      <td>4</td>\n      <td>0.0</td>\n      <td>2497.250000</td>\n      <td>2014.198331</td>\n      <td>0</td>\n      <td>0.0</td>\n      <td>1</td>\n      <td>0.0</td>\n    </tr>\n    <tr>\n      <th>902113.0</th>\n      <td>6</td>\n      <td>6</td>\n      <td>0.0</td>\n      <td>2074.333333</td>\n      <td>1471.805241</td>\n      <td>0</td>\n      <td>0.0</td>\n      <td>1</td>\n      <td>0.0</td>\n    </tr>\n    <tr>\n      <th>905859.0</th>\n      <td>15</td>\n      <td>15</td>\n      <td>0.0</td>\n      <td>2624.066667</td>\n      <td>942.198225</td>\n      <td>0</td>\n      <td>0.0</td>\n      <td>1</td>\n      <td>0.0</td>\n    </tr>\n    <tr>\n      <th>915038.0</th>\n      <td>14</td>\n      <td>14</td>\n      <td>0.0</td>\n      <td>1423.214286</td>\n      <td>484.620260</td>\n      <td>0</td>\n      <td>0.0</td>\n      <td>1</td>\n      <td>0.0</td>\n    </tr>\n    <tr>\n      <th>919015.0</th>\n      <td>2</td>\n      <td>2</td>\n      <td>0.0</td>\n      <td>2258.000000</td>\n      <td>1282.691701</td>\n      <td>0</td>\n      <td>0.0</td>\n      <td>1</td>\n      <td>0.0</td>\n    </tr>\n    <tr>\n      <th>924198.0</th>\n      <td>12</td>\n      <td>12</td>\n      <td>0.0</td>\n      <td>4258.416667</td>\n      <td>1919.036617</td>\n      <td>0</td>\n      <td>0.0</td>\n      <td>1</td>\n      <td>0.0</td>\n    </tr>\n    <tr>\n      <th>925283.0</th>\n      <td>3</td>\n      <td>3</td>\n      <td>0.0</td>\n      <td>2615.666667</td>\n      <td>1391.819073</td>\n      <td>0</td>\n      <td>0.0</td>\n      <td>1</td>\n      <td>0.0</td>\n    </tr>\n    <tr>\n      <th>929907.0</th>\n      <td>8</td>\n      <td>8</td>\n      <td>0.0</td>\n      <td>1338.750000</td>\n      <td>312.590901</td>\n      <td>0</td>\n      <td>0.0</td>\n      <td>1</td>\n      <td>0.0</td>\n    </tr>\n    <tr>\n      <th>934851.0</th>\n      <td>7</td>\n      <td>7</td>\n      <td>0.0</td>\n      <td>3285.000000</td>\n      <td>1725.313691</td>\n      <td>0</td>\n      <td>0.0</td>\n      <td>1</td>\n      <td>0.0</td>\n    </tr>\n    <tr>\n      <th>936870.0</th>\n      <td>4</td>\n      <td>4</td>\n      <td>0.0</td>\n      <td>1920.750000</td>\n      <td>467.094120</td>\n      <td>0</td>\n      <td>0.0</td>\n      <td>1</td>\n      <td>0.0</td>\n    </tr>\n    <tr>\n      <th>937746.0</th>\n      <td>7</td>\n      <td>7</td>\n      <td>0.0</td>\n      <td>3878.714286</td>\n      <td>2540.092696</td>\n      <td>0</td>\n      <td>0.0</td>\n      <td>1</td>\n      <td>0.0</td>\n    </tr>\n    <tr>\n      <th>938534.0</th>\n      <td>7</td>\n      <td>7</td>\n      <td>0.0</td>\n      <td>1831.714286</td>\n      <td>1620.488786</td>\n      <td>0</td>\n      <td>0.0</td>\n      <td>1</td>\n      <td>0.0</td>\n    </tr>\n    <tr>\n      <th>941737.0</th>\n      <td>11</td>\n      <td>11</td>\n      <td>0.0</td>\n      <td>2520.181818</td>\n      <td>984.962316</td>\n      <td>0</td>\n      <td>0.0</td>\n      <td>1</td>\n      <td>0.0</td>\n    </tr>\n    <tr>\n      <th>948158.0</th>\n      <td>6</td>\n      <td>6</td>\n      <td>0.0</td>\n      <td>2913.000000</td>\n      <td>1262.587977</td>\n      <td>0</td>\n      <td>0.0</td>\n      <td>1</td>\n      <td>0.0</td>\n    </tr>\n    <tr>\n      <th>948299.0</th>\n      <td>4</td>\n      <td>4</td>\n      <td>0.0</td>\n      <td>2477.500000</td>\n      <td>1578.861510</td>\n      <td>0</td>\n      <td>0.0</td>\n      <td>1</td>\n      <td>0.0</td>\n    </tr>\n    <tr>\n      <th>948779.0</th>\n      <td>5</td>\n      <td>5</td>\n      <td>0.0</td>\n      <td>3085.400000</td>\n      <td>1914.868742</td>\n      <td>0</td>\n      <td>0.0</td>\n      <td>1</td>\n      <td>0.0</td>\n    </tr>\n    <tr>\n      <th>951022.0</th>\n      <td>6</td>\n      <td>6</td>\n      <td>0.0</td>\n      <td>1783.166667</td>\n      <td>867.047730</td>\n      <td>0</td>\n      <td>0.0</td>\n      <td>1</td>\n      <td>0.0</td>\n    </tr>\n    <tr>\n      <th>951797.0</th>\n      <td>15</td>\n      <td>15</td>\n      <td>0.0</td>\n      <td>2055.866667</td>\n      <td>798.654392</td>\n      <td>0</td>\n      <td>0.0</td>\n      <td>1</td>\n      <td>0.0</td>\n    </tr>\n    <tr>\n      <th>952799.0</th>\n      <td>6</td>\n      <td>6</td>\n      <td>0.0</td>\n      <td>1692.166667</td>\n      <td>1187.084397</td>\n      <td>0</td>\n      <td>0.0</td>\n      <td>1</td>\n      <td>0.0</td>\n    </tr>\n    <tr>\n      <th>960412.0</th>\n      <td>10</td>\n      <td>10</td>\n      <td>0.0</td>\n      <td>2873.000000</td>\n      <td>2692.527313</td>\n      <td>0</td>\n      <td>0.0</td>\n      <td>1</td>\n      <td>0.0</td>\n    </tr>\n    <tr>\n      <th>963191.0</th>\n      <td>19</td>\n      <td>19</td>\n      <td>0.0</td>\n      <td>3967.368421</td>\n      <td>2163.160425</td>\n      <td>0</td>\n      <td>0.0</td>\n      <td>1</td>\n      <td>0.0</td>\n    </tr>\n    <tr>\n      <th>971229.0</th>\n      <td>4</td>\n      <td>4</td>\n      <td>0.0</td>\n      <td>973.000000</td>\n      <td>200.071654</td>\n      <td>0</td>\n      <td>0.0</td>\n      <td>1</td>\n      <td>0.0</td>\n    </tr>\n    <tr>\n      <th>976061.0</th>\n      <td>5</td>\n      <td>5</td>\n      <td>0.0</td>\n      <td>1495.200000</td>\n      <td>565.777076</td>\n      <td>0</td>\n      <td>0.0</td>\n      <td>1</td>\n      <td>0.0</td>\n    </tr>\n    <tr>\n      <th>977008.0</th>\n      <td>16</td>\n      <td>16</td>\n      <td>0.0</td>\n      <td>2058.187500</td>\n      <td>1433.205974</td>\n      <td>0</td>\n      <td>0.0</td>\n      <td>1</td>\n      <td>0.0</td>\n    </tr>\n    <tr>\n      <th>978676.0</th>\n      <td>4</td>\n      <td>4</td>\n      <td>0.0</td>\n      <td>2302.750000</td>\n      <td>1518.696014</td>\n      <td>0</td>\n      <td>0.0</td>\n      <td>1</td>\n      <td>0.0</td>\n    </tr>\n    <tr>\n      <th>979785.0</th>\n      <td>6</td>\n      <td>6</td>\n      <td>0.0</td>\n      <td>1202.333333</td>\n      <td>247.232414</td>\n      <td>0</td>\n      <td>0.0</td>\n      <td>1</td>\n      <td>0.0</td>\n    </tr>\n    <tr>\n      <th>984020.0</th>\n      <td>9</td>\n      <td>9</td>\n      <td>0.0</td>\n      <td>1704.555556</td>\n      <td>723.798679</td>\n      <td>0</td>\n      <td>0.0</td>\n      <td>1</td>\n      <td>0.0</td>\n    </tr>\n    <tr>\n      <th>987993.0</th>\n      <td>13</td>\n      <td>13</td>\n      <td>0.0</td>\n      <td>1602.000000</td>\n      <td>635.113113</td>\n      <td>0</td>\n      <td>0.0</td>\n      <td>1</td>\n      <td>0.0</td>\n    </tr>\n    <tr>\n      <th>996407.0</th>\n      <td>7</td>\n      <td>7</td>\n      <td>0.0</td>\n      <td>994.857143</td>\n      <td>421.203604</td>\n      <td>0</td>\n      <td>0.0</td>\n      <td>1</td>\n      <td>0.0</td>\n    </tr>\n    <tr>\n      <th>998593.0</th>\n      <td>13</td>\n      <td>13</td>\n      <td>0.0</td>\n      <td>4082.153846</td>\n      <td>2142.645438</td>\n      <td>0</td>\n      <td>0.0</td>\n      <td>1</td>\n      <td>0.0</td>\n    </tr>\n  </tbody>\n</table>\n</div>"
     },
     "metadata": {},
     "execution_count": 118
    }
   ],
   "source": [
    "x"
   ]
  },
  {
   "source": [
    "# Final Datasets\n",
    "\n",
    "These curated datasets are now joined, pruned & transformed to produce the `final` set of datasets - on which we will conduct our anaylsis.\n",
    "\n",
    "\n",
    "# Structure\n",
    "\n",
    "#### wcst\n"
   ],
   "cell_type": "markdown",
   "metadata": {}
  },
  {
   "cell_type": "code",
   "execution_count": null,
   "metadata": {},
   "outputs": [],
   "source": []
  },
  {
   "cell_type": "code",
   "execution_count": null,
   "metadata": {},
   "outputs": [],
   "source": []
  },
  {
   "cell_type": "code",
   "execution_count": null,
   "metadata": {},
   "outputs": [],
   "source": []
  },
  {
   "cell_type": "code",
   "execution_count": null,
   "metadata": {},
   "outputs": [],
   "source": []
  },
  {
   "cell_type": "code",
   "execution_count": 12,
   "metadata": {},
   "outputs": [
    {
     "output_type": "execute_result",
     "data": {
      "text/plain": [
       "   participant age_a gender_a handedness_a      education_a income_a  \\\n",
       "0     816404.0  28.0   female        right       university      6.0   \n",
       "1     221478.0  25.0   female        right  graduate school      7.0   \n",
       "2     192208.0  29.0     male        right       university      6.0   \n",
       "3     803102.0  47.0     male        right       university      7.0   \n",
       "4     844810.0  32.0   female        right       university      6.0   \n",
       "\n",
       "  computer_hours_a age_group  mean_reation_time_ms  \n",
       "0             20.0     25-34           5502.000000  \n",
       "1             60.0     18-24          12353.428571  \n",
       "2              5.0     25-34           8302.285714  \n",
       "3             74.0     45-54          10340.857143  \n",
       "4             22.0     25-34           6612.428571  "
      ],
      "text/html": "<div>\n<style scoped>\n    .dataframe tbody tr th:only-of-type {\n        vertical-align: middle;\n    }\n\n    .dataframe tbody tr th {\n        vertical-align: top;\n    }\n\n    .dataframe thead th {\n        text-align: right;\n    }\n</style>\n<table border=\"1\" class=\"dataframe\">\n  <thead>\n    <tr style=\"text-align: right;\">\n      <th></th>\n      <th>participant</th>\n      <th>age_a</th>\n      <th>gender_a</th>\n      <th>handedness_a</th>\n      <th>education_a</th>\n      <th>income_a</th>\n      <th>computer_hours_a</th>\n      <th>age_group</th>\n      <th>mean_reation_time_ms</th>\n    </tr>\n  </thead>\n  <tbody>\n    <tr>\n      <th>0</th>\n      <td>816404.0</td>\n      <td>28.0</td>\n      <td>female</td>\n      <td>right</td>\n      <td>university</td>\n      <td>6.0</td>\n      <td>20.0</td>\n      <td>25-34</td>\n      <td>5502.000000</td>\n    </tr>\n    <tr>\n      <th>1</th>\n      <td>221478.0</td>\n      <td>25.0</td>\n      <td>female</td>\n      <td>right</td>\n      <td>graduate school</td>\n      <td>7.0</td>\n      <td>60.0</td>\n      <td>18-24</td>\n      <td>12353.428571</td>\n    </tr>\n    <tr>\n      <th>2</th>\n      <td>192208.0</td>\n      <td>29.0</td>\n      <td>male</td>\n      <td>right</td>\n      <td>university</td>\n      <td>6.0</td>\n      <td>5.0</td>\n      <td>25-34</td>\n      <td>8302.285714</td>\n    </tr>\n    <tr>\n      <th>3</th>\n      <td>803102.0</td>\n      <td>47.0</td>\n      <td>male</td>\n      <td>right</td>\n      <td>university</td>\n      <td>7.0</td>\n      <td>74.0</td>\n      <td>45-54</td>\n      <td>10340.857143</td>\n    </tr>\n    <tr>\n      <th>4</th>\n      <td>844810.0</td>\n      <td>32.0</td>\n      <td>female</td>\n      <td>right</td>\n      <td>university</td>\n      <td>6.0</td>\n      <td>22.0</td>\n      <td>25-34</td>\n      <td>6612.428571</td>\n    </tr>\n  </tbody>\n</table>\n</div>"
     },
     "metadata": {},
     "execution_count": 12
    }
   ],
   "source": [
    "ed.demographics.head()"
   ]
  },
  {
   "cell_type": "code",
   "execution_count": 165,
   "metadata": {},
   "outputs": [],
   "source": []
  },
  {
   "cell_type": "code",
   "execution_count": 185,
   "metadata": {},
   "outputs": [
    {
     "output_type": "execute_result",
     "data": {
      "text/plain": [
       "  participant   delta             status          \n",
       "                 mean         std   mean       std\n",
       "0    100934.0   -5.70  186.607130    1.0  0.000000\n",
       "1    103322.0 -203.05  174.308400    1.0  0.000000\n",
       "2    107700.0 -342.65  345.637059    1.1  0.447214\n",
       "3    117200.0  -85.05  156.117188    1.0  0.000000\n",
       "4    117306.0 -141.80  167.808036    1.0  0.000000"
      ],
      "text/html": "<div>\n<style scoped>\n    .dataframe tbody tr th:only-of-type {\n        vertical-align: middle;\n    }\n\n    .dataframe tbody tr th {\n        vertical-align: top;\n    }\n\n    .dataframe thead tr th {\n        text-align: left;\n    }\n</style>\n<table border=\"1\" class=\"dataframe\">\n  <thead>\n    <tr>\n      <th></th>\n      <th>participant</th>\n      <th colspan=\"2\" halign=\"left\">delta</th>\n      <th colspan=\"2\" halign=\"left\">status</th>\n    </tr>\n    <tr>\n      <th></th>\n      <th></th>\n      <th>mean</th>\n      <th>std</th>\n      <th>mean</th>\n      <th>std</th>\n    </tr>\n  </thead>\n  <tbody>\n    <tr>\n      <th>0</th>\n      <td>100934.0</td>\n      <td>-5.70</td>\n      <td>186.607130</td>\n      <td>1.0</td>\n      <td>0.000000</td>\n    </tr>\n    <tr>\n      <th>1</th>\n      <td>103322.0</td>\n      <td>-203.05</td>\n      <td>174.308400</td>\n      <td>1.0</td>\n      <td>0.000000</td>\n    </tr>\n    <tr>\n      <th>2</th>\n      <td>107700.0</td>\n      <td>-342.65</td>\n      <td>345.637059</td>\n      <td>1.1</td>\n      <td>0.447214</td>\n    </tr>\n    <tr>\n      <th>3</th>\n      <td>117200.0</td>\n      <td>-85.05</td>\n      <td>156.117188</td>\n      <td>1.0</td>\n      <td>0.000000</td>\n    </tr>\n    <tr>\n      <th>4</th>\n      <td>117306.0</td>\n      <td>-141.80</td>\n      <td>167.808036</td>\n      <td>1.0</td>\n      <td>0.000000</td>\n    </tr>\n  </tbody>\n</table>\n</div>"
     },
     "metadata": {},
     "execution_count": 185
    }
   ],
   "source": [
    "# ed.demographics.head()\n",
    "# ed.nback_summary_stats.head()\n",
    "# ed.navon_summary_stats.head()\n",
    "# ed.corsi_summary_stats.head()\n",
    "# ed.fitts_summary_stats.head()"
   ]
  },
  {
   "cell_type": "code",
   "execution_count": 152,
   "metadata": {},
   "outputs": [
    {
     "output_type": "execute_result",
     "data": {
      "text/plain": [
       "             card_no  seq_no   rule card_shape  card_number card_colour  \\\n",
       "participant                                                               \n",
       "100934.0          52       1  shape   triangle            1      yellow   \n",
       "100934.0          59       2  shape   triangle            3         red   \n",
       "100934.0          23       3  shape      cross            2         red   \n",
       "100934.0          52       4  shape   triangle            1      yellow   \n",
       "100934.0          52       5  shape   triangle            1      yellow   \n",
       "...              ...     ...    ...        ...          ...         ...   \n",
       "998593.0          61       2  color   triangle            4        blue   \n",
       "998593.0          14       3  color     circle            4       green   \n",
       "998593.0          14       4  color     circle            4       green   \n",
       "998593.0          23       5  color      cross            2         red   \n",
       "998593.0          20       6  color      cross            1      yellow   \n",
       "\n",
       "             reaction_time_ms  status  card_selected  error  \\\n",
       "participant                                                   \n",
       "100934.0                 4567       1              1      0   \n",
       "100934.0                 4661       1              3      0   \n",
       "100934.0                 1319       1              2      0   \n",
       "100934.0                 2336       1              1      0   \n",
       "100934.0                 6634       1              1      0   \n",
       "...                       ...     ...            ...    ...   \n",
       "998593.0                 2489       1              4      0   \n",
       "998593.0                 2193       1              4      0   \n",
       "998593.0                 2310       1              4      0   \n",
       "998593.0                 1430       1              2      0   \n",
       "998593.0                 2310       1              1      0   \n",
       "\n",
       "             perseverance_error  not_perseverance_error age_a gender_a  \\\n",
       "participant                                                              \n",
       "100934.0                      0                       0  28.0     male   \n",
       "100934.0                      0                       0  28.0     male   \n",
       "100934.0                      0                       0  28.0     male   \n",
       "100934.0                      0                       0  28.0     male   \n",
       "100934.0                      0                       0  28.0     male   \n",
       "...                         ...                     ...   ...      ...   \n",
       "998593.0                      0                       0  25.0   female   \n",
       "998593.0                      0                       0  25.0   female   \n",
       "998593.0                      0                       0  25.0   female   \n",
       "998593.0                      0                       0  25.0   female   \n",
       "998593.0                      0                       0  25.0   female   \n",
       "\n",
       "            handedness_a      education_a income_a computer_hours_a age_group  \\\n",
       "participant                                                                     \n",
       "100934.0           right       university      7.0             25.0     25-34   \n",
       "100934.0           right       university      7.0             25.0     25-34   \n",
       "100934.0           right       university      7.0             25.0     25-34   \n",
       "100934.0           right       university      7.0             25.0     25-34   \n",
       "100934.0           right       university      7.0             25.0     25-34   \n",
       "...                  ...              ...      ...              ...       ...   \n",
       "998593.0           right  graduate school      8.0             72.0     18-24   \n",
       "998593.0           right  graduate school      8.0             72.0     18-24   \n",
       "998593.0           right  graduate school      8.0             72.0     18-24   \n",
       "998593.0           right  graduate school      8.0             72.0     18-24   \n",
       "998593.0           right  graduate school      8.0             72.0     18-24   \n",
       "\n",
       "             mean_reation_time_ms  \n",
       "participant                        \n",
       "100934.0             11453.571429  \n",
       "100934.0             11453.571429  \n",
       "100934.0             11453.571429  \n",
       "100934.0             11453.571429  \n",
       "100934.0             11453.571429  \n",
       "...                           ...  \n",
       "998593.0              9284.714286  \n",
       "998593.0              9284.714286  \n",
       "998593.0              9284.714286  \n",
       "998593.0              9284.714286  \n",
       "998593.0              9284.714286  \n",
       "\n",
       "[27400 rows x 20 columns]"
      ],
      "text/html": "<div>\n<style scoped>\n    .dataframe tbody tr th:only-of-type {\n        vertical-align: middle;\n    }\n\n    .dataframe tbody tr th {\n        vertical-align: top;\n    }\n\n    .dataframe thead th {\n        text-align: right;\n    }\n</style>\n<table border=\"1\" class=\"dataframe\">\n  <thead>\n    <tr style=\"text-align: right;\">\n      <th></th>\n      <th>card_no</th>\n      <th>seq_no</th>\n      <th>rule</th>\n      <th>card_shape</th>\n      <th>card_number</th>\n      <th>card_colour</th>\n      <th>reaction_time_ms</th>\n      <th>status</th>\n      <th>card_selected</th>\n      <th>error</th>\n      <th>perseverance_error</th>\n      <th>not_perseverance_error</th>\n      <th>age_a</th>\n      <th>gender_a</th>\n      <th>handedness_a</th>\n      <th>education_a</th>\n      <th>income_a</th>\n      <th>computer_hours_a</th>\n      <th>age_group</th>\n      <th>mean_reation_time_ms</th>\n    </tr>\n    <tr>\n      <th>participant</th>\n      <th></th>\n      <th></th>\n      <th></th>\n      <th></th>\n      <th></th>\n      <th></th>\n      <th></th>\n      <th></th>\n      <th></th>\n      <th></th>\n      <th></th>\n      <th></th>\n      <th></th>\n      <th></th>\n      <th></th>\n      <th></th>\n      <th></th>\n      <th></th>\n      <th></th>\n      <th></th>\n    </tr>\n  </thead>\n  <tbody>\n    <tr>\n      <th>100934.0</th>\n      <td>52</td>\n      <td>1</td>\n      <td>shape</td>\n      <td>triangle</td>\n      <td>1</td>\n      <td>yellow</td>\n      <td>4567</td>\n      <td>1</td>\n      <td>1</td>\n      <td>0</td>\n      <td>0</td>\n      <td>0</td>\n      <td>28.0</td>\n      <td>male</td>\n      <td>right</td>\n      <td>university</td>\n      <td>7.0</td>\n      <td>25.0</td>\n      <td>25-34</td>\n      <td>11453.571429</td>\n    </tr>\n    <tr>\n      <th>100934.0</th>\n      <td>59</td>\n      <td>2</td>\n      <td>shape</td>\n      <td>triangle</td>\n      <td>3</td>\n      <td>red</td>\n      <td>4661</td>\n      <td>1</td>\n      <td>3</td>\n      <td>0</td>\n      <td>0</td>\n      <td>0</td>\n      <td>28.0</td>\n      <td>male</td>\n      <td>right</td>\n      <td>university</td>\n      <td>7.0</td>\n      <td>25.0</td>\n      <td>25-34</td>\n      <td>11453.571429</td>\n    </tr>\n    <tr>\n      <th>100934.0</th>\n      <td>23</td>\n      <td>3</td>\n      <td>shape</td>\n      <td>cross</td>\n      <td>2</td>\n      <td>red</td>\n      <td>1319</td>\n      <td>1</td>\n      <td>2</td>\n      <td>0</td>\n      <td>0</td>\n      <td>0</td>\n      <td>28.0</td>\n      <td>male</td>\n      <td>right</td>\n      <td>university</td>\n      <td>7.0</td>\n      <td>25.0</td>\n      <td>25-34</td>\n      <td>11453.571429</td>\n    </tr>\n    <tr>\n      <th>100934.0</th>\n      <td>52</td>\n      <td>4</td>\n      <td>shape</td>\n      <td>triangle</td>\n      <td>1</td>\n      <td>yellow</td>\n      <td>2336</td>\n      <td>1</td>\n      <td>1</td>\n      <td>0</td>\n      <td>0</td>\n      <td>0</td>\n      <td>28.0</td>\n      <td>male</td>\n      <td>right</td>\n      <td>university</td>\n      <td>7.0</td>\n      <td>25.0</td>\n      <td>25-34</td>\n      <td>11453.571429</td>\n    </tr>\n    <tr>\n      <th>100934.0</th>\n      <td>52</td>\n      <td>5</td>\n      <td>shape</td>\n      <td>triangle</td>\n      <td>1</td>\n      <td>yellow</td>\n      <td>6634</td>\n      <td>1</td>\n      <td>1</td>\n      <td>0</td>\n      <td>0</td>\n      <td>0</td>\n      <td>28.0</td>\n      <td>male</td>\n      <td>right</td>\n      <td>university</td>\n      <td>7.0</td>\n      <td>25.0</td>\n      <td>25-34</td>\n      <td>11453.571429</td>\n    </tr>\n    <tr>\n      <th>...</th>\n      <td>...</td>\n      <td>...</td>\n      <td>...</td>\n      <td>...</td>\n      <td>...</td>\n      <td>...</td>\n      <td>...</td>\n      <td>...</td>\n      <td>...</td>\n      <td>...</td>\n      <td>...</td>\n      <td>...</td>\n      <td>...</td>\n      <td>...</td>\n      <td>...</td>\n      <td>...</td>\n      <td>...</td>\n      <td>...</td>\n      <td>...</td>\n      <td>...</td>\n    </tr>\n    <tr>\n      <th>998593.0</th>\n      <td>61</td>\n      <td>2</td>\n      <td>color</td>\n      <td>triangle</td>\n      <td>4</td>\n      <td>blue</td>\n      <td>2489</td>\n      <td>1</td>\n      <td>4</td>\n      <td>0</td>\n      <td>0</td>\n      <td>0</td>\n      <td>25.0</td>\n      <td>female</td>\n      <td>right</td>\n      <td>graduate school</td>\n      <td>8.0</td>\n      <td>72.0</td>\n      <td>18-24</td>\n      <td>9284.714286</td>\n    </tr>\n    <tr>\n      <th>998593.0</th>\n      <td>14</td>\n      <td>3</td>\n      <td>color</td>\n      <td>circle</td>\n      <td>4</td>\n      <td>green</td>\n      <td>2193</td>\n      <td>1</td>\n      <td>4</td>\n      <td>0</td>\n      <td>0</td>\n      <td>0</td>\n      <td>25.0</td>\n      <td>female</td>\n      <td>right</td>\n      <td>graduate school</td>\n      <td>8.0</td>\n      <td>72.0</td>\n      <td>18-24</td>\n      <td>9284.714286</td>\n    </tr>\n    <tr>\n      <th>998593.0</th>\n      <td>14</td>\n      <td>4</td>\n      <td>color</td>\n      <td>circle</td>\n      <td>4</td>\n      <td>green</td>\n      <td>2310</td>\n      <td>1</td>\n      <td>4</td>\n      <td>0</td>\n      <td>0</td>\n      <td>0</td>\n      <td>25.0</td>\n      <td>female</td>\n      <td>right</td>\n      <td>graduate school</td>\n      <td>8.0</td>\n      <td>72.0</td>\n      <td>18-24</td>\n      <td>9284.714286</td>\n    </tr>\n    <tr>\n      <th>998593.0</th>\n      <td>23</td>\n      <td>5</td>\n      <td>color</td>\n      <td>cross</td>\n      <td>2</td>\n      <td>red</td>\n      <td>1430</td>\n      <td>1</td>\n      <td>2</td>\n      <td>0</td>\n      <td>0</td>\n      <td>0</td>\n      <td>25.0</td>\n      <td>female</td>\n      <td>right</td>\n      <td>graduate school</td>\n      <td>8.0</td>\n      <td>72.0</td>\n      <td>18-24</td>\n      <td>9284.714286</td>\n    </tr>\n    <tr>\n      <th>998593.0</th>\n      <td>20</td>\n      <td>6</td>\n      <td>color</td>\n      <td>cross</td>\n      <td>1</td>\n      <td>yellow</td>\n      <td>2310</td>\n      <td>1</td>\n      <td>1</td>\n      <td>0</td>\n      <td>0</td>\n      <td>0</td>\n      <td>25.0</td>\n      <td>female</td>\n      <td>right</td>\n      <td>graduate school</td>\n      <td>8.0</td>\n      <td>72.0</td>\n      <td>18-24</td>\n      <td>9284.714286</td>\n    </tr>\n  </tbody>\n</table>\n<p>27400 rows × 20 columns</p>\n</div>"
     },
     "metadata": {},
     "execution_count": 152
    }
   ],
   "source": [
    "# --- demographics dataset ---x\n",
    "wcst = ed.raw.wcst_data[['participant', 'card_no', 'seq_no', 'rule', 'card_shape', 'card_number', 'card_colour', 'reaction_time_ms', 'status',\n",
    "                                    'card_selected', 'error','perseverance_error', 'not_perseverance_error']]\n",
    "wcst.set_index('participant').join(ed.demographics.set_index('participant'))\n"
   ]
  },
  {
   "cell_type": "code",
   "execution_count": 169,
   "metadata": {},
   "outputs": [],
   "source": [
    "# --- demographics dataset ---x\n",
    "# ed.nback_summary_stats\n",
    "# ed.fitts_summary_stats"
   ]
  },
  {
   "cell_type": "code",
   "execution_count": null,
   "metadata": {},
   "outputs": [],
   "source": []
  },
  {
   "cell_type": "code",
   "execution_count": 61,
   "metadata": {},
   "outputs": [
    {
     "output_type": "execute_result",
     "data": {
      "text/plain": [
       "'temp-plot.html'"
      ]
     },
     "metadata": {},
     "execution_count": 61
    }
   ],
   "source": [
    "# ---- Scatter Plots ----x\n",
    "\n",
    "# --- data ---x\n",
    "df1 = ed.raw.wcst_data[['participant', 'seq_no', 'card_no', 'rule', 'card_shape', 'card_number',\n",
    "                        'card_colour', 'reaction_time_ms',\n",
    "                        'status', 'card_selected', 'error','perseverance_error', 'not_perseverance_error']]\n",
    "df2 = ed.demographics[[ 'participant', 'age_a','gender_a','handedness_a','education_a', 'income_a', \n",
    "                        'computer_hours_a','age_group']]\n",
    "df  = df1.set_index('participant').join(df2.set_index('participant'))\n",
    "\n",
    "\n",
    "# --- scatter plot ---x\n",
    "trace_1 = go.Scatter(x=df.computer_hours_a, y=df.age_a, mode='markers', marker=dict(size=12, color='steelblue', symbol='pentagon', line={'width':2}))\n",
    "data    = [trace_1]\n",
    "layout  = go.Layout(title='title', xaxis={'title':'age'}, yaxis={'title':'computer hours'}, hovermode='closest')\n",
    "fig     = go.Figure(data=data, layout=layout)\n",
    "pyo.plot(fig, filename='temp-plot.html')"
   ]
  },
  {
   "cell_type": "code",
   "execution_count": 66,
   "metadata": {},
   "outputs": [
    {
     "output_type": "execute_result",
     "data": {
      "text/plain": [
       "'temp-plot.html'"
      ]
     },
     "metadata": {},
     "execution_count": 66
    }
   ],
   "source": [
    "# ---- line plot ----x\n",
    "trace_1 = go.Scatter(x=df.seq_no, y=df.gender_a, mode='markers', marker=dict(size=5, color='darkblue', symbol='circle'))\n",
    "trace_2 = go.Scatter(x=df.seq_no, y=df.education_a, mode='markers', marker=dict(size=5, color='darkblue', symbol='circle'))\n",
    "\n",
    "data    = [trace_1, trace_2]\n",
    "layout  = go.Layout(title='R Time', xaxis={'title':'age'}, yaxis={'title':'computer hours'})\n",
    "fig = go.Figure(data=data, layout=layout)\n",
    "pyo.plot(fig)\n"
   ]
  },
  {
   "cell_type": "code",
   "execution_count": null,
   "metadata": {},
   "outputs": [],
   "source": []
  }
 ]
}
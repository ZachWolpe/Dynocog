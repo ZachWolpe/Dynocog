{
 "cells": [
  {
   "cell_type": "markdown",
   "metadata": {},
   "source": [
    "# Model Free Analysis\n",
    "\n",
    "Final instance of the model free analysis.\n",
    "\n",
    "\n",
    "## Experiments\n",
    "1. `t-test` to test difference in mean scores across groups.\n",
    "2. ``\n",
    "\n",
    "---------\n",
    "```\n",
    "author:         Zach Wolpe\n",
    "email:          zachcolinwolpe@gmail.com\n",
    "reviewer:       n/a\n",
    "date:           06 Dec 2021\n",
    "```\n",
    "---------"
   ]
  },
  {
   "cell_type": "code",
   "execution_count": 55,
   "metadata": {},
   "outputs": [],
   "source": [
    "import sys\n",
    "sys.path.append('../process data')\n",
    "from dependencies import *"
   ]
  },
  {
   "cell_type": "code",
   "execution_count": 56,
   "metadata": {},
   "outputs": [
    {
     "name": "stdout",
     "output_type": "stream",
     "text": [
      "\n",
      "ed object attributes: \n",
      "   - raw\n",
      "   - summary_table\n",
      "   - fitts_summary_stats\n",
      "   - corsi_summary_stats\n",
      "   - navon_summary_stats\n",
      "   - nback_summary_stats\n",
      "   - demographics_plot\n",
      "   - demographics\n",
      "\n",
      "bp object attributes: \n",
      "   - path\n",
      "   - metadata\n",
      "   - mapping\n",
      "   - data_times\n",
      "   - participants\n",
      "   - parti_code\n",
      "   - n\n",
      "   - wcst_paths\n",
      "   - nback_paths\n",
      "   - corsi_paths\n",
      "   - fitts_paths\n",
      "   - navon_paths\n",
      "   - wcst_data\n",
      "   - nback_data\n",
      "   - corsi_data\n",
      "   - fitts_data\n",
      "   - navon_data\n",
      "   - individual_data\n",
      "   - MTurk\n",
      "\n",
      "spf object attributes: \n",
      "   - ed\n",
      "   - wcst_performance\n",
      "   - final_data_aggregated\n",
      "   - final_data_unaggregated\n",
      "   - continuous_vars\n",
      "   - categorical_vars\n",
      "   - demographic_groups\n",
      "   - demographic_cont_vars\n",
      "   - demo_pie_map\n",
      "   - demo_continuous_naming\n"
     ]
    }
   ],
   "source": [
    "# load data --------------*\n",
    "with open('../data objects/batch_processing_object_with_encodings.pkl', 'rb') as file2: bp = pickle.load(file2)\n",
    "\n",
    "# create object ----------*\n",
    "spf = summary_plots_and_figures(bp)\n",
    "\n",
    "# view keys --------------*\n",
    "def show_keys(obj, name):\n",
    "    print('')\n",
    "    print(name + ' object attributes: ')\n",
    "    for k in obj.__dict__.keys():print('   -', k)\n",
    "\n",
    "show_keys(bp, 'ed')\n",
    "show_keys(bp.raw, 'bp')\n",
    "show_keys(spf, 'spf')"
   ]
  },
  {
   "cell_type": "code",
   "execution_count": 57,
   "metadata": {},
   "outputs": [
    {
     "data": {
      "text/html": [
       "<div>\n",
       "<style scoped>\n",
       "    .dataframe tbody tr th:only-of-type {\n",
       "        vertical-align: middle;\n",
       "    }\n",
       "\n",
       "    .dataframe tbody tr th {\n",
       "        vertical-align: top;\n",
       "    }\n",
       "\n",
       "    .dataframe thead th {\n",
       "        text-align: right;\n",
       "    }\n",
       "</style>\n",
       "<table border=\"1\" class=\"dataframe\">\n",
       "  <thead>\n",
       "    <tr style=\"text-align: right;\">\n",
       "      <th></th>\n",
       "      <th>wcst_accuracy</th>\n",
       "      <th>wcst_RT</th>\n",
       "    </tr>\n",
       "    <tr>\n",
       "      <th>participant</th>\n",
       "      <th></th>\n",
       "      <th></th>\n",
       "    </tr>\n",
       "  </thead>\n",
       "  <tbody>\n",
       "    <tr>\n",
       "      <th>226288.0</th>\n",
       "      <td>0.74</td>\n",
       "      <td>1379.52</td>\n",
       "    </tr>\n",
       "    <tr>\n",
       "      <th>226288.0</th>\n",
       "      <td>0.74</td>\n",
       "      <td>1379.52</td>\n",
       "    </tr>\n",
       "    <tr>\n",
       "      <th>226288.0</th>\n",
       "      <td>0.74</td>\n",
       "      <td>1379.52</td>\n",
       "    </tr>\n",
       "  </tbody>\n",
       "</table>\n",
       "</div>"
      ],
      "text/plain": [
       "             wcst_accuracy  wcst_RT\n",
       "participant                        \n",
       "226288.0              0.74  1379.52\n",
       "226288.0              0.74  1379.52\n",
       "226288.0              0.74  1379.52"
      ]
     },
     "execution_count": 57,
     "metadata": {},
     "output_type": "execute_result"
    }
   ],
   "source": [
    "p=np.random.choice(bp.summary_table.index)\n",
    "sub = bp.raw.wcst_data.loc[bp.raw.wcst_data.participant==p,]\n",
    "\n",
    "bp.summary_table.loc[bp.summary_table.index==p,['wcst_accuracy','wcst_RT']]\n",
    "\n"
   ]
  },
  {
   "cell_type": "code",
   "execution_count": 60,
   "metadata": {},
   "outputs": [
    {
     "data": {
      "text/plain": [
       "Ttest_indResult(statistic=-1.9383626313697953, pvalue=0.05286071132875175)"
      ]
     },
     "execution_count": 60,
     "metadata": {},
     "output_type": "execute_result"
    }
   ],
   "source": [
    "\n",
    "rng = np.random.default_rng()\n",
    "rvs1 = stats.norm.rvs(loc=5, scale=10, size=500, random_state=rng)\n",
    "rvs2 = stats.norm.rvs(loc=5, scale=10, size=500, random_state=rng)\n",
    "stats.ttest_ind(rvs1, rvs2)"
   ]
  },
  {
   "cell_type": "code",
   "execution_count": null,
   "metadata": {},
   "outputs": [],
   "source": []
  }
 ],
 "metadata": {
  "interpreter": {
   "hash": "3a334c8c58dd4200bc641ab3004b2a959a31887e25ae71afde31f67083237f66"
  },
  "kernelspec": {
   "display_name": "Python 3.8.12 64-bit ('dynocog': conda)",
   "language": "python",
   "name": "python3"
  },
  "language_info": {
   "codemirror_mode": {
    "name": "ipython",
    "version": 3
   },
   "file_extension": ".py",
   "mimetype": "text/x-python",
   "name": "python",
   "nbconvert_exporter": "python",
   "pygments_lexer": "ipython3",
   "version": "3.8.12"
  },
  "orig_nbformat": 4
 },
 "nbformat": 4,
 "nbformat_minor": 2
}
